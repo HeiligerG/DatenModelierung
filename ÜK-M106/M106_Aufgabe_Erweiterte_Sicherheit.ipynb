{
    "metadata": {
        "kernelspec": {
            "name": "SQL",
            "display_name": "SQL",
            "language": "sql"
        },
        "language_info": {
            "name": "sql",
            "version": ""
        },
        "extensions": {
            "azuredatastudio": {
                "version": 1,
                "views": []
            }
        }
    },
    "nbformat_minor": 2,
    "nbformat": 4,
    "cells": [
        {
            "cell_type": "markdown",
            "source": [
                "Maskiere die Emailadressen in der Spalte _LogonName_ der Tabelle _People_ mit der geeigneten Maskierungsfunktion."
            ],
            "metadata": {
                "azdata_cell_guid": "1f37b712-2f0a-41c2-813f-8053e328c3c6",
                "extensions": {
                    "azuredatastudio": {
                        "views": []
                    }
                }
            },
            "attachments": {}
        },
        {
            "cell_type": "code",
            "source": [
                "-- Email\r\n",
                "ALTER TABLE Application.People\r\n",
                "ALTER COLUMN LogonName ADD MASKED WITH (FUNCTION = 'email()')"
            ],
            "metadata": {
                "azdata_cell_guid": "0cff736d-ac76-43e8-982d-dfb02d96c728",
                "extensions": {
                    "azuredatastudio": {
                        "views": []
                    }
                },
                "tags": [],
                "language": "sql"
            },
            "outputs": [],
            "execution_count": null
        },
        {
            "cell_type": "markdown",
            "source": [
                "Prüfe nun, ob die Daten mit dem User _ethan_ wirklich maskiert daherkommen."
            ],
            "metadata": {
                "azdata_cell_guid": "49aba569-33f6-4df0-8640-aa441b94a38c"
            },
            "attachments": {}
        },
        {
            "cell_type": "code",
            "source": [
                "SELECT * FROM Application.People"
            ],
            "metadata": {
                "azdata_cell_guid": "e1e7f8ac-463a-41aa-a834-1f16565c6681",
                "tags": [],
                "language": "sql"
            },
            "outputs": [],
            "execution_count": null
        },
        {
            "cell_type": "markdown",
            "source": [
                "Verschlüssle die Werte in der Spalte _CustomerID_ der Tabelle _CustomerTransactions_ und speichere diese in einer separaten Spalte. Verwende dabei den bereits erstellten Database Master Key."
            ],
            "metadata": {
                "azdata_cell_guid": "445ed272-cdd6-4422-86c4-a2598d72e150"
            },
            "attachments": {}
        },
        {
            "cell_type": "code",
            "source": [
                "USE WideWorldImporters;\r\n",
                "\r\n",
                "/*\r\n",
                "falls noch nicht vorhanden, einen Database Master Key erstellen.\r\n",
                "Der Key muss in der DB WideWorldImporters erstellt sein\r\n",
                "*/\r\n",
                "CREATE MASTER KEY ENCRYPTION BY PASSWORD = '123_MyComplexPassword';  \r\n",
                "\r\n",
                "-- ein Zertifikat erstellen\r\n",
                "CREATE CERTIFICATE CustomerIdentification\r\n",
                "   WITH SUBJECT = 'Suppliers Bank Account Number';  \r\n",
                "GO  \r\n",
                "\r\n",
                "-- symmetrischen Key erstellen\r\n",
                "CREATE SYMMETRIC KEY SSN_Key_01  \r\n",
                "    WITH ALGORITHM = AES_256  \r\n",
                "    ENCRYPTION BY CERTIFICATE CustomerIdentification;  \r\n",
                "GO  \r\n",
                "\r\n",
                "-- neue Spalte für die verschlüsselten Daten hinzufügen  \r\n",
                "ALTER TABLE Newtable\r\n",
                "    ADD EncryptedBAN varbinary(128);   \r\n",
                "GO  \r\n",
                "\r\n",
                "-- den symmetrischen Key öffnen, mit welchem die Daten verschlüsselt werden sollen  \r\n",
                "OPEN SYMMETRIC KEY SSN_Key_01  \r\n",
                "   DECRYPTION BY CERTIFICATE CustomerIdentification;  \r\n",
                "\r\n",
                "/* \r\n",
                "die Werte in der Spalte BankAccountNumber mit dem symmetrischen Key SSN_Key_01\r\n",
                "verschlüsseln und in der neuen Spalte EncryptedBAN speichern\r\n",
                "*/ \r\n",
                "UPDATE Purchasing.CustomerTransactions  \r\n",
                "SET CustomerIdentification = EncryptByKey(Key_GUID('SSN_Key_01'), CustomerID);  \r\n",
                "GO  "
            ],
            "metadata": {
                "azdata_cell_guid": "b86a1e67-d60a-499c-bb5a-27008c8c2b89",
                "language": "sql"
            },
            "outputs": [],
            "execution_count": null
        },
        {
            "cell_type": "markdown",
            "source": [
                "Prüfe anschliessend, ob die neue, verschlüsselte Spalte wieder korrekt entschlüsselt werden kann."
            ],
            "metadata": {
                "azdata_cell_guid": "dad7f864-cfb4-4b4a-aa06-ee86b138d3db"
            },
            "attachments": {}
        },
        {
            "cell_type": "code",
            "source": [
                "/*\r\n",
                "Prüfen, ob die Verschlüsselung erfolgreich war \r\n",
                "bei der Ausgabe dieser Abfrage müssten nun die Werte der ersten Spalte mit den\r\n",
                "Werten der dritten Spalte übereinstimmen \r\n",
                "*/\r\n",
                "SELECT CustomerID, CustomerIdentification\r\n",
                "    AS 'Encrypted CustomerID',  \r\n",
                "    CONVERT(nvarchar, DecryptByKey(CustomerIdentification))   \r\n",
                "    AS 'Decrypted CustomerID'  \r\n",
                "    FROM Purchasing.CustomerTransactions;  \r\n",
                "GO\r\n",
                "\r\n",
                "-- Symmetrischen Key wieder schliessen\r\n",
                "CLOSE SYMMETRIC KEY SSN_Key_01;\r\n",
                "GO"
            ],
            "metadata": {
                "azdata_cell_guid": "0c95b6b9-5227-434d-a64f-7c98d3d5c576",
                "language": "sql"
            },
            "outputs": [],
            "execution_count": null
        }
    ]
}