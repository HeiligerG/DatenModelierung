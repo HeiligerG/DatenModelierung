{
    "metadata": {
        "kernelspec": {
            "name": "SQL",
            "display_name": "SQL",
            "language": "sql"
        },
        "language_info": {
            "name": "sql",
            "version": ""
        },
        "extensions": {
            "azuredatastudio": {
                "version": 1,
                "views": []
            }
        }
    },
    "nbformat_minor": 2,
    "nbformat": 4,
    "cells": [
        {
            "cell_type": "markdown",
            "source": [
                "Erstelle ein neues Login für den Mitarbeiter _ethan_ mit dem Passwort: WWI4eth!"
            ],
            "metadata": {
                "azdata_cell_guid": "1f37b712-2f0a-41c2-813f-8053e328c3c6",
                "extensions": {
                    "azuredatastudio": {
                        "views": []
                    }
                }
            },
            "attachments": {}
        },
        {
            "cell_type": "code",
            "source": [
                "USE [master];\r\n",
                "GO\r\n",
                "\r\n",
                "-- SQL Server-Login erstellen\r\n",
                "CREATE LOGIN ethan\r\n",
                "WITH PASSWORD = 'WWI4eth!', CHECK_POLICY = OFF;\r\n",
                ""
            ],
            "metadata": {
                "azdata_cell_guid": "0cff736d-ac76-43e8-982d-dfb02d96c728",
                "extensions": {
                    "azuredatastudio": {
                        "views": []
                    }
                },
                "tags": [],
                "language": "sql"
            },
            "outputs": [],
            "execution_count": null
        },
        {
            "cell_type": "markdown",
            "source": [
                "Erstellen nun in der WWI-Datenbank für das soeben erstellte Login einen User und weise ihm die Rolle zu, die Lesezugriff auf alle Objekte ermöglicht."
            ],
            "metadata": {
                "azdata_cell_guid": "81080d3e-cdf4-4a05-9aef-978c50eebfdc"
            },
            "attachments": {}
        },
        {
            "cell_type": "code",
            "source": [
                "-- Einem Login ein User zuordnen\r\n",
                "USE WWIDatenbank;\r\n",
                "CREATE USER ethan FOR LOGIN ethan;\r\n",
                "ALTER SERVER ROLE WWI ADD MEMBER ethan;\r\n",
                "GRANT SELECT, INSERT, UPDATE, DELETE TO ethan;"
            ],
            "metadata": {
                "azdata_cell_guid": "3000adc6-19ce-4e67-97fb-eaaff6cd38d5",
                "language": "sql"
            },
            "outputs": [],
            "execution_count": null
        },
        {
            "cell_type": "markdown",
            "source": [
                "Erlaube dem Benutzer _ethan_ nur die existierenden Datensätze in den Tabellen _Orders_ und _OrderLines_ zu verändern."
            ],
            "metadata": {
                "azdata_cell_guid": "0d2b2779-b798-45bc-9a8a-70c82b09976c",
                "extensions": {
                    "azuredatastudio": {
                        "views": []
                    }
                }
            },
            "attachments": {}
        },
        {
            "cell_type": "code",
            "source": [
                "REVOKE SELECT ON FROM ethan;\r\n",
                "GRANT SELECT, INSERT, UPDATE, DELETE ON Orders, OrderLines TO ethan;"
            ],
            "metadata": {
                "azdata_cell_guid": "e76522af-3721-47be-91d9-040871e05360",
                "extensions": {
                    "azuredatastudio": {
                        "views": []
                    }
                },
                "language": "sql"
            },
            "outputs": [],
            "execution_count": null
        },
        {
            "cell_type": "markdown",
            "source": [
                "Verweigere dem Benutzer _ethan_ Mutationen jeglicher Art in den Tabellen _Invoices_ und _InvoiceLines_ auszuführen."
            ],
            "metadata": {
                "azdata_cell_guid": "1a20ddc1-a51b-470f-803a-d678fabb4f07"
            },
            "attachments": {}
        },
        {
            "cell_type": "code",
            "source": [
                "DENY SELECT, INSERT, UPDATE, DELETE ON Invoives, InvoiceLines TO ethan;"
            ],
            "metadata": {
                "azdata_cell_guid": "20373693-79c2-4eaf-a143-be4c17c3e7e9",
                "language": "sql"
            },
            "outputs": [],
            "execution_count": null
        },
        {
            "cell_type": "markdown",
            "source": [
                "Erstelle ein weiteres Login namens _stella_ mit dem Passwort _WWI4ste!_ mittels eines SQL-Scripts, in welchem:\n",
                "\n",
                "- das Login der Serverrolle _bulkadmin_ zugewiesen wird\n",
                "- für das Login ein gleichnamiger User in der Datenbank WideWorldImporters erstellt wird\n",
                "- dafür gesorgt wird, dass das Kennwort _nie_ abläuft und die Kennwort-Richtlinie zur Anwendung kommt\n",
                "- der User Daten im Schema _Warehouse_ erfassen kann"
            ],
            "metadata": {
                "azdata_cell_guid": "afb4f1f2-bbf0-4dc1-af9f-efe959b664ef",
                "extensions": {
                    "azuredatastudio": {
                        "views": []
                    }
                }
            },
            "attachments": {}
        },
        {
            "cell_type": "code",
            "source": [
                "USE [master];\r\n",
                "GO\r\n",
                "\r\n",
                "-- SQL Server-Login erstellen\r\n",
                "CREATE LOGIN stella\r\n",
                "WITH PASSWORD = 'WWI4ste!', CHECK_POLICY = OFF;\r\n",
                "\r\n",
                "-- Einem Login ein User zuordnen\r\n",
                "USE WWIDatenbank;\r\n",
                "CREATE USER stella FOR LOGIN stella;\r\n",
                "ALTER SERVER ROLE bulkadmin ADD MEMBER stella;\r\n",
                "\r\n",
                "-- Einem User Rechte vergeben\r\n",
                "GRANT SELECT, INSERT, UPDATE, DELETE TO stella;\r\n",
                "GRANT SELECT, UPDATE ON SCHEMA::Warehouse TO stella;"
            ],
            "metadata": {
                "azdata_cell_guid": "415e7c0c-7842-4860-8fce-3898c3fa481b",
                "extensions": {
                    "azuredatastudio": {
                        "views": []
                    }
                },
                "language": "sql"
            },
            "outputs": [],
            "execution_count": null
        },
        {
            "cell_type": "markdown",
            "source": [
                "Der neuen Userin _stella_ muss noch die Berechtigung erteilt werden, Tabellen im Schema _WareHouse_ erstellen zu können."
            ],
            "metadata": {
                "azdata_cell_guid": "23acf8f2-b953-4416-83e1-2d5f5f6981f7"
            },
            "attachments": {}
        },
        {
            "cell_type": "code",
            "source": [
                "GRANT SELECT, INSERT, UPDATE ON SCHEMA::Warehouse TO stella;"
            ],
            "metadata": {
                "azdata_cell_guid": "155e01d8-4551-4857-bdc9-b850cae58201",
                "language": "sql"
            },
            "outputs": [],
            "execution_count": null
        }
    ]
}