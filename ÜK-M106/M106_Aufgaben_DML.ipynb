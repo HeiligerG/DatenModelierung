{
    "metadata": {
        "kernelspec": {
            "name": "SQL",
            "display_name": "SQL",
            "language": "sql"
        },
        "language_info": {
            "name": "sql",
            "version": ""
        }
    },
    "nbformat_minor": 2,
    "nbformat": 4,
    "cells": [
        {
            "cell_type": "markdown",
            "source": [
                "# Übungsaufgaben DML\n",
                "\n",
                "Der folgende Block enthält Übungsaufgaben zu den Kapiteln INSERT, UPDATE, DELETE und CASCADE."
            ],
            "metadata": {
                "azdata_cell_guid": "08cc9dc5-0641-4d1e-b1e2-a8ecc9035bf9"
            },
            "attachments": {}
        },
        {
            "cell_type": "markdown",
            "source": [
                "## INSERT\n",
                "\n",
                "Führe diese Aufgaben aus, nachdem du den INSERT-Block bearbeitet hast."
            ],
            "metadata": {
                "azdata_cell_guid": "b0183c7a-9550-49ff-bf35-b4737c8b0f2b"
            },
            "attachments": {}
        },
        {
            "cell_type": "markdown",
            "source": [
                "**1.1** Erstelle eine neue Kundin in der Tabelle _verkauf.kunden_ mit folgenden Attributen:\n",
                "\n",
                "- Vorname: Barbara\n",
                "- Nachname: Traufer"
            ],
            "metadata": {
                "azdata_cell_guid": "06971469-2db3-46ec-8015-f549de96feaf"
            },
            "attachments": {}
        },
        {
            "cell_type": "code",
            "source": [
                "INSERT INTO verkauf.kunden (vorname, nachname) VALUES ('Barbara', 'Traufer');\r\n",
                "\r\n",
                "SELECT * FROM verkauf.kunden"
            ],
            "metadata": {
                "azdata_cell_guid": "275d6686-53f4-4b42-a0f7-332964b4a6bf",
                "language": "sql",
                "tags": []
            },
            "outputs": [
                {
                    "output_type": "display_data",
                    "data": {
                        "text/html": "(6 rows affected)"
                    },
                    "metadata": {}
                },
                {
                    "output_type": "display_data",
                    "data": {
                        "text/html": "Total execution time: 00:00:00.042"
                    },
                    "metadata": {}
                },
                {
                    "output_type": "execute_result",
                    "metadata": {},
                    "execution_count": 2,
                    "data": {
                        "application/vnd.dataresource+json": {
                            "schema": {
                                "fields": [
                                    {
                                        "name": "kundenid"
                                    },
                                    {
                                        "name": "vorname"
                                    },
                                    {
                                        "name": "nachname"
                                    }
                                ]
                            },
                            "data": [
                                {
                                    "kundenid": "1",
                                    "vorname": "Hans",
                                    "nachname": "Meyer"
                                },
                                {
                                    "kundenid": "2",
                                    "vorname": "Pete",
                                    "nachname": "Muller"
                                },
                                {
                                    "kundenid": "3",
                                    "vorname": "unbekannt",
                                    "nachname": "Matter"
                                },
                                {
                                    "kundenid": "4",
                                    "vorname": "Bruno",
                                    "nachname": "Moser"
                                },
                                {
                                    "kundenid": "5",
                                    "vorname": "Heinz",
                                    "nachname": "Manser"
                                },
                                {
                                    "kundenid": "6",
                                    "vorname": "Barbara",
                                    "nachname": "Traufer"
                                }
                            ]
                        },
                        "text/html": [
                            "<table>",
                            "<tr><th>kundenid</th><th>vorname</th><th>nachname</th></tr>",
                            "<tr><td>1</td><td>Hans</td><td>Meyer</td></tr>",
                            "<tr><td>2</td><td>Pete</td><td>Muller</td></tr>",
                            "<tr><td>3</td><td>unbekannt</td><td>Matter</td></tr>",
                            "<tr><td>4</td><td>Bruno</td><td>Moser</td></tr>",
                            "<tr><td>5</td><td>Heinz</td><td>Manser</td></tr>",
                            "<tr><td>6</td><td>Barbara</td><td>Traufer</td></tr>",
                            "</table>"
                        ]
                    }
                }
            ],
            "execution_count": 2
        },
        {
            "cell_type": "markdown",
            "source": [
                "**1.2** Füge drei neue Produkte in der dafür vorgesehenen Tabelle hinzu. Den Produktnamen, den Preis sowie das Energielabel kannst du jeweils selber bestimmen."
            ],
            "metadata": {
                "azdata_cell_guid": "20439388-ed53-4ea3-8db3-eb199da5496d"
            },
            "attachments": {}
        },
        {
            "cell_type": "code",
            "source": [
                "INSERT INTO verkauf.produkte (produktname, preis, energielabel) VALUES ('Grafikkarte', '199.95', 'D');\r\n",
                "INSERT INTO verkauf.produkte (produktname, preis, energielabel) VALUES ('CPU', '149.95', 'B');\r\n",
                "INSERT INTO verkauf.produkte (produktname, preis, energielabel) VALUES ('Monitor', '99.95', 'C');\r\n",
                "\r\n",
                "SELECT * FROM verkauf.produkte"
            ],
            "metadata": {
                "azdata_cell_guid": "fd6350bf-489b-4828-a2d7-42d50b44adf0",
                "language": "sql"
            },
            "outputs": [
                {
                    "output_type": "display_data",
                    "data": {
                        "text/html": "(1 row affected)"
                    },
                    "metadata": {}
                },
                {
                    "output_type": "display_data",
                    "data": {
                        "text/html": "(1 row affected)"
                    },
                    "metadata": {}
                },
                {
                    "output_type": "display_data",
                    "data": {
                        "text/html": "(1 row affected)"
                    },
                    "metadata": {}
                },
                {
                    "output_type": "display_data",
                    "data": {
                        "text/html": "(6 rows affected)"
                    },
                    "metadata": {}
                },
                {
                    "output_type": "display_data",
                    "data": {
                        "text/html": "Total execution time: 00:00:00.013"
                    },
                    "metadata": {}
                },
                {
                    "output_type": "execute_result",
                    "metadata": {},
                    "execution_count": 3,
                    "data": {
                        "application/vnd.dataresource+json": {
                            "schema": {
                                "fields": [
                                    {
                                        "name": "produktid"
                                    },
                                    {
                                        "name": "produktname"
                                    },
                                    {
                                        "name": "preis"
                                    },
                                    {
                                        "name": "energielabel"
                                    }
                                ]
                            },
                            "data": [
                                {
                                    "produktid": "1",
                                    "produktname": "Zitronenpresse",
                                    "preis": "4.90",
                                    "energielabel": "A"
                                },
                                {
                                    "produktid": "2",
                                    "produktname": "Gartenlounge",
                                    "preis": "224.00",
                                    "energielabel": "NULL"
                                },
                                {
                                    "produktid": "4",
                                    "produktname": "Weinkühlschrank",
                                    "preis": "139.00",
                                    "energielabel": "C"
                                },
                                {
                                    "produktid": "5",
                                    "produktname": "Grafikkarte",
                                    "preis": "199.95",
                                    "energielabel": "D"
                                },
                                {
                                    "produktid": "6",
                                    "produktname": "CPU",
                                    "preis": "149.95",
                                    "energielabel": "B"
                                },
                                {
                                    "produktid": "7",
                                    "produktname": "Monitor",
                                    "preis": "99.95",
                                    "energielabel": "C"
                                }
                            ]
                        },
                        "text/html": [
                            "<table>",
                            "<tr><th>produktid</th><th>produktname</th><th>preis</th><th>energielabel</th></tr>",
                            "<tr><td>1</td><td>Zitronenpresse</td><td>4.90</td><td>A</td></tr>",
                            "<tr><td>2</td><td>Gartenlounge</td><td>224.00</td><td>NULL</td></tr>",
                            "<tr><td>4</td><td>Weinkühlschrank</td><td>139.00</td><td>C</td></tr>",
                            "<tr><td>5</td><td>Grafikkarte</td><td>199.95</td><td>D</td></tr>",
                            "<tr><td>6</td><td>CPU</td><td>149.95</td><td>B</td></tr>",
                            "<tr><td>7</td><td>Monitor</td><td>99.95</td><td>C</td></tr>",
                            "</table>"
                        ]
                    }
                }
            ],
            "execution_count": 3
        },
        {
            "cell_type": "markdown",
            "source": [
                "**1.3** Erstelle zwei neue Einträge in der Tabelle _verkauf.bestellungen_, welche zur oben neu erstellten Kundin gehören. Das Bestelldatum kannst du bei beiden Bestellungen frei wählen."
            ],
            "metadata": {
                "azdata_cell_guid": "85468b54-75e1-4d31-925b-841e1acd8d35"
            },
            "attachments": {}
        },
        {
            "cell_type": "code",
            "source": [
                "-- Erste Bestellung\r\n",
                "INSERT INTO verkauf.bestellungen (bestelldatum, kundenid) \r\n",
                "VALUES ('20221212', 6);\r\n",
                "\r\n",
                "-- Zweite Bestellung\r\n",
                "INSERT INTO verkauf.bestellungen (bestelldatum, kundenid) \r\n",
                "VALUES ('20221213', 6);\r\n",
                "\r\n",
                "SELECT * FROM verkauf.bestellungen"
            ],
            "metadata": {
                "azdata_cell_guid": "d991a913-95d4-428e-b5c1-cacbd85b07ba",
                "language": "sql",
                "tags": []
            },
            "outputs": [
                {
                    "output_type": "display_data",
                    "data": {
                        "text/html": "(5 rows affected)"
                    },
                    "metadata": {}
                },
                {
                    "output_type": "display_data",
                    "data": {
                        "text/html": "Total execution time: 00:00:00.011"
                    },
                    "metadata": {}
                },
                {
                    "output_type": "execute_result",
                    "metadata": {},
                    "execution_count": 5,
                    "data": {
                        "application/vnd.dataresource+json": {
                            "schema": {
                                "fields": [
                                    {
                                        "name": "bestellid"
                                    },
                                    {
                                        "name": "bestelldatum"
                                    },
                                    {
                                        "name": "kundenid"
                                    }
                                ]
                            },
                            "data": [
                                {
                                    "bestellid": "1",
                                    "bestelldatum": "2023-09-10 11:20:07.000",
                                    "kundenid": "1"
                                },
                                {
                                    "bestellid": "2",
                                    "bestelldatum": "2023-11-05 17:43:13.000",
                                    "kundenid": "2"
                                },
                                {
                                    "bestellid": "3",
                                    "bestelldatum": "2023-12-27 09:32:55.000",
                                    "kundenid": "4"
                                },
                                {
                                    "bestellid": "4",
                                    "bestelldatum": "2022-12-12 00:00:00.000",
                                    "kundenid": "6"
                                },
                                {
                                    "bestellid": "5",
                                    "bestelldatum": "2022-12-13 00:00:00.000",
                                    "kundenid": "6"
                                }
                            ]
                        },
                        "text/html": [
                            "<table>",
                            "<tr><th>bestellid</th><th>bestelldatum</th><th>kundenid</th></tr>",
                            "<tr><td>1</td><td>2023-09-10 11:20:07.000</td><td>1</td></tr>",
                            "<tr><td>2</td><td>2023-11-05 17:43:13.000</td><td>2</td></tr>",
                            "<tr><td>3</td><td>2023-12-27 09:32:55.000</td><td>4</td></tr>",
                            "<tr><td>4</td><td>2022-12-12 00:00:00.000</td><td>6</td></tr>",
                            "<tr><td>5</td><td>2022-12-13 00:00:00.000</td><td>6</td></tr>",
                            "</table>"
                        ]
                    }
                }
            ],
            "execution_count": 5
        },
        {
            "cell_type": "markdown",
            "source": [
                "## UPDATE\n",
                "\n",
                "Führe diese Aufgaben aus, nachdem du den UPDATE-Block bearbeitet hast."
            ],
            "metadata": {
                "azdata_cell_guid": "ea8ec5c1-83ad-4a18-9af0-bad7bdc1da01"
            },
            "attachments": {}
        },
        {
            "cell_type": "markdown",
            "source": [
                "**2.1** Die Kundin mit der Kundenid 3 wünscht, dass ihr Vorname in den Stammdaten von _unbekannt_ auf _Maria_ geändert wird. Bitte nimm diese Änderung vor."
            ],
            "metadata": {
                "azdata_cell_guid": "3da0c501-4455-4e9a-bfe9-7427927c5cce"
            },
            "attachments": {}
        },
        {
            "cell_type": "code",
            "source": [
                "-- Vorname und Nachname eines Kunden ändern\r\n",
                "UPDATE verkauf.kunden\r\n",
                "SET vorname = 'Maria'\r\n",
                "WHERE kundenid = 3;\r\n",
                "\r\n",
                "SELECT * FROM verkauf.kunden"
            ],
            "metadata": {
                "azdata_cell_guid": "41599a42-18b1-4bb3-ae93-2ac78e8ceb09",
                "language": "sql"
            },
            "outputs": [
                {
                    "output_type": "display_data",
                    "data": {
                        "text/html": "(1 row affected)"
                    },
                    "metadata": {}
                },
                {
                    "output_type": "display_data",
                    "data": {
                        "text/html": "(6 rows affected)"
                    },
                    "metadata": {}
                },
                {
                    "output_type": "display_data",
                    "data": {
                        "text/html": "Total execution time: 00:00:00.027"
                    },
                    "metadata": {}
                },
                {
                    "output_type": "execute_result",
                    "metadata": {},
                    "execution_count": 6,
                    "data": {
                        "application/vnd.dataresource+json": {
                            "schema": {
                                "fields": [
                                    {
                                        "name": "kundenid"
                                    },
                                    {
                                        "name": "vorname"
                                    },
                                    {
                                        "name": "nachname"
                                    }
                                ]
                            },
                            "data": [
                                {
                                    "kundenid": "1",
                                    "vorname": "Hans",
                                    "nachname": "Meyer"
                                },
                                {
                                    "kundenid": "2",
                                    "vorname": "Pete",
                                    "nachname": "Muller"
                                },
                                {
                                    "kundenid": "3",
                                    "vorname": "Maria",
                                    "nachname": "Matter"
                                },
                                {
                                    "kundenid": "4",
                                    "vorname": "Bruno",
                                    "nachname": "Moser"
                                },
                                {
                                    "kundenid": "5",
                                    "vorname": "Heinz",
                                    "nachname": "Manser"
                                },
                                {
                                    "kundenid": "6",
                                    "vorname": "Barbara",
                                    "nachname": "Traufer"
                                }
                            ]
                        },
                        "text/html": [
                            "<table>",
                            "<tr><th>kundenid</th><th>vorname</th><th>nachname</th></tr>",
                            "<tr><td>1</td><td>Hans</td><td>Meyer</td></tr>",
                            "<tr><td>2</td><td>Pete</td><td>Muller</td></tr>",
                            "<tr><td>3</td><td>Maria</td><td>Matter</td></tr>",
                            "<tr><td>4</td><td>Bruno</td><td>Moser</td></tr>",
                            "<tr><td>5</td><td>Heinz</td><td>Manser</td></tr>",
                            "<tr><td>6</td><td>Barbara</td><td>Traufer</td></tr>",
                            "</table>"
                        ]
                    }
                }
            ],
            "execution_count": 6
        },
        {
            "cell_type": "markdown",
            "source": [
                "**2.2** Du erhältst den Auftrag, den Namen des Produktes mit der Id 2 auf _Zitruspresse_ zu ändern und im selben Zug auch gleich den Preis um CHF 10 zu erhöhen."
            ],
            "metadata": {
                "azdata_cell_guid": "e814a423-852b-4887-a40c-9f208828ecba"
            }
        },
        {
            "cell_type": "code",
            "source": [
                "UPDATE verkauf.produkte\r\n",
                "SET produktname = 'Zitruspresse', preis = '234.00'\r\n",
                "WHERE produktid = 2;\r\n",
                "\r\n",
                "SELECT * FROM verkauf.produkte"
            ],
            "metadata": {
                "azdata_cell_guid": "fa09856f-5174-4087-862f-4f03efeaf199",
                "language": "sql"
            },
            "outputs": [
                {
                    "output_type": "display_data",
                    "data": {
                        "text/html": "(1 row affected)"
                    },
                    "metadata": {}
                },
                {
                    "output_type": "display_data",
                    "data": {
                        "text/html": "(6 rows affected)"
                    },
                    "metadata": {}
                },
                {
                    "output_type": "display_data",
                    "data": {
                        "text/html": "Total execution time: 00:00:00.014"
                    },
                    "metadata": {}
                },
                {
                    "output_type": "execute_result",
                    "metadata": {},
                    "execution_count": 7,
                    "data": {
                        "application/vnd.dataresource+json": {
                            "schema": {
                                "fields": [
                                    {
                                        "name": "produktid"
                                    },
                                    {
                                        "name": "produktname"
                                    },
                                    {
                                        "name": "preis"
                                    },
                                    {
                                        "name": "energielabel"
                                    }
                                ]
                            },
                            "data": [
                                {
                                    "produktid": "1",
                                    "produktname": "Zitronenpresse",
                                    "preis": "4.90",
                                    "energielabel": "A"
                                },
                                {
                                    "produktid": "2",
                                    "produktname": "Zitruspresse",
                                    "preis": "234.00",
                                    "energielabel": "NULL"
                                },
                                {
                                    "produktid": "4",
                                    "produktname": "Weinkühlschrank",
                                    "preis": "139.00",
                                    "energielabel": "C"
                                },
                                {
                                    "produktid": "5",
                                    "produktname": "Grafikkarte",
                                    "preis": "199.95",
                                    "energielabel": "D"
                                },
                                {
                                    "produktid": "6",
                                    "produktname": "CPU",
                                    "preis": "149.95",
                                    "energielabel": "B"
                                },
                                {
                                    "produktid": "7",
                                    "produktname": "Monitor",
                                    "preis": "99.95",
                                    "energielabel": "C"
                                }
                            ]
                        },
                        "text/html": [
                            "<table>",
                            "<tr><th>produktid</th><th>produktname</th><th>preis</th><th>energielabel</th></tr>",
                            "<tr><td>1</td><td>Zitronenpresse</td><td>4.90</td><td>A</td></tr>",
                            "<tr><td>2</td><td>Zitruspresse</td><td>234.00</td><td>NULL</td></tr>",
                            "<tr><td>4</td><td>Weinkühlschrank</td><td>139.00</td><td>C</td></tr>",
                            "<tr><td>5</td><td>Grafikkarte</td><td>199.95</td><td>D</td></tr>",
                            "<tr><td>6</td><td>CPU</td><td>149.95</td><td>B</td></tr>",
                            "<tr><td>7</td><td>Monitor</td><td>99.95</td><td>C</td></tr>",
                            "</table>"
                        ]
                    }
                }
            ],
            "execution_count": 7
        },
        {
            "cell_type": "markdown",
            "source": [
                "## DELETE\n",
                "\n",
                "Führe diese Aufgaben aus, nachdem du den DELETE-Block bearbeitet hast."
            ],
            "metadata": {
                "azdata_cell_guid": "adef7123-c862-42ec-8ac1-f38f6755646c"
            },
            "attachments": {}
        },
        {
            "cell_type": "markdown",
            "source": [
                "**3.1** Du wirst von deinem Vorgesetzten aufgefordert, alle Bestellungen des Kunden _Bruno Moser_ zu löschen. Nimm bitte diese Mutation vor.\n",
                "**Wichtig**: Sei vorsichtig, dass nicht zu viele Daten gelöscht werden."
            ],
            "metadata": {
                "azdata_cell_guid": "e1ea77fb-6060-429b-97d6-0c22729bf16e"
            },
            "attachments": {}
        },
        {
            "cell_type": "code",
            "source": [
                "DELETE FROM verkauf.bestellungen WHERE kundenid = 4;\r\n",
                "\r\n",
                "SELECT * FROM verkauf.bestellungen"
            ],
            "metadata": {
                "azdata_cell_guid": "c245d7d8-a2c2-4364-ae6f-8693b5b933da",
                "language": "sql",
                "tags": []
            },
            "outputs": [
                {
                    "output_type": "display_data",
                    "data": {
                        "text/html": "(1 row affected)"
                    },
                    "metadata": {}
                },
                {
                    "output_type": "display_data",
                    "data": {
                        "text/html": "(4 rows affected)"
                    },
                    "metadata": {}
                },
                {
                    "output_type": "display_data",
                    "data": {
                        "text/html": "Total execution time: 00:00:00.014"
                    },
                    "metadata": {}
                },
                {
                    "output_type": "execute_result",
                    "metadata": {},
                    "execution_count": 8,
                    "data": {
                        "application/vnd.dataresource+json": {
                            "schema": {
                                "fields": [
                                    {
                                        "name": "bestellid"
                                    },
                                    {
                                        "name": "bestelldatum"
                                    },
                                    {
                                        "name": "kundenid"
                                    }
                                ]
                            },
                            "data": [
                                {
                                    "bestellid": "1",
                                    "bestelldatum": "2023-09-10 11:20:07.000",
                                    "kundenid": "1"
                                },
                                {
                                    "bestellid": "2",
                                    "bestelldatum": "2023-11-05 17:43:13.000",
                                    "kundenid": "2"
                                },
                                {
                                    "bestellid": "4",
                                    "bestelldatum": "2022-12-12 00:00:00.000",
                                    "kundenid": "6"
                                },
                                {
                                    "bestellid": "5",
                                    "bestelldatum": "2022-12-13 00:00:00.000",
                                    "kundenid": "6"
                                }
                            ]
                        },
                        "text/html": [
                            "<table>",
                            "<tr><th>bestellid</th><th>bestelldatum</th><th>kundenid</th></tr>",
                            "<tr><td>1</td><td>2023-09-10 11:20:07.000</td><td>1</td></tr>",
                            "<tr><td>2</td><td>2023-11-05 17:43:13.000</td><td>2</td></tr>",
                            "<tr><td>4</td><td>2022-12-12 00:00:00.000</td><td>6</td></tr>",
                            "<tr><td>5</td><td>2022-12-13 00:00:00.000</td><td>6</td></tr>",
                            "</table>"
                        ]
                    }
                }
            ],
            "execution_count": 8
        },
        {
            "cell_type": "markdown",
            "source": [
                "**3.2** Angenommen, du wirst angewiesen die Kundin Barbara Traufer aus der Kunden-Tabelle zu löschen. Würde das Datenbanksystem diese Löschung zulassen? Was gibt es dabei zu beachten? Schreibe deine Überlegungen auf, ohne die Mutation vorzunehmen."
            ],
            "metadata": {
                "azdata_cell_guid": "fe7a46c6-3ef4-4a83-9b01-4f815f8d8983"
            }
        },
        {
            "cell_type": "code",
            "source": [
                "/*\n",
                "ein da es als standart definiert ist und nicht als ON DELETE oder ON UPDATE bzw. wird nichts gemacht,\n",
                "da es eine verletzung de    ns PK ist und nicht definiert eurde wie reagiert werden soll.\n",
                "*/"
            ],
            "metadata": {
                "azdata_cell_guid": "2099a488-b22d-47b8-aa2a-3fe2d1872d11",
                "language": "sql"
            },
            "outputs": [],
            "execution_count": null
        }
    ]
}