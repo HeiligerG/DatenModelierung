{
    "metadata": {
        "kernelspec": {
            "name": "SQL",
            "display_name": "SQL",
            "language": "sql"
        },
        "language_info": {
            "name": "sql",
            "version": ""
        }
    },
    "nbformat_minor": 2,
    "nbformat": 4,
    "cells": [
        {
            "cell_type": "markdown",
            "source": [
                "### **Second Demo and first for ZugDatenbank!**\n",
                "\n",
                "Zweite Aufgaben 1 - 13"
            ],
            "metadata": {
                "azdata_cell_guid": "9ab80606-d2d2-436f-af15-6d36a65c6422"
            },
            "attachments": {}
        },
        {
            "cell_type": "code",
            "source": [
                "SELECT Name FROM Bahnhoefe WHERE LiegtInKanton = 'Basel Stadt';"
            ],
            "metadata": {
                "azdata_cell_guid": "9e3b8992-5388-431b-8e8d-ffd050df4518",
                "language": "sql"
            },
            "outputs": [
                {
                    "output_type": "display_data",
                    "data": {
                        "text/html": "(2 rows affected)"
                    },
                    "metadata": {}
                },
                {
                    "output_type": "display_data",
                    "data": {
                        "text/html": "Total execution time: 00:00:00.010"
                    },
                    "metadata": {}
                },
                {
                    "output_type": "execute_result",
                    "execution_count": 1,
                    "data": {
                        "application/vnd.dataresource+json": {
                            "schema": {
                                "fields": [
                                    {
                                        "name": "Name"
                                    }
                                ]
                            },
                            "data": [
                                {
                                    "Name": "Basel Bad"
                                },
                                {
                                    "Name": "Basel SBB"
                                }
                            ]
                        },
                        "text/html": "<table><tr><th>Name</th></tr><tr><td>Basel Bad</td></tr><tr><td>Basel SBB</td></tr></table>"
                    },
                    "metadata": {}
                }
            ],
            "execution_count": 1
        },
        {
            "cell_type": "code",
            "source": [
                "SELECT ZugNr, Start, Ziel, Abfahrt\r\n",
                "FROM Zuege, Verbindet\r\n",
                "WHERE Abfahrt BETWEEN '14:00:00' AND '15:00:00' \r\n",
                "AND Start = '%Basel%';\r\n",
                ""
            ],
            "metadata": {
                "azdata_cell_guid": "f29fa6fa-102f-420b-8b7d-4a35a5298489",
                "language": "sql"
            },
            "outputs": [
                {
                    "output_type": "display_data",
                    "data": {
                        "text/html": "(0 rows affected)"
                    },
                    "metadata": {}
                },
                {
                    "output_type": "display_data",
                    "data": {
                        "text/html": "Total execution time: 00:00:00.002"
                    },
                    "metadata": {}
                },
                {
                    "output_type": "execute_result",
                    "execution_count": 13,
                    "data": {
                        "application/vnd.dataresource+json": {
                            "schema": {
                                "fields": [
                                    {
                                        "name": "ZugNr"
                                    },
                                    {
                                        "name": "Start"
                                    },
                                    {
                                        "name": "Ziel"
                                    },
                                    {
                                        "name": "Abfahrt"
                                    }
                                ]
                            },
                            "data": []
                        },
                        "text/html": "<table><tr><th>ZugNr</th><th>Start</th><th>Ziel</th><th>Abfahrt</th></tr></table>"
                    },
                    "metadata": {}
                }
            ],
            "execution_count": 13
        },
        {
            "cell_type": "code",
            "source": [
                "SELECT Gleise FROM Bahnhoefe WHERE Name = 'Thalwil';"
            ],
            "metadata": {
                "azdata_cell_guid": "9a3440f2-731a-45ec-8d6c-3db803fa458e",
                "language": "sql"
            },
            "outputs": [
                {
                    "output_type": "display_data",
                    "data": {
                        "text/html": "(1 row affected)"
                    },
                    "metadata": {}
                },
                {
                    "output_type": "display_data",
                    "data": {
                        "text/html": "Total execution time: 00:00:00.004"
                    },
                    "metadata": {}
                },
                {
                    "output_type": "execute_result",
                    "execution_count": 15,
                    "data": {
                        "application/vnd.dataresource+json": {
                            "schema": {
                                "fields": [
                                    {
                                        "name": "Gleise"
                                    }
                                ]
                            },
                            "data": [
                                {
                                    "Gleise": "5"
                                }
                            ]
                        },
                        "text/html": "<table><tr><th>Gleise</th></tr><tr><td>5</td></tr></table>"
                    },
                    "metadata": {}
                }
            ],
            "execution_count": 15
        },
        {
            "cell_type": "code",
            "source": [
                "SELECT SUM(Gleise) AS Summe FROM Bahnhoefe;"
            ],
            "metadata": {
                "azdata_cell_guid": "3b083258-137b-4bc1-a348-cb50f4a2fca4",
                "language": "sql"
            },
            "outputs": [
                {
                    "output_type": "display_data",
                    "data": {
                        "text/html": "(1 row affected)"
                    },
                    "metadata": {}
                },
                {
                    "output_type": "display_data",
                    "data": {
                        "text/html": "Total execution time: 00:00:00.003"
                    },
                    "metadata": {}
                },
                {
                    "output_type": "execute_result",
                    "execution_count": 16,
                    "data": {
                        "application/vnd.dataresource+json": {
                            "schema": {
                                "fields": [
                                    {
                                        "name": "(No column name)"
                                    }
                                ]
                            },
                            "data": [
                                {
                                    "(No column name)": "129"
                                }
                            ]
                        },
                        "text/html": "<table><tr><th>(No column name)</th></tr><tr><td>129</td></tr></table>"
                    },
                    "metadata": {}
                }
            ],
            "execution_count": 16
        },
        {
            "cell_type": "code",
            "source": [
                "SELECT SUM(Gleise) FROM Bahnhoefe WHERE Name = 'Zug' OR Name = 'Luzern';"
            ],
            "metadata": {
                "azdata_cell_guid": "194e8dfa-8a66-43c8-a193-240f41d8dffc",
                "language": "sql"
            },
            "outputs": [
                {
                    "output_type": "display_data",
                    "data": {
                        "text/html": "(1 row affected)"
                    },
                    "metadata": {}
                },
                {
                    "output_type": "display_data",
                    "data": {
                        "text/html": "Total execution time: 00:00:00.003"
                    },
                    "metadata": {}
                },
                {
                    "output_type": "execute_result",
                    "execution_count": 18,
                    "data": {
                        "application/vnd.dataresource+json": {
                            "schema": {
                                "fields": [
                                    {
                                        "name": "(No column name)"
                                    }
                                ]
                            },
                            "data": [
                                {
                                    "(No column name)": "23"
                                }
                            ]
                        },
                        "text/html": "<table><tr><th>(No column name)</th></tr><tr><td>23</td></tr></table>"
                    },
                    "metadata": {}
                }
            ],
            "execution_count": 18
        },
        {
            "cell_type": "code",
            "source": [
                "SELECT AVG(Gleise) FROM Bahnhoefe;"
            ],
            "metadata": {
                "azdata_cell_guid": "079dfe1c-fe6f-49c8-836c-3bddff445dc7",
                "language": "sql"
            },
            "outputs": [
                {
                    "output_type": "display_data",
                    "data": {
                        "text/html": "(1 row affected)"
                    },
                    "metadata": {}
                },
                {
                    "output_type": "display_data",
                    "data": {
                        "text/html": "Total execution time: 00:00:00.005"
                    },
                    "metadata": {}
                },
                {
                    "output_type": "execute_result",
                    "execution_count": 19,
                    "data": {
                        "application/vnd.dataresource+json": {
                            "schema": {
                                "fields": [
                                    {
                                        "name": "(No column name)"
                                    }
                                ]
                            },
                            "data": [
                                {
                                    "(No column name)": "14"
                                }
                            ]
                        },
                        "text/html": "<table><tr><th>(No column name)</th></tr><tr><td>14</td></tr></table>"
                    },
                    "metadata": {}
                }
            ],
            "execution_count": 19
        },
        {
            "cell_type": "code",
            "source": [
                "SELECT MAX(Abfahrt) FROM Verbindet;"
            ],
            "metadata": {
                "azdata_cell_guid": "dfc390b8-4e55-43e6-b56c-faf89e894ea4",
                "language": "sql"
            },
            "outputs": [
                {
                    "output_type": "display_data",
                    "data": {
                        "text/html": "(1 row affected)"
                    },
                    "metadata": {}
                },
                {
                    "output_type": "display_data",
                    "data": {
                        "text/html": "Total execution time: 00:00:00.008"
                    },
                    "metadata": {}
                },
                {
                    "output_type": "execute_result",
                    "execution_count": 20,
                    "data": {
                        "application/vnd.dataresource+json": {
                            "schema": {
                                "fields": [
                                    {
                                        "name": "(No column name)"
                                    }
                                ]
                            },
                            "data": [
                                {
                                    "(No column name)": "15:36:00"
                                }
                            ]
                        },
                        "text/html": "<table><tr><th>(No column name)</th></tr><tr><td>15:36:00</td></tr></table>"
                    },
                    "metadata": {}
                }
            ],
            "execution_count": 20
        },
        {
            "cell_type": "code",
            "source": [
                "SELECT Name, Kanton FROM Staedte WHERE Kanton LIKE '%n';"
            ],
            "metadata": {
                "azdata_cell_guid": "94e0584a-4dc6-4dcf-b4c6-47f9c8e2c826",
                "language": "sql"
            },
            "outputs": [
                {
                    "output_type": "display_data",
                    "data": {
                        "text/html": "(3 rows affected)"
                    },
                    "metadata": {}
                },
                {
                    "output_type": "display_data",
                    "data": {
                        "text/html": "Total execution time: 00:00:00.006"
                    },
                    "metadata": {}
                },
                {
                    "output_type": "execute_result",
                    "execution_count": 23,
                    "data": {
                        "application/vnd.dataresource+json": {
                            "schema": {
                                "fields": [
                                    {
                                        "name": "Name"
                                    },
                                    {
                                        "name": "Kanton"
                                    }
                                ]
                            },
                            "data": [
                                {
                                    "Name": "Horw",
                                    "Kanton": "Luzern"
                                },
                                {
                                    "Name": "Luzern",
                                    "Kanton": "Luzern"
                                },
                                {
                                    "Name": "Olten",
                                    "Kanton": "Solothurn"
                                }
                            ]
                        },
                        "text/html": "<table><tr><th>Name</th><th>Kanton</th></tr><tr><td>Horw</td><td>Luzern</td></tr><tr><td>Luzern</td><td>Luzern</td></tr><tr><td>Olten</td><td>Solothurn</td></tr></table>"
                    },
                    "metadata": {}
                }
            ],
            "execution_count": 23
        },
        {
            "cell_type": "code",
            "source": [
                "SELECT Name, Kanton FROM Staedte WHERE Kanton = Name;"
            ],
            "metadata": {
                "azdata_cell_guid": "b84725c5-5ecb-4da9-99c0-96ac23c77e87",
                "language": "sql"
            },
            "outputs": [
                {
                    "output_type": "display_data",
                    "data": {
                        "text/html": "(3 rows affected)"
                    },
                    "metadata": {}
                },
                {
                    "output_type": "display_data",
                    "data": {
                        "text/html": "Total execution time: 00:00:00.007"
                    },
                    "metadata": {}
                },
                {
                    "output_type": "execute_result",
                    "execution_count": 24,
                    "data": {
                        "application/vnd.dataresource+json": {
                            "schema": {
                                "fields": [
                                    {
                                        "name": "Name"
                                    },
                                    {
                                        "name": "Kanton"
                                    }
                                ]
                            },
                            "data": [
                                {
                                    "Name": "Luzern",
                                    "Kanton": "Luzern"
                                },
                                {
                                    "Name": "Zug",
                                    "Kanton": "Zug"
                                },
                                {
                                    "Name": "Zürich",
                                    "Kanton": "Zürich"
                                }
                            ]
                        },
                        "text/html": "<table><tr><th>Name</th><th>Kanton</th></tr><tr><td>Luzern</td><td>Luzern</td></tr><tr><td>Zug</td><td>Zug</td></tr><tr><td>Zürich</td><td>Zürich</td></tr></table>"
                    },
                    "metadata": {}
                }
            ],
            "execution_count": 24
        },
        {
            "cell_type": "code",
            "source": [
                "SELECT MAX(Gleise) FROM Bahnhoefe;"
            ],
            "metadata": {
                "azdata_cell_guid": "6169dc83-43f8-4d69-9108-0c1cbbbbab37",
                "language": "sql"
            },
            "outputs": [
                {
                    "output_type": "display_data",
                    "data": {
                        "text/html": "(1 row affected)"
                    },
                    "metadata": {}
                },
                {
                    "output_type": "display_data",
                    "data": {
                        "text/html": "Total execution time: 00:00:00.002"
                    },
                    "metadata": {}
                },
                {
                    "output_type": "execute_result",
                    "execution_count": 29,
                    "data": {
                        "application/vnd.dataresource+json": {
                            "schema": {
                                "fields": [
                                    {
                                        "name": "(No column name)"
                                    }
                                ]
                            },
                            "data": [
                                {
                                    "(No column name)": "52"
                                }
                            ]
                        },
                        "text/html": "<table><tr><th>(No column name)</th></tr><tr><td>52</td></tr></table>"
                    },
                    "metadata": {}
                }
            ],
            "execution_count": 29
        },
        {
            "cell_type": "code",
            "source": [
                "SELECT COUNT(Von) AS VonOlten FROM Verbindet WHERE Von = 'Olten';"
            ],
            "metadata": {
                "azdata_cell_guid": "d0dece0b-7fce-4c85-a9cd-cd89472da621",
                "language": "sql"
            },
            "outputs": [
                {
                    "output_type": "display_data",
                    "data": {
                        "text/html": "(1 row affected)"
                    },
                    "metadata": {}
                },
                {
                    "output_type": "display_data",
                    "data": {
                        "text/html": "Total execution time: 00:00:00.004"
                    },
                    "metadata": {}
                },
                {
                    "output_type": "execute_result",
                    "execution_count": 34,
                    "data": {
                        "application/vnd.dataresource+json": {
                            "schema": {
                                "fields": [
                                    {
                                        "name": "VonOlten"
                                    }
                                ]
                            },
                            "data": [
                                {
                                    "VonOlten": "2"
                                }
                            ]
                        },
                        "text/html": "<table><tr><th>VonOlten</th></tr><tr><td>2</td></tr></table>"
                    },
                    "metadata": {}
                }
            ],
            "execution_count": 34
        },
        {
            "cell_type": "code",
            "source": [
                "SELECT COUNT(Zug), Von FROM Verbindet GROUP BY Von;"
            ],
            "metadata": {
                "azdata_cell_guid": "b9ea6931-b36f-4913-8a86-ab096fcd946a",
                "language": "sql"
            },
            "outputs": [
                {
                    "output_type": "display_data",
                    "data": {
                        "text/html": "(9 rows affected)"
                    },
                    "metadata": {}
                },
                {
                    "output_type": "display_data",
                    "data": {
                        "text/html": "Total execution time: 00:00:00.009"
                    },
                    "metadata": {}
                },
                {
                    "output_type": "execute_result",
                    "execution_count": 36,
                    "data": {
                        "application/vnd.dataresource+json": {
                            "schema": {
                                "fields": [
                                    {
                                        "name": "(No column name)"
                                    },
                                    {
                                        "name": "Von"
                                    }
                                ]
                            },
                            "data": [
                                {
                                    "(No column name)": "2",
                                    "Von": "Baden"
                                },
                                {
                                    "(No column name)": "1",
                                    "Von": "Basel Bad"
                                },
                                {
                                    "(No column name)": "3",
                                    "Von": "Basel SBB"
                                },
                                {
                                    "(No column name)": "1",
                                    "Von": "Horw"
                                },
                                {
                                    "(No column name)": "3",
                                    "Von": "Luzern"
                                },
                                {
                                    "(No column name)": "2",
                                    "Von": "Olten"
                                },
                                {
                                    "(No column name)": "2",
                                    "Von": "Thalwil"
                                },
                                {
                                    "(No column name)": "2",
                                    "Von": "Zug"
                                },
                                {
                                    "(No column name)": "2",
                                    "Von": "Zürich HB"
                                }
                            ]
                        },
                        "text/html": "<table><tr><th>(No column name)</th><th>Von</th></tr><tr><td>2</td><td>Baden</td></tr><tr><td>1</td><td>Basel Bad</td></tr><tr><td>3</td><td>Basel SBB</td></tr><tr><td>1</td><td>Horw</td></tr><tr><td>3</td><td>Luzern</td></tr><tr><td>2</td><td>Olten</td></tr><tr><td>2</td><td>Thalwil</td></tr><tr><td>2</td><td>Zug</td></tr><tr><td>2</td><td>Zürich HB</td></tr></table>"
                    },
                    "metadata": {}
                }
            ],
            "execution_count": 36
        },
        {
            "cell_type": "code",
            "source": [
                "SELECT COUNT(Gleise), LiegtInKanton FROM Bahnhoefe GROUP BY LiegtInKanton;"
            ],
            "metadata": {
                "azdata_cell_guid": "9b47c9f6-2d54-4ee2-bd07-8005203f487a",
                "language": "sql"
            },
            "outputs": [
                {
                    "output_type": "display_data",
                    "data": {
                        "text/html": "(6 rows affected)"
                    },
                    "metadata": {}
                },
                {
                    "output_type": "display_data",
                    "data": {
                        "text/html": "Total execution time: 00:00:00.011"
                    },
                    "metadata": {}
                },
                {
                    "output_type": "execute_result",
                    "execution_count": 37,
                    "data": {
                        "application/vnd.dataresource+json": {
                            "schema": {
                                "fields": [
                                    {
                                        "name": "(No column name)"
                                    },
                                    {
                                        "name": "LiegtInKanton"
                                    }
                                ]
                            },
                            "data": [
                                {
                                    "(No column name)": "1",
                                    "LiegtInKanton": "Aargau"
                                },
                                {
                                    "(No column name)": "2",
                                    "LiegtInKanton": "Basel Stadt"
                                },
                                {
                                    "(No column name)": "2",
                                    "LiegtInKanton": "Luzern"
                                },
                                {
                                    "(No column name)": "1",
                                    "LiegtInKanton": "Solothurn"
                                },
                                {
                                    "(No column name)": "1",
                                    "LiegtInKanton": "Zug"
                                },
                                {
                                    "(No column name)": "2",
                                    "LiegtInKanton": "Zürich"
                                }
                            ]
                        },
                        "text/html": "<table><tr><th>(No column name)</th><th>LiegtInKanton</th></tr><tr><td>1</td><td>Aargau</td></tr><tr><td>2</td><td>Basel Stadt</td></tr><tr><td>2</td><td>Luzern</td></tr><tr><td>1</td><td>Solothurn</td></tr><tr><td>1</td><td>Zug</td></tr><tr><td>2</td><td>Zürich</td></tr></table>"
                    },
                    "metadata": {}
                }
            ],
            "execution_count": 37
        }
    ]
}