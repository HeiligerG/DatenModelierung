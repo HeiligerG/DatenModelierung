{
    "metadata": {
        "kernelspec": {
            "name": "SQL",
            "display_name": "SQL",
            "language": "sql"
        },
        "language_info": {
            "name": "sql",
            "version": ""
        }
    },
    "nbformat_minor": 2,
    "nbformat": 4,
    "cells": [
        {
            "cell_type": "markdown",
            "source": [
                "**Projektarbeit Daten modellieren**"
            ],
            "metadata": {
                "azdata_cell_guid": "7c770831-014e-4e8c-963d-661e092499e4"
            },
            "attachments": {}
        },
        {
            "cell_type": "markdown",
            "source": [
                "**Anforderungsanalyse**\n",
                "\n",
                "  \n",
                "\n",
                "> Hallo\n",
                "> \n",
                "> Im Gespräch mit der Universitätsleitung und anderen wichtigen Personen der Uni, konnte ich einige wichtige Dinge in Erfahrung bringen. Bitte beachte die folgenden Informationen, wenn du die Datenbank erstellst!\n",
                "> \n",
                "> - Jede Vorlesung hat eine Bezeichnung (Titel) und eine eindeutige Nummer. Vorlesungen werden immer von genau einem Professor gelesen und von mindestens einem Studenten besucht. Ein Professor kann (muss aber nicht) mehrere Vorlesungen halten.\n",
                ">     \n",
                "> - Jeder Professor hält seine Vorlesungen in einem bestimmten Hörsaal (Raum). Und dieser Hörsaal steht dem Professor exklusiv zur Verfügung, d.h. jeder Professor hat seinen eigenen Hörsaal.\n",
                ">     \n",
                "> - Der Lernstoff bestimmter Vorlesungen baut auf dem Lernstoff anderer Vorlesungen auf. Das heisst, das der Besuch bestimmter Vorlesungen den vorherigen Besuch einer oder mehrere anderer Vorlesungen voraussetzt (Vorgänger - Nachfolger).\n",
                ">     \n",
                "> - Das Geburtsdatum der Professoren ist wichtig, weil die Universitätsleitung seinen Professoren gut schauen und ihnen jedes Jahr etwas zum Geburtstag schenken möchte.\n",
                ">     \n",
                "> - Für jeden Stundenten soll nebst dem Vor- und Nachnamen das Eintrittsdatum (Studienbeginn) hinterlegt werden können. Und jeder Student erhält beim Eintritt eine sogenannte Matrikelnummer. Diese Nummer ist eindeutig und sie darf keinesfalls (!) mehrmals vergeben werden.\n",
                ">     \n",
                "> - An der Universität arbeiten auch Assistenten. Jeder dieser Assistenten arbeitet für genau einen Professor. Allerdings gibt es Professoren, die mehr als einen Assistenten haben.\n",
                ">     \n",
                "> - Auch die Assistenten erhalten von der Universtität zu ihrem Geburtstag jeweils ein Geschenk.\n",
                ">     \n",
                "> - Jeder Student schliesst die von ihm besuchte Vorlesung mit einer Prüfung ab. Jede Prüfung findet an einem vorher festgelegten Termin statt. Die Prüfungsaufsicht hat immer genau ein Professor. Die Notengebung erfolgt auf halbe Noten gerundet (z.B. 4.5).\n",
                ">     \n",
                "> - Falls ein Student eine Prüfung nicht besteht, kann er sie wiederholen, d.h. es ist möglich, dass ein Student für eine von ihm besuchte Vorlesung mehrere Prüfungen schreibt.\n",
                ">     \n",
                "> \n",
                "> Weiter gilt es folgende Punkte zu beachten:\n",
                "> \n",
                "> - Vor- und Nachnamen der Professoren, Assistenten und Studenten sind Pflichtfelder.\n",
                ">     \n",
                "> - Wenn ein Student die Uni verlässt, wird er aus der Datenbank gelöscht. Dabei muss sichergestellt werden, dass in der Datenbank beim Löschen eines Studenten auch gleich alle seine Prüfungstermine und alle seine Vorlesungsbesuche gelöscht werden.\n",
                ">     \n",
                "> - Die Professoren hängen sehr an ihrem Hörsaal (Raum), so dass die Uni-Leitung jedem Professor für seine Vorlesungen einen persönlichen Raum zur Verfügung stellt. Bitte berücksichtige das bei der Erstellung der Datenbank und sorge dafür, dass innerhalb der Relation \"Professor\" für das Attribut \"Raum\" keine doppelten oder mehrfachen Werte vorkommen!\n",
                ">     \n",
                "> \n",
                "> Bei Unklarheiten oder Fragen stehe ich dir gerne zur Verfügung. Komm einfach unkompliziert auf mich zu.\n",
                "> \n",
                "> Freundliche Grüsse\n",
                "> \n",
                "> Alex"
            ],
            "metadata": {
                "azdata_cell_guid": "424d3462-a826-4ea8-8a41-9a263273e466"
            },
            "attachments": {}
        },
        {
            "cell_type": "markdown",
            "source": [
                "**Der unten Stehende Code in Jet-Brains Web-Storm einfügen und Artifakte aktivieren oder in ein .txt einfügen und in .svg umbenennen, danch im Browser öffnen!**"
            ],
            "metadata": {
                "azdata_cell_guid": "83dd80c5-a375-4e35-a1b1-5836baefaf68"
            },
            "attachments": {}
        },
        {
            "cell_type": "code",
            "source": [
                "<svg xmlns=\"http://www.w3.org/2000/svg\" xmlns:xlink=\"http://www.w3.org/1999/xlink\" xmlns:lucid=\"lucid\" width=\"1760\" height=\"1360\"><g transform=\"translate(0 0)\" lucid:page-tab-id=\"0_0\"><path d=\"M0 0h1760v1360H0z\" fill=\"#fff\"/><path d=\"M1074.63 617.8a8 8 0 0 1 8-8h170.27a8 8 0 0 1 8 8v104.4a8 8 0 0 1-8 8h-170.27a8 8 0 0 1-8-8z\" stroke=\"#333\" fill=\"#fff\"/><use xlink:href=\"#a\" transform=\"matrix(1,0,0,1,1086.626865671642,621.795918367347) translate(41.55 52.1)\"/><path d=\"M1073.03 754.3c26.6 0 48.16 21.55 48.16 48.15 0 26.6-21.57 48.16-48.17 48.16H983.1c-26.6 0-48.18-21.55-48.18-48.15 0-26.6 21.57-48.16 48.17-48.16z\" stroke=\"#333\" fill=\"#fff\"/><use xlink:href=\"#b\" transform=\"matrix(1,0,0,1,939.9253731343285,759.2857142857143) translate(39.574999999999996 47.1)\"/><path d=\"M1352.43 754.3c26.6 0 48.17 21.55 48.17 48.15 0 26.6-21.57 48.16-48.17 48.16h-89.94c-26.6 0-48.17-21.55-48.17-48.15 0-26.6 21.56-48.16 48.16-48.16z\" stroke=\"#333\" fill=\"#fff\"/><use xlink:href=\"#c\" transform=\"matrix(1,0,0,1,1219.3283582089553,759.2857142857143) translate(71.9 47.1)\"/><path d=\"M241.12 617.8a8 8 0 0 1 8-8H396.1a8 8 0 0 1 8 8v104.4a8 8 0 0 1-8 8H249.12a8 8 0 0 1-8-8z\" stroke=\"#333\" fill=\"#fff\"/><use xlink:href=\"#d\" transform=\"matrix(1,0,0,1,253.1193332941874,621.795918367347) translate(38.5 52.1)\"/><path d=\"M771.94 213.36a8 8 0 0 1 8-8h181.9a8 8 0 0 1 8 8v118.58a8 8 0 0 1-8 8h-181.9a8 8 0 0 1-8-8z\" stroke=\"#333\" fill=\"#fff\"/><use xlink:href=\"#e\" transform=\"matrix(1,0,0,1,783.9402985074627,217.36265138697058) translate(48.55 59.1)\"/><path d=\"M1049.75 359.07c26.6 0 48.16 21.56 48.16 48.16 0 26.6-21.55 48.17-48.15 48.17H959.8c-26.6 0-48.16-21.57-48.16-48.17s21.57-48.16 48.16-48.16z\" stroke=\"#333\" fill=\"#fff\"/><use xlink:href=\"#f\" transform=\"matrix(1,0,0,1,916.641791044776,364.07061559340576) translate(64.55 47.1)\"/><path d=\"M1026.46 80c26.6 0 48.17 21.56 48.17 48.16 0 26.6-21.57 48.17-48.17 48.17h-89.94c-26.6 0-48.16-21.57-48.16-48.17S909.92 80 936.52 80z\" stroke=\"#333\" fill=\"#fff\"/><use xlink:href=\"#g\" transform=\"matrix(1,0,0,1,893.358208955224,85) translate(31.549999999999997 47.1)\"/><path d=\"M258.1 489.4c26.6 0 48.17 21.55 48.17 48.15 0 26.6-21.56 48.16-48.16 48.16h-89.94c-26.6 0-48.16-21.55-48.16-48.15 0-26.6 21.56-48.16 48.16-48.16z\" stroke=\"#333\" fill=\"#fff\"/><use xlink:href=\"#h\" transform=\"matrix(1,0,0,1,125,494.3877551020408) translate(52.55 47.1)\"/><path d=\"M467.66 489.4c26.6 0 48.16 21.55 48.16 48.15 0 26.6-21.56 48.16-48.16 48.16h-89.94c-26.6 0-48.17-21.55-48.17-48.15 0-26.6 21.57-48.16 48.17-48.16z\" stroke=\"#333\" fill=\"#fff\"/><use xlink:href=\"#i\" transform=\"matrix(1,0,0,1,334.55223880597015,494.3877551020408) translate(45.05 47.1)\"/><path d=\"M467.66 754.3c26.6 0 48.16 21.55 48.16 48.15 0 26.6-21.56 48.16-48.16 48.16h-89.94c-26.6 0-48.17-21.55-48.17-48.15 0-26.6 21.57-48.16 48.17-48.16z\" stroke=\"#333\" fill=\"#fff\"/><use xlink:href=\"#j\" transform=\"matrix(1,0,0,1,334.55223880597015,759.2857142857143) translate(36.05 47.1)\"/><path d=\"M258.1 754.3c26.6 0 48.17 21.55 48.17 48.15 0 26.6-21.56 48.16-48.16 48.16h-89.94c-26.6 0-48.16-21.55-48.16-48.15 0-26.6 21.56-48.16 48.16-48.16z\" stroke=\"#333\" fill=\"#fff\"/><use xlink:href=\"#k\" transform=\"matrix(1,0,0,1,125,759.2857142857143) translate(48.12499999999999 47.1)\"/><path d=\"M1400.6 208.4a8 8 0 0 1 8-8h170.27a8 8 0 0 1 8 8v128.5a8 8 0 0 1-8 8H1408.6a8 8 0 0 1-8-8z\" stroke=\"#333\" fill=\"#fff\"/><use xlink:href=\"#l\" transform=\"matrix(1,0,0,1,1412.597014925373,212.4081632653061) translate(39.525 64.10000000000001)\"/><path d=\"M1445.57 89.9c26.6 0 48.16 21.57 48.16 48.17s-21.56 48.17-48.16 48.17h-89.94c-26.6 0-48.17-21.57-48.17-48.17s21.57-48.16 48.17-48.16z\" stroke=\"#333\" fill=\"#fff\"/><use xlink:href=\"#g\" transform=\"matrix(1,0,0,1,1312.4626865671644,94.90897624332894) translate(31.549999999999997 47.1)\"/><path d=\"M793.63 359.07c26.6 0 48.16 21.56 48.16 48.16 0 26.6-21.57 48.17-48.17 48.17H703.7c-26.6 0-48.18-21.57-48.18-48.17s21.57-48.16 48.17-48.16z\" stroke=\"#333\" fill=\"#fff\"/><use xlink:href=\"#i\" transform=\"matrix(1,0,0,1,660.5223880597014,364.07061559340576) translate(45.05 47.1)\"/><path d=\"M1631.84 359.07c26.6 0 48.16 21.56 48.16 48.16 0 26.6-21.56 48.17-48.16 48.17h-89.94c-26.6 0-48.17-21.57-48.17-48.17s21.57-48.16 48.16-48.16z\" stroke=\"#333\" fill=\"#fff\"/><use xlink:href=\"#i\" transform=\"matrix(1,0,0,1,1498.7313432835822,364.07061559340576) translate(45.05 47.1)\"/><path d=\"M816.9 80c26.6 0 48.18 21.56 48.18 48.16 0 26.6-21.57 48.17-48.17 48.17h-89.93c-26.6 0-48.16-21.57-48.16-48.17S700.38 80 726.98 80z\" stroke=\"#333\" fill=\"#fff\"/><use xlink:href=\"#h\" transform=\"matrix(1,0,0,1,683.8059701492537,85) translate(52.55 47.1)\"/><path d=\"M1631.84 89.9c26.6 0 48.16 21.57 48.16 48.17s-21.56 48.17-48.16 48.17h-89.94c-26.6 0-48.17-21.57-48.17-48.17s21.57-48.16 48.16-48.16z\" stroke=\"#333\" fill=\"#fff\"/><use xlink:href=\"#h\" transform=\"matrix(1,0,0,1,1498.7313432835822,94.90897624332894) translate(52.55 47.1)\"/><path d=\"M1445.57 359.07c26.6 0 48.16 21.56 48.16 48.16 0 26.6-21.56 48.17-48.16 48.17h-89.94c-26.6 0-48.17-21.57-48.17-48.17s21.57-48.16 48.17-48.16z\" stroke=\"#333\" fill=\"#fff\"/><use xlink:href=\"#m\" transform=\"matrix(1,0,0,1,1312.4626865671644,364.07061559340576) translate(43.05 47.1)\"/><path d=\"M1161.44 205.3a10.3 10.3 0 0 1 12.64 0l80.5 62.45a6.2 6.2 0 0 1 0 9.8l-80.5 62.44a10.3 10.3 0 0 1-12.64 0l-80.5-62.44a6.2 6.2 0 0 1 0-9.8z\" stroke=\"#333\" fill=\"#fff\"/><use xlink:href=\"#n\" transform=\"matrix(1,0,0,1,1079.626865671642,205.4081632653061) translate(60.05 71.10000000000001)\"/><use xlink:href=\"#o\" transform=\"matrix(1,0,0,1,1079.626865671642,205.4081632653061) translate(93 71.10000000000001)\"/><path d=\"M1399.6 272.65h-141.62\" stroke=\"#333\" fill=\"none\"/><path d=\"M1400.1 273.13h-.52v-.95h.52zM1258 273.13h-.57l.05-.48-.05-.47h.56z\" stroke=\"#333\" stroke-width=\".05\" fill=\"#333\"/><path d=\"M970.85 272.65h106.69\" stroke=\"#333\" fill=\"none\"/><path d=\"M970.86 273.13h-.5v-.95h.5zM1078.04 272.65l.05.48h-.57v-.95h.56z\" stroke=\"#333\" stroke-width=\".05\" fill=\"#333\"/><path d=\"M656.32 929.23a8 8 0 0 1 8-8h147a8 8 0 0 1 8 8v104.4a8 8 0 0 1-8 8h-147a8 8 0 0 1-8-8z\" stroke=\"#333\" fill=\"#fff\"/><use xlink:href=\"#p\" transform=\"matrix(1,0,0,1,668.3232434901603,933.2250201812466) translate(38.025 52.1)\"/><path d=\"M910.05 1054.5c26.6 0 48.16 21.55 48.16 48.15 0 26.6-21.55 48.17-48.15 48.17H820.1c-26.6 0-48.16-21.57-48.16-48.17s21.56-48.16 48.16-48.16z\" stroke=\"#333\" fill=\"#fff\"/><use xlink:href=\"#q\" transform=\"matrix(1,0,0,1,776.9402985074626,1059.4900611110315) translate(43.55 47.1)\"/><path d=\"M630.64 1054.5c26.6 0 48.17 21.55 48.17 48.15 0 26.6-21.56 48.17-48.16 48.17H540.7c-26.6 0-48.16-21.57-48.16-48.17s21.56-48.16 48.16-48.16z\" stroke=\"#333\" fill=\"#fff\"/><use xlink:href=\"#r\" transform=\"matrix(1,0,0,1,497.5373134328358,1059.4900611110315) translate(61.599999999999994 47.1)\"/><path d=\"M770.34 1163.67c26.6 0 48.17 21.57 48.17 48.17S796.95 1260 770.35 1260H680.4c-26.6 0-48.16-21.56-48.16-48.16 0-26.6 21.56-48.17 48.16-48.17z\" stroke=\"#333\" fill=\"#fff\"/><use xlink:href=\"#s\" transform=\"matrix(1,0,0,1,637.2388059701493,1168.6734693877552) translate(69.525 47.1)\"/><path d=\"M1118.28 981.43h37.48a12 12 0 0 0 12-12V731.2\" stroke=\"#333\" fill=\"none\"/><path d=\"M1118.3 981.9h-.57l.05-.47-.05-.48h.56zM1168.24 731.22h-.95v-.52h.94z\" stroke=\"#333\" stroke-width=\".05\" fill=\"#333\"/><path d=\"M820.3 981.43h117.54\" stroke=\"#333\" fill=\"none\"/><path d=\"M820.32 981.9h-.5v-.95h.5zM938.34 981.43l.05.47h-.57v-.95h.56z\" stroke=\"#333\" stroke-width=\".05\" fill=\"#333\"/><path d=\"M407.02 981.43h-72.4a12 12 0 0 1-12-12V731.2\" stroke=\"#333\" fill=\"none\"/><path d=\"M407.52 981.43l.05.47H407v-.95h.56zM323.1 731.22h-.96v-.52h.95z\" stroke=\"#333\" stroke-width=\".05\" fill=\"#333\"/><path d=\"M655.32 981.43h-67.86\" stroke=\"#333\" fill=\"none\"/><path d=\"M655.82 981.9h-.5v-.95h.5zM587.47 981.9h-.56l.06-.47-.05-.48h.57z\" stroke=\"#333\" stroke-width=\".05\" fill=\"#333\"/><path d=\"M585.67 394.8V284.65a12 12 0 0 1 12-12h173.27\" stroke=\"#333\" fill=\"none\"/><path d=\"M586.15 395.33l-.48-.03-.47.03v-.54h.95zM771.44 273.13h-.5v-.95h.5z\" stroke=\"#333\" stroke-width=\".05\" fill=\"#333\"/><path d=\"M737.82 920.23V790.37a12 12 0 0 0-12-12H597.67a12 12 0 0 1-12-12V535.8\" stroke=\"#333\" fill=\"none\"/><path d=\"M738.3 920.73h-.96v-.52h.95zM585.67 535.3l.48-.02v.55h-.95v-.55z\" stroke=\"#333\" stroke-width=\".05\" fill=\"#333\"/><path d=\"M1167.76 608.8v-69.16a12 12 0 0 0-12-12h-107.54\" stroke=\"#333\" fill=\"none\"/><path d=\"M1168.24 609.3h-.95v-.52h.94zM1048.24 528.12h-.56l.04-.48-.04-.47h.56z\" stroke=\"#333\" stroke-width=\".05\" fill=\"#333\"/><path d=\"M1073.63 670H838.87\" stroke=\"#333\" fill=\"none\"/><path d=\"M1074.13 670.48h-.52v-.96h.53zM838.9 670.48h-.57l.04-.48-.04-.48h.56z\" stroke=\"#333\" stroke-width=\".05\" fill=\"#333\"/><path d=\"M658.44 670H405.1\" stroke=\"#333\" fill=\"none\"/><path d=\"M658.94 670l.04.48h-.55v-.96h.55zM405.12 670.48h-.52v-.96h.52z\" stroke=\"#333\" stroke-width=\".05\" fill=\"#333\"/><path d=\"M963.34 474.2a11.23 11.23 0 0 1 13.03 0l68.46 48.8a5.7 5.7 0 0 1 0 9.28l-68.46 48.8a11.23 11.23 0 0 1-13.03 0l-68.47-48.8a5.7 5.7 0 0 1 0-9.28z\" stroke=\"#333\" fill=\"#fff\"/><use xlink:href=\"#t\" transform=\"matrix(1,0,0,1,893.3582089552239,474.56980261538297) translate(62.025 57.1)\"/><path d=\"M891.48 527.64h-8.58a12 12 0 0 1-12-12v-174.7\" stroke=\"#333\" fill=\"none\"/><path d=\"M891.98 527.64l.04.48h-.55v-.95h.55zM871.37 340.96h-.95v-.52h.95z\" stroke=\"#333\" stroke-width=\".05\" fill=\"#333\"/><path d=\"M742.34 602.66a10.3 10.3 0 0 1 12.64 0l80.5 62.44a6.2 6.2 0 0 1 0 9.8l-80.5 62.44a10.3 10.3 0 0 1-12.64 0l-80.5-62.44a6.2 6.2 0 0 1 0-9.8z\" stroke=\"#333\" fill=\"#fff\"/><use xlink:href=\"#u\" transform=\"matrix(1,0,0,1,660.5223880597015,602.7551020408164) translate(19.075000000000003 71.10000000000001)\"/><use xlink:href=\"#v\" transform=\"matrix(1,0,0,1,660.5223880597015,602.7551020408164) translate(60.925 71.10000000000001)\"/><use xlink:href=\"#w\" transform=\"matrix(1,0,0,1,660.5223880597015,602.7551020408164) translate(128.925 71.10000000000001)\"/><path d=\"M579.35 397.96a10.3 10.3 0 0 1 12.64 0l80.5 62.44a6.2 6.2 0 0 1 0 9.8L592 532.66a10.3 10.3 0 0 1-12.65 0l-80.5-62.44a6.2 6.2 0 0 1 0-9.8z\" stroke=\"#333\" fill=\"#fff\"/><use xlink:href=\"#x\" transform=\"matrix(1,0,0,1,497.53731343283584,398.0612244897959) translate(38.05 71.10000000000001)\"/><path d=\"M1021.74 914.1a10.3 10.3 0 0 1 12.64 0l80.5 62.43a6.2 6.2 0 0 1 0 9.8l-80.5 62.44a10.3 10.3 0 0 1-12.64 0l-80.5-62.44a6.2 6.2 0 0 1 0-9.8z\" stroke=\"#333\" fill=\"#fff\"/><use xlink:href=\"#y\" transform=\"matrix(1,0,0,1,939.9253731343285,914.184203854716) translate(76 71.10000000000001)\"/><path d=\"M490.92 914.1a10.3 10.3 0 0 1 12.64 0l80.5 62.43a6.2 6.2 0 0 1 0 9.8l-80.5 62.44a10.3 10.3 0 0 1-12.64 0l-80.5-62.44a6.2 6.2 0 0 1 0-9.8z\" stroke=\"#333\" fill=\"#fff\"/><use xlink:href=\"#z\" transform=\"matrix(1,0,0,1,409.10440792105305,914.184203854716) translate(57.05 71.10000000000001)\"/><path d=\"M1261.9 720.55h27.5a12 12 0 0 0 12-12v-74.9a12 12 0 0 0-12-12h-27.5\" stroke=\"#333\" fill=\"none\"/><path d=\"M1261.9 721.03h-.5v-.95h.5zM1261.9 622.13h-.5v-.95h.5z\" stroke=\"#333\" stroke-width=\".05\" fill=\"#333\"/><path d=\"M1346.92 625.5a15.47 15.47 0 0 1 14.22 0l78.92 40.83a4.14 4.14 0 0 1 0 7.34l-78.92 40.82a15.47 15.47 0 0 1-14.22 0L1268 673.66a4.14 4.14 0 0 1 0-7.34z\" stroke=\"#333\" fill=\"#fff\"/><g><use xlink:href=\"#A\" transform=\"matrix(1,0,0,1,1265.8955223880596,626.8367346938776) translate(37.525 47.1)\"/><use xlink:href=\"#B\" transform=\"matrix(1,0,0,1,1265.8955223880596,626.8367346938776) translate(83.525 47.1)\"/></g><defs><path fill=\"#666\" d=\"M137 0h-34L2-248h35l83 218 83-218h36\" id=\"C\"/><path fill=\"#666\" d=\"M100-194c62-1 85 37 85 99 1 63-27 99-86 99S16-35 15-95c0-66 28-99 85-99zM99-20c44 1 53-31 53-75 0-43-8-75-51-75s-53 32-53 75 10 74 51 75\" id=\"D\"/><path fill=\"#666\" d=\"M114-163C36-179 61-72 57 0H25l-1-190h30c1 12-1 29 2 39 6-27 23-49 58-41v29\" id=\"E\"/><path fill=\"#666\" d=\"M24 0v-261h32V0H24\" id=\"F\"/><path fill=\"#666\" d=\"M100-194c63 0 86 42 84 106H49c0 40 14 67 53 68 26 1 43-12 49-29l28 8c-11 28-37 45-77 45C44 4 14-33 15-96c1-61 26-98 85-98zm52 81c6-60-76-77-97-28-3 7-6 17-6 28h103\" id=\"G\"/><path fill=\"#666\" d=\"M135-143c-3-34-86-38-87 0 15 53 115 12 119 90S17 21 10-45l28-5c4 36 97 45 98 0-10-56-113-15-118-90-4-57 82-63 122-42 12 7 21 19 24 35\" id=\"H\"/><path fill=\"#666\" d=\"M84 4C-5 8 30-112 23-190h32v120c0 31 7 50 39 49 72-2 45-101 50-169h31l1 190h-30c-1-10 1-25-2-33-11 22-28 36-60 37\" id=\"I\"/><path fill=\"#666\" d=\"M117-194c89-4 53 116 60 194h-32v-121c0-31-8-49-39-48C34-167 62-67 57 0H25l-1-190h30c1 10-1 24 2 32 11-22 29-35 61-36\" id=\"J\"/><path fill=\"#666\" d=\"M177-190C167-65 218 103 67 71c-23-6-38-20-44-43l32-5c15 47 100 32 89-28v-30C133-14 115 1 83 1 29 1 15-40 15-95c0-56 16-97 71-98 29-1 48 16 59 35 1-10 0-23 2-32h30zM94-22c36 0 50-32 50-73 0-42-14-75-50-75-39 0-46 34-46 75s6 73 46 73\" id=\"K\"/><g id=\"a\"><use transform=\"matrix(0.05,0,0,0.05,0,0)\" xlink:href=\"#C\"/><use transform=\"matrix(0.05,0,0,0.05,11,0)\" xlink:href=\"#D\"/><use transform=\"matrix(0.05,0,0,0.05,21,0)\" xlink:href=\"#E\"/><use transform=\"matrix(0.05,0,0,0.05,26.950000000000003,0)\" xlink:href=\"#F\"/><use transform=\"matrix(0.05,0,0,0.05,30.899999999999995,0)\" xlink:href=\"#G\"/><use transform=\"matrix(0.05,0,0,0.05,40.9,0)\" xlink:href=\"#H\"/><use transform=\"matrix(0.05,0,0,0.05,49.9,0)\" xlink:href=\"#I\"/><use transform=\"matrix(0.05,0,0,0.05,59.900000000000006,0)\" xlink:href=\"#J\"/><use transform=\"matrix(0.05,0,0,0.05,69.9,0)\" xlink:href=\"#K\"/></g><path fill=\"#666\" d=\"M33 0v-248h34V0H33\" id=\"L\"/><path fill=\"#666\" d=\"M30-248c118-7 216 8 213 122C240-48 200 0 122 0H30v-248zM63-27c89 8 146-16 146-99s-60-101-146-95v194\" id=\"M\"/><g id=\"b\"><use transform=\"matrix(0.05,0,0,0.05,0,0)\" xlink:href=\"#C\"/><use transform=\"matrix(0.05,0,0,0.05,11,0)\" xlink:href=\"#D\"/><use transform=\"matrix(0.05,0,0,0.05,21,0)\" xlink:href=\"#E\"/><use transform=\"matrix(0.05,0,0,0.05,26.950000000000003,0)\" xlink:href=\"#F\"/><use transform=\"matrix(0.05,0,0,0.05,30.899999999999995,0)\" xlink:href=\"#G\"/><use transform=\"matrix(0.05,0,0,0.05,40.9,0)\" xlink:href=\"#H\"/><use transform=\"matrix(0.05,0,0,0.05,49.9,0)\" xlink:href=\"#I\"/><use transform=\"matrix(0.05,0,0,0.05,59.900000000000006,0)\" xlink:href=\"#J\"/><use transform=\"matrix(0.05,0,0,0.05,69.9,0)\" xlink:href=\"#K\"/><use transform=\"matrix(0.05,0,0,0.05,79.9,0)\" xlink:href=\"#L\"/><use transform=\"matrix(0.05,0,0,0.05,84.9,0)\" xlink:href=\"#M\"/></g><path fill=\"#666\" d=\"M127-220V0H93v-220H8v-28h204v28h-85\" id=\"N\"/><path fill=\"#666\" d=\"M24-231v-30h32v30H24zM24 0v-190h32V0H24\" id=\"O\"/><path fill=\"#666\" d=\"M59-47c-2 24 18 29 38 22v24C64 9 27 4 27-40v-127H5v-23h24l9-43h21v43h35v23H59v120\" id=\"P\"/><g id=\"c\"><use transform=\"matrix(0.05,0,0,0.05,0,0)\" xlink:href=\"#N\"/><use transform=\"matrix(0.05,0,0,0.05,10.3,0)\" xlink:href=\"#O\"/><use transform=\"matrix(0.05,0,0,0.05,14.25,0)\" xlink:href=\"#P\"/><use transform=\"matrix(0.05,0,0,0.05,19.25,0)\" xlink:href=\"#G\"/><use transform=\"matrix(0.05,0,0,0.05,29.25,0)\" xlink:href=\"#F\"/></g><path fill=\"#666\" d=\"M185-189c-5-48-123-54-124 2 14 75 158 14 163 119 3 78-121 87-175 55-17-10-28-26-33-46l33-7c5 56 141 63 141-1 0-78-155-14-162-118-5-82 145-84 179-34 5 7 8 16 11 25\" id=\"Q\"/><path fill=\"#666\" d=\"M85-194c31 0 48 13 60 33l-1-100h32l1 261h-30c-2-10 0-23-3-31C134-8 116 4 85 4 32 4 16-35 15-94c0-66 23-100 70-100zm9 24c-40 0-46 34-46 75 0 40 6 74 45 74 42 0 51-32 51-76 0-42-9-74-50-73\" id=\"R\"/><g id=\"d\"><use transform=\"matrix(0.05,0,0,0.05,0,0)\" xlink:href=\"#Q\"/><use transform=\"matrix(0.05,0,0,0.05,12,0)\" xlink:href=\"#P\"/><use transform=\"matrix(0.05,0,0,0.05,17,0)\" xlink:href=\"#I\"/><use transform=\"matrix(0.05,0,0,0.05,27,0)\" xlink:href=\"#R\"/><use transform=\"matrix(0.05,0,0,0.05,37,0)\" xlink:href=\"#G\"/><use transform=\"matrix(0.05,0,0,0.05,47,0)\" xlink:href=\"#J\"/><use transform=\"matrix(0.05,0,0,0.05,57,0)\" xlink:href=\"#P\"/></g><path fill=\"#666\" d=\"M30-248c87 1 191-15 191 75 0 78-77 80-158 76V0H30v-248zm33 125c57 0 124 11 124-50 0-59-68-47-124-48v98\" id=\"S\"/><path fill=\"#666\" d=\"M101-234c-31-9-42 10-38 44h38v23H63V0H32v-167H5v-23h27c-7-52 17-82 69-68v24\" id=\"T\"/><g id=\"e\"><use transform=\"matrix(0.05,0,0,0.05,0,0)\" xlink:href=\"#S\"/><use transform=\"matrix(0.05,0,0,0.05,12,0)\" xlink:href=\"#E\"/><use transform=\"matrix(0.05,0,0,0.05,17.95,0)\" xlink:href=\"#D\"/><use transform=\"matrix(0.05,0,0,0.05,27.950000000000003,0)\" xlink:href=\"#T\"/><use transform=\"matrix(0.05,0,0,0.05,32.95,0)\" xlink:href=\"#G\"/><use transform=\"matrix(0.05,0,0,0.05,42.95,0)\" xlink:href=\"#H\"/><use transform=\"matrix(0.05,0,0,0.05,51.95,0)\" xlink:href=\"#H\"/><use transform=\"matrix(0.05,0,0,0.05,60.95,0)\" xlink:href=\"#D\"/><use transform=\"matrix(0.05,0,0,0.05,70.95,0)\" xlink:href=\"#E\"/></g><path fill=\"#666\" d=\"M233-177c-1 41-23 64-60 70L243 0h-38l-65-103H63V0H30v-248c88 3 205-21 203 71zM63-129c60-2 137 13 137-47 0-61-80-42-137-45v92\" id=\"U\"/><path fill=\"#666\" d=\"M141-36C126-15 110 5 73 4 37 3 15-17 15-53c-1-64 63-63 125-63 3-35-9-54-41-54-24 1-41 7-42 31l-33-3c5-37 33-52 76-52 45 0 72 20 72 64v82c-1 20 7 32 28 27v20c-31 9-61-2-59-35zM48-53c0 20 12 33 32 33 41-3 63-29 60-74-43 2-92-5-92 41\" id=\"V\"/><path fill=\"#666\" d=\"M210-169c-67 3-38 105-44 169h-31v-121c0-29-5-50-35-48C34-165 62-65 56 0H25l-1-190h30c1 10-1 24 2 32 10-44 99-50 107 0 11-21 27-35 58-36 85-2 47 119 55 194h-31v-121c0-29-5-49-35-48\" id=\"W\"/><g id=\"f\"><use transform=\"matrix(0.05,0,0,0.05,0,0)\" xlink:href=\"#U\"/><use transform=\"matrix(0.05,0,0,0.05,12.950000000000001,0)\" xlink:href=\"#V\"/><use transform=\"matrix(0.05,0,0,0.05,22.950000000000003,0)\" xlink:href=\"#I\"/><use transform=\"matrix(0.05,0,0,0.05,32.95,0)\" xlink:href=\"#W\"/></g><path fill=\"#666\" d=\"M143 4C61 4 22-44 18-125c-5-107 100-154 193-111 17 8 29 25 37 43l-32 9c-13-25-37-40-76-40-61 0-88 39-88 99 0 61 29 100 91 101 35 0 62-11 79-27v-45h-74v-28h105v86C228-13 192 4 143 4\" id=\"X\"/><path fill=\"#666\" d=\"M115-194c53 0 69 39 70 98 0 66-23 100-70 100C84 3 66-7 56-30L54 0H23l1-261h32v101c10-23 28-34 59-34zm-8 174c40 0 45-34 45-75 0-40-5-75-45-74-42 0-51 32-51 76 0 43 10 73 51 73\" id=\"Y\"/><g id=\"g\"><use transform=\"matrix(0.05,0,0,0.05,0,0)\" xlink:href=\"#X\"/><use transform=\"matrix(0.05,0,0,0.05,14,0)\" xlink:href=\"#G\"/><use transform=\"matrix(0.05,0,0,0.05,24,0)\" xlink:href=\"#Y\"/><use transform=\"matrix(0.05,0,0,0.05,34,0)\" xlink:href=\"#I\"/><use transform=\"matrix(0.05,0,0,0.05,44,0)\" xlink:href=\"#E\"/><use transform=\"matrix(0.05,0,0,0.05,49.95,0)\" xlink:href=\"#P\"/><use transform=\"matrix(0.05,0,0,0.05,54.95,0)\" xlink:href=\"#H\"/><use transform=\"matrix(0.05,0,0,0.05,63.95,0)\" xlink:href=\"#R\"/><use transform=\"matrix(0.05,0,0,0.05,73.95,0)\" xlink:href=\"#V\"/><use transform=\"matrix(0.05,0,0,0.05,83.95,0)\" xlink:href=\"#P\"/><use transform=\"matrix(0.05,0,0,0.05,88.95,0)\" xlink:href=\"#I\"/><use transform=\"matrix(0.05,0,0,0.05,98.95,0)\" xlink:href=\"#W\"/></g><g id=\"h\"><use transform=\"matrix(0.05,0,0,0.05,0,0)\" xlink:href=\"#C\"/><use transform=\"matrix(0.05,0,0,0.05,11,0)\" xlink:href=\"#D\"/><use transform=\"matrix(0.05,0,0,0.05,21,0)\" xlink:href=\"#E\"/><use transform=\"matrix(0.05,0,0,0.05,26.950000000000003,0)\" xlink:href=\"#J\"/><use transform=\"matrix(0.05,0,0,0.05,36.95,0)\" xlink:href=\"#V\"/><use transform=\"matrix(0.05,0,0,0.05,46.95,0)\" xlink:href=\"#W\"/><use transform=\"matrix(0.05,0,0,0.05,61.900000000000006,0)\" xlink:href=\"#G\"/></g><path fill=\"#666\" d=\"M190 0L58-211 59 0H30v-248h39L202-35l-2-213h31V0h-41\" id=\"Z\"/><path fill=\"#666\" d=\"M96-169c-40 0-48 33-48 73s9 75 48 75c24 0 41-14 43-38l32 2c-6 37-31 61-74 61-59 0-76-41-82-99-10-93 101-131 147-64 4 7 5 14 7 22l-32 3c-4-21-16-35-41-35\" id=\"aa\"/><path fill=\"#666\" d=\"M106-169C34-169 62-67 57 0H25v-261h32l-1 103c12-21 28-36 61-36 89 0 53 116 60 194h-32v-121c2-32-8-49-39-48\" id=\"ab\"/><g id=\"i\"><use transform=\"matrix(0.05,0,0,0.05,0,0)\" xlink:href=\"#Z\"/><use transform=\"matrix(0.05,0,0,0.05,12.950000000000001,0)\" xlink:href=\"#V\"/><use transform=\"matrix(0.05,0,0,0.05,22.950000000000003,0)\" xlink:href=\"#aa\"/><use transform=\"matrix(0.05,0,0,0.05,31.950000000000003,0)\" xlink:href=\"#ab\"/><use transform=\"matrix(0.05,0,0,0.05,41.95,0)\" xlink:href=\"#J\"/><use transform=\"matrix(0.05,0,0,0.05,51.95,0)\" xlink:href=\"#V\"/><use transform=\"matrix(0.05,0,0,0.05,61.95,0)\" xlink:href=\"#W\"/><use transform=\"matrix(0.05,0,0,0.05,76.9,0)\" xlink:href=\"#G\"/></g><g id=\"j\"><use transform=\"matrix(0.05,0,0,0.05,0,0)\" xlink:href=\"#Q\"/><use transform=\"matrix(0.05,0,0,0.05,12,0)\" xlink:href=\"#P\"/><use transform=\"matrix(0.05,0,0,0.05,17,0)\" xlink:href=\"#I\"/><use transform=\"matrix(0.05,0,0,0.05,27,0)\" xlink:href=\"#R\"/><use transform=\"matrix(0.05,0,0,0.05,37,0)\" xlink:href=\"#O\"/><use transform=\"matrix(0.05,0,0,0.05,40.95,0)\" xlink:href=\"#G\"/><use transform=\"matrix(0.05,0,0,0.05,50.95,0)\" xlink:href=\"#J\"/><use transform=\"matrix(0.05,0,0,0.05,60.95,0)\" xlink:href=\"#Y\"/><use transform=\"matrix(0.05,0,0,0.05,70.95,0)\" xlink:href=\"#G\"/><use transform=\"matrix(0.05,0,0,0.05,80.95,0)\" xlink:href=\"#K\"/><use transform=\"matrix(0.05,0,0,0.05,90.95,0)\" xlink:href=\"#O\"/><use transform=\"matrix(0.05,0,0,0.05,94.9,0)\" xlink:href=\"#J\"/></g><path fill=\"#666\" d=\"M240 0l2-218c-23 76-54 145-80 218h-23L58-218 59 0H30v-248h44l77 211c21-75 51-140 76-211h43V0h-30\" id=\"ac\"/><path fill=\"#666\" d=\"M143 0L79-87 56-68V0H24v-261h32v163l83-92h37l-77 82L181 0h-38\" id=\"ad\"/><g id=\"k\"><use transform=\"matrix(0.05,0,0,0.05,0,0)\" xlink:href=\"#ac\"/><use transform=\"matrix(0.05,0,0,0.05,14.950000000000001,0)\" xlink:href=\"#V\"/><use transform=\"matrix(0.05,0,0,0.05,24.950000000000003,0)\" xlink:href=\"#P\"/><use transform=\"matrix(0.05,0,0,0.05,29.950000000000003,0)\" xlink:href=\"#E\"/><use transform=\"matrix(0.05,0,0,0.05,35.900000000000006,0)\" xlink:href=\"#O\"/><use transform=\"matrix(0.05,0,0,0.05,39.85000000000001,0)\" xlink:href=\"#ad\"/><use transform=\"matrix(0.05,0,0,0.05,48.85000000000001,0)\" xlink:href=\"#G\"/><use transform=\"matrix(0.05,0,0,0.05,58.85,0)\" xlink:href=\"#F\"/><use transform=\"matrix(0.05,0,0,0.05,62.80000000000001,0)\" xlink:href=\"#L\"/><use transform=\"matrix(0.05,0,0,0.05,67.80000000000001,0)\" xlink:href=\"#M\"/></g><path fill=\"#666\" d=\"M205 0l-28-72H64L36 0H1l101-248h38L239 0h-34zm-38-99l-47-123c-12 45-31 82-46 123h93\" id=\"ae\"/><g id=\"l\"><use transform=\"matrix(0.05,0,0,0.05,0,0)\" xlink:href=\"#ae\"/><use transform=\"matrix(0.05,0,0,0.05,12,0)\" xlink:href=\"#H\"/><use transform=\"matrix(0.05,0,0,0.05,21,0)\" xlink:href=\"#O\"/><use transform=\"matrix(0.05,0,0,0.05,24.95,0)\" xlink:href=\"#H\"/><use transform=\"matrix(0.05,0,0,0.05,33.95,0)\" xlink:href=\"#P\"/><use transform=\"matrix(0.05,0,0,0.05,38.95,0)\" xlink:href=\"#G\"/><use transform=\"matrix(0.05,0,0,0.05,48.95,0)\" xlink:href=\"#J\"/><use transform=\"matrix(0.05,0,0,0.05,58.95,0)\" xlink:href=\"#P\"/><use transform=\"matrix(0.05,0,0,0.05,63.95,0)\" xlink:href=\"#G\"/><use transform=\"matrix(0.05,0,0,0.05,73.95,0)\" xlink:href=\"#J\"/></g><g id=\"m\"><use transform=\"matrix(0.05,0,0,0.05,0,0)\" xlink:href=\"#ae\"/><use transform=\"matrix(0.05,0,0,0.05,12,0)\" xlink:href=\"#H\"/><use transform=\"matrix(0.05,0,0,0.05,21,0)\" xlink:href=\"#H\"/><use transform=\"matrix(0.05,0,0,0.05,30,0)\" xlink:href=\"#O\"/><use transform=\"matrix(0.05,0,0,0.05,33.95,0)\" xlink:href=\"#H\"/><use transform=\"matrix(0.05,0,0,0.05,42.95,0)\" xlink:href=\"#P\"/><use transform=\"matrix(0.05,0,0,0.05,47.95,0)\" xlink:href=\"#G\"/><use transform=\"matrix(0.05,0,0,0.05,57.95,0)\" xlink:href=\"#J\"/><use transform=\"matrix(0.05,0,0,0.05,67.95,0)\" xlink:href=\"#P\"/><use transform=\"matrix(0.05,0,0,0.05,72.95,0)\" xlink:href=\"#L\"/><use transform=\"matrix(0.05,0,0,0.05,77.95,0)\" xlink:href=\"#M\"/></g><path fill=\"#666\" d=\"M197 0v-115H63V0H30v-248h33v105h134v-105h34V0h-34\" id=\"af\"/><g id=\"n\"><use transform=\"matrix(0.05,0,0,0.05,0,0)\" xlink:href=\"#af\"/><use transform=\"matrix(0.05,0,0,0.05,12.950000000000001,0)\" xlink:href=\"#V\"/><use transform=\"matrix(0.05,0,0,0.05,22.950000000000003,0)\" xlink:href=\"#P\"/></g><g id=\"o\"><use transform=\"matrix(0.05,0,0,0.05,0,0)\" xlink:href=\"#G\"/><use transform=\"matrix(0.05,0,0,0.05,10,0)\" xlink:href=\"#O\"/><use transform=\"matrix(0.05,0,0,0.05,13.949999999999998,0)\" xlink:href=\"#J\"/></g><path fill=\"#666\" d=\"M85 4C-4 8 31-112 24-190h32v120c0 31 7 50 39 49 72-2 45-101 50-169h31l1 190h-30c-1-10 1-25-2-33-11 22-28 36-60 37zm34-218v-33h29v33h-29zm-69 0v-33h29v33H50\" id=\"ag\"/><g id=\"p\"><use transform=\"matrix(0.05,0,0,0.05,0,0)\" xlink:href=\"#S\"/><use transform=\"matrix(0.05,0,0,0.05,12,0)\" xlink:href=\"#E\"/><use transform=\"matrix(0.05,0,0,0.05,17.95,0)\" xlink:href=\"#ag\"/><use transform=\"matrix(0.05,0,0,0.05,27.950000000000003,0)\" xlink:href=\"#T\"/><use transform=\"matrix(0.05,0,0,0.05,32.95,0)\" xlink:href=\"#I\"/><use transform=\"matrix(0.05,0,0,0.05,42.95,0)\" xlink:href=\"#J\"/><use transform=\"matrix(0.05,0,0,0.05,52.95,0)\" xlink:href=\"#K\"/></g><g id=\"q\"><use transform=\"matrix(0.05,0,0,0.05,0,0)\" xlink:href=\"#S\"/><use transform=\"matrix(0.05,0,0,0.05,12,0)\" xlink:href=\"#E\"/><use transform=\"matrix(0.05,0,0,0.05,17.95,0)\" xlink:href=\"#ag\"/><use transform=\"matrix(0.05,0,0,0.05,27.950000000000003,0)\" xlink:href=\"#T\"/><use transform=\"matrix(0.05,0,0,0.05,32.95,0)\" xlink:href=\"#I\"/><use transform=\"matrix(0.05,0,0,0.05,42.95,0)\" xlink:href=\"#J\"/><use transform=\"matrix(0.05,0,0,0.05,52.95,0)\" xlink:href=\"#K\"/><use transform=\"matrix(0.05,0,0,0.05,62.95,0)\" xlink:href=\"#H\"/><use transform=\"matrix(0.05,0,0,0.05,71.95,0)\" xlink:href=\"#L\"/><use transform=\"matrix(0.05,0,0,0.05,76.95,0)\" xlink:href=\"#M\"/></g><g id=\"r\"><use transform=\"matrix(0.05,0,0,0.05,0,0)\" xlink:href=\"#N\"/><use transform=\"matrix(0.05,0,0,0.05,8.950000000000001,0)\" xlink:href=\"#G\"/><use transform=\"matrix(0.05,0,0,0.05,18.950000000000003,0)\" xlink:href=\"#E\"/><use transform=\"matrix(0.05,0,0,0.05,24.900000000000002,0)\" xlink:href=\"#W\"/><use transform=\"matrix(0.05,0,0,0.05,39.85,0)\" xlink:href=\"#O\"/><use transform=\"matrix(0.05,0,0,0.05,43.800000000000004,0)\" xlink:href=\"#J\"/></g><g id=\"s\"><use transform=\"matrix(0.05,0,0,0.05,0,0)\" xlink:href=\"#Z\"/><use transform=\"matrix(0.05,0,0,0.05,12.950000000000001,0)\" xlink:href=\"#D\"/><use transform=\"matrix(0.05,0,0,0.05,22.950000000000003,0)\" xlink:href=\"#P\"/><use transform=\"matrix(0.05,0,0,0.05,27.950000000000003,0)\" xlink:href=\"#G\"/></g><path fill=\"#666\" d=\"M141-36C126-15 110 5 73 4 37 3 15-17 15-53c-1-64 63-63 125-63 3-35-9-54-41-54-24 1-41 7-42 31l-33-3c5-37 33-52 76-52 45 0 72 20 72 64v82c-1 20 7 32 28 27v20c-31 9-61-2-59-35zM48-53c0 20 12 33 32 33 41-3 63-29 60-74-43 2-92-5-92 41zm70-161v-33h29v33h-29zm-69 0v-33h29v33H49\" id=\"ah\"/><g id=\"t\"><use transform=\"matrix(0.05,0,0,0.05,0,0)\" xlink:href=\"#ab\"/><use transform=\"matrix(0.05,0,0,0.05,10,0)\" xlink:href=\"#ah\"/><use transform=\"matrix(0.05,0,0,0.05,20,0)\" xlink:href=\"#F\"/><use transform=\"matrix(0.05,0,0,0.05,23.95,0)\" xlink:href=\"#P\"/></g><path fill=\"#666\" d=\"M266 0h-40l-56-210L115 0H75L2-248h35L96-30l15-64 43-154h32l59 218 59-218h35\" id=\"ai\"/><g id=\"u\"><use transform=\"matrix(0.05,0,0,0.05,0,0)\" xlink:href=\"#ai\"/><use transform=\"matrix(0.05,0,0,0.05,16.95,0)\" xlink:href=\"#O\"/><use transform=\"matrix(0.05,0,0,0.05,20.9,0)\" xlink:href=\"#E\"/><use transform=\"matrix(0.05,0,0,0.05,26.849999999999994,0)\" xlink:href=\"#R\"/></g><g id=\"v\"><use transform=\"matrix(0.05,0,0,0.05,0,0)\" xlink:href=\"#Y\"/><use transform=\"matrix(0.05,0,0,0.05,10,0)\" xlink:href=\"#G\"/><use transform=\"matrix(0.05,0,0,0.05,20,0)\" xlink:href=\"#H\"/><use transform=\"matrix(0.05,0,0,0.05,29,0)\" xlink:href=\"#I\"/><use transform=\"matrix(0.05,0,0,0.05,39,0)\" xlink:href=\"#aa\"/><use transform=\"matrix(0.05,0,0,0.05,48,0)\" xlink:href=\"#ab\"/><use transform=\"matrix(0.05,0,0,0.05,58,0)\" xlink:href=\"#P\"/></g><path fill=\"#666\" d=\"M108 0H70L1-190h34L89-25l56-165h34\" id=\"aj\"/><g id=\"w\"><use transform=\"matrix(0.05,0,0,0.05,0,0)\" xlink:href=\"#aj\"/><use transform=\"matrix(0.05,0,0,0.05,9,0)\" xlink:href=\"#D\"/><use transform=\"matrix(0.05,0,0,0.05,19,0)\" xlink:href=\"#J\"/></g><g id=\"x\"><use transform=\"matrix(0.05,0,0,0.05,0,0)\" xlink:href=\"#Y\"/><use transform=\"matrix(0.05,0,0,0.05,10,0)\" xlink:href=\"#G\"/><use transform=\"matrix(0.05,0,0,0.05,20,0)\" xlink:href=\"#V\"/><use transform=\"matrix(0.05,0,0,0.05,30,0)\" xlink:href=\"#I\"/><use transform=\"matrix(0.05,0,0,0.05,40,0)\" xlink:href=\"#T\"/><use transform=\"matrix(0.05,0,0,0.05,45,0)\" xlink:href=\"#H\"/><use transform=\"matrix(0.05,0,0,0.05,54,0)\" xlink:href=\"#O\"/><use transform=\"matrix(0.05,0,0,0.05,57.95,0)\" xlink:href=\"#aa\"/><use transform=\"matrix(0.05,0,0,0.05,66.95,0)\" xlink:href=\"#ab\"/><use transform=\"matrix(0.05,0,0,0.05,76.95,0)\" xlink:href=\"#P\"/><use transform=\"matrix(0.05,0,0,0.05,81.95,0)\" xlink:href=\"#O\"/><use transform=\"matrix(0.05,0,0,0.05,85.9,0)\" xlink:href=\"#K\"/><use transform=\"matrix(0.05,0,0,0.05,95.9,0)\" xlink:href=\"#P\"/></g><g id=\"y\"><use transform=\"matrix(0.05,0,0,0.05,0,0)\" xlink:href=\"#ab\"/><use transform=\"matrix(0.05,0,0,0.05,10,0)\" xlink:href=\"#V\"/><use transform=\"matrix(0.05,0,0,0.05,20,0)\" xlink:href=\"#P\"/></g><g id=\"z\"><use transform=\"matrix(0.05,0,0,0.05,0,0)\" xlink:href=\"#H\"/><use transform=\"matrix(0.05,0,0,0.05,9,0)\" xlink:href=\"#aa\"/><use transform=\"matrix(0.05,0,0,0.05,18,0)\" xlink:href=\"#ab\"/><use transform=\"matrix(0.05,0,0,0.05,28,0)\" xlink:href=\"#E\"/><use transform=\"matrix(0.05,0,0,0.05,33.95,0)\" xlink:href=\"#G\"/><use transform=\"matrix(0.05,0,0,0.05,43.95,0)\" xlink:href=\"#O\"/><use transform=\"matrix(0.05,0,0,0.05,47.900000000000006,0)\" xlink:href=\"#Y\"/><use transform=\"matrix(0.05,0,0,0.05,57.900000000000006,0)\" xlink:href=\"#P\"/></g><path fill=\"#666\" d=\"M9 0v-24l116-142H16v-24h144v24L44-24h123V0H9\" id=\"ak\"/><g id=\"A\"><use transform=\"matrix(0.05,0,0,0.05,0,0)\" xlink:href=\"#Q\"/><use transform=\"matrix(0.05,0,0,0.05,12,0)\" xlink:href=\"#G\"/><use transform=\"matrix(0.05,0,0,0.05,22,0)\" xlink:href=\"#P\"/><use transform=\"matrix(0.05,0,0,0.05,27,0)\" xlink:href=\"#ak\"/><use transform=\"matrix(0.05,0,0,0.05,36,0)\" xlink:href=\"#P\"/></g><g id=\"B\"><use transform=\"matrix(0.05,0,0,0.05,0,0)\" xlink:href=\"#C\"/><use transform=\"matrix(0.05,0,0,0.05,11,0)\" xlink:href=\"#D\"/><use transform=\"matrix(0.05,0,0,0.05,21,0)\" xlink:href=\"#E\"/><use transform=\"matrix(0.05,0,0,0.05,26.950000000000003,0)\" xlink:href=\"#V\"/><use transform=\"matrix(0.05,0,0,0.05,36.95,0)\" xlink:href=\"#I\"/><use transform=\"matrix(0.05,0,0,0.05,46.95,0)\" xlink:href=\"#H\"/></g></defs></g></svg>"
            ],
            "metadata": {
                "azdata_cell_guid": "ae4933e7-e0d6-473f-ab22-a2b4d2d4e598",
                "language": "sql"
            },
            "outputs": [],
            "execution_count": null
        },
        {
            "cell_type": "code",
            "source": [
                "<?xml version=\"1.0\" encoding=\"UTF-8\"?>\r\n",
                "<?xml-stylesheet href=\"https://cdnjs.cloudflare.com/ajax/libs/font-awesome/6.6.0/css/all.min.css\" type=\"text/css\"?>\r\n",
                "<svg aria-roledescription=\"er\" role=\"graphics-document document\" viewBox=\"-134.95758056640625 0 691.1280517578125 862.6666870117188\" style=\"max-width: 100%;\" xmlns=\"http://www.w3.org/2000/svg\" width=\"100%\" id=\"graph-div\" height=\"100%\" xmlns:xlink=\"http://www.w3.org/1999/xlink\"><style>#graph-div{font-family:\"trebuchet ms\",verdana,arial,sans-serif;font-size:16px;fill:#ccc;}#graph-div .error-icon{fill:#a44141;}#graph-div .error-text{fill:#ddd;stroke:#ddd;}#graph-div .edge-thickness-normal{stroke-width:1px;}#graph-div .edge-thickness-thick{stroke-width:3.5px;}#graph-div .edge-pattern-solid{stroke-dasharray:0;}#graph-div .edge-thickness-invisible{stroke-width:0;fill:none;}#graph-div .edge-pattern-dashed{stroke-dasharray:3;}#graph-div .edge-pattern-dotted{stroke-dasharray:2;}#graph-div .marker{fill:lightgrey;stroke:lightgrey;}#graph-div .marker.cross{stroke:lightgrey;}#graph-div svg{font-family:\"trebuchet ms\",verdana,arial,sans-serif;font-size:16px;}#graph-div p{margin:0;}#graph-div .entityBox{fill:#1f2020;stroke:#ccc;}#graph-div .attributeBoxOdd{fill:hsl(0, 0%, 32%);stroke:#ccc;}#graph-div .attributeBoxEven{fill:hsl(0, 0%, 22%);stroke:#ccc;}#graph-div .relationshipLabelBox{fill:hsl(20, 1.5873015873%, 12.3529411765%);opacity:0.7;background-color:hsl(20, 1.5873015873%, 12.3529411765%);}#graph-div .relationshipLabelBox rect{opacity:0.5;}#graph-div .relationshipLine{stroke:lightgrey;}#graph-div .entityTitleText{text-anchor:middle;font-size:18px;fill:#ccc;}#graph-div #MD_PARENT_START{fill:#f5f5f5!important;stroke:lightgrey!important;stroke-width:1;}#graph-div #MD_PARENT_END{fill:#f5f5f5!important;stroke:lightgrey!important;stroke-width:1;}#graph-div :root{--mermaid-font-family:\"trebuchet ms\",verdana,arial,sans-serif;}</style><g></g><defs><marker orient=\"auto\" markerHeight=\"240\" markerWidth=\"190\" refY=\"7\" refX=\"0\" id=\"MD_PARENT_START\"><path d=\"M 18,7 L9,13 L1,7 L9,1 Z\"></path></marker></defs><defs><marker orient=\"auto\" markerHeight=\"28\" markerWidth=\"20\" refY=\"7\" refX=\"19\" id=\"MD_PARENT_END\"><path d=\"M 18,7 L9,13 L1,7 L9,1 Z\"></path></marker></defs><defs><marker orient=\"auto\" markerHeight=\"18\" markerWidth=\"18\" refY=\"9\" refX=\"0\" id=\"ONLY_ONE_START\"><path d=\"M9,0 L9,18 M15,0 L15,18\" fill=\"none\" stroke=\"gray\"></path></marker></defs><defs><marker orient=\"auto\" markerHeight=\"18\" markerWidth=\"18\" refY=\"9\" refX=\"18\" id=\"ONLY_ONE_END\"><path d=\"M3,0 L3,18 M9,0 L9,18\" fill=\"none\" stroke=\"gray\"></path></marker></defs><defs><marker orient=\"auto\" markerHeight=\"18\" markerWidth=\"30\" refY=\"9\" refX=\"0\" id=\"ZERO_OR_ONE_START\"><circle r=\"6\" cy=\"9\" cx=\"21\" fill=\"white\" stroke=\"gray\"></circle><path d=\"M9,0 L9,18\" fill=\"none\" stroke=\"gray\"></path></marker></defs><defs><marker orient=\"auto\" markerHeight=\"18\" markerWidth=\"30\" refY=\"9\" refX=\"30\" id=\"ZERO_OR_ONE_END\"><circle r=\"6\" cy=\"9\" cx=\"9\" fill=\"white\" stroke=\"gray\"></circle><path d=\"M21,0 L21,18\" fill=\"none\" stroke=\"gray\"></path></marker></defs><defs><marker orient=\"auto\" markerHeight=\"36\" markerWidth=\"45\" refY=\"18\" refX=\"18\" id=\"ONE_OR_MORE_START\"><path d=\"M0,18 Q 18,0 36,18 Q 18,36 0,18 M42,9 L42,27\" fill=\"none\" stroke=\"gray\"></path></marker></defs><defs><marker orient=\"auto\" markerHeight=\"36\" markerWidth=\"45\" refY=\"18\" refX=\"27\" id=\"ONE_OR_MORE_END\"><path d=\"M3,9 L3,27 M9,18 Q27,0 45,18 Q27,36 9,18\" fill=\"none\" stroke=\"gray\"></path></marker></defs><defs><marker orient=\"auto\" markerHeight=\"36\" markerWidth=\"57\" refY=\"18\" refX=\"18\" id=\"ZERO_OR_MORE_START\"><circle r=\"6\" cy=\"18\" cx=\"48\" fill=\"white\" stroke=\"gray\"></circle><path d=\"M0,18 Q18,0 36,18 Q18,36 0,18\" fill=\"none\" stroke=\"gray\"></path></marker></defs><defs><marker orient=\"auto\" markerHeight=\"36\" markerWidth=\"57\" refY=\"18\" refX=\"39\" id=\"ZERO_OR_MORE_END\"><circle r=\"6\" cy=\"18\" cx=\"9\" fill=\"white\" stroke=\"gray\"></circle><path d=\"M21,18 Q39,0 57,18 Q39,36 21,18\" fill=\"none\" stroke=\"gray\"></path></marker></defs><path style=\"stroke: gray; fill: none;\" marker-start=\"url(#ONLY_ONE_START)\" marker-end=\"url(#ZERO_OR_MORE_END)\" d=\"M153.497,118.814L180.694,132.456C207.892,146.098,262.287,173.382,289.485,198.913C316.682,224.444,316.682,248.222,316.682,260.111L316.682,272\" class=\"er relationshipLine\"></path><path style=\"stroke: gray; fill: none;\" marker-start=\"url(#ONLY_ONE_START)\" marker-end=\"url(#ZERO_OR_MORE_END)\" d=\"M86.748,150.667L86.748,159C86.748,167.333,86.748,184,86.748,200.667C86.748,217.333,86.748,234,86.748,242.333L86.748,250.667\" class=\"er relationshipLine\"></path><path style=\"stroke: gray; fill: none;\" marker-start=\"url(#ONLY_ONE_START)\" marker-end=\"url(#ZERO_OR_MORE_END)\" d=\"M20,131.629L3.41,143.135C-13.179,154.642,-46.358,177.654,-62.948,208.383C-79.537,239.111,-79.537,277.556,-79.537,316C-79.537,354.444,-79.537,392.889,-79.537,429.556C-79.537,466.222,-79.537,501.111,-79.537,536C-79.537,570.889,-79.537,605.778,-49.661,638.395C-19.784,671.012,39.969,701.357,69.846,716.529L99.722,731.702\" class=\"er relationshipLine\"></path><path style=\"stroke: gray; fill: none;\" marker-start=\"url(#ONLY_ONE_START)\" marker-end=\"url(#ZERO_OR_MORE_END)\" d=\"M260.178,360L244.911,371.889C229.643,383.778,199.108,407.556,183.84,436.889C168.573,466.222,168.573,501.111,168.573,536C168.573,570.889,168.573,605.778,168.573,631.556C168.573,657.333,168.573,674,168.573,682.333L168.573,690.667\" class=\"er relationshipLine\"></path><path style=\"stroke: gray; fill: none;\" marker-start=\"url(#ONLY_ONE_START)\" marker-end=\"url(#ZERO_OR_MORE_END)\" d=\"M380.331,295.045L391.998,291.205C403.665,287.364,426.998,279.682,441.581,275.841C456.165,272,461.998,272,467.831,279.333C473.665,286.667,479.498,301.333,479.498,316C479.498,330.667,473.665,345.333,467.831,352.667C461.998,360,456.165,360,441.581,356.159C426.998,352.318,403.665,344.636,391.998,340.795L380.331,336.955\" class=\"er relationshipLine\"></path><path style=\"stroke: gray; fill: none;\" marker-start=\"url(#ZERO_OR_MORE_START)\" marker-end=\"url(#ZERO_OR_MORE_END)\" d=\"M348.518,360L357.12,371.889C365.722,383.778,382.926,407.556,391.528,427.778C400.13,448,400.13,464.667,400.13,473L400.13,481.333\" class=\"er relationshipLine\"></path><path style=\"stroke: gray; fill: none;\" marker-start=\"url(#ONLY_ONE_START)\" marker-end=\"url(#ZERO_OR_MORE_END)\" d=\"M400.13,590.667L400.13,599C400.13,607.333,400.13,624,373.012,647.089C345.894,670.179,291.659,699.69,264.541,714.446L237.423,729.202\" class=\"er relationshipLine\"></path><g transform=\"translate(20,20 )\" id=\"entity-PROFESSOR-f29511f2-c470-53d9-ab92-870afa93aab7\"><rect height=\"130.66666984558105\" width=\"133.49662971496582\" y=\"0\" x=\"0\" class=\"er entityBox\"></rect><text transform=\"translate(66.74831485748291,12)\" style=\"dominant-baseline: middle; text-anchor: middle; font-size: 12px;\" y=\"0\" x=\"0\" id=\"text-entity-PROFESSOR-f29511f2-c470-53d9-ab92-870afa93aab7\" class=\"er entityLabel\">PROFESSOR</text><rect height=\"21.33333396911621\" width=\"35.9389762878418\" y=\"24\" x=\"0\" class=\"er attributeBoxOdd\"></rect><text transform=\"translate(5,34.666666984558105)\" style=\"dominant-baseline: middle; font-size: 10.2px;\" y=\"0\" x=\"0\" id=\"text-entity-PROFESSOR-f29511f2-c470-53d9-ab92-870afa93aab7-attr-1-type\" class=\"er entityLabel\">int</text><rect height=\"21.33333396911621\" width=\"74.94792175292969\" y=\"24\" x=\"35.9389762878418\" class=\"er attributeBoxOdd\"></rect><text transform=\"translate(40.9389762878418,34.666666984558105)\" style=\"dominant-baseline: middle; font-size: 10.2px;\" y=\"0\" x=\"0\" id=\"text-entity-PROFESSOR-f29511f2-c470-53d9-ab92-870afa93aab7-attr-1-name\" class=\"er entityLabel\">ProfID</text><rect height=\"21.33333396911621\" width=\"22.609731674194336\" y=\"24\" x=\"110.88689804077148\" class=\"er attributeBoxOdd\"></rect><text transform=\"translate(115.88689804077148,34.666666984558105)\" style=\"dominant-baseline: middle; font-size: 10.2px;\" y=\"0\" x=\"0\" id=\"text-entity-PROFESSOR-f29511f2-c470-53d9-ab92-870afa93aab7-attr-1-key\" class=\"er entityLabel\">PK</text><rect height=\"21.33333396911621\" width=\"35.9389762878418\" y=\"45.33333396911621\" x=\"0\" class=\"er attributeBoxEven\"></rect><text transform=\"translate(5,56.000000953674316)\" style=\"dominant-baseline: middle; font-size: 10.2px;\" y=\"0\" x=\"0\" id=\"text-entity-PROFESSOR-f29511f2-c470-53d9-ab92-870afa93aab7-attr-2-type\" class=\"er entityLabel\">string</text><rect height=\"21.33333396911621\" width=\"74.94792175292969\" y=\"45.33333396911621\" x=\"35.9389762878418\" class=\"er attributeBoxEven\"></rect><text transform=\"translate(40.9389762878418,56.000000953674316)\" style=\"dominant-baseline: middle; font-size: 10.2px;\" y=\"0\" x=\"0\" id=\"text-entity-PROFESSOR-f29511f2-c470-53d9-ab92-870afa93aab7-attr-2-name\" class=\"er entityLabel\">Vorname</text><rect height=\"21.33333396911621\" width=\"22.609731674194336\" y=\"45.33333396911621\" x=\"110.88689804077148\" class=\"er attributeBoxEven\"></rect><text transform=\"translate(115.88689804077148,56.000000953674316)\" style=\"dominant-baseline: middle; font-size: 10.2px;\" y=\"0\" x=\"0\" id=\"text-entity-PROFESSOR-f29511f2-c470-53d9-ab92-870afa93aab7-attr-2-key\" class=\"er entityLabel\"></text><rect height=\"21.33333396911621\" width=\"35.9389762878418\" y=\"66.66666793823242\" x=\"0\" class=\"er attributeBoxOdd\"></rect><text transform=\"translate(5,77.33333492279053)\" style=\"dominant-baseline: middle; font-size: 10.2px;\" y=\"0\" x=\"0\" id=\"text-entity-PROFESSOR-f29511f2-c470-53d9-ab92-870afa93aab7-attr-3-type\" class=\"er entityLabel\">string</text><rect height=\"21.33333396911621\" width=\"74.94792175292969\" y=\"66.66666793823242\" x=\"35.9389762878418\" class=\"er attributeBoxOdd\"></rect><text transform=\"translate(40.9389762878418,77.33333492279053)\" style=\"dominant-baseline: middle; font-size: 10.2px;\" y=\"0\" x=\"0\" id=\"text-entity-PROFESSOR-f29511f2-c470-53d9-ab92-870afa93aab7-attr-3-name\" class=\"er entityLabel\">Nachname</text><rect height=\"21.33333396911621\" width=\"22.609731674194336\" y=\"66.66666793823242\" x=\"110.88689804077148\" class=\"er attributeBoxOdd\"></rect><text transform=\"translate(115.88689804077148,77.33333492279053)\" style=\"dominant-baseline: middle; font-size: 10.2px;\" y=\"0\" x=\"0\" id=\"text-entity-PROFESSOR-f29511f2-c470-53d9-ab92-870afa93aab7-attr-3-key\" class=\"er entityLabel\"></text><rect height=\"21.33333396911621\" width=\"35.9389762878418\" y=\"88.00000190734863\" x=\"0\" class=\"er attributeBoxEven\"></rect><text transform=\"translate(5,98.66666889190674)\" style=\"dominant-baseline: middle; font-size: 10.2px;\" y=\"0\" x=\"0\" id=\"text-entity-PROFESSOR-f29511f2-c470-53d9-ab92-870afa93aab7-attr-4-type\" class=\"er entityLabel\">date</text><rect height=\"21.33333396911621\" width=\"74.94792175292969\" y=\"88.00000190734863\" x=\"35.9389762878418\" class=\"er attributeBoxEven\"></rect><text transform=\"translate(40.9389762878418,98.66666889190674)\" style=\"dominant-baseline: middle; font-size: 10.2px;\" y=\"0\" x=\"0\" id=\"text-entity-PROFESSOR-f29511f2-c470-53d9-ab92-870afa93aab7-attr-4-name\" class=\"er entityLabel\">Geburtsdatum</text><rect height=\"21.33333396911621\" width=\"22.609731674194336\" y=\"88.00000190734863\" x=\"110.88689804077148\" class=\"er attributeBoxEven\"></rect><text transform=\"translate(115.88689804077148,98.66666889190674)\" style=\"dominant-baseline: middle; font-size: 10.2px;\" y=\"0\" x=\"0\" id=\"text-entity-PROFESSOR-f29511f2-c470-53d9-ab92-870afa93aab7-attr-4-key\" class=\"er entityLabel\"></text><rect height=\"21.33333396911621\" width=\"35.9389762878418\" y=\"109.33333587646484\" x=\"0\" class=\"er attributeBoxOdd\"></rect><text transform=\"translate(5,120.00000286102295)\" style=\"dominant-baseline: middle; font-size: 10.2px;\" y=\"0\" x=\"0\" id=\"text-entity-PROFESSOR-f29511f2-c470-53d9-ab92-870afa93aab7-attr-5-type\" class=\"er entityLabel\">string</text><rect height=\"21.33333396911621\" width=\"74.94792175292969\" y=\"109.33333587646484\" x=\"35.9389762878418\" class=\"er attributeBoxOdd\"></rect><text transform=\"translate(40.9389762878418,120.00000286102295)\" style=\"dominant-baseline: middle; font-size: 10.2px;\" y=\"0\" x=\"0\" id=\"text-entity-PROFESSOR-f29511f2-c470-53d9-ab92-870afa93aab7-attr-5-name\" class=\"er entityLabel\">Raum</text><rect height=\"21.33333396911621\" width=\"22.609731674194336\" y=\"109.33333587646484\" x=\"110.88689804077148\" class=\"er attributeBoxOdd\"></rect><text transform=\"translate(115.88689804077148,120.00000286102295)\" style=\"dominant-baseline: middle; font-size: 10.2px;\" y=\"0\" x=\"0\" id=\"text-entity-PROFESSOR-f29511f2-c470-53d9-ab92-870afa93aab7-attr-5-key\" class=\"er entityLabel\">UK</text></g><g transform=\"translate(253.03375244140625,272.00000762939453 )\" id=\"entity-VORLESUNG-58cf745f-e845-5e30-980b-258aa4649ee4\"><rect height=\"88.00000190734863\" width=\"127.297438621521\" y=\"0\" x=\"0\" class=\"er entityBox\"></rect><text transform=\"translate(63.6487193107605,12)\" style=\"dominant-baseline: middle; text-anchor: middle; font-size: 12px;\" y=\"0\" x=\"0\" id=\"text-entity-VORLESUNG-58cf745f-e845-5e30-980b-258aa4649ee4\" class=\"er entityLabel\">VORLESUNG</text><rect height=\"21.33333396911621\" width=\"35.9389762878418\" y=\"24\" x=\"0\" class=\"er attributeBoxOdd\"></rect><text transform=\"translate(5,34.666666984558105)\" style=\"dominant-baseline: middle; font-size: 10.2px;\" y=\"0\" x=\"0\" id=\"text-entity-VORLESUNG-58cf745f-e845-5e30-980b-258aa4649ee4-attr-1-type\" class=\"er entityLabel\">int</text><rect height=\"21.33333396911621\" width=\"69.67449188232422\" y=\"24\" x=\"35.9389762878418\" class=\"er attributeBoxOdd\"></rect><text transform=\"translate(40.9389762878418,34.666666984558105)\" style=\"dominant-baseline: middle; font-size: 10.2px;\" y=\"0\" x=\"0\" id=\"text-entity-VORLESUNG-58cf745f-e845-5e30-980b-258aa4649ee4-attr-1-name\" class=\"er entityLabel\">VorlesungsNr</text><rect height=\"21.33333396911621\" width=\"21.68397045135498\" y=\"24\" x=\"105.61346817016602\" class=\"er attributeBoxOdd\"></rect><text transform=\"translate(110.61346817016602,34.666666984558105)\" style=\"dominant-baseline: middle; font-size: 10.2px;\" y=\"0\" x=\"0\" id=\"text-entity-VORLESUNG-58cf745f-e845-5e30-980b-258aa4649ee4-attr-1-key\" class=\"er entityLabel\">PK</text><rect height=\"21.33333396911621\" width=\"35.9389762878418\" y=\"45.33333396911621\" x=\"0\" class=\"er attributeBoxEven\"></rect><text transform=\"translate(5,56.000000953674316)\" style=\"dominant-baseline: middle; font-size: 10.2px;\" y=\"0\" x=\"0\" id=\"text-entity-VORLESUNG-58cf745f-e845-5e30-980b-258aa4649ee4-attr-2-type\" class=\"er entityLabel\">string</text><rect height=\"21.33333396911621\" width=\"69.67449188232422\" y=\"45.33333396911621\" x=\"35.9389762878418\" class=\"er attributeBoxEven\"></rect><text transform=\"translate(40.9389762878418,56.000000953674316)\" style=\"dominant-baseline: middle; font-size: 10.2px;\" y=\"0\" x=\"0\" id=\"text-entity-VORLESUNG-58cf745f-e845-5e30-980b-258aa4649ee4-attr-2-name\" class=\"er entityLabel\">Titel</text><rect height=\"21.33333396911621\" width=\"21.68397045135498\" y=\"45.33333396911621\" x=\"105.61346817016602\" class=\"er attributeBoxEven\"></rect><text transform=\"translate(110.61346817016602,56.000000953674316)\" style=\"dominant-baseline: middle; font-size: 10.2px;\" y=\"0\" x=\"0\" id=\"text-entity-VORLESUNG-58cf745f-e845-5e30-980b-258aa4649ee4-attr-2-key\" class=\"er entityLabel\"></text><rect height=\"21.33333396911621\" width=\"35.9389762878418\" y=\"66.66666793823242\" x=\"0\" class=\"er attributeBoxOdd\"></rect><text transform=\"translate(5,77.33333492279053)\" style=\"dominant-baseline: middle; font-size: 10.2px;\" y=\"0\" x=\"0\" id=\"text-entity-VORLESUNG-58cf745f-e845-5e30-980b-258aa4649ee4-attr-3-type\" class=\"er entityLabel\">int</text><rect height=\"21.33333396911621\" width=\"69.67449188232422\" y=\"66.66666793823242\" x=\"35.9389762878418\" class=\"er attributeBoxOdd\"></rect><text transform=\"translate(40.9389762878418,77.33333492279053)\" style=\"dominant-baseline: middle; font-size: 10.2px;\" y=\"0\" x=\"0\" id=\"text-entity-VORLESUNG-58cf745f-e845-5e30-980b-258aa4649ee4-attr-3-name\" class=\"er entityLabel\">ProfID</text><rect height=\"21.33333396911621\" width=\"21.68397045135498\" y=\"66.66666793823242\" x=\"105.61346817016602\" class=\"er attributeBoxOdd\"></rect><text transform=\"translate(110.61346817016602,77.33333492279053)\" style=\"dominant-baseline: middle; font-size: 10.2px;\" y=\"0\" x=\"0\" id=\"text-entity-VORLESUNG-58cf745f-e845-5e30-980b-258aa4649ee4-attr-3-key\" class=\"er entityLabel\">FK</text></g><g transform=\"translate(333.2350616455078,481.3333435058594 )\" id=\"entity-STUDENT-1b2391c8-f2ba-530c-95a9-6a5256c98860\"><rect height=\"109.33333587646484\" width=\"133.78961849212646\" y=\"0\" x=\"0\" class=\"er entityBox\"></rect><text transform=\"translate(66.89480924606323,12)\" style=\"dominant-baseline: middle; text-anchor: middle; font-size: 12px;\" y=\"0\" x=\"0\" id=\"text-entity-STUDENT-1b2391c8-f2ba-530c-95a9-6a5256c98860\" class=\"er entityLabel\">STUDENT</text><rect height=\"21.33333396911621\" width=\"35.9389762878418\" y=\"24\" x=\"0\" class=\"er attributeBoxOdd\"></rect><text transform=\"translate(5,34.666666984558105)\" style=\"dominant-baseline: middle; font-size: 10.2px;\" y=\"0\" x=\"0\" id=\"text-entity-STUDENT-1b2391c8-f2ba-530c-95a9-6a5256c98860-attr-1-type\" class=\"er entityLabel\">int</text><rect height=\"21.33333396911621\" width=\"76.16667175292969\" y=\"24\" x=\"35.9389762878418\" class=\"er attributeBoxOdd\"></rect><text transform=\"translate(40.9389762878418,34.666666984558105)\" style=\"dominant-baseline: middle; font-size: 10.2px;\" y=\"0\" x=\"0\" id=\"text-entity-STUDENT-1b2391c8-f2ba-530c-95a9-6a5256c98860-attr-1-name\" class=\"er entityLabel\">MatrikelNr</text><rect height=\"21.33333396911621\" width=\"21.68397045135498\" y=\"24\" x=\"112.10564804077148\" class=\"er attributeBoxOdd\"></rect><text transform=\"translate(117.10564804077148,34.666666984558105)\" style=\"dominant-baseline: middle; font-size: 10.2px;\" y=\"0\" x=\"0\" id=\"text-entity-STUDENT-1b2391c8-f2ba-530c-95a9-6a5256c98860-attr-1-key\" class=\"er entityLabel\">PK</text><rect height=\"21.33333396911621\" width=\"35.9389762878418\" y=\"45.33333396911621\" x=\"0\" class=\"er attributeBoxEven\"></rect><text transform=\"translate(5,56.000000953674316)\" style=\"dominant-baseline: middle; font-size: 10.2px;\" y=\"0\" x=\"0\" id=\"text-entity-STUDENT-1b2391c8-f2ba-530c-95a9-6a5256c98860-attr-2-type\" class=\"er entityLabel\">string</text><rect height=\"21.33333396911621\" width=\"76.16667175292969\" y=\"45.33333396911621\" x=\"35.9389762878418\" class=\"er attributeBoxEven\"></rect><text transform=\"translate(40.9389762878418,56.000000953674316)\" style=\"dominant-baseline: middle; font-size: 10.2px;\" y=\"0\" x=\"0\" id=\"text-entity-STUDENT-1b2391c8-f2ba-530c-95a9-6a5256c98860-attr-2-name\" class=\"er entityLabel\">Vorname</text><rect height=\"21.33333396911621\" width=\"21.68397045135498\" y=\"45.33333396911621\" x=\"112.10564804077148\" class=\"er attributeBoxEven\"></rect><text transform=\"translate(117.10564804077148,56.000000953674316)\" style=\"dominant-baseline: middle; font-size: 10.2px;\" y=\"0\" x=\"0\" id=\"text-entity-STUDENT-1b2391c8-f2ba-530c-95a9-6a5256c98860-attr-2-key\" class=\"er entityLabel\"></text><rect height=\"21.33333396911621\" width=\"35.9389762878418\" y=\"66.66666793823242\" x=\"0\" class=\"er attributeBoxOdd\"></rect><text transform=\"translate(5,77.33333492279053)\" style=\"dominant-baseline: middle; font-size: 10.2px;\" y=\"0\" x=\"0\" id=\"text-entity-STUDENT-1b2391c8-f2ba-530c-95a9-6a5256c98860-attr-3-type\" class=\"er entityLabel\">string</text><rect height=\"21.33333396911621\" width=\"76.16667175292969\" y=\"66.66666793823242\" x=\"35.9389762878418\" class=\"er attributeBoxOdd\"></rect><text transform=\"translate(40.9389762878418,77.33333492279053)\" style=\"dominant-baseline: middle; font-size: 10.2px;\" y=\"0\" x=\"0\" id=\"text-entity-STUDENT-1b2391c8-f2ba-530c-95a9-6a5256c98860-attr-3-name\" class=\"er entityLabel\">Nachname</text><rect height=\"21.33333396911621\" width=\"21.68397045135498\" y=\"66.66666793823242\" x=\"112.10564804077148\" class=\"er attributeBoxOdd\"></rect><text transform=\"translate(117.10564804077148,77.33333492279053)\" style=\"dominant-baseline: middle; font-size: 10.2px;\" y=\"0\" x=\"0\" id=\"text-entity-STUDENT-1b2391c8-f2ba-530c-95a9-6a5256c98860-attr-3-key\" class=\"er entityLabel\"></text><rect height=\"21.33333396911621\" width=\"35.9389762878418\" y=\"88.00000190734863\" x=\"0\" class=\"er attributeBoxEven\"></rect><text transform=\"translate(5,98.66666889190674)\" style=\"dominant-baseline: middle; font-size: 10.2px;\" y=\"0\" x=\"0\" id=\"text-entity-STUDENT-1b2391c8-f2ba-530c-95a9-6a5256c98860-attr-4-type\" class=\"er entityLabel\">date</text><rect height=\"21.33333396911621\" width=\"76.16667175292969\" y=\"88.00000190734863\" x=\"35.9389762878418\" class=\"er attributeBoxEven\"></rect><text transform=\"translate(40.9389762878418,98.66666889190674)\" style=\"dominant-baseline: middle; font-size: 10.2px;\" y=\"0\" x=\"0\" id=\"text-entity-STUDENT-1b2391c8-f2ba-530c-95a9-6a5256c98860-attr-4-name\" class=\"er entityLabel\">Eintrittsdatum</text><rect height=\"21.33333396911621\" width=\"21.68397045135498\" y=\"88.00000190734863\" x=\"112.10564804077148\" class=\"er attributeBoxEven\"></rect><text transform=\"translate(117.10564804077148,98.66666889190674)\" style=\"dominant-baseline: middle; font-size: 10.2px;\" y=\"0\" x=\"0\" id=\"text-entity-STUDENT-1b2391c8-f2ba-530c-95a9-6a5256c98860-attr-4-key\" class=\"er entityLabel\"></text></g><g transform=\"translate(20.462875366210938,250.6666717529297 )\" id=\"entity-ASSISTENT-e727ec2d-753f-5e30-9bc7-ed237deec8f5\"><rect height=\"130.66666984558105\" width=\"132.57086849212646\" y=\"0\" x=\"0\" class=\"er entityBox\"></rect><text transform=\"translate(66.28543424606323,12)\" style=\"dominant-baseline: middle; text-anchor: middle; font-size: 12px;\" y=\"0\" x=\"0\" id=\"text-entity-ASSISTENT-e727ec2d-753f-5e30-9bc7-ed237deec8f5\" class=\"er entityLabel\">ASSISTENT</text><rect height=\"21.33333396911621\" width=\"35.9389762878418\" y=\"24\" x=\"0\" class=\"er attributeBoxOdd\"></rect><text transform=\"translate(5,34.666666984558105)\" style=\"dominant-baseline: middle; font-size: 10.2px;\" y=\"0\" x=\"0\" id=\"text-entity-ASSISTENT-e727ec2d-753f-5e30-9bc7-ed237deec8f5-attr-1-type\" class=\"er entityLabel\">int</text><rect height=\"21.33333396911621\" width=\"74.94792175292969\" y=\"24\" x=\"35.9389762878418\" class=\"er attributeBoxOdd\"></rect><text transform=\"translate(40.9389762878418,34.666666984558105)\" style=\"dominant-baseline: middle; font-size: 10.2px;\" y=\"0\" x=\"0\" id=\"text-entity-ASSISTENT-e727ec2d-753f-5e30-9bc7-ed237deec8f5-attr-1-name\" class=\"er entityLabel\">AssistentID</text><rect height=\"21.33333396911621\" width=\"21.68397045135498\" y=\"24\" x=\"110.88689804077148\" class=\"er attributeBoxOdd\"></rect><text transform=\"translate(115.88689804077148,34.666666984558105)\" style=\"dominant-baseline: middle; font-size: 10.2px;\" y=\"0\" x=\"0\" id=\"text-entity-ASSISTENT-e727ec2d-753f-5e30-9bc7-ed237deec8f5-attr-1-key\" class=\"er entityLabel\">PK</text><rect height=\"21.33333396911621\" width=\"35.9389762878418\" y=\"45.33333396911621\" x=\"0\" class=\"er attributeBoxEven\"></rect><text transform=\"translate(5,56.000000953674316)\" style=\"dominant-baseline: middle; font-size: 10.2px;\" y=\"0\" x=\"0\" id=\"text-entity-ASSISTENT-e727ec2d-753f-5e30-9bc7-ed237deec8f5-attr-2-type\" class=\"er entityLabel\">string</text><rect height=\"21.33333396911621\" width=\"74.94792175292969\" y=\"45.33333396911621\" x=\"35.9389762878418\" class=\"er attributeBoxEven\"></rect><text transform=\"translate(40.9389762878418,56.000000953674316)\" style=\"dominant-baseline: middle; font-size: 10.2px;\" y=\"0\" x=\"0\" id=\"text-entity-ASSISTENT-e727ec2d-753f-5e30-9bc7-ed237deec8f5-attr-2-name\" class=\"er entityLabel\">Vorname</text><rect height=\"21.33333396911621\" width=\"21.68397045135498\" y=\"45.33333396911621\" x=\"110.88689804077148\" class=\"er attributeBoxEven\"></rect><text transform=\"translate(115.88689804077148,56.000000953674316)\" style=\"dominant-baseline: middle; font-size: 10.2px;\" y=\"0\" x=\"0\" id=\"text-entity-ASSISTENT-e727ec2d-753f-5e30-9bc7-ed237deec8f5-attr-2-key\" class=\"er entityLabel\"></text><rect height=\"21.33333396911621\" width=\"35.9389762878418\" y=\"66.66666793823242\" x=\"0\" class=\"er attributeBoxOdd\"></rect><text transform=\"translate(5,77.33333492279053)\" style=\"dominant-baseline: middle; font-size: 10.2px;\" y=\"0\" x=\"0\" id=\"text-entity-ASSISTENT-e727ec2d-753f-5e30-9bc7-ed237deec8f5-attr-3-type\" class=\"er entityLabel\">string</text><rect height=\"21.33333396911621\" width=\"74.94792175292969\" y=\"66.66666793823242\" x=\"35.9389762878418\" class=\"er attributeBoxOdd\"></rect><text transform=\"translate(40.9389762878418,77.33333492279053)\" style=\"dominant-baseline: middle; font-size: 10.2px;\" y=\"0\" x=\"0\" id=\"text-entity-ASSISTENT-e727ec2d-753f-5e30-9bc7-ed237deec8f5-attr-3-name\" class=\"er entityLabel\">Nachname</text><rect height=\"21.33333396911621\" width=\"21.68397045135498\" y=\"66.66666793823242\" x=\"110.88689804077148\" class=\"er attributeBoxOdd\"></rect><text transform=\"translate(115.88689804077148,77.33333492279053)\" style=\"dominant-baseline: middle; font-size: 10.2px;\" y=\"0\" x=\"0\" id=\"text-entity-ASSISTENT-e727ec2d-753f-5e30-9bc7-ed237deec8f5-attr-3-key\" class=\"er entityLabel\"></text><rect height=\"21.33333396911621\" width=\"35.9389762878418\" y=\"88.00000190734863\" x=\"0\" class=\"er attributeBoxEven\"></rect><text transform=\"translate(5,98.66666889190674)\" style=\"dominant-baseline: middle; font-size: 10.2px;\" y=\"0\" x=\"0\" id=\"text-entity-ASSISTENT-e727ec2d-753f-5e30-9bc7-ed237deec8f5-attr-4-type\" class=\"er entityLabel\">date</text><rect height=\"21.33333396911621\" width=\"74.94792175292969\" y=\"88.00000190734863\" x=\"35.9389762878418\" class=\"er attributeBoxEven\"></rect><text transform=\"translate(40.9389762878418,98.66666889190674)\" style=\"dominant-baseline: middle; font-size: 10.2px;\" y=\"0\" x=\"0\" id=\"text-entity-ASSISTENT-e727ec2d-753f-5e30-9bc7-ed237deec8f5-attr-4-name\" class=\"er entityLabel\">Geburtsdatum</text><rect height=\"21.33333396911621\" width=\"21.68397045135498\" y=\"88.00000190734863\" x=\"110.88689804077148\" class=\"er attributeBoxEven\"></rect><text transform=\"translate(115.88689804077148,98.66666889190674)\" style=\"dominant-baseline: middle; font-size: 10.2px;\" y=\"0\" x=\"0\" id=\"text-entity-ASSISTENT-e727ec2d-753f-5e30-9bc7-ed237deec8f5-attr-4-key\" class=\"er entityLabel\"></text><rect height=\"21.33333396911621\" width=\"35.9389762878418\" y=\"109.33333587646484\" x=\"0\" class=\"er attributeBoxOdd\"></rect><text transform=\"translate(5,120.00000286102295)\" style=\"dominant-baseline: middle; font-size: 10.2px;\" y=\"0\" x=\"0\" id=\"text-entity-ASSISTENT-e727ec2d-753f-5e30-9bc7-ed237deec8f5-attr-5-type\" class=\"er entityLabel\">int</text><rect height=\"21.33333396911621\" width=\"74.94792175292969\" y=\"109.33333587646484\" x=\"35.9389762878418\" class=\"er attributeBoxOdd\"></rect><text transform=\"translate(40.9389762878418,120.00000286102295)\" style=\"dominant-baseline: middle; font-size: 10.2px;\" y=\"0\" x=\"0\" id=\"text-entity-ASSISTENT-e727ec2d-753f-5e30-9bc7-ed237deec8f5-attr-5-name\" class=\"er entityLabel\">ProfID</text><rect height=\"21.33333396911621\" width=\"21.68397045135498\" y=\"109.33333587646484\" x=\"110.88689804077148\" class=\"er attributeBoxOdd\"></rect><text transform=\"translate(115.88689804077148,120.00000286102295)\" style=\"dominant-baseline: middle; font-size: 10.2px;\" y=\"0\" x=\"0\" id=\"text-entity-ASSISTENT-e727ec2d-753f-5e30-9bc7-ed237deec8f5-attr-5-key\" class=\"er entityLabel\">FK</text></g><g transform=\"translate(99.72234535217285,690.6666793823242 )\" id=\"entity-PRUEFUNG-56fe6b08-8f56-5fbb-95f2-cf97471b4b5a\"><rect height=\"152.00000381469727\" width=\"137.7006483078003\" y=\"0\" x=\"0\" class=\"er entityBox\"></rect><text transform=\"translate(68.85032415390015,12)\" style=\"dominant-baseline: middle; text-anchor: middle; font-size: 12px;\" y=\"0\" x=\"0\" id=\"text-entity-PRUEFUNG-56fe6b08-8f56-5fbb-95f2-cf97471b4b5a\" class=\"er entityLabel\">PRUEFUNG</text><rect height=\"21.33333396911621\" width=\"46.342185974121094\" y=\"24\" x=\"0\" class=\"er attributeBoxOdd\"></rect><text transform=\"translate(5,34.666666984558105)\" style=\"dominant-baseline: middle; font-size: 10.2px;\" y=\"0\" x=\"0\" id=\"text-entity-PRUEFUNG-56fe6b08-8f56-5fbb-95f2-cf97471b4b5a-attr-1-type\" class=\"er entityLabel\">int</text><rect height=\"21.33333396911621\" width=\"69.67449188232422\" y=\"24\" x=\"46.342185974121094\" class=\"er attributeBoxOdd\"></rect><text transform=\"translate(51.342185974121094,34.666666984558105)\" style=\"dominant-baseline: middle; font-size: 10.2px;\" y=\"0\" x=\"0\" id=\"text-entity-PRUEFUNG-56fe6b08-8f56-5fbb-95f2-cf97471b4b5a-attr-1-name\" class=\"er entityLabel\">PruefungsID</text><rect height=\"21.33333396911621\" width=\"21.68397045135498\" y=\"24\" x=\"116.01667785644531\" class=\"er attributeBoxOdd\"></rect><text transform=\"translate(121.01667785644531,34.666666984558105)\" style=\"dominant-baseline: middle; font-size: 10.2px;\" y=\"0\" x=\"0\" id=\"text-entity-PRUEFUNG-56fe6b08-8f56-5fbb-95f2-cf97471b4b5a-attr-1-key\" class=\"er entityLabel\">PK</text><rect height=\"21.33333396911621\" width=\"46.342185974121094\" y=\"45.33333396911621\" x=\"0\" class=\"er attributeBoxEven\"></rect><text transform=\"translate(5,56.000000953674316)\" style=\"dominant-baseline: middle; font-size: 10.2px;\" y=\"0\" x=\"0\" id=\"text-entity-PRUEFUNG-56fe6b08-8f56-5fbb-95f2-cf97471b4b5a-attr-2-type\" class=\"er entityLabel\">int</text><rect height=\"21.33333396911621\" width=\"69.67449188232422\" y=\"45.33333396911621\" x=\"46.342185974121094\" class=\"er attributeBoxEven\"></rect><text transform=\"translate(51.342185974121094,56.000000953674316)\" style=\"dominant-baseline: middle; font-size: 10.2px;\" y=\"0\" x=\"0\" id=\"text-entity-PRUEFUNG-56fe6b08-8f56-5fbb-95f2-cf97471b4b5a-attr-2-name\" class=\"er entityLabel\">VorlesungsNr</text><rect height=\"21.33333396911621\" width=\"21.68397045135498\" y=\"45.33333396911621\" x=\"116.01667785644531\" class=\"er attributeBoxEven\"></rect><text transform=\"translate(121.01667785644531,56.000000953674316)\" style=\"dominant-baseline: middle; font-size: 10.2px;\" y=\"0\" x=\"0\" id=\"text-entity-PRUEFUNG-56fe6b08-8f56-5fbb-95f2-cf97471b4b5a-attr-2-key\" class=\"er entityLabel\">FK</text><rect height=\"21.33333396911621\" width=\"46.342185974121094\" y=\"66.66666793823242\" x=\"0\" class=\"er attributeBoxOdd\"></rect><text transform=\"translate(5,77.33333492279053)\" style=\"dominant-baseline: middle; font-size: 10.2px;\" y=\"0\" x=\"0\" id=\"text-entity-PRUEFUNG-56fe6b08-8f56-5fbb-95f2-cf97471b4b5a-attr-3-type\" class=\"er entityLabel\">int</text><rect height=\"21.33333396911621\" width=\"69.67449188232422\" y=\"66.66666793823242\" x=\"46.342185974121094\" class=\"er attributeBoxOdd\"></rect><text transform=\"translate(51.342185974121094,77.33333492279053)\" style=\"dominant-baseline: middle; font-size: 10.2px;\" y=\"0\" x=\"0\" id=\"text-entity-PRUEFUNG-56fe6b08-8f56-5fbb-95f2-cf97471b4b5a-attr-3-name\" class=\"er entityLabel\">MatrikelNr</text><rect height=\"21.33333396911621\" width=\"21.68397045135498\" y=\"66.66666793823242\" x=\"116.01667785644531\" class=\"er attributeBoxOdd\"></rect><text transform=\"translate(121.01667785644531,77.33333492279053)\" style=\"dominant-baseline: middle; font-size: 10.2px;\" y=\"0\" x=\"0\" id=\"text-entity-PRUEFUNG-56fe6b08-8f56-5fbb-95f2-cf97471b4b5a-attr-3-key\" class=\"er entityLabel\">FK</text><rect height=\"21.33333396911621\" width=\"46.342185974121094\" y=\"88.00000190734863\" x=\"0\" class=\"er attributeBoxEven\"></rect><text transform=\"translate(5,98.66666889190674)\" style=\"dominant-baseline: middle; font-size: 10.2px;\" y=\"0\" x=\"0\" id=\"text-entity-PRUEFUNG-56fe6b08-8f56-5fbb-95f2-cf97471b4b5a-attr-4-type\" class=\"er entityLabel\">int</text><rect height=\"21.33333396911621\" width=\"69.67449188232422\" y=\"88.00000190734863\" x=\"46.342185974121094\" class=\"er attributeBoxEven\"></rect><text transform=\"translate(51.342185974121094,98.66666889190674)\" style=\"dominant-baseline: middle; font-size: 10.2px;\" y=\"0\" x=\"0\" id=\"text-entity-PRUEFUNG-56fe6b08-8f56-5fbb-95f2-cf97471b4b5a-attr-4-name\" class=\"er entityLabel\">ProfID</text><rect height=\"21.33333396911621\" width=\"21.68397045135498\" y=\"88.00000190734863\" x=\"116.01667785644531\" class=\"er attributeBoxEven\"></rect><text transform=\"translate(121.01667785644531,98.66666889190674)\" style=\"dominant-baseline: middle; font-size: 10.2px;\" y=\"0\" x=\"0\" id=\"text-entity-PRUEFUNG-56fe6b08-8f56-5fbb-95f2-cf97471b4b5a-attr-4-key\" class=\"er entityLabel\">FK</text><rect height=\"21.33333396911621\" width=\"46.342185974121094\" y=\"109.33333587646484\" x=\"0\" class=\"er attributeBoxOdd\"></rect><text transform=\"translate(5,120.00000286102295)\" style=\"dominant-baseline: middle; font-size: 10.2px;\" y=\"0\" x=\"0\" id=\"text-entity-PRUEFUNG-56fe6b08-8f56-5fbb-95f2-cf97471b4b5a-attr-5-type\" class=\"er entityLabel\">date</text><rect height=\"21.33333396911621\" width=\"69.67449188232422\" y=\"109.33333587646484\" x=\"46.342185974121094\" class=\"er attributeBoxOdd\"></rect><text transform=\"translate(51.342185974121094,120.00000286102295)\" style=\"dominant-baseline: middle; font-size: 10.2px;\" y=\"0\" x=\"0\" id=\"text-entity-PRUEFUNG-56fe6b08-8f56-5fbb-95f2-cf97471b4b5a-attr-5-name\" class=\"er entityLabel\">Termin</text><rect height=\"21.33333396911621\" width=\"21.68397045135498\" y=\"109.33333587646484\" x=\"116.01667785644531\" class=\"er attributeBoxOdd\"></rect><text transform=\"translate(121.01667785644531,120.00000286102295)\" style=\"dominant-baseline: middle; font-size: 10.2px;\" y=\"0\" x=\"0\" id=\"text-entity-PRUEFUNG-56fe6b08-8f56-5fbb-95f2-cf97471b4b5a-attr-5-key\" class=\"er entityLabel\"></text><rect height=\"21.33333396911621\" width=\"46.342185974121094\" y=\"130.66666984558105\" x=\"0\" class=\"er attributeBoxEven\"></rect><text transform=\"translate(5,141.33333683013916)\" style=\"dominant-baseline: middle; font-size: 10.2px;\" y=\"0\" x=\"0\" id=\"text-entity-PRUEFUNG-56fe6b08-8f56-5fbb-95f2-cf97471b4b5a-attr-6-type\" class=\"er entityLabel\">decimal</text><rect height=\"21.33333396911621\" width=\"69.67449188232422\" y=\"130.66666984558105\" x=\"46.342185974121094\" class=\"er attributeBoxEven\"></rect><text transform=\"translate(51.342185974121094,141.33333683013916)\" style=\"dominant-baseline: middle; font-size: 10.2px;\" y=\"0\" x=\"0\" id=\"text-entity-PRUEFUNG-56fe6b08-8f56-5fbb-95f2-cf97471b4b5a-attr-6-name\" class=\"er entityLabel\">Note</text><rect height=\"21.33333396911621\" width=\"21.68397045135498\" y=\"130.66666984558105\" x=\"116.01667785644531\" class=\"er attributeBoxEven\"></rect><text transform=\"translate(121.01667785644531,141.33333683013916)\" style=\"dominant-baseline: middle; font-size: 10.2px;\" y=\"0\" x=\"0\" id=\"text-entity-PRUEFUNG-56fe6b08-8f56-5fbb-95f2-cf97471b4b5a-attr-6-key\" class=\"er entityLabel\"></text></g><rect height=\"14\" width=\"21.73372459411621\" y=\"168.63833618164062\" x=\"247.89796924591064\" class=\"er relationshipLabelBox\"></rect><text style=\"text-anchor: middle; dominant-baseline: middle; font-size: 12px;\" y=\"175.63833618164062\" x=\"258.76483154296875\" id=\"rel1\" class=\"er relationshipLabel\">hält</text><rect height=\"14\" width=\"60.862632751464844\" y=\"193.66700744628906\" x=\"56.31668472290039\" class=\"er relationshipLabelBox\"></rect><text style=\"text-anchor: middle; dominant-baseline: middle; font-size: 12px;\" y=\"200.66700744628906\" x=\"86.74800109863281\" id=\"rel2\" class=\"er relationshipLabel\">beschäftigt</text><rect height=\"14\" width=\"70.84114837646484\" y=\"450.2622985839844\" x=\"-114.95757675170898\" class=\"er relationshipLabelBox\"></rect><text style=\"text-anchor: middle; dominant-baseline: middle; font-size: 12px;\" y=\"457.2622985839844\" x=\"-79.53700256347656\" id=\"rel3\" class=\"er relationshipLabel\">beaufsichtigt</text><rect height=\"14\" width=\"18.19466209411621\" y=\"501.0738525390625\" x=\"159.76935291290283\" class=\"er relationshipLabelBox\"></rect><text style=\"text-anchor: middle; dominant-baseline: middle; font-size: 12px;\" y=\"508.0738525390625\" x=\"168.86668395996094\" id=\"rel4\" class=\"er relationshipLabel\">hat</text><rect height=\"14\" width=\"112.68294525146484\" y=\"309.0000305175781\" x=\"423.1565132141113\" class=\"er relationshipLabelBox\"></rect><text style=\"text-anchor: middle; dominant-baseline: middle; font-size: 12px;\" y=\"316.0000305175781\" x=\"479.49798583984375\" id=\"rel5\" class=\"er relationshipLabel\">ist Voraussetzung für</text><rect height=\"14\" width=\"92.48177337646484\" y=\"409.2022705078125\" x=\"339.69316482543945\" class=\"er relationshipLabelBox\"></rect><text style=\"text-anchor: middle; dominant-baseline: middle; font-size: 12px;\" y=\"416.2022705078125\" x=\"385.9340515136719\" id=\"rel6\" class=\"er relationshipLabel\">wird besucht von</text><rect height=\"14\" width=\"44.005210876464844\" y=\"666.9769287109375\" x=\"313.0048408508301\" class=\"er relationshipLabelBox\"></rect><text style=\"text-anchor: middle; dominant-baseline: middle; font-size: 12px;\" y=\"673.9769287109375\" x=\"335.0074462890625\" id=\"rel7\" class=\"er relationshipLabel\">schreibt</text></svg>"
            ],
            "metadata": {
                "azdata_cell_guid": "7a24c88b-db07-47c7-b255-b46a14dee70d",
                "language": "sql",
                "tags": []
            },
            "outputs": [],
            "execution_count": null
        },
        {
            "cell_type": "markdown",
            "source": [
                "**Create Database!**"
            ],
            "metadata": {
                "azdata_cell_guid": "ba1ad6f2-e44b-4d0b-a9f1-949c9ce2af16"
            },
            "attachments": {}
        },
        {
            "cell_type": "code",
            "source": [
                "USE [Master]\r\n",
                "GO\r\n",
                "CREATE DATABASE Schulverwaltung;\r\n",
                "GO"
            ],
            "metadata": {
                "azdata_cell_guid": "c60dd6aa-f888-40ed-9910-f10381b01fe9",
                "language": "sql",
                "tags": []
            },
            "outputs": [
                {
                    "output_type": "display_data",
                    "data": {
                        "text/html": "Commands completed successfully."
                    },
                    "metadata": {}
                },
                {
                    "output_type": "display_data",
                    "data": {
                        "text/html": "Commands completed successfully."
                    },
                    "metadata": {}
                },
                {
                    "output_type": "display_data",
                    "data": {
                        "text/html": "Total execution time: 00:00:00.092"
                    },
                    "metadata": {}
                }
            ],
            "execution_count": 17
        },
        {
            "cell_type": "markdown",
            "source": [
                "**Create Relation!**"
            ],
            "metadata": {
                "azdata_cell_guid": "0671515b-84a9-4a0b-a4a3-23825a7da072"
            },
            "attachments": {}
        },
        {
            "cell_type": "code",
            "source": [
                "USE [Schulverwaltung]\r\n",
                "GO\r\n",
                "\r\n",
                "DROP TABLE IF EXISTS Pruefung;\r\n",
                "DROP TABLE IF EXISTS VorlesungVoraussetzung;\r\n",
                "DROP TABLE IF EXISTS VorlesungStudent;\r\n",
                "DROP TABLE IF EXISTS Vorlesung;\r\n",
                "DROP TABLE IF EXISTS Assistent;\r\n",
                "DROP TABLE IF EXISTS Student;\r\n",
                "DROP TABLE IF EXISTS Professor;\r\n",
                "\r\n",
                "CREATE TABLE Professor(\r\n",
                "    ProfID INT IDENTITY(1,1) NOT NULL,\r\n",
                "    Vorname VARCHAR(20) NOT NULL,\r\n",
                "    Nachname VARCHAR(20) NOT NULL,\r\n",
                "    Geburtstag DATE NOT NULL,\r\n",
                "    Raum VARCHAR(10) NOT NULL,\r\n",
                "    CONSTRAINT UK_Raum UNIQUE (Raum),\r\n",
                "    CONSTRAINT PK_Prof PRIMARY KEY (ProfID)\r\n",
                ");\r\n",
                "\r\n",
                "CREATE TABLE Assistent(\r\n",
                "    AssistentID INT IDENTITY(1,1) NOT NULL,\r\n",
                "    ProfID INT NULL,\r\n",
                "    Vorname VARCHAR(20) NOT NULL,\r\n",
                "    Nachname VARCHAR(20) NOT NULL,\r\n",
                "    Geburtstag DATE NOT NULL,\r\n",
                "    CONSTRAINT FK_Prof_Assistent FOREIGN KEY (ProfID) REFERENCES Professor(ProfID) ON DELETE CASCADE,\r\n",
                "    CONSTRAINT PK_Assistent PRIMARY KEY (AssistentID)\r\n",
                ");\r\n",
                "\r\n",
                "CREATE TABLE Vorlesung(\r\n",
                "    VorlesungsNr INT IDENTITY(1,1) NOT NULL,\r\n",
                "    ProfID INT NULL,\r\n",
                "    Titel NVARCHAR(100) NOT NULL,\r\n",
                "    CONSTRAINT FK_Prof_Vorlesung FOREIGN KEY (ProfID) REFERENCES Professor(ProfID) ON DELETE CASCADE,\r\n",
                "    CONSTRAINT PK_Vorlesung PRIMARY KEY (VorlesungsNr)\r\n",
                ");\r\n",
                "\r\n",
                "CREATE TABLE Student(\r\n",
                "    MatrikelNr INT NOT NULL,\r\n",
                "    Vorname VARCHAR(20) NOT NULL,\r\n",
                "    Nachname VARCHAR(20) NOT NULL,\r\n",
                "    Eintrittsdatum DATE NOT NULL,\r\n",
                "    Wohnort VARCHAR(50),\r\n",
                "    CONSTRAINT PK_Matrikel PRIMARY KEY (MatrikelNr)\r\n",
                ");\r\n",
                "\r\n",
                "CREATE TABLE VorlesungStudent(\r\n",
                "    VorlesungsNr INT NOT NULL,\r\n",
                "    MatrikelNr INT NOT NULL,\r\n",
                "    CONSTRAINT PK_VorlesungStudent PRIMARY KEY (VorlesungsNr, MatrikelNr),\r\n",
                "    CONSTRAINT FK_Vorlesung_Student FOREIGN KEY (VorlesungsNr) REFERENCES Vorlesung(VorlesungsNr) ON DELETE CASCADE,\r\n",
                "    CONSTRAINT FK_Student_Vorlesung FOREIGN KEY (MatrikelNr) REFERENCES Student(MatrikelNr) ON DELETE CASCADE\r\n",
                ");\r\n",
                "\r\n",
                "CREATE TABLE VorlesungVoraussetzung(\r\n",
                "    VorlesungsNr INT NOT NULL,\r\n",
                "    VoraussetzungsNr INT NOT NULL,\r\n",
                "    CONSTRAINT PK_VorlesungVoraussetzung PRIMARY KEY (VorlesungsNr, VoraussetzungsNr),\r\n",
                "    CONSTRAINT FK_Vorlesung_Voraussetzung FOREIGN KEY (VorlesungsNr) REFERENCES Vorlesung(VorlesungsNr) ON DELETE CASCADE,\r\n",
                "    CONSTRAINT FK_Voraussetzung_Vorlesung FOREIGN KEY (VoraussetzungsNr) REFERENCES Vorlesung(VorlesungsNr)\r\n",
                ");\r\n",
                "\r\n",
                "CREATE TABLE Pruefung(\r\n",
                "    PruefungsID INT IDENTITY(1,1) NOT NULL,\r\n",
                "    VorlesungsNr INT NOT NULL,\r\n",
                "    MatrikelNr INT NOT NULL,\r\n",
                "    ProfID INT NULL,\r\n",
                "    Termin DATETIME NULL,\r\n",
                "    Note DECIMAL(3,1) NULL,\r\n",
                "    CONSTRAINT FK_Vorlesung_Pruefung FOREIGN KEY (VorlesungsNr) REFERENCES Vorlesung(VorlesungsNr) ON DELETE CASCADE,\r\n",
                "    CONSTRAINT FK_Matrikel_Pruefung FOREIGN KEY (MatrikelNr) REFERENCES Student(MatrikelNr) ON DELETE CASCADE,\r\n",
                "    CONSTRAINT FK_Prof_Pruefung FOREIGN KEY (ProfID) REFERENCES Professor(ProfID) ON DELETE NO ACTION,\r\n",
                "    CONSTRAINT PK_Pruefung PRIMARY KEY (PruefungsID),\r\n",
                "    CONSTRAINT CHK_Note CHECK (Note IS NULL OR (Note >= 1.0 AND Note <= 6.0))\r\n",
                ");\r\n",
                "\r\n",
                "GO"
            ],
            "metadata": {
                "azdata_cell_guid": "91219f84-358d-4259-871a-58614ff12b2b",
                "language": "sql"
            },
            "outputs": [
                {
                    "output_type": "display_data",
                    "data": {
                        "text/html": "Commands completed successfully."
                    },
                    "metadata": {}
                },
                {
                    "output_type": "display_data",
                    "data": {
                        "text/html": "Commands completed successfully."
                    },
                    "metadata": {}
                },
                {
                    "output_type": "display_data",
                    "data": {
                        "text/html": "Total execution time: 00:00:00.023"
                    },
                    "metadata": {}
                }
            ],
            "execution_count": 99
        },
        {
            "cell_type": "markdown",
            "source": [
                "Insert Data via **Insert** not Bulk Insert!"
            ],
            "metadata": {
                "azdata_cell_guid": "14301587-216f-4bc7-aa0b-818936e318d4"
            },
            "attachments": {}
        },
        {
            "cell_type": "code",
            "source": [
                "INSERT INTO Professor (Vorname, Nachname, Geburtstag, Raum) VALUES\r\n",
                "('Albert', 'Einstein', '1879-03-14', '14'),\r\n",
                "('Marie', 'Curie', '1867-11-07', '12'),\r\n",
                "('Peter', 'Von Matt', '1937-05-20', '8'),\r\n",
                "('Nikola', 'Tesla', '1856-07-10', '13'),\r\n",
                "('Wilhelm Conrad', 'Röntgen', '1845-03-27', '10'),\r\n",
                "('Jean-Paul', 'Sartre', '1905-06-21', '1'),\r\n",
                "('Jacobus', 'vant Hoff', '1852-08-30', '2');\r\n",
                "\r\n",
                "INSERT INTO Assistent (ProfID, Vorname, Nachname, Geburtstag) VALUES\r\n",
                "(NULL, 'Lionel', 'Messi', '1987-06-24'),\r\n",
                "(4, 'Xherdan', 'Shaqiri', '1991-10-10'),\r\n",
                "(3, 'Sami', 'Khedira', '1987-04-04'),\r\n",
                "(3, 'Cristiano', 'Ronaldo', '1985-02-05'),\r\n",
                "(NULL, 'Wayne', 'Rooney', '1985-10-24'),\r\n",
                "(7, 'Arjen', 'Robben', '1984-01-23'),\r\n",
                "(1, 'Andrea', 'Pirlo', '1979-05-19'),\r\n",
                "(3, 'Robert', 'Lewandowski', '1988-08-21'),\r\n",
                "(5, 'Luis', 'Suàrez', '1987-01-24'),\r\n",
                "(2, 'Alexis', 'Sanchez', '1988-12-19');\r\n",
                "\r\n",
                "INSERT INTO Student (MatrikelNr, Nachname, Vorname, Eintrittsdatum, Wohnort) VALUES\r\n",
                "(094845, 'Burri', 'Eliane', '2019-10-01', '3005 Bern'),\r\n",
                "(125776, 'Duss', 'Guido', '2019-10-01', '4500 Solothurn'),\r\n",
                "(097270, 'Zollinger', 'Gertrud', '2019-10-01', '3600 Thun'),\r\n",
                "(085694, 'Antonelli', 'Giorgio', '2018-10-01', '6204 Sempach'),\r\n",
                "(133963, 'Sanchez', 'Miguel', '2019-10-01', NULL),\r\n",
                "(096537, 'Stefanovski', 'Zoran', '2019-10-01', '3000 Bern'),\r\n",
                "(104336, 'Prieto', 'Luis', '2019-10-01', '4000 Basel'),\r\n",
                "(134372, 'Isler', 'Martin', '2019-10-01', NULL),\r\n",
                "(091079, 'Di Lavello', 'Paolo', '2019-10-01', '5400 Baden'),\r\n",
                "(105068, 'Meier', 'Rolf', '2019-10-01', '5430 Wettingen'),\r\n",
                "(099370, 'Maggi', 'Marco', '2019-10-01', '8918 Unterlunkhofen'),\r\n",
                "(090523, 'Kurmann', 'Heike', '2019-10-01', '6280 Hochdorf'),\r\n",
                "(099376, 'Krasniqi', 'Lelzim', '2019-10-01', '2905 Courtedoux'),\r\n",
                "(140556, 'Léchenne', 'Jean-Paul', '2019-10-01', '4500 Solothurn'),\r\n",
                "(090665, 'Détraz', 'Roger', '2017-10-01', '3215 Lurtigen'),\r\n",
                "(118456, 'Dubach', 'Hans', '2018-10-01', '3000 Bern'),\r\n",
                "(103201, 'Keller', 'Yvonne', '2019-10-01', NULL),\r\n",
                "(120948, 'Weber', 'Priska', '2019-10-01', '4125 Riehen'),\r\n",
                "(133225, 'Dubuis', 'Heidi', '2019-10-01', '6213 Knutwil'),\r\n",
                "(135660, 'Stojanovic', 'Slobodan', '2019-10-01', '4132 Muttenz'),\r\n",
                "(070633, 'Zobrist', 'Bruno', '2018-10-01', '5242 Birr'),\r\n",
                "(101471, 'Babaja', 'Slobodanka', '2019-10-01', '4600 Olten'),\r\n",
                "(102466, 'Gugler', 'Roger', '2018-10-01', '3400 Burgdorf'),\r\n",
                "(133704, 'Genkinger', 'Marian', '2019-10-01', NULL),\r\n",
                "(128867, 'Dell''Amore', 'Michele', '2019-10-01', '4900 Langenthal');\r\n",
                "\r\n",
                "INSERT INTO Vorlesung (Titel, ProfID) VALUES\r\n",
                "('Ethik', 3),\r\n",
                "('Elektrotechnik', 4),\r\n",
                "('Sprachtheorie', 3),\r\n",
                "('Radiologie', 5),\r\n",
                "('Allgemeine Relativitätstheorie', 1),\r\n",
                "('Quantenphysik', 1),\r\n",
                "('Kinetik', 7),\r\n",
                "('Literaturgeschichte', 3),\r\n",
                "('Astrophysik', 1),\r\n",
                "('Biochemie', 7),\r\n",
                "('Physikalische Chemie', 2);\r\n",
                "\r\n",
                "INSERT INTO VorlesungStudent (VorlesungsNr, MatrikelNr) VALUES\r\n",
                "(11, 070633),  -- Zobrist - Physikalische Chemie\r\n",
                "(7, 090665),   -- Détraz - Kinetik\r\n",
                "(10, 091079),  -- Di Lavello - Biochemie\r\n",
                "(2, 094845),   -- Burri - Elektrotechnik\r\n",
                "(4, 094845),   -- Burri - Radiologie\r\n",
                "(10, 097270),  -- Zollinger - Biochemie\r\n",
                "(8, 099370),   -- Maggi - Literaturgeschichte\r\n",
                "(7, 103201),   -- Keller - Kinetik\r\n",
                "(8, 085694),   -- Antonelli - Literaturgeschichte\r\n",
                "(2, 125776),   -- Duss - Elektrotechnik\r\n",
                "(1, 128867),   -- Dell'Amore - Ethik\r\n",
                "(1, 133704),   -- Genkinger - Ethik\r\n",
                "(8, 133704),   -- Genkinger - Literaturgeschichte\r\n",
                "(3, 133704),   -- Genkinger - Sprachtheorie\r\n",
                "(3, 133963),   -- Sanchez - Sprachtheorie\r\n",
                "(1, 133963),   -- Sanchez - Ethik\r\n",
                "(8, 133963),   -- Sanchez - Literaturgeschichte\r\n",
                "(7, 134372),   -- Isler - Kinetik\r\n",
                "(2, 135660),   -- Stojanovic - Elektrotechnik\r\n",
                "(5, 135660),   -- Stojanovic - Allgemeine Relativitätstheorie\r\n",
                "(7, 135660),   -- Stojanovic - Kinetik\r\n",
                "(5, 140556);   -- Léchenne - Allgemeine Relativitätstheorie\r\n",
                "\r\n",
                "INSERT INTO VorlesungVoraussetzung (VorlesungsNr, VoraussetzungsNr) VALUES\r\n",
                "(2, 4),\r\n",
                "(5, 2);\r\n",
                "\r\n",
                "INSERT INTO Pruefung (VorlesungsNr, MatrikelNr, ProfID, Termin, Note) VALUES \r\n",
                "(1, 128867, 6, NULL, NULL),                          -- Ethik, Dell'Amore, Sartre\r\n",
                "(7, 135660, 7, NULL, NULL),                          -- Kinetik, Stojanovic, van't Hoff\r\n",
                "(2, 094845, 4, '2020-10-25 00:00', 6.0),            -- Elektrotechnik, Burri, Tesla\r\n",
                "(4, 094845, 2, NULL, NULL),                          -- Radiologie, Burri, Curie\r\n",
                "(8, 099370, 3, '2020-03-03 15:30', 4.0),            -- Literaturgeschichte, Maggi, Von Matt\r\n",
                "(7, 090665, 7, '2020-05-28 10:00', 5.5),            -- Kinetik, Détraz, van't Hoff\r\n",
                "(7, 103201, 7, '2020-05-30 10:00', 2.5),            -- Kinetik, Keller, van't Hoff\r\n",
                "(8, 085694, 3, NULL, NULL),                          -- Literaturgeschichte, Antonelli, Von Matt\r\n",
                "(8, 133963, 3, '2021-05-27 09:00', 3.5),            -- Literaturgeschichte, Sanchez, Von Matt\r\n",
                "(3, 133963, 3, NULL, NULL),                          -- Sprachtheorie, Sanchez, Von Matt\r\n",
                "(3, 133704, 3, '2021-05-27 08:30', 5.0),            -- Sprachtheorie, Genkinger, Von Matt\r\n",
                "(8, 133704, 3, '2020-03-10 10:00', 4.5),            -- Literaturgeschichte, Genkinger, Von Matt\r\n",
                "(2, 125776, 4, '2021-05-26 10:00', 5.5),            -- Elektrotechnik, Duss, Tesla\r\n",
                "(5, 140556, 1, NULL, NULL),                          -- Allg. Relativitätstheorie, Léchenne, Einstein\r\n",
                "(10, 097270, 5, '2020-05-25 08:30', 4.5);           -- Biochemie, Zollinger, Röntgen\r\n",
                "\r\n",
                "GO"
            ],
            "metadata": {
                "azdata_cell_guid": "672fcbbb-9d16-4984-8d92-cf2c8c59de45",
                "language": "sql",
                "tags": []
            },
            "outputs": [
                {
                    "output_type": "display_data",
                    "data": {
                        "text/html": "(7 rows affected)"
                    },
                    "metadata": {}
                },
                {
                    "output_type": "display_data",
                    "data": {
                        "text/html": "(10 rows affected)"
                    },
                    "metadata": {}
                },
                {
                    "output_type": "display_data",
                    "data": {
                        "text/html": "(25 rows affected)"
                    },
                    "metadata": {}
                },
                {
                    "output_type": "display_data",
                    "data": {
                        "text/html": "(11 rows affected)"
                    },
                    "metadata": {}
                },
                {
                    "output_type": "display_data",
                    "data": {
                        "text/html": "(22 rows affected)"
                    },
                    "metadata": {}
                },
                {
                    "output_type": "display_data",
                    "data": {
                        "text/html": "(2 rows affected)"
                    },
                    "metadata": {}
                },
                {
                    "output_type": "display_data",
                    "data": {
                        "text/html": "(15 rows affected)"
                    },
                    "metadata": {}
                },
                {
                    "output_type": "display_data",
                    "data": {
                        "text/html": "Total execution time: 00:00:00.025"
                    },
                    "metadata": {}
                }
            ],
            "execution_count": 100
        },
        {
            "cell_type": "markdown",
            "source": [
                "**Evaluation!**"
            ],
            "metadata": {
                "azdata_cell_guid": "6a3a0235-17a9-49f8-a805-aec9a77a1bdb"
            },
            "attachments": {}
        },
        {
            "cell_type": "code",
            "source": [
                "USE [Schulverwaltung];\r\n",
                "GO\r\n",
                "\r\n",
                "SELECT ProfID, Vorname, Nachname, Raum FROM Professor WHERE Vorname = 'Peter';"
            ],
            "metadata": {
                "azdata_cell_guid": "e211e73e-46be-4b32-a8df-669025d40716",
                "language": "sql",
                "tags": []
            },
            "outputs": [
                {
                    "output_type": "display_data",
                    "data": {
                        "text/html": "Commands completed successfully."
                    },
                    "metadata": {}
                },
                {
                    "output_type": "display_data",
                    "data": {
                        "text/html": "(1 row affected)"
                    },
                    "metadata": {}
                },
                {
                    "output_type": "display_data",
                    "data": {
                        "text/html": "Total execution time: 00:00:00.005"
                    },
                    "metadata": {}
                },
                {
                    "output_type": "execute_result",
                    "metadata": {},
                    "execution_count": 67,
                    "data": {
                        "application/vnd.dataresource+json": {
                            "schema": {
                                "fields": [
                                    {
                                        "name": "ProfID"
                                    },
                                    {
                                        "name": "Vorname"
                                    },
                                    {
                                        "name": "Nachname"
                                    },
                                    {
                                        "name": "Raum"
                                    }
                                ]
                            },
                            "data": [
                                {
                                    "ProfID": "3",
                                    "Vorname": "Peter",
                                    "Nachname": "Von Matt",
                                    "Raum": "8"
                                }
                            ]
                        },
                        "text/html": [
                            "<table>",
                            "<tr><th>ProfID</th><th>Vorname</th><th>Nachname</th><th>Raum</th></tr>",
                            "<tr><td>3</td><td>Peter</td><td>Von Matt</td><td>8</td></tr>",
                            "</table>"
                        ]
                    }
                }
            ],
            "execution_count": 67
        },
        {
            "cell_type": "code",
            "source": [
                "USE [Schulverwaltung];\r\n",
                "GO\r\n",
                "\r\n",
                "SELECT COUNT(Vorname) AS Vor2019 FROM Student WHERE Eintrittsdatum < '2019-01-01';"
            ],
            "metadata": {
                "azdata_cell_guid": "12798f17-de86-4f10-b571-13ade912bd81",
                "language": "sql"
            },
            "outputs": [
                {
                    "output_type": "display_data",
                    "data": {
                        "text/html": "Commands completed successfully."
                    },
                    "metadata": {}
                },
                {
                    "output_type": "display_data",
                    "data": {
                        "text/html": "(1 row affected)"
                    },
                    "metadata": {}
                },
                {
                    "output_type": "display_data",
                    "data": {
                        "text/html": "Total execution time: 00:00:00.005"
                    },
                    "metadata": {}
                },
                {
                    "output_type": "execute_result",
                    "metadata": {},
                    "execution_count": 68,
                    "data": {
                        "application/vnd.dataresource+json": {
                            "schema": {
                                "fields": [
                                    {
                                        "name": "Vor2019"
                                    }
                                ]
                            },
                            "data": [
                                {
                                    "Vor2019": "5"
                                }
                            ]
                        },
                        "text/html": [
                            "<table>",
                            "<tr><th>Vor2019</th></tr>",
                            "<tr><td>5</td></tr>",
                            "</table>"
                        ]
                    }
                }
            ],
            "execution_count": 68
        },
        {
            "cell_type": "code",
            "source": [
                "SELECT COUNT(Vorname) AS KeinProf FROM Assistent WHERE ProfID IS NULL;"
            ],
            "metadata": {
                "azdata_cell_guid": "d750bce4-c3de-4bfb-8ea3-de5008141495",
                "language": "sql"
            },
            "outputs": [
                {
                    "output_type": "display_data",
                    "data": {
                        "text/html": "(1 row affected)"
                    },
                    "metadata": {}
                },
                {
                    "output_type": "display_data",
                    "data": {
                        "text/html": "Total execution time: 00:00:00.004"
                    },
                    "metadata": {}
                },
                {
                    "output_type": "execute_result",
                    "metadata": {},
                    "execution_count": 69,
                    "data": {
                        "application/vnd.dataresource+json": {
                            "schema": {
                                "fields": [
                                    {
                                        "name": "KeinProf"
                                    }
                                ]
                            },
                            "data": [
                                {
                                    "KeinProf": "2"
                                }
                            ]
                        },
                        "text/html": [
                            "<table>",
                            "<tr><th>KeinProf</th></tr>",
                            "<tr><td>2</td></tr>",
                            "</table>"
                        ]
                    }
                }
            ],
            "execution_count": 69
        },
        {
            "cell_type": "code",
            "source": [
                "SELECT Vorname, Nachname FROM Assistent WHERE Vorname LIKE '_r%';"
            ],
            "metadata": {
                "azdata_cell_guid": "4100a1e8-f0cf-4cd0-8c9e-8818bb810551",
                "language": "sql"
            },
            "outputs": [
                {
                    "output_type": "display_data",
                    "data": {
                        "text/html": "(2 rows affected)"
                    },
                    "metadata": {}
                },
                {
                    "output_type": "display_data",
                    "data": {
                        "text/html": "Total execution time: 00:00:00.005"
                    },
                    "metadata": {}
                },
                {
                    "output_type": "execute_result",
                    "metadata": {},
                    "execution_count": 70,
                    "data": {
                        "application/vnd.dataresource+json": {
                            "schema": {
                                "fields": [
                                    {
                                        "name": "Vorname"
                                    },
                                    {
                                        "name": "Nachname"
                                    }
                                ]
                            },
                            "data": [
                                {
                                    "Vorname": "Cristiano",
                                    "Nachname": "Ronaldo"
                                },
                                {
                                    "Vorname": "Arjen",
                                    "Nachname": "Robben"
                                }
                            ]
                        },
                        "text/html": [
                            "<table>",
                            "<tr><th>Vorname</th><th>Nachname</th></tr>",
                            "<tr><td>Cristiano</td><td>Ronaldo</td></tr>",
                            "<tr><td>Arjen</td><td>Robben</td></tr>",
                            "</table>"
                        ]
                    }
                }
            ],
            "execution_count": 70
        },
        {
            "cell_type": "code",
            "source": [
                "SELECT Vorname, Nachname, Geburtstag FROM Assistent WHERE Geburtstag = (SELECT MIN(Geburtstag) FROM Assistent);"
            ],
            "metadata": {
                "azdata_cell_guid": "0eccabb3-bae1-4a51-af46-e1d877c00ce6",
                "language": "sql"
            },
            "outputs": [
                {
                    "output_type": "display_data",
                    "data": {
                        "text/html": "(1 row affected)"
                    },
                    "metadata": {}
                },
                {
                    "output_type": "display_data",
                    "data": {
                        "text/html": "Total execution time: 00:00:00.005"
                    },
                    "metadata": {}
                },
                {
                    "output_type": "execute_result",
                    "metadata": {},
                    "execution_count": 71,
                    "data": {
                        "application/vnd.dataresource+json": {
                            "schema": {
                                "fields": [
                                    {
                                        "name": "Vorname"
                                    },
                                    {
                                        "name": "Nachname"
                                    },
                                    {
                                        "name": "Geburtstag"
                                    }
                                ]
                            },
                            "data": [
                                {
                                    "Vorname": "Andrea",
                                    "Nachname": "Pirlo",
                                    "Geburtstag": "1979-05-19"
                                }
                            ]
                        },
                        "text/html": [
                            "<table>",
                            "<tr><th>Vorname</th><th>Nachname</th><th>Geburtstag</th></tr>",
                            "<tr><td>Andrea</td><td>Pirlo</td><td>1979-05-19</td></tr>",
                            "</table>"
                        ]
                    }
                }
            ],
            "execution_count": 71
        },
        {
            "cell_type": "code",
            "source": [
                "SELECT COUNT(Vorname) AS MkNr13 FROM Student WHERE MatrikelNr LIKE '13%';"
            ],
            "metadata": {
                "azdata_cell_guid": "976f3050-077a-4efc-8ad1-acf87ac50e65",
                "language": "sql"
            },
            "outputs": [
                {
                    "output_type": "display_data",
                    "data": {
                        "text/html": "(1 row affected)"
                    },
                    "metadata": {}
                },
                {
                    "output_type": "display_data",
                    "data": {
                        "text/html": "Total execution time: 00:00:00.003"
                    },
                    "metadata": {}
                },
                {
                    "output_type": "execute_result",
                    "metadata": {},
                    "execution_count": 72,
                    "data": {
                        "application/vnd.dataresource+json": {
                            "schema": {
                                "fields": [
                                    {
                                        "name": "MkNr13"
                                    }
                                ]
                            },
                            "data": [
                                {
                                    "MkNr13": "5"
                                }
                            ]
                        },
                        "text/html": [
                            "<table>",
                            "<tr><th>MkNr13</th></tr>",
                            "<tr><td>5</td></tr>",
                            "</table>"
                        ]
                    }
                }
            ],
            "execution_count": 72
        },
        {
            "cell_type": "code",
            "source": [
                "SELECT Vorname, Nachname FROM Student WHERE Vorname LIKE '%a%' ORDER BY Nachname DESC;"
            ],
            "metadata": {
                "azdata_cell_guid": "8706f76f-0942-4c47-93ad-1773d9b69861",
                "language": "sql"
            },
            "outputs": [
                {
                    "output_type": "display_data",
                    "data": {
                        "text/html": "(11 rows affected)"
                    },
                    "metadata": {}
                },
                {
                    "output_type": "display_data",
                    "data": {
                        "text/html": "Total execution time: 00:00:00.005"
                    },
                    "metadata": {}
                },
                {
                    "output_type": "execute_result",
                    "metadata": {},
                    "execution_count": 73,
                    "data": {
                        "application/vnd.dataresource+json": {
                            "schema": {
                                "fields": [
                                    {
                                        "name": "Vorname"
                                    },
                                    {
                                        "name": "Nachname"
                                    }
                                ]
                            },
                            "data": [
                                {
                                    "Vorname": "Priska",
                                    "Nachname": "Weber"
                                },
                                {
                                    "Vorname": "Slobodan",
                                    "Nachname": "Stojanovic"
                                },
                                {
                                    "Vorname": "Zoran",
                                    "Nachname": "Stefanovski"
                                },
                                {
                                    "Vorname": "Marco",
                                    "Nachname": "Maggi"
                                },
                                {
                                    "Vorname": "Jean-Paul",
                                    "Nachname": "Léchenne"
                                },
                                {
                                    "Vorname": "Martin",
                                    "Nachname": "Isler"
                                },
                                {
                                    "Vorname": "Marian",
                                    "Nachname": "Genkinger"
                                },
                                {
                                    "Vorname": "Hans",
                                    "Nachname": "Dubach"
                                },
                                {
                                    "Vorname": "Paolo",
                                    "Nachname": "Di Lavello"
                                },
                                {
                                    "Vorname": "Eliane",
                                    "Nachname": "Burri"
                                },
                                {
                                    "Vorname": "Slobodanka",
                                    "Nachname": "Babaja"
                                }
                            ]
                        },
                        "text/html": [
                            "<table>",
                            "<tr><th>Vorname</th><th>Nachname</th></tr>",
                            "<tr><td>Priska</td><td>Weber</td></tr>",
                            "<tr><td>Slobodan</td><td>Stojanovic</td></tr>",
                            "<tr><td>Zoran</td><td>Stefanovski</td></tr>",
                            "<tr><td>Marco</td><td>Maggi</td></tr>",
                            "<tr><td>Jean-Paul</td><td>Léchenne</td></tr>",
                            "<tr><td>Martin</td><td>Isler</td></tr>",
                            "<tr><td>Marian</td><td>Genkinger</td></tr>",
                            "<tr><td>Hans</td><td>Dubach</td></tr>",
                            "<tr><td>Paolo</td><td>Di Lavello</td></tr>",
                            "<tr><td>Eliane</td><td>Burri</td></tr>",
                            "<tr><td>Slobodanka</td><td>Babaja</td></tr>",
                            "</table>"
                        ]
                    }
                }
            ],
            "execution_count": 73
        },
        {
            "cell_type": "code",
            "source": [
                "SELECT COUNT(Termin) AS NoteExist FROM Pruefung WHERE Note IS NOT NULL;"
            ],
            "metadata": {
                "azdata_cell_guid": "f073ec46-2789-437f-8283-feeb91c4334e",
                "language": "sql"
            },
            "outputs": [
                {
                    "output_type": "display_data",
                    "data": {
                        "text/html": "(1 row affected)"
                    },
                    "metadata": {}
                },
                {
                    "output_type": "display_data",
                    "data": {
                        "text/html": "Total execution time: 00:00:00.005"
                    },
                    "metadata": {}
                },
                {
                    "output_type": "execute_result",
                    "metadata": {},
                    "execution_count": 79,
                    "data": {
                        "application/vnd.dataresource+json": {
                            "schema": {
                                "fields": [
                                    {
                                        "name": "NoteExist"
                                    }
                                ]
                            },
                            "data": [
                                {
                                    "NoteExist": "9"
                                }
                            ]
                        },
                        "text/html": [
                            "<table>",
                            "<tr><th>NoteExist</th></tr>",
                            "<tr><td>9</td></tr>",
                            "</table>"
                        ]
                    }
                }
            ],
            "execution_count": 79
        },
        {
            "cell_type": "code",
            "source": [
                "SELECT COUNT(Vorname) AS BesuchKin\r\n",
                "FROM Student\r\n",
                "INNER JOIN VorlesungStudent ON VorlesungStudent.MatrikelNr = Student.MatrikelNr\r\n",
                "WHERE VorlesungStudent.VorlesungsNr = 7;"
            ],
            "metadata": {
                "azdata_cell_guid": "93306829-9341-47cd-a598-08376b2b48fe",
                "language": "sql",
                "tags": []
            },
            "outputs": [
                {
                    "output_type": "display_data",
                    "data": {
                        "text/html": "(1 row affected)"
                    },
                    "metadata": {}
                },
                {
                    "output_type": "display_data",
                    "data": {
                        "text/html": "Total execution time: 00:00:00.003"
                    },
                    "metadata": {}
                },
                {
                    "output_type": "execute_result",
                    "metadata": {},
                    "execution_count": 87,
                    "data": {
                        "application/vnd.dataresource+json": {
                            "schema": {
                                "fields": [
                                    {
                                        "name": "BesuchKin"
                                    }
                                ]
                            },
                            "data": [
                                {
                                    "BesuchKin": "4"
                                }
                            ]
                        },
                        "text/html": [
                            "<table>",
                            "<tr><th>BesuchKin</th></tr>",
                            "<tr><td>4</td></tr>",
                            "</table>"
                        ]
                    }
                }
            ],
            "execution_count": 87
        },
        {
            "cell_type": "code",
            "source": [
                "SELECT Vorname, Nachname\r\n",
                "FROM Student\r\n",
                "WHERE MatrikelNr IN (select MatrikelNr from VorlesungStudent group by MatrikelNr having count(*) >= 3 )"
            ],
            "metadata": {
                "azdata_cell_guid": "ab0a71a0-cacd-4cf9-b6a1-8315a19567a8",
                "language": "sql"
            },
            "outputs": [
                {
                    "output_type": "display_data",
                    "data": {
                        "text/html": "(3 rows affected)"
                    },
                    "metadata": {}
                },
                {
                    "output_type": "display_data",
                    "data": {
                        "text/html": "Total execution time: 00:00:00.012"
                    },
                    "metadata": {}
                },
                {
                    "output_type": "execute_result",
                    "metadata": {},
                    "execution_count": 93,
                    "data": {
                        "application/vnd.dataresource+json": {
                            "schema": {
                                "fields": [
                                    {
                                        "name": "Vorname"
                                    },
                                    {
                                        "name": "Nachname"
                                    }
                                ]
                            },
                            "data": [
                                {
                                    "Vorname": "Marian",
                                    "Nachname": "Genkinger"
                                },
                                {
                                    "Vorname": "Miguel",
                                    "Nachname": "Sanchez"
                                },
                                {
                                    "Vorname": "Slobodan",
                                    "Nachname": "Stojanovic"
                                }
                            ]
                        },
                        "text/html": [
                            "<table>",
                            "<tr><th>Vorname</th><th>Nachname</th></tr>",
                            "<tr><td>Marian</td><td>Genkinger</td></tr>",
                            "<tr><td>Miguel</td><td>Sanchez</td></tr>",
                            "<tr><td>Slobodan</td><td>Stojanovic</td></tr>",
                            "</table>"
                        ]
                    }
                }
            ],
            "execution_count": 93
        },
        {
            "cell_type": "code",
            "source": [
                "SELECT COUNT(*) AS AnzahlPruefungen\r\n",
                "FROM Pruefung\r\n",
                "WHERE ProfID = 7;"
            ],
            "metadata": {
                "azdata_cell_guid": "e5c2e485-7df2-489d-bff3-ccb0ae0630f0",
                "language": "sql"
            },
            "outputs": [
                {
                    "output_type": "display_data",
                    "data": {
                        "text/html": "(1 row affected)"
                    },
                    "metadata": {}
                },
                {
                    "output_type": "display_data",
                    "data": {
                        "text/html": "Total execution time: 00:00:00.005"
                    },
                    "metadata": {}
                },
                {
                    "output_type": "execute_result",
                    "metadata": {},
                    "execution_count": 101,
                    "data": {
                        "application/vnd.dataresource+json": {
                            "schema": {
                                "fields": [
                                    {
                                        "name": "AnzahlPruefungen"
                                    }
                                ]
                            },
                            "data": [
                                {
                                    "AnzahlPruefungen": "3"
                                }
                            ]
                        },
                        "text/html": [
                            "<table>",
                            "<tr><th>AnzahlPruefungen</th></tr>",
                            "<tr><td>3</td></tr>",
                            "</table>"
                        ]
                    }
                }
            ],
            "execution_count": 101
        },
        {
            "cell_type": "code",
            "source": [
                "SELECT COUNT(*) AS Anzahl55\r\n",
                "FROM Pruefung\r\n",
                "WHERE Note = 5.5;"
            ],
            "metadata": {
                "azdata_cell_guid": "ca168b72-e2f3-4b7e-93df-52cfbb89958d",
                "language": "sql"
            },
            "outputs": [
                {
                    "output_type": "display_data",
                    "data": {
                        "text/html": "(1 row affected)"
                    },
                    "metadata": {}
                },
                {
                    "output_type": "display_data",
                    "data": {
                        "text/html": "Total execution time: 00:00:00.005"
                    },
                    "metadata": {}
                },
                {
                    "output_type": "execute_result",
                    "metadata": {},
                    "execution_count": 102,
                    "data": {
                        "application/vnd.dataresource+json": {
                            "schema": {
                                "fields": [
                                    {
                                        "name": "Anzahl55"
                                    }
                                ]
                            },
                            "data": [
                                {
                                    "Anzahl55": "2"
                                }
                            ]
                        },
                        "text/html": [
                            "<table>",
                            "<tr><th>Anzahl55</th></tr>",
                            "<tr><td>2</td></tr>",
                            "</table>"
                        ]
                    }
                }
            ],
            "execution_count": 102
        },
        {
            "cell_type": "code",
            "source": [
                "SELECT COUNT(Vorname) AS LiveInBB FROM Student WHERE Wohnort LIKE '%Bern%' OR Wohnort LIKE '%Basel%';"
            ],
            "metadata": {
                "azdata_cell_guid": "ec9f8b2e-823d-4e84-b3d9-f2f93edfc159",
                "language": "sql"
            },
            "outputs": [
                {
                    "output_type": "display_data",
                    "data": {
                        "text/html": "(1 row affected)"
                    },
                    "metadata": {}
                },
                {
                    "output_type": "display_data",
                    "data": {
                        "text/html": "Total execution time: 00:00:00.004"
                    },
                    "metadata": {}
                },
                {
                    "output_type": "execute_result",
                    "metadata": {},
                    "execution_count": 107,
                    "data": {
                        "application/vnd.dataresource+json": {
                            "schema": {
                                "fields": [
                                    {
                                        "name": "LiveInBB"
                                    }
                                ]
                            },
                            "data": [
                                {
                                    "LiveInBB": "4"
                                }
                            ]
                        },
                        "text/html": [
                            "<table>",
                            "<tr><th>LiveInBB</th></tr>",
                            "<tr><td>4</td></tr>",
                            "</table>"
                        ]
                    }
                }
            ],
            "execution_count": 107
        },
        {
            "cell_type": "code",
            "source": [
                "SELECT COUNT(Vorname) AS NULLWohn FROM Student WHERE Wohnort IS NULL;"
            ],
            "metadata": {
                "azdata_cell_guid": "3d4303c3-8758-4ce4-88ed-9eaa645715d9",
                "language": "sql"
            },
            "outputs": [
                {
                    "output_type": "display_data",
                    "data": {
                        "text/html": "(1 row affected)"
                    },
                    "metadata": {}
                },
                {
                    "output_type": "display_data",
                    "data": {
                        "text/html": "Total execution time: 00:00:00.003"
                    },
                    "metadata": {}
                },
                {
                    "output_type": "execute_result",
                    "metadata": {},
                    "execution_count": 108,
                    "data": {
                        "application/vnd.dataresource+json": {
                            "schema": {
                                "fields": [
                                    {
                                        "name": "NULLWohn"
                                    }
                                ]
                            },
                            "data": [
                                {
                                    "NULLWohn": "4"
                                }
                            ]
                        },
                        "text/html": [
                            "<table>",
                            "<tr><th>NULLWohn</th></tr>",
                            "<tr><td>4</td></tr>",
                            "</table>"
                        ]
                    }
                }
            ],
            "execution_count": 108
        },
        {
            "cell_type": "code",
            "source": [
                "SELECT Vorname FROM Assistent WHERE Geburtstag = (SELECT MIN(Geburtstag) FROM Assistent);"
            ],
            "metadata": {
                "azdata_cell_guid": "d25ca715-4f71-4c63-85ea-c38f43fdcf0c",
                "language": "sql"
            },
            "outputs": [
                {
                    "output_type": "display_data",
                    "data": {
                        "text/html": "(1 row affected)"
                    },
                    "metadata": {}
                },
                {
                    "output_type": "display_data",
                    "data": {
                        "text/html": "Total execution time: 00:00:00.011"
                    },
                    "metadata": {}
                },
                {
                    "output_type": "execute_result",
                    "metadata": {},
                    "execution_count": 109,
                    "data": {
                        "application/vnd.dataresource+json": {
                            "schema": {
                                "fields": [
                                    {
                                        "name": "Vorname"
                                    }
                                ]
                            },
                            "data": [
                                {
                                    "Vorname": "Andrea"
                                }
                            ]
                        },
                        "text/html": [
                            "<table>",
                            "<tr><th>Vorname</th></tr>",
                            "<tr><td>Andrea</td></tr>",
                            "</table>"
                        ]
                    }
                }
            ],
            "execution_count": 109
        },
        {
            "cell_type": "code",
            "source": [
                "SELECT AVG(Note) Durchscnitt FROM Pruefung WHERE MatrikelNr = 133704;"
            ],
            "metadata": {
                "azdata_cell_guid": "3d6c808a-278e-4a47-b899-c31aacef6b5f",
                "language": "sql"
            },
            "outputs": [
                {
                    "output_type": "display_data",
                    "data": {
                        "text/html": "(1 row affected)"
                    },
                    "metadata": {}
                },
                {
                    "output_type": "display_data",
                    "data": {
                        "text/html": "Total execution time: 00:00:00.006"
                    },
                    "metadata": {}
                },
                {
                    "output_type": "execute_result",
                    "metadata": {},
                    "execution_count": 114,
                    "data": {
                        "application/vnd.dataresource+json": {
                            "schema": {
                                "fields": [
                                    {
                                        "name": "Durchscnitt"
                                    }
                                ]
                            },
                            "data": [
                                {
                                    "Durchscnitt": "4.750000"
                                }
                            ]
                        },
                        "text/html": [
                            "<table>",
                            "<tr><th>Durchscnitt</th></tr>",
                            "<tr><td>4.750000</td></tr>",
                            "</table>"
                        ]
                    }
                }
            ],
            "execution_count": 114
        },
        {
            "cell_type": "markdown",
            "source": [
                "### **Bonus Auswertung!**"
            ],
            "metadata": {
                "azdata_cell_guid": "9f8cd896-4415-4b43-a99d-353c636d1f3d"
            },
            "attachments": {}
        },
        {
            "cell_type": "code",
            "source": [
                "SELECT * FROM Vorlesung;"
            ],
            "metadata": {
                "azdata_cell_guid": "370d3709-5e6a-4d4c-bc61-470985957536",
                "language": "sql"
            },
            "outputs": [
{
    "output_type": "display_data",
    "data": {
        "text/html": "(11 rows affected)"
    },
    "metadata": {}
}, {
    "output_type": "display_data",
    "data": {
        "text/html": "Total execution time: 00:00:00.007"
    },
    "metadata": {}
}, {
    "output_type": "execute_result",
    "metadata": {},
    "execution_count": 115,
    "data": {
        "application/vnd.dataresource+json": {
            "schema": {
                "fields": [
                    {
                        "name": "VorlesungsNr"
                    },
                    {
                        "name": "ProfID"
                    },
                    {
                        "name": "Titel"
                    }
                ]
            },
            "data": [
                {
                    "VorlesungsNr": "1",
                    "ProfID": "3",
                    "Titel": "Ethik"
                },
                {
                    "VorlesungsNr": "2",
                    "ProfID": "4",
                    "Titel": "Elektrotechnik"
                },
                {
                    "VorlesungsNr": "3",
                    "ProfID": "3",
                    "Titel": "Sprachtheorie"
                },
                {
                    "VorlesungsNr": "4",
                    "ProfID": "5",
                    "Titel": "Radiologie"
                },
                {
                    "VorlesungsNr": "5",
                    "ProfID": "1",
                    "Titel": "Allgemeine Relativitätstheorie"
                },
                {
                    "VorlesungsNr": "6",
                    "ProfID": "1",
                    "Titel": "Quantenphysik"
                },
                {
                    "VorlesungsNr": "7",
                    "ProfID": "7",
                    "Titel": "Kinetik"
                },
                {
                    "VorlesungsNr": "8",
                    "ProfID": "3",
                    "Titel": "Literaturgeschichte"
                },
                {
                    "VorlesungsNr": "9",
                    "ProfID": "1",
                    "Titel": "Astrophysik"
                },
                {
                    "VorlesungsNr": "10",
                    "ProfID": "7",
                    "Titel": "Biochemie"
                },
                {
                    "VorlesungsNr": "11",
                    "ProfID": "2",
                    "Titel": "Physikalische Chemie"
                }
            ]
        },
        "text/html": [
            "<table>",
            "<tr><th>VorlesungsNr</th><th>ProfID</th><th>Titel</th></tr>",
            "<tr><td>1</td><td>3</td><td>Ethik</td></tr>",
            "<tr><td>2</td><td>4</td><td>Elektrotechnik</td></tr>",
            "<tr><td>3</td><td>3</td><td>Sprachtheorie</td></tr>",
            "<tr><td>4</td><td>5</td><td>Radiologie</td></tr>",
            "<tr><td>5</td><td>1</td><td>Allgemeine Relativitätstheorie</td></tr>",
            "<tr><td>6</td><td>1</td><td>Quantenphysik</td></tr>",
            "<tr><td>7</td><td>7</td><td>Kinetik</td></tr>",
            "<tr><td>8</td><td>3</td><td>Literaturgeschichte</td></tr>",
            "<tr><td>9</td><td>1</td><td>Astrophysik</td></tr>",
            "<tr><td>10</td><td>7</td><td>Biochemie</td></tr>",
            "<tr><td>11</td><td>2</td><td>Physikalische Chemie</td></tr>",
            "</table>"
        ]
    }
}
],
            "execution_count": 115
        }
    ]
}