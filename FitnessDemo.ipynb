{
    "metadata": {
        "kernelspec": {
            "name": "SQL",
            "display_name": "SQL",
            "language": "sql"
        },
        "language_info": {
            "name": "sql",
            "version": ""
        }
    },
    "nbformat_minor": 2,
    "nbformat": 4,
    "cells": [
        {
            "cell_type": "markdown",
            "source": [
                "### **Das ist meine erste Demo!**"
            ],
            "metadata": {
                "azdata_cell_guid": "3f7d8200-b418-4293-b0aa-954c511ad04d"
            },
            "attachments": {}
        },
        {
            "cell_type": "markdown",
            "source": [
                "Demo zu Operatoren, einige Codebeispoele zu Operatoren sind unten aufgeführt. (Aufgabe 1 - 13)"
            ],
            "metadata": {
                "azdata_cell_guid": "8971ca93-e3d4-4f49-a759-690e4feb147b"
            },
            "attachments": {}
        },
        {
            "cell_type": "code",
            "source": [
                "SELECT Vorname, Nachname FROM Kunden WHERE Geschlecht = 'w';"
            ],
            "metadata": {
                "azdata_cell_guid": "149d2b79-8fca-47a5-9111-517fa9d7a7ba",
                "language": "sql"
            },
            "outputs": [
                {
                    "output_type": "display_data",
                    "data": {
                        "text/html": "(4 rows affected)"
                    },
                    "metadata": {}
                },
                {
                    "output_type": "display_data",
                    "data": {
                        "text/html": "Total execution time: 00:00:00.029"
                    },
                    "metadata": {}
                },
                {
                    "output_type": "execute_result",
                    "metadata": {},
                    "execution_count": 4,
                    "data": {
                        "application/vnd.dataresource+json": {
                            "schema": {
                                "fields": [
                                    {
                                        "name": "Vorname"
                                    },
                                    {
                                        "name": "Nachname"
                                    }
                                ]
                            },
                            "data": [
                                {
                                    "Vorname": "Beatrix",
                                    "Nachname": "Hugentobler"
                                },
                                {
                                    "Vorname": "Franziska",
                                    "Nachname": "Tobler"
                                },
                                {
                                    "Vorname": "Petra",
                                    "Nachname": "Nussbaumer"
                                },
                                {
                                    "Vorname": "Erna",
                                    "Nachname": "Tschurtschenthaler"
                                }
                            ]
                        },
                        "text/html": [
                            "<table>",
                            "<tr><th>Vorname</th><th>Nachname</th></tr>",
                            "<tr><td>Beatrix</td><td>Hugentobler</td></tr>",
                            "<tr><td>Franziska</td><td>Tobler</td></tr>",
                            "<tr><td>Petra</td><td>Nussbaumer</td></tr>",
                            "<tr><td>Erna</td><td>Tschurtschenthaler</td></tr>",
                            "</table>"
                        ]
                    }
                }
            ],
            "execution_count": 4
        },
        {
            "cell_type": "code",
            "source": [
                "SELECT PLZ FROM Orte WHERE Ortname = 'Untersiggenthal';"
            ],
            "metadata": {
                "azdata_cell_guid": "068c98f2-87af-4109-b98d-fc90f99908d2",
                "language": "sql"
            },
            "outputs": [
                {
                    "output_type": "display_data",
                    "data": {
                        "text/html": "(1 row affected)"
                    },
                    "metadata": {}
                },
                {
                    "output_type": "display_data",
                    "data": {
                        "text/html": "Total execution time: 00:00:00.018"
                    },
                    "metadata": {}
                },
                {
                    "output_type": "execute_result",
                    "metadata": {},
                    "execution_count": 5,
                    "data": {
                        "application/vnd.dataresource+json": {
                            "schema": {
                                "fields": [
                                    {
                                        "name": "PLZ"
                                    }
                                ]
                            },
                            "data": [
                                {
                                    "PLZ": "5417"
                                }
                            ]
                        },
                        "text/html": [
                            "<table>",
                            "<tr><th>PLZ</th></tr>",
                            "<tr><td>5417</td></tr>",
                            "</table>"
                        ]
                    }
                }
            ],
            "execution_count": 5
        },
        {
            "cell_type": "code",
            "source": [
                "SELECT Ortname FROM Orte WHERE Kanton = 'ZG' ORDER BY Kanton ASC;"
            ],
            "metadata": {
                "azdata_cell_guid": "817aa687-bc17-482b-90f7-7cc0bc255dc4",
                "language": "sql"
            },
            "outputs": [
                {
                    "output_type": "display_data",
                    "data": {
                        "text/html": "(25 rows affected)"
                    },
                    "metadata": {}
                },
                {
                    "output_type": "display_data",
                    "data": {
                        "text/html": "Total execution time: 00:00:00.008"
                    },
                    "metadata": {}
                },
                {
                    "output_type": "execute_result",
                    "metadata": {},
                    "execution_count": 7,
                    "data": {
                        "application/vnd.dataresource+json": {
                            "schema": {
                                "fields": [
                                    {
                                        "name": "Ortname"
                                    }
                                ]
                            },
                            "data": [
                                {
                                    "Ortname": "Zug"
                                },
                                {
                                    "Ortname": "Edlibach"
                                },
                                {
                                    "Ortname": "Finstersee"
                                },
                                {
                                    "Ortname": "Allenwinden"
                                },
                                {
                                    "Ortname": "Morgarten"
                                },
                                {
                                    "Ortname": "Steinhausen"
                                },
                                {
                                    "Ortname": "Menzingen"
                                },
                                {
                                    "Ortname": "Unterägeri"
                                },
                                {
                                    "Ortname": "Neuägeri"
                                },
                                {
                                    "Ortname": "Oberägeri"
                                },
                                {
                                    "Ortname": "Alosen"
                                },
                                {
                                    "Ortname": "Zugerberg"
                                },
                                {
                                    "Ortname": "Oberwil b. Zug"
                                },
                                {
                                    "Ortname": "Walchwil"
                                },
                                {
                                    "Ortname": "Cham"
                                },
                                {
                                    "Ortname": "Hünenberg"
                                },
                                {
                                    "Ortname": "Hagendorn"
                                },
                                {
                                    "Ortname": "Baar"
                                },
                                {
                                    "Ortname": "Rotkreuz"
                                },
                                {
                                    "Ortname": "Neuheim"
                                },
                                {
                                    "Ortname": "Sihlbrugg"
                                },
                                {
                                    "Ortname": "Buonas"
                                },
                                {
                                    "Ortname": "Risch"
                                },
                                {
                                    "Ortname": "Holzhäusern ZG"
                                },
                                {
                                    "Ortname": "Hünenberg See"
                                }
                            ]
                        },
                        "text/html": [
                            "<table>",
                            "<tr><th>Ortname</th></tr>",
                            "<tr><td>Zug</td></tr>",
                            "<tr><td>Edlibach</td></tr>",
                            "<tr><td>Finstersee</td></tr>",
                            "<tr><td>Allenwinden</td></tr>",
                            "<tr><td>Morgarten</td></tr>",
                            "<tr><td>Steinhausen</td></tr>",
                            "<tr><td>Menzingen</td></tr>",
                            "<tr><td>Unterägeri</td></tr>",
                            "<tr><td>Neuägeri</td></tr>",
                            "<tr><td>Oberägeri</td></tr>",
                            "<tr><td>Alosen</td></tr>",
                            "<tr><td>Zugerberg</td></tr>",
                            "<tr><td>Oberwil b. Zug</td></tr>",
                            "<tr><td>Walchwil</td></tr>",
                            "<tr><td>Cham</td></tr>",
                            "<tr><td>Hünenberg</td></tr>",
                            "<tr><td>Hagendorn</td></tr>",
                            "<tr><td>Baar</td></tr>",
                            "<tr><td>Rotkreuz</td></tr>",
                            "<tr><td>Neuheim</td></tr>",
                            "<tr><td>Sihlbrugg</td></tr>",
                            "<tr><td>Buonas</td></tr>",
                            "<tr><td>Risch</td></tr>",
                            "<tr><td>Holzhäusern ZG</td></tr>",
                            "<tr><td>Hünenberg See</td></tr>",
                            "</table>"
                        ]
                    }
                }
            ],
            "execution_count": 7
        },
        {
            "cell_type": "code",
            "source": [
                "SELECT Ortname FROM Orte WHERE Ortname LIKE '%ägeri%';"
            ],
            "metadata": {
                "azdata_cell_guid": "996d3cf0-23d7-478f-a379-24866e640c41",
                "language": "sql"
            },
            "outputs": [
                {
                    "output_type": "display_data",
                    "data": {
                        "text/html": "(4 rows affected)"
                    },
                    "metadata": {}
                },
                {
                    "output_type": "display_data",
                    "data": {
                        "text/html": "Total execution time: 00:00:00.014"
                    },
                    "metadata": {}
                },
                {
                    "output_type": "execute_result",
                    "metadata": {},
                    "execution_count": 9,
                    "data": {
                        "application/vnd.dataresource+json": {
                            "schema": {
                                "fields": [
                                    {
                                        "name": "Ortname"
                                    }
                                ]
                            },
                            "data": [
                                {
                                    "Ortname": "Tägerig"
                                },
                                {
                                    "Ortname": "Unterägeri"
                                },
                                {
                                    "Ortname": "Neuägeri"
                                },
                                {
                                    "Ortname": "Oberägeri"
                                }
                            ]
                        },
                        "text/html": [
                            "<table>",
                            "<tr><th>Ortname</th></tr>",
                            "<tr><td>Tägerig</td></tr>",
                            "<tr><td>Unterägeri</td></tr>",
                            "<tr><td>Neuägeri</td></tr>",
                            "<tr><td>Oberägeri</td></tr>",
                            "</table>"
                        ]
                    }
                }
            ],
            "execution_count": 9
        },
        {
            "cell_type": "code",
            "source": [
                "SELECT Ortname, Kanton FROM Orte WHERE Ortname = 'Pully' OR Ortname = 'Muttenz' OR Ortname = 'Urdorf';"
            ],
            "metadata": {
                "azdata_cell_guid": "e6759d9e-5d3b-412d-abfa-19df1972c5d0",
                "language": "sql"
            },
            "outputs": [
                {
                    "output_type": "display_data",
                    "data": {
                        "text/html": "(3 rows affected)"
                    },
                    "metadata": {}
                },
                {
                    "output_type": "display_data",
                    "data": {
                        "text/html": "Total execution time: 00:00:00.009"
                    },
                    "metadata": {}
                },
                {
                    "output_type": "execute_result",
                    "metadata": {},
                    "execution_count": 12,
                    "data": {
                        "application/vnd.dataresource+json": {
                            "schema": {
                                "fields": [
                                    {
                                        "name": "Ortname"
                                    },
                                    {
                                        "name": "Kanton"
                                    }
                                ]
                            },
                            "data": [
                                {
                                    "Ortname": "Pully",
                                    "Kanton": "VD"
                                },
                                {
                                    "Ortname": "Muttenz",
                                    "Kanton": "BL"
                                },
                                {
                                    "Ortname": "Urdorf",
                                    "Kanton": "ZH"
                                }
                            ]
                        },
                        "text/html": [
                            "<table>",
                            "<tr><th>Ortname</th><th>Kanton</th></tr>",
                            "<tr><td>Pully</td><td>VD</td></tr>",
                            "<tr><td>Muttenz</td><td>BL</td></tr>",
                            "<tr><td>Urdorf</td><td>ZH</td></tr>",
                            "</table>"
                        ]
                    }
                }
            ],
            "execution_count": 12
        },
        {
            "cell_type": "code",
            "source": [
                "SELECT Vorname, Nachname, Krankenkasse FROM Kunden WHERE Krankenkasse = 'Group Mutuel'"
            ],
            "metadata": {
                "azdata_cell_guid": "8744ebe2-1289-4004-9edd-aa8f2a8a490a",
                "language": "sql"
            },
            "outputs": [
                {
                    "output_type": "display_data",
                    "data": {
                        "text/html": "(2 rows affected)"
                    },
                    "metadata": {}
                },
                {
                    "output_type": "display_data",
                    "data": {
                        "text/html": "Total execution time: 00:00:00.010"
                    },
                    "metadata": {}
                },
                {
                    "output_type": "execute_result",
                    "metadata": {},
                    "execution_count": 14,
                    "data": {
                        "application/vnd.dataresource+json": {
                            "schema": {
                                "fields": [
                                    {
                                        "name": "Vorname"
                                    },
                                    {
                                        "name": "Nachname"
                                    },
                                    {
                                        "name": "Krankenkasse"
                                    }
                                ]
                            },
                            "data": [
                                {
                                    "Vorname": "Viktor",
                                    "Nachname": "Meyer",
                                    "Krankenkasse": "Group Mutuel"
                                },
                                {
                                    "Vorname": "Petra",
                                    "Nachname": "Nussbaumer",
                                    "Krankenkasse": "Group Mutuel"
                                }
                            ]
                        },
                        "text/html": [
                            "<table>",
                            "<tr><th>Vorname</th><th>Nachname</th><th>Krankenkasse</th></tr>",
                            "<tr><td>Viktor</td><td>Meyer</td><td>Group Mutuel</td></tr>",
                            "<tr><td>Petra</td><td>Nussbaumer</td><td>Group Mutuel</td></tr>",
                            "</table>"
                        ]
                    }
                }
            ],
            "execution_count": 14
        },
        {
            "cell_type": "code",
            "source": [
                "SELECT Vorname, Nachname FROM Kunden WHERE Geschlecht = 'w' AND Vorname LIKE '%a';"
            ],
            "metadata": {
                "azdata_cell_guid": "be5790db-1958-41ec-8624-ce6189882ca5",
                "language": "sql"
            },
            "outputs": [
                {
                    "output_type": "display_data",
                    "data": {
                        "text/html": "(3 rows affected)"
                    },
                    "metadata": {}
                },
                {
                    "output_type": "display_data",
                    "data": {
                        "text/html": "Total execution time: 00:00:00.010"
                    },
                    "metadata": {}
                },
                {
                    "output_type": "execute_result",
                    "metadata": {},
                    "execution_count": 15,
                    "data": {
                        "application/vnd.dataresource+json": {
                            "schema": {
                                "fields": [
                                    {
                                        "name": "Vorname"
                                    },
                                    {
                                        "name": "Nachname"
                                    }
                                ]
                            },
                            "data": [
                                {
                                    "Vorname": "Franziska",
                                    "Nachname": "Tobler"
                                },
                                {
                                    "Vorname": "Petra",
                                    "Nachname": "Nussbaumer"
                                },
                                {
                                    "Vorname": "Erna",
                                    "Nachname": "Tschurtschenthaler"
                                }
                            ]
                        },
                        "text/html": [
                            "<table>",
                            "<tr><th>Vorname</th><th>Nachname</th></tr>",
                            "<tr><td>Franziska</td><td>Tobler</td></tr>",
                            "<tr><td>Petra</td><td>Nussbaumer</td></tr>",
                            "<tr><td>Erna</td><td>Tschurtschenthaler</td></tr>",
                            "</table>"
                        ]
                    }
                }
            ],
            "execution_count": 15
        },
        {
            "cell_type": "code",
            "source": [
                "SELECT Vorname, Nachname FROM Mitarbeiter WHERE Nachname = 'Müller';"
            ],
            "metadata": {
                "azdata_cell_guid": "2f084abf-5f57-4628-81d8-8db0cced2eb7",
                "language": "sql"
            },
            "outputs": [
                {
                    "output_type": "display_data",
                    "data": {
                        "text/html": "(1 row affected)"
                    },
                    "metadata": {}
                },
                {
                    "output_type": "display_data",
                    "data": {
                        "text/html": "Total execution time: 00:00:00.011"
                    },
                    "metadata": {}
                },
                {
                    "output_type": "execute_result",
                    "metadata": {},
                    "execution_count": 17,
                    "data": {
                        "application/vnd.dataresource+json": {
                            "schema": {
                                "fields": [
                                    {
                                        "name": "Vorname"
                                    },
                                    {
                                        "name": "Nachname"
                                    }
                                ]
                            },
                            "data": [
                                {
                                    "Vorname": "Jürg",
                                    "Nachname": "Müller"
                                }
                            ]
                        },
                        "text/html": [
                            "<table>",
                            "<tr><th>Vorname</th><th>Nachname</th></tr>",
                            "<tr><td>Jürg</td><td>Müller</td></tr>",
                            "</table>"
                        ]
                    }
                }
            ],
            "execution_count": 17
        },
        {
            "cell_type": "code",
            "source": [
                "SELECT Vorname, Nachname FROM Kunden WHERE Krankenkasse IS NULL;"
            ],
            "metadata": {
                "azdata_cell_guid": "4552f121-cb83-4100-87fd-abe05aeffd9f",
                "language": "sql"
            },
            "outputs": [
                {
                    "output_type": "display_data",
                    "data": {
                        "text/html": "(2 rows affected)"
                    },
                    "metadata": {}
                },
                {
                    "output_type": "display_data",
                    "data": {
                        "text/html": "Total execution time: 00:00:00.008"
                    },
                    "metadata": {}
                },
                {
                    "output_type": "execute_result",
                    "metadata": {},
                    "execution_count": 19,
                    "data": {
                        "application/vnd.dataresource+json": {
                            "schema": {
                                "fields": [
                                    {
                                        "name": "Vorname"
                                    },
                                    {
                                        "name": "Nachname"
                                    }
                                ]
                            },
                            "data": [
                                {
                                    "Vorname": "Yanick",
                                    "Nachname": "Merz"
                                },
                                {
                                    "Vorname": "Lars",
                                    "Nachname": "Ramseier"
                                }
                            ]
                        },
                        "text/html": [
                            "<table>",
                            "<tr><th>Vorname</th><th>Nachname</th></tr>",
                            "<tr><td>Yanick</td><td>Merz</td></tr>",
                            "<tr><td>Lars</td><td>Ramseier</td></tr>",
                            "</table>"
                        ]
                    }
                }
            ],
            "execution_count": 19
        },
        {
            "cell_type": "code",
            "source": [
                "SELECT Ortname FROM Orte WHERE Kanton NOT LIKE 'Zürich' OR Kanton NOT LIKE 'Waadt' OR Kanton NOT LIKE 'Wallis';"
            ],
            "metadata": {
                "azdata_cell_guid": "cb9333c8-b54c-465e-b06f-b9eff7b2f745",
                "language": "sql"
            },
            "outputs": [
                {
                    "output_type": "display_data",
                    "data": {
                        "text/html": "(4107 rows affected)"
                    },
                    "metadata": {}
                },
                {
                    "output_type": "display_data",
                    "data": {
                        "text/html": "Total execution time: 00:00:00.032"
                    },
                    "metadata": {}
                },
                {
                    "output_type": "execute_result",
                    "metadata": {},
                    "execution_count": 20,
                    "data": {
                        "application/vnd.dataresource+json": {
                            "schema": {
                                "fields": [
                                    {
                                        "name": "Ortname"
                                    }
                                ]
                            },
                            "data": [
                                {
                                    "Ortname": "Lausanne"
                                },
                                {
                                    "Ortname": "Lausanne 25"
                                },
                                {
                                    "Ortname": "Lausanne 26"
                                },
                                {
                                    "Ortname": "Lausanne 27"
                                },
                                {
                                    "Ortname": "Lausanne"
                                },
                                {
                                    "Ortname": "Lausanne"
                                },
                                {
                                    "Ortname": "Lausanne"
                                },
                                {
                                    "Ortname": "Lausanne"
                                },
                                {
                                    "Ortname": "Lausanne"
                                },
                                {
                                    "Ortname": "Prilly"
                                },
                                {
                                    "Ortname": "Pully"
                                },
                                {
                                    "Ortname": "Lausanne"
                                },
                                {
                                    "Ortname": "Lausanne"
                                },
                                {
                                    "Ortname": "Lausanne"
                                },
                                {
                                    "Ortname": "Lausanne"
                                },
                                {
                                    "Ortname": "Lausanne"
                                },
                                {
                                    "Ortname": "Renens VD"
                                },
                                {
                                    "Ortname": "Chavannes-près-Renens"
                                },
                                {
                                    "Ortname": "Crissier"
                                },
                                {
                                    "Ortname": "Ecublens VD"
                                },
                                {
                                    "Ortname": "St-Sulpice VD"
                                },
                                {
                                    "Ortname": "Lonay"
                                },
                                {
                                    "Ortname": "Préverenges"
                                },
                                {
                                    "Ortname": "Bussigny"
                                },
                                {
                                    "Ortname": "Romanel-sur-Lausanne"
                                },
                                {
                                    "Ortname": "Cheseaux-sur-Lausanne"
                                },
                                {
                                    "Ortname": "Etagnières"
                                },
                                {
                                    "Ortname": "Bercher"
                                },
                                {
                                    "Ortname": "Echallens"
                                },
                                {
                                    "Ortname": "St-Barthélemy VD"
                                },
                                {
                                    "Ortname": "Oulens-sous-Echallens"
                                },
                                {
                                    "Ortname": "Bettens"
                                },
                                {
                                    "Ortname": "Villars-le-Terroir"
                                },
                                {
                                    "Ortname": "Epautheyres"
                                },
                                {
                                    "Ortname": "Dommartin"
                                },
                                {
                                    "Ortname": "Peyres-Possens"
                                },
                                {
                                    "Ortname": "Boulens"
                                },
                                {
                                    "Ortname": "Poliez-le-Grand"
                                },
                                {
                                    "Ortname": "Poliez-Pittet"
                                },
                                {
                                    "Ortname": "Bottens"
                                },
                                {
                                    "Ortname": "Bretigny-sur-Morrens"
                                },
                                {
                                    "Ortname": "Boussens"
                                },
                                {
                                    "Ortname": "Bournens"
                                },
                                {
                                    "Ortname": "Sullens"
                                },
                                {
                                    "Ortname": "Assens"
                                },
                                {
                                    "Ortname": "Sugnens"
                                },
                                {
                                    "Ortname": "Fey"
                                },
                                {
                                    "Ortname": "Ogens"
                                },
                                {
                                    "Ortname": "Bioley-Magnoux"
                                },
                                {
                                    "Ortname": "Bioley-Orjulaz"
                                },
                                {
                                    "Ortname": "Le Mont-sur-Lausanne"
                                },
                                {
                                    "Ortname": "Cugy VD"
                                },
                                {
                                    "Ortname": "Morrens VD"
                                },
                                {
                                    "Ortname": "Froideville"
                                },
                                {
                                    "Ortname": "Thierrens"
                                },
                                {
                                    "Ortname": "Epalinges"
                                },
                                {
                                    "Ortname": "Savigny"
                                },
                                {
                                    "Ortname": "Mézières VD"
                                },
                                {
                                    "Ortname": "Belmont-sur-Lausanne"
                                },
                                {
                                    "Ortname": "La Conversion"
                                },
                                {
                                    "Ortname": "Paudex"
                                },
                                {
                                    "Ortname": "Lutry"
                                },
                                {
                                    "Ortname": "Cully"
                                },
                                {
                                    "Ortname": "Riex"
                                },
                                {
                                    "Ortname": "Epesses"
                                },
                                {
                                    "Ortname": "Villars-Tiercelin"
                                },
                                {
                                    "Ortname": "Peney-le-Jorat"
                                },
                                {
                                    "Ortname": "Villars-Mendraz"
                                },
                                {
                                    "Ortname": "Sottens"
                                },
                                {
                                    "Ortname": "Chapelle-sur-Moudon"
                                },
                                {
                                    "Ortname": "St-Cierges"
                                },
                                {
                                    "Ortname": "Mollie-Margot"
                                },
                                {
                                    "Ortname": "Les Cullayes"
                                },
                                {
                                    "Ortname": "Montpreveyres"
                                },
                                {
                                    "Ortname": "Corcelles-le-Jorat"
                                },
                                {
                                    "Ortname": "Ropraz"
                                },
                                {
                                    "Ortname": "Carrouge VD"
                                },
                                {
                                    "Ortname": "Vulliens"
                                },
                                {
                                    "Ortname": "Vucherens"
                                },
                                {
                                    "Ortname": "Syens"
                                },
                                {
                                    "Ortname": "Ferlens VD"
                                },
                                {
                                    "Ortname": "Servion"
                                },
                                {
                                    "Ortname": "Essertes"
                                },
                                {
                                    "Ortname": "Auboranges"
                                },
                                {
                                    "Ortname": "Morges"
                                },
                                {
                                    "Ortname": "Echichens"
                                },
                                {
                                    "Ortname": "Lussy-sur-Morges"
                                },
                                {
                                    "Ortname": "Lully VD"
                                },
                                {
                                    "Ortname": "Tolochenaz"
                                },
                                {
                                    "Ortname": "Monnaz"
                                },
                                {
                                    "Ortname": "Vaux-sur-Morges"
                                },
                                {
                                    "Ortname": "Clarmont"
                                },
                                {
                                    "Ortname": "Reverolle"
                                },
                                {
                                    "Ortname": "St-Saphorin-sur-Morges"
                                },
                                {
                                    "Ortname": "Colombier VD"
                                },
                                {
                                    "Ortname": "Vullierens"
                                },
                                {
                                    "Ortname": "Cottens VD"
                                },
                                {
                                    "Ortname": "Grancy"
                                },
                                {
                                    "Ortname": "Senarclens"
                                },
                                {
                                    "Ortname": "Bremblens"
                                },
                                {
                                    "Ortname": "Romanel-sur-Morges"
                                },
                                {
                                    "Ortname": "Aclens"
                                },
                                {
                                    "Ortname": "Gollion"
                                },
                                {
                                    "Ortname": "Vufflens-le-Château"
                                },
                                {
                                    "Ortname": "Denens"
                                },
                                {
                                    "Ortname": "Bussy-Chardonney"
                                },
                                {
                                    "Ortname": "Yens"
                                },
                                {
                                    "Ortname": "Villars-sous-Yens"
                                },
                                {
                                    "Ortname": "Ballens"
                                },
                                {
                                    "Ortname": "Berolle"
                                },
                                {
                                    "Ortname": "Mollens VD"
                                },
                                {
                                    "Ortname": "Montricher"
                                },
                                {
                                    "Ortname": "Pampigny"
                                },
                                {
                                    "Ortname": "Sévery"
                                },
                                {
                                    "Ortname": "Apples"
                                },
                                {
                                    "Ortname": "Bière"
                                },
                                {
                                    "Ortname": "L'Isle"
                                },
                                {
                                    "Ortname": "St-Prex"
                                },
                                {
                                    "Ortname": "Etoy"
                                },
                                {
                                    "Ortname": "Buchillon"
                                },
                                {
                                    "Ortname": "Allaman"
                                },
                                {
                                    "Ortname": "Perroy"
                                },
                                {
                                    "Ortname": "Aubonne"
                                },
                                {
                                    "Ortname": "Bougy-Villars"
                                },
                                {
                                    "Ortname": "Féchy"
                                },
                                {
                                    "Ortname": "Montherod"
                                },
                                {
                                    "Ortname": "Lavigny"
                                },
                                {
                                    "Ortname": "St-Livres"
                                },
                                {
                                    "Ortname": "Rolle"
                                },
                                {
                                    "Ortname": "Gilly"
                                },
                                {
                                    "Ortname": "Bursins"
                                },
                                {
                                    "Ortname": "Vinzel"
                                },
                                {
                                    "Ortname": "Luins"
                                },
                                {
                                    "Ortname": "Mont-sur-Rolle"
                                },
                                {
                                    "Ortname": "Essertines-sur-Rolle"
                                },
                                {
                                    "Ortname": "St-Oyens"
                                },
                                {
                                    "Ortname": "Saubraz"
                                },
                                {
                                    "Ortname": "Gimel"
                                },
                                {
                                    "Ortname": "Gland"
                                },
                                {
                                    "Ortname": "Prangins"
                                },
                                {
                                    "Ortname": "Genève"
                                },
                                {
                                    "Ortname": "Genève"
                                },
                                {
                                    "Ortname": "Genève"
                                },
                                {
                                    "Ortname": "Genève"
                                },
                                {
                                    "Ortname": "Genève"
                                },
                                {
                                    "Ortname": "Genève"
                                },
                                {
                                    "Ortname": "Genève"
                                },
                                {
                                    "Ortname": "Genève"
                                },
                                {
                                    "Ortname": "Genève"
                                },
                                {
                                    "Ortname": "Genève"
                                },
                                {
                                    "Ortname": "Grand-Lancy"
                                },
                                {
                                    "Ortname": "Petit-Lancy"
                                },
                                {
                                    "Ortname": "Onex"
                                },
                                {
                                    "Ortname": "Vernier"
                                },
                                {
                                    "Ortname": "Genève 15 Aéroport"
                                },
                                {
                                    "Ortname": "Cointrin"
                                },
                                {
                                    "Ortname": "Meyrin"
                                },
                                {
                                    "Ortname": "Le Grand-Saconnex"
                                },
                                {
                                    "Ortname": "Le Lignon"
                                },
                                {
                                    "Ortname": "Aïre"
                                },
                                {
                                    "Ortname": "Châtelaine"
                                },
                                {
                                    "Ortname": "Les Avanchets"
                                },
                                {
                                    "Ortname": "Vésenaz"
                                },
                                {
                                    "Ortname": "Cologny"
                                },
                                {
                                    "Ortname": "Chêne-Bougeries"
                                },
                                {
                                    "Ortname": "Chêne-Bourg"
                                },
                                {
                                    "Ortname": "Thônex"
                                },
                                {
                                    "Ortname": "Carouge GE"
                                },
                                {
                                    "Ortname": "Les Acacias"
                                },
                                {
                                    "Ortname": "Plan-les-Ouates"
                                },
                                {
                                    "Ortname": "Conches"
                                },
                                {
                                    "Ortname": "Confignon"
                                },
                                {
                                    "Ortname": "Bernex"
                                },
                                {
                                    "Ortname": "Vessy"
                                },
                                {
                                    "Ortname": "Cartigny"
                                },
                                {
                                    "Ortname": "Avully"
                                },
                                {
                                    "Ortname": "Collex"
                                },
                                {
                                    "Ortname": "Puplinge"
                                },
                                {
                                    "Ortname": "Satigny"
                                },
                                {
                                    "Ortname": "Presinge"
                                },
                                {
                                    "Ortname": "Choulex"
                                },
                                {
                                    "Ortname": "Collonge-Bellerive"
                                },
                                {
                                    "Ortname": "Corsier GE"
                                },
                                {
                                    "Ortname": "Anières"
                                },
                                {
                                    "Ortname": "Hermance"
                                },
                                {
                                    "Ortname": "Gy"
                                },
                                {
                                    "Ortname": "Meinier"
                                },
                                {
                                    "Ortname": "Vandoeuvres"
                                },
                                {
                                    "Ortname": "Jussy"
                                },
                                {
                                    "Ortname": "Veyrier"
                                },
                                {
                                    "Ortname": "Troinex"
                                },
                                {
                                    "Ortname": "La Croix-de-Rozon"
                                },
                                {
                                    "Ortname": "Perly"
                                },
                                {
                                    "Ortname": "Nyon"
                                },
                                {
                                    "Ortname": "Borex"
                                },
                                {
                                    "Ortname": "La Rippe"
                                },
                                {
                                    "Ortname": "Chavannes-de-Bogis"
                                },
                                {
                                    "Ortname": "Grens"
                                },
                                {
                                    "Ortname": "Chéserex"
                                },
                                {
                                    "Ortname": "Gingins"
                                },
                                {
                                    "Ortname": "Trélex"
                                },
                                {
                                    "Ortname": "Givrins"
                                },
                                {
                                    "Ortname": "Genolier"
                                },
                                {
                                    "Ortname": "Le Muids"
                                },
                                {
                                    "Ortname": "Arzier"
                                },
                                {
                                    "Ortname": "Burtigny"
                                },
                                {
                                    "Ortname": "Marchissy"
                                },
                                {
                                    "Ortname": "Le Vaud"
                                },
                                {
                                    "Ortname": "Bassins"
                                },
                                {
                                    "Ortname": "Longirod"
                                },
                                {
                                    "Ortname": "St-George"
                                },
                                {
                                    "Ortname": "Eysins"
                                },
                                {
                                    "Ortname": "Crassier"
                                },
                                {
                                    "Ortname": "St-Cergue"
                                },
                                {
                                    "Ortname": "La Cure"
                                },
                                {
                                    "Ortname": "Duillier"
                                },
                                {
                                    "Ortname": "Begnins"
                                },
                                {
                                    "Ortname": "Russin"
                                },
                                {
                                    "Ortname": "Dardagny"
                                },
                                {
                                    "Ortname": "La Plaine"
                                },
                                {
                                    "Ortname": "Chancy"
                                },
                                {
                                    "Ortname": "Athenaz (Avusy)"
                                },
                                {
                                    "Ortname": "Soral"
                                },
                                {
                                    "Ortname": "Laconnex"
                                },
                                {
                                    "Ortname": "Aire-la-Ville"
                                },
                                {
                                    "Ortname": "Versoix"
                                },
                                {
                                    "Ortname": "Commugny"
                                },
                                {
                                    "Ortname": "Chambésy"
                                },
                                {
                                    "Ortname": "Bellevue"
                                },
                                {
                                    "Ortname": "Genthod"
                                },
                                {
                                    "Ortname": "Coppet"
                                },
                                {
                                    "Ortname": "Founex"
                                },
                                {
                                    "Ortname": "Céligny"
                                },
                                {
                                    "Ortname": "Crans-près-Céligny"
                                },
                                {
                                    "Ortname": "Vufflens-la-Ville"
                                },
                                {
                                    "Ortname": "Cossonay-Ville"
                                },
                                {
                                    "Ortname": "Dizy"
                                },
                                {
                                    "Ortname": "Lussery-Villars"
                                },
                                {
                                    "Ortname": "Penthalaz"
                                },
                                {
                                    "Ortname": "La Sarraz"
                                },
                                {
                                    "Ortname": "Orny"
                                },
                                {
                                    "Ortname": "Chevilly"
                                },
                                {
                                    "Ortname": "Vallorbe"
                                },
                                {
                                    "Ortname": "Ballaigues"
                                },
                                {
                                    "Ortname": "Orient"
                                },
                                {
                                    "Ortname": "Les Bioux"
                                },
                                {
                                    "Ortname": "L'Abbaye"
                                },
                                {
                                    "Ortname": "Le Pont"
                                },
                                {
                                    "Ortname": "Les Charbonnières"
                                },
                                {
                                    "Ortname": "Le Lieu"
                                },
                                {
                                    "Ortname": "Le Sentier"
                                },
                                {
                                    "Ortname": "Le Brassus"
                                },
                                {
                                    "Ortname": "Daillens"
                                },
                                {
                                    "Ortname": "Penthaz"
                                },
                                {
                                    "Ortname": "La Chaux (Cossonay)"
                                },
                                {
                                    "Ortname": "Cuarnens"
                                },
                                {
                                    "Ortname": "Ferreyres"
                                },
                                {
                                    "Ortname": "Moiry VD"
                                },
                                {
                                    "Ortname": "Arnex-sur-Orbe"
                                },
                                {
                                    "Ortname": "Pompaples"
                                },
                                {
                                    "Ortname": "Eclépens"
                                },
                                {
                                    "Ortname": "Bretonnières"
                                },
                                {
                                    "Ortname": "Croy"
                                },
                                {
                                    "Ortname": "Romainmôtier"
                                },
                                {
                                    "Ortname": "Premier"
                                },
                                {
                                    "Ortname": "Vaulion"
                                },
                                {
                                    "Ortname": "Juriens"
                                },
                                {
                                    "Ortname": "La Praz"
                                },
                                {
                                    "Ortname": "Mont-la-Ville"
                                },
                                {
                                    "Ortname": "Orbe"
                                },
                                {
                                    "Ortname": "Agiez"
                                },
                                {
                                    "Ortname": "Bofflens"
                                },
                                {
                                    "Ortname": "Montcherand"
                                },
                                {
                                    "Ortname": "L'Abergement"
                                },
                                {
                                    "Ortname": "Les Clées"
                                },
                                {
                                    "Ortname": "Lignerolle"
                                },
                                {
                                    "Ortname": "Valeyres-sous-Rances"
                                },
                                {
                                    "Ortname": "Rances"
                                },
                                {
                                    "Ortname": "Chavornay"
                                },
                                {
                                    "Ortname": "Bavois"
                                },
                                {
                                    "Ortname": "Corcelles-sur-Chavornay"
                                },
                                {
                                    "Ortname": "Penthéréaz"
                                },
                                {
                                    "Ortname": "Goumoens-la-Ville"
                                },
                                {
                                    "Ortname": "Yverdon-les-Bains"
                                },
                                {
                                    "Ortname": "Essertines-sur-Yverdon"
                                },
                                {
                                    "Ortname": "Pailly"
                                },
                                {
                                    "Ortname": "Vuarrens"
                                },
                                {
                                    "Ortname": "Fiez"
                                },
                                {
                                    "Ortname": "Fontaines-sur-Grandson"
                                },
                                {
                                    "Ortname": "Villars-Burquin"
                                },
                                {
                                    "Ortname": "Mauborget"
                                },
                                {
                                    "Ortname": "Giez"
                                },
                                {
                                    "Ortname": "Orges"
                                },
                                {
                                    "Ortname": "Vugelles-La Mothe"
                                },
                                {
                                    "Ortname": "Pomy"
                                },
                                {
                                    "Ortname": "Cronay"
                                },
                                {
                                    "Ortname": "Donneloye"
                                },
                                {
                                    "Ortname": "Prahins"
                                },
                                {
                                    "Ortname": "Chanéaz"
                                },
                                {
                                    "Ortname": "Valeyres-sous-Ursins"
                                },
                                {
                                    "Ortname": "Orzens"
                                },
                                {
                                    "Ortname": "Rueyres"
                                },
                                {
                                    "Ortname": "Cuarny"
                                },
                                {
                                    "Ortname": "Bonvillars"
                                },
                                {
                                    "Ortname": "Champagne"
                                },
                                {
                                    "Ortname": "Novalles"
                                },
                                {
                                    "Ortname": "Fontanezier"
                                },
                                {
                                    "Ortname": "Molondin"
                                },
                                {
                                    "Ortname": "Grandson"
                                },
                                {
                                    "Ortname": "Onnens VD"
                                },
                                {
                                    "Ortname": "Concise"
                                },
                                {
                                    "Ortname": "Corcelles-près-Concise"
                                },
                                {
                                    "Ortname": "Belmont-sur-Yverdon"
                                },
                                {
                                    "Ortname": "Suchy"
                                },
                                {
                                    "Ortname": "Ependes VD"
                                },
                                {
                                    "Ortname": "Essert-Pittet"
                                },
                                {
                                    "Ortname": "Treycovagnes"
                                },
                                {
                                    "Ortname": "Suscévaz"
                                },
                                {
                                    "Ortname": "Mathod"
                                },
                                {
                                    "Ortname": "Valeyres-sous-Montagny"
                                },
                                {
                                    "Ortname": "Montagny-près-Yverdon"
                                },
                                {
                                    "Ortname": "Champvent"
                                },
                                {
                                    "Ortname": "Vuiteboeuf"
                                },
                                {
                                    "Ortname": "Baulmes"
                                },
                                {
                                    "Ortname": "Ste-Croix"
                                },
                                {
                                    "Ortname": "La Sagne (Ste-Croix)"
                                },
                                {
                                    "Ortname": "L'Auberson"
                                },
                                {
                                    "Ortname": "Les Rasses"
                                },
                                {
                                    "Ortname": "Bullet"
                                },
                                {
                                    "Ortname": "Le Château-de-Ste-Croix"
                                },
                                {
                                    "Ortname": "Yvonand"
                                },
                                {
                                    "Ortname": "Rovray"
                                },
                                {
                                    "Ortname": "Chavannes-le-Chêne"
                                },
                                {
                                    "Ortname": "Chêne-Pâquier"
                                },
                                {
                                    "Ortname": "Cheyres"
                                },
                                {
                                    "Ortname": "Estavayer-le-Lac"
                                },
                                {
                                    "Ortname": "Font"
                                },
                                {
                                    "Ortname": "Châbles FR"
                                },
                                {
                                    "Ortname": "Montet (Broye)"
                                },
                                {
                                    "Ortname": "Cugy FR"
                                },
                                {
                                    "Ortname": "Bussy FR"
                                },
                                {
                                    "Ortname": "Aumont"
                                },
                                {
                                    "Ortname": "Nuvilly"
                                },
                                {
                                    "Ortname": "Vuissens"
                                },
                                {
                                    "Ortname": "Champtauroz"
                                },
                                {
                                    "Ortname": "Treytorrens (Payerne)"
                                },
                                {
                                    "Ortname": "Murist"
                                },
                                {
                                    "Ortname": "Moudon"
                                },
                                {
                                    "Ortname": "Chavannes-sur-Moudon"
                                },
                                {
                                    "Ortname": "Hermenches"
                                },
                                {
                                    "Ortname": "Bussy-sur-Moudon"
                                },
                                {
                                    "Ortname": "Oulens-sur-Lucens"
                                },
                                {
                                    "Ortname": "Villars-le-Comte"
                                },
                                {
                                    "Ortname": "Neyruz-sur-Moudon"
                                },
                                {
                                    "Ortname": "Denezy"
                                },
                                {
                                    "Ortname": "Lucens"
                                },
                                {
                                    "Ortname": "Curtilles"
                                },
                                {
                                    "Ortname": "Granges-près-Marnand"
                                },
                                {
                                    "Ortname": "Villeneuve FR"
                                },
                                {
                                    "Ortname": "Surpierre"
                                },
                                {
                                    "Ortname": "Cheiry"
                                },
                                {
                                    "Ortname": "Payerne"
                                },
                                {
                                    "Ortname": "Fétigny"
                                },
                                {
                                    "Ortname": "Ménières"
                                },
                                {
                                    "Ortname": "Sassel"
                                },
                                {
                                    "Ortname": "Combremont-le-Petit"
                                },
                                {
                                    "Ortname": "Forel-sur-Lucens"
                                },
                                {
                                    "Ortname": "Cremin"
                                },
                                {
                                    "Ortname": "Rueyres-les-Prés"
                                },
                                {
                                    "Ortname": "Grandcour"
                                },
                                {
                                    "Ortname": "Gletterens"
                                },
                                {
                                    "Ortname": "Chevroux"
                                },
                                {
                                    "Ortname": "Vers-chez-Perrin"
                                },
                                {
                                    "Ortname": "Trey"
                                },
                                {
                                    "Ortname": "Châtonnaye"
                                },
                                {
                                    "Ortname": "Sédeilles"
                                },
                                {
                                    "Ortname": "Villarzel"
                                },
                                {
                                    "Ortname": "Villars-Bramard"
                                },
                                {
                                    "Ortname": "Dompierre VD"
                                },
                                {
                                    "Ortname": "Combremont-le-Grand"
                                },
                                {
                                    "Ortname": "Corcelles-près-Payerne"
                                },
                                {
                                    "Ortname": "Dompierre FR"
                                },
                                {
                                    "Ortname": "Domdidier"
                                },
                                {
                                    "Ortname": "Missy"
                                },
                                {
                                    "Ortname": "Autavaux"
                                },
                                {
                                    "Ortname": "Delley"
                                },
                                {
                                    "Ortname": "Portalban"
                                },
                                {
                                    "Ortname": "St-Aubin FR"
                                },
                                {
                                    "Ortname": "Avenches"
                                },
                                {
                                    "Ortname": "Villarepos"
                                },
                                {
                                    "Ortname": "Villars-le-Grand"
                                },
                                {
                                    "Ortname": "Salavaux"
                                },
                                {
                                    "Ortname": "Vallamand"
                                },
                                {
                                    "Ortname": "Montmagny"
                                },
                                {
                                    "Ortname": "Chabrey"
                                },
                                {
                                    "Ortname": "Constantine"
                                },
                                {
                                    "Ortname": "Cudrefin"
                                },
                                {
                                    "Ortname": "Faoug"
                                },
                                {
                                    "Ortname": "Palézieux-Village"
                                },
                                {
                                    "Ortname": "Châtillens"
                                },
                                {
                                    "Ortname": "Ecublens FR"
                                },
                                {
                                    "Ortname": "Henniez"
                                },
                                {
                                    "Ortname": "Marnand"
                                },
                                {
                                    "Ortname": "La Croix (Lutry)"
                                },
                                {
                                    "Ortname": "Grandvaux"
                                },
                                {
                                    "Ortname": "Aran"
                                },
                                {
                                    "Ortname": "Puidoux"
                                },
                                {
                                    "Ortname": "Chexbres"
                                },
                                {
                                    "Ortname": "Forel (Lavaux)"
                                },
                                {
                                    "Ortname": "Palézieux"
                                },
                                {
                                    "Ortname": "Granges (Veveyse)"
                                },
                                {
                                    "Ortname": "Bossonnens"
                                },
                                {
                                    "Ortname": "Attalens"
                                },
                                {
                                    "Ortname": "Remaufens"
                                },
                                {
                                    "Ortname": "Châtel-St-Denis"
                                },
                                {
                                    "Ortname": "Les Paccots"
                                },
                                {
                                    "Ortname": "Semsales"
                                },
                                {
                                    "Ortname": "La Verrerie"
                                },
                                {
                                    "Ortname": "Vaulruz"
                                },
                                {
                                    "Ortname": "Vuadens"
                                },
                                {
                                    "Ortname": "Bulle"
                                },
                                {
                                    "Ortname": "Vuippens"
                                },
                                {
                                    "Ortname": "Sorens"
                                },
                                {
                                    "Ortname": "Gumefens"
                                },
                                {
                                    "Ortname": "Avry-devant-Pont"
                                },
                                {
                                    "Ortname": "Le Bry"
                                },
                                {
                                    "Ortname": "Echarlens"
                                },
                                {
                                    "Ortname": "Corbières"
                                },
                                {
                                    "Ortname": "Hauteville"
                                },
                                {
                                    "Ortname": "Im Fang"
                                },
                                {
                                    "Ortname": "Jaun"
                                },
                                {
                                    "Ortname": "Abländschen"
                                },
                                {
                                    "Ortname": "Cerniat FR"
                                },
                                {
                                    "Ortname": "Villarvolard"
                                },
                                {
                                    "Ortname": "Botterens"
                                },
                                {
                                    "Ortname": "Morlon"
                                },
                                {
                                    "Ortname": "Moléson-sur-Gruyères"
                                },
                                {
                                    "Ortname": "Riaz"
                                },
                                {
                                    "Ortname": "Marsens"
                                },
                                {
                                    "Ortname": "La Roche FR"
                                },
                                {
                                    "Ortname": "Pont-la-Ville"
                                },
                                {
                                    "Ortname": "La Tour-de-Trême"
                                },
                                {
                                    "Ortname": "Broc"
                                },
                                {
                                    "Ortname": "Charmey (Gruyère)"
                                },
                                {
                                    "Ortname": "Le Pâquier-Montbarry"
                                },
                                {
                                    "Ortname": "Pringy"
                                },
                                {
                                    "Ortname": "Estavannens"
                                },
                                {
                                    "Ortname": "Enney"
                                },
                                {
                                    "Ortname": "Neirivue"
                                },
                                {
                                    "Ortname": "Albeuve"
                                },
                                {
                                    "Ortname": "Gruyères"
                                },
                                {
                                    "Ortname": "Epagny"
                                },
                                {
                                    "Ortname": "Grandvillard"
                                },
                                {
                                    "Ortname": "Oron-la-Ville"
                                },
                                {
                                    "Ortname": "Vauderens"
                                },
                                {
                                    "Ortname": "Ursy"
                                },
                                {
                                    "Ortname": "Vuarmarens"
                                },
                                {
                                    "Ortname": "Rue"
                                },
                                {
                                    "Ortname": "Promasens"
                                },
                                {
                                    "Ortname": "Siviriez"
                                },
                                {
                                    "Ortname": "Villaraboud"
                                },
                                {
                                    "Ortname": "Chavannes-les-Forts"
                                },
                                {
                                    "Ortname": "Prez-vers-Siviriez"
                                },
                                {
                                    "Ortname": "Romont FR"
                                },
                                {
                                    "Ortname": "Billens"
                                },
                                {
                                    "Ortname": "Prévonloup"
                                },
                                {
                                    "Ortname": "Brenles"
                                },
                                {
                                    "Ortname": "Chesalles-sur-Moudon"
                                },
                                {
                                    "Ortname": "Orsonnens"
                                },
                                {
                                    "Ortname": "Villarsiviriaux"
                                },
                                {
                                    "Ortname": "Villarlod"
                                },
                                {
                                    "Ortname": "Vuisternens-en-Ogoz"
                                },
                                {
                                    "Ortname": "Mézières FR"
                                },
                                {
                                    "Ortname": "Villariaz"
                                },
                                {
                                    "Ortname": "Estévenens"
                                },
                                {
                                    "Ortname": "Grangettes-près-Romont"
                                },
                                {
                                    "Ortname": "Le Châtelard-près-Romont"
                                },
                                {
                                    "Ortname": "Sommentier"
                                },
                                {
                                    "Ortname": "Romanens"
                                },
                                {
                                    "Ortname": "Massonnens"
                                },
                                {
                                    "Ortname": "Vuisternens-devant-Romont"
                                },
                                {
                                    "Ortname": "Sâles (Gruyère)"
                                },
                                {
                                    "Ortname": "Ecoteaux"
                                },
                                {
                                    "Ortname": "Maracon"
                                },
                                {
                                    "Ortname": "Oron-le-Châtel"
                                },
                                {
                                    "Ortname": "St-Martin FR"
                                },
                                {
                                    "Ortname": "Le Crêt-près-Semsales"
                                },
                                {
                                    "Ortname": "La Joux FR"
                                },
                                {
                                    "Ortname": "Bouloz"
                                },
                                {
                                    "Ortname": "Porsel"
                                },
                                {
                                    "Ortname": "Pont (Veveyse)"
                                },
                                {
                                    "Ortname": "Fribourg"
                                },
                                {
                                    "Ortname": "Granges-Paccot"
                                },
                                {
                                    "Ortname": "Corminboeuf"
                                },
                                {
                                    "Ortname": "Giffers"
                                },
                                {
                                    "Ortname": "St. Silvester"
                                },
                                {
                                    "Ortname": "Plasselb"
                                },
                                {
                                    "Ortname": "Sangernboden"
                                },
                                {
                                    "Ortname": "Schwarzsee"
                                },
                                {
                                    "Ortname": "Bonnefontaine"
                                },
                                {
                                    "Ortname": "Corpataux-Magnedens"
                                },
                                {
                                    "Ortname": "Rossens FR"
                                },
                                {
                                    "Ortname": "Brünisried"
                                },
                                {
                                    "Ortname": "Ependes FR"
                                },
                                {
                                    "Ortname": "Arconciel"
                                },
                                {
                                    "Ortname": "Treyvaux"
                                },
                                {
                                    "Ortname": "Chésopelloz"
                                },
                                {
                                    "Ortname": "Tafers"
                                },
                                {
                                    "Ortname": "St. Antoni"
                                },
                                {
                                    "Ortname": "Heitenried"
                                },
                                {
                                    "Ortname": "Alterswil FR"
                                },
                                {
                                    "Ortname": "Plaffeien"
                                },
                                {
                                    "Ortname": "St. Ursen"
                                },
                                {
                                    "Ortname": "Rechthalten"
                                },
                                {
                                    "Ortname": "Bourguillon"
                                },
                                {
                                    "Ortname": "Marly"
                                },
                                {
                                    "Ortname": "Le Mouret"
                                },
                                {
                                    "Ortname": "Posieux"
                                },
                                {
                                    "Ortname": "Farvagny"
                                },
                                {
                                    "Ortname": "Prez-vers-Noréaz"
                                },
                                {
                                    "Ortname": "Corserey"
                                },
                                {
                                    "Ortname": "Torny-le-Grand"
                                },
                                {
                                    "Ortname": "Middes"
                                },
                                {
                                    "Ortname": "Neyruz FR"
                                },
                                {
                                    "Ortname": "Cottens FR"
                                },
                                {
                                    "Ortname": "Chénens"
                                },
                                {
                                    "Ortname": "Lentigny"
                                },
                                {
                                    "Ortname": "Autigny"
                                },
                                {
                                    "Ortname": "Estavayer-le-Gibloux"
                                },
                                {
                                    "Ortname": "Villarimboud"
                                },
                                {
                                    "Ortname": "Villars-sur-Glâne"
                                },
                                {
                                    "Ortname": "Matran"
                                },
                                {
                                    "Ortname": "Rosé"
                                },
                                {
                                    "Ortname": "Onnens FR"
                                },
                                {
                                    "Ortname": "Noréaz"
                                },
                                {
                                    "Ortname": "Villaz-St-Pierre"
                                },
                                {
                                    "Ortname": "Givisiez"
                                },
                                {
                                    "Ortname": "Grolley"
                                },
                                {
                                    "Ortname": "Léchelles"
                                },
                                {
                                    "Ortname": "Cousset"
                                },
                                {
                                    "Ortname": "Montagny-la-Ville"
                                },
                                {
                                    "Ortname": "Courlevon"
                                },
                                {
                                    "Ortname": "Courgevaux"
                                },
                                {
                                    "Ortname": "Münchenwiler"
                                },
                                {
                                    "Ortname": "Salvenach"
                                },
                                {
                                    "Ortname": "Jeuss"
                                },
                                {
                                    "Ortname": "Cordast"
                                },
                                {
                                    "Ortname": "Courtaman"
                                },
                                {
                                    "Ortname": "Praz (Vully)"
                                },
                                {
                                    "Ortname": "Lugnorre"
                                },
                                {
                                    "Ortname": "Belfaux"
                                },
                                {
                                    "Ortname": "Pensier"
                                },
                                {
                                    "Ortname": "Courtepin"
                                },
                                {
                                    "Ortname": "Cressier FR"
                                },
                                {
                                    "Ortname": "Sugiez"
                                },
                                {
                                    "Ortname": "Môtier (Vully)"
                                },
                                {
                                    "Ortname": "Vevey"
                                },
                                {
                                    "Ortname": "Le Mont-Pèlerin"
                                },
                                {
                                    "Ortname": "Les Monts-de-Corsier"
                                },
                                {
                                    "Ortname": "Fenil-sur-Corsier"
                                },
                                {
                                    "Ortname": "Corseaux"
                                },
                                {
                                    "Ortname": "Chardonne"
                                },
                                {
                                    "Ortname": "Corsier-sur-Vevey"
                                },
                                {
                                    "Ortname": "Jongny"
                                },
                                {
                                    "Ortname": "St-Légier-La Chiésaz"
                                },
                                {
                                    "Ortname": "Blonay"
                                },
                                {
                                    "Ortname": "Rivaz"
                                },
                                {
                                    "Ortname": "St-Saphorin (Lavaux)"
                                },
                                {
                                    "Ortname": "La Tour-de-Peilz"
                                },
                                {
                                    "Ortname": "Clarens"
                                },
                                {
                                    "Ortname": "Chailly-Montreux"
                                },
                                {
                                    "Ortname": "Brent"
                                },
                                {
                                    "Ortname": "Montreux"
                                },
                                {
                                    "Ortname": "Chernex"
                                },
                                {
                                    "Ortname": "Glion"
                                },
                                {
                                    "Ortname": "Caux"
                                },
                                {
                                    "Ortname": "Villard-sur-Chamby"
                                },
                                {
                                    "Ortname": "Les Sciernes-d'Albeuve"
                                },
                                {
                                    "Ortname": "La Tine"
                                },
                                {
                                    "Ortname": "Les Moulins"
                                },
                                {
                                    "Ortname": "Flendruz"
                                },
                                {
                                    "Ortname": "L'Etivaz"
                                },
                                {
                                    "Ortname": "Chamby"
                                },
                                {
                                    "Ortname": "Les Avants"
                                },
                                {
                                    "Ortname": "Montbovon"
                                },
                                {
                                    "Ortname": "Rossinière"
                                },
                                {
                                    "Ortname": "Château-d'Oex"
                                },
                                {
                                    "Ortname": "Rougemont"
                                },
                                {
                                    "Ortname": "Villeneuve VD"
                                },
                                {
                                    "Ortname": "Rennaz"
                                },
                                {
                                    "Ortname": "Noville"
                                },
                                {
                                    "Ortname": "Chessel"
                                },
                                {
                                    "Ortname": "Roche VD"
                                },
                                {
                                    "Ortname": "Yvorne"
                                },
                                {
                                    "Ortname": "Leysin"
                                },
                                {
                                    "Ortname": "St-Triphon"
                                },
                                {
                                    "Ortname": "Aigle"
                                },
                                {
                                    "Ortname": "Corbeyrier"
                                },
                                {
                                    "Ortname": "La Comballaz"
                                },
                                {
                                    "Ortname": "Les Mosses"
                                },
                                {
                                    "Ortname": "La Forclaz VD"
                                },
                                {
                                    "Ortname": "Huémoz"
                                },
                                {
                                    "Ortname": "Panex"
                                },
                                {
                                    "Ortname": "Le Sépey"
                                },
                                {
                                    "Ortname": "Vers-l'Eglise"
                                },
                                {
                                    "Ortname": "Les Diablerets"
                                },
                                {
                                    "Ortname": "Ollon VD"
                                },
                                {
                                    "Ortname": "Collombey"
                                },
                                {
                                    "Ortname": "Monthey"
                                },
                                {
                                    "Ortname": "Choëx"
                                },
                                {
                                    "Ortname": "Les Giettes"
                                },
                                {
                                    "Ortname": "Troistorrents"
                                },
                                {
                                    "Ortname": "Val-d'Illiez"
                                },
                                {
                                    "Ortname": "Champéry"
                                },
                                {
                                    "Ortname": "Morgins"
                                },
                                {
                                    "Ortname": "Bex"
                                },
                                {
                                    "Ortname": "Fenalet-sur-Bex"
                                },
                                {
                                    "Ortname": "Frenières-sur-Bex"
                                },
                                {
                                    "Ortname": "Les Plans-sur-Bex"
                                },
                                {
                                    "Ortname": "Gryon"
                                },
                                {
                                    "Ortname": "Villars-sur-Ollon"
                                },
                                {
                                    "Ortname": "Chesières"
                                },
                                {
                                    "Ortname": "St-Maurice"
                                },
                                {
                                    "Ortname": "Mex VS"
                                },
                                {
                                    "Ortname": "Vérossaz"
                                },
                                {
                                    "Ortname": "Massongex"
                                },
                                {
                                    "Ortname": "Vionnaz"
                                },
                                {
                                    "Ortname": "Les Evouettes"
                                },
                                {
                                    "Ortname": "Torgon"
                                },
                                {
                                    "Ortname": "Lavey-Village"
                                },
                                {
                                    "Ortname": "Muraz (Collombey)"
                                },
                                {
                                    "Ortname": "Vouvry"
                                },
                                {
                                    "Ortname": "Miex"
                                },
                                {
                                    "Ortname": "Bouveret"
                                },
                                {
                                    "Ortname": "St-Gingolph"
                                },
                                {
                                    "Ortname": "Evionnaz"
                                },
                                {
                                    "Ortname": "Collonges"
                                },
                                {
                                    "Ortname": "Vernayaz"
                                },
                                {
                                    "Ortname": "Dorénaz"
                                },
                                {
                                    "Ortname": "Charrat"
                                },
                                {
                                    "Ortname": "Saxon"
                                },
                                {
                                    "Ortname": "Riddes"
                                },
                                {
                                    "Ortname": "Leytron"
                                },
                                {
                                    "Ortname": "Ovronnaz"
                                },
                                {
                                    "Ortname": "Saillon"
                                },
                                {
                                    "Ortname": "Isérables"
                                },
                                {
                                    "Ortname": "La Tzoumaz"
                                },
                                {
                                    "Ortname": "Chamoson"
                                },
                                {
                                    "Ortname": "St-Pierre-de-Clages"
                                },
                                {
                                    "Ortname": "Ardon"
                                },
                                {
                                    "Ortname": "Martigny"
                                },
                                {
                                    "Ortname": "Martigny-Croix"
                                },
                                {
                                    "Ortname": "Le Trétien"
                                },
                                {
                                    "Ortname": "Le Châtelard VS"
                                },
                                {
                                    "Ortname": "Chemin"
                                },
                                {
                                    "Ortname": "Trient"
                                },
                                {
                                    "Ortname": "Ravoire"
                                },
                                {
                                    "Ortname": "Salvan"
                                },
                                {
                                    "Ortname": "Les Granges (Salvan)"
                                },
                                {
                                    "Ortname": "Les Marécottes"
                                },
                                {
                                    "Ortname": "Finhaut"
                                },
                                {
                                    "Ortname": "Fully"
                                },
                                {
                                    "Ortname": "Bovernier"
                                },
                                {
                                    "Ortname": "Versegères"
                                },
                                {
                                    "Ortname": "Vollèges"
                                },
                                {
                                    "Ortname": "Levron"
                                },
                                {
                                    "Ortname": "Lourtier"
                                },
                                {
                                    "Ortname": "Fionnay"
                                },
                                {
                                    "Ortname": "Sarreyer"
                                },
                                {
                                    "Ortname": "Liddes"
                                },
                                {
                                    "Ortname": "Bourg-St-Pierre"
                                },
                                {
                                    "Ortname": "Praz-de-Fort"
                                },
                                {
                                    "Ortname": "La Fouly VS"
                                },
                                {
                                    "Ortname": "Sembrancher"
                                },
                                {
                                    "Ortname": "Le Châble VS"
                                },
                                {
                                    "Ortname": "Verbier"
                                },
                                {
                                    "Ortname": "Orsières"
                                },
                                {
                                    "Ortname": "Champex-Lac"
                                },
                                {
                                    "Ortname": "Sion"
                                },
                                {
                                    "Ortname": "St-Séverin"
                                },
                                {
                                    "Ortname": "Erde"
                                },
                                {
                                    "Ortname": "Aven"
                                },
                                {
                                    "Ortname": "Daillon"
                                },
                                {
                                    "Ortname": "Grimisuat"
                                },
                                {
                                    "Ortname": "Arbaz"
                                },
                                {
                                    "Ortname": "Vernamiège"
                                },
                                {
                                    "Ortname": "Nax"
                                },
                                {
                                    "Ortname": "Mase"
                                },
                                {
                                    "Ortname": "St-Martin VS"
                                },
                                {
                                    "Ortname": "Vex"
                                },
                                {
                                    "Ortname": "Euseigne"
                                },
                                {
                                    "Ortname": "Les Haudères"
                                },
                                {
                                    "Ortname": "Arolla"
                                },
                                {
                                    "Ortname": "La Sage"
                                },
                                {
                                    "Ortname": "Hérémence"
                                },
                                {
                                    "Ortname": "Les Collons"
                                },
                                {
                                    "Ortname": "Salins"
                                },
                                {
                                    "Ortname": "Les Agettes"
                                },
                                {
                                    "Ortname": "Les Mayens-de-Sion"
                                },
                                {
                                    "Ortname": "Veysonnaz"
                                },
                                {
                                    "Ortname": "Siviez (Nendaz)"
                                },
                                {
                                    "Ortname": "Fey (Nendaz)"
                                },
                                {
                                    "Ortname": "Beuson (Nendaz)"
                                },
                                {
                                    "Ortname": "Baar (Nendaz)"
                                },
                                {
                                    "Ortname": "Basse-Nendaz"
                                },
                                {
                                    "Ortname": "Haute-Nendaz"
                                },
                                {
                                    "Ortname": "Aproz (Nendaz)"
                                },
                                {
                                    "Ortname": "Pont-de-la-Morge (Sion)"
                                },
                                {
                                    "Ortname": "Vétroz"
                                },
                                {
                                    "Ortname": "Conthey"
                                },
                                {
                                    "Ortname": "Signèse (Ayent)"
                                },
                                {
                                    "Ortname": "Bramois"
                                },
                                {
                                    "Ortname": "Evolène"
                                },
                                {
                                    "Ortname": "Anzère"
                                },
                                {
                                    "Ortname": "Thyon"
                                },
                                {
                                    "Ortname": "Neuchâtel"
                                },
                                {
                                    "Ortname": "Auvernier"
                                },
                                {
                                    "Ortname": "Colombier NE"
                                },
                                {
                                    "Ortname": "Bôle"
                                },
                                {
                                    "Ortname": "Areuse"
                                },
                                {
                                    "Ortname": "Cortaillod"
                                },
                                {
                                    "Ortname": "Boudry"
                                },
                                {
                                    "Ortname": "Bevaix"
                                },
                                {
                                    "Ortname": "Gorgier"
                                },
                                {
                                    "Ortname": "St-Aubin-Sauges"
                                },
                                {
                                    "Ortname": "Chez-le-Bart"
                                },
                                {
                                    "Ortname": "Vaumarcus"
                                },
                                {
                                    "Ortname": "Peseux"
                                },
                                {
                                    "Ortname": "Corcelles NE"
                                },
                                {
                                    "Ortname": "Cormondrèche"
                                },
                                {
                                    "Ortname": "Valangin"
                                },
                                {
                                    "Ortname": "Boudevilliers"
                                },
                                {
                                    "Ortname": "Fontaines NE"
                                },
                                {
                                    "Ortname": "Fontainemelon"
                                },
                                {
                                    "Ortname": "Cernier"
                                },
                                {
                                    "Ortname": "Chézard-St-Martin"
                                },
                                {
                                    "Ortname": "Les Vieux-Prés"
                                },
                                {
                                    "Ortname": "Dombresson"
                                },
                                {
                                    "Ortname": "Villiers"
                                },
                                {
                                    "Ortname": "Le Pâquier NE"
                                },
                                {
                                    "Ortname": "Vilars NE"
                                },
                                {
                                    "Ortname": "Savagnier"
                                },
                                {
                                    "Ortname": "Chaumont"
                                },
                                {
                                    "Ortname": "Hauterive NE"
                                },
                                {
                                    "Ortname": "St-Blaise"
                                },
                                {
                                    "Ortname": "Enges"
                                },
                                {
                                    "Ortname": "Marin-Epagnier"
                                },
                                {
                                    "Ortname": "Gals"
                                },
                                {
                                    "Ortname": "Cornaux NE"
                                },
                                {
                                    "Ortname": "Cressier NE"
                                },
                                {
                                    "Ortname": "Brot-Plamboz"
                                },
                                {
                                    "Ortname": "Noiraigue"
                                },
                                {
                                    "Ortname": "Travers"
                                },
                                {
                                    "Ortname": "Couvet"
                                },
                                {
                                    "Ortname": "Môtiers NE"
                                },
                                {
                                    "Ortname": "Boveresse"
                                },
                                {
                                    "Ortname": "Fleurier"
                                },
                                {
                                    "Ortname": "Buttes"
                                },
                                {
                                    "Ortname": "La Côte-aux-Fées"
                                },
                                {
                                    "Ortname": "St-Sulpice NE"
                                },
                                {
                                    "Ortname": "La Brévine"
                                },
                                {
                                    "Ortname": "Les Verrières"
                                },
                                {
                                    "Ortname": "Le Brouillet"
                                },
                                {
                                    "Ortname": "Les Taillères"
                                },
                                {
                                    "Ortname": "Les Bayards"
                                },
                                {
                                    "Ortname": "Champ-du-Moulin"
                                },
                                {
                                    "Ortname": "Les Sagnettes"
                                },
                                {
                                    "Ortname": "Mont-de-Buttes"
                                },
                                {
                                    "Ortname": "La Vraconnaz"
                                },
                                {
                                    "Ortname": "Chambrelien"
                                },
                                {
                                    "Ortname": "Rochefort"
                                },
                                {
                                    "Ortname": "Montmollin"
                                },
                                {
                                    "Ortname": "Les Geneveys-sur-Coffrane"
                                },
                                {
                                    "Ortname": "Coffrane"
                                },
                                {
                                    "Ortname": "Les Hauts-Geneveys"
                                },
                                {
                                    "Ortname": "La Chaux-de-Fonds"
                                },
                                {
                                    "Ortname": "Petit-Martel"
                                },
                                {
                                    "Ortname": "Les Emibois"
                                },
                                {
                                    "Ortname": "La Sagne NE"
                                },
                                {
                                    "Ortname": "Les Ponts-de-Martel"
                                },
                                {
                                    "Ortname": "Le Crêt-du-Locle"
                                },
                                {
                                    "Ortname": "Les Planchettes"
                                },
                                {
                                    "Ortname": "La Cibourg"
                                },
                                {
                                    "Ortname": "La Ferrière"
                                },
                                {
                                    "Ortname": "Les Bois"
                                },
                                {
                                    "Ortname": "Le Locle"
                                },
                                {
                                    "Ortname": "La Châtagne"
                                },
                                {
                                    "Ortname": "La Chaux-du-Milieu"
                                },
                                {
                                    "Ortname": "Le Prévoux"
                                },
                                {
                                    "Ortname": "Le Cerneux-Péquignot"
                                },
                                {
                                    "Ortname": "Les Brenets"
                                },
                                {
                                    "Ortname": "Biel/Bienne"
                                },
                                {
                                    "Ortname": "Biel/Bienne"
                                },
                                {
                                    "Ortname": "Biel/Bienne"
                                },
                                {
                                    "Ortname": "Biel/Bienne"
                                },
                                {
                                    "Ortname": "Biel/Bienne"
                                },
                                {
                                    "Ortname": "Tüscherz-Alfermée"
                                },
                                {
                                    "Ortname": "Twann"
                                },
                                {
                                    "Ortname": "Ligerz"
                                },
                                {
                                    "Ortname": "Prêles"
                                },
                                {
                                    "Ortname": "Lamboing"
                                },
                                {
                                    "Ortname": "Diesse"
                                },
                                {
                                    "Ortname": "Nods"
                                },
                                {
                                    "Ortname": "La Neuveville"
                                },
                                {
                                    "Ortname": "Lignières"
                                },
                                {
                                    "Ortname": "Le Landeron"
                                },
                                {
                                    "Ortname": "Magglingen/Macolin"
                                },
                                {
                                    "Ortname": "Evilard"
                                },
                                {
                                    "Ortname": "Orvin"
                                },
                                {
                                    "Ortname": "Les Prés-d'Orvin"
                                },
                                {
                                    "Ortname": "Frinvillier"
                                },
                                {
                                    "Ortname": "Plagne"
                                },
                                {
                                    "Ortname": "Vauffelin"
                                },
                                {
                                    "Ortname": "Romont BE"
                                },
                                {
                                    "Ortname": "Grenchen"
                                },
                                {
                                    "Ortname": "Pieterlen"
                                },
                                {
                                    "Ortname": "Lengnau BE"
                                },
                                {
                                    "Ortname": "Bettlach"
                                },
                                {
                                    "Ortname": "Selzach"
                                },
                                {
                                    "Ortname": "Orpund"
                                },
                                {
                                    "Ortname": "Safnern"
                                },
                                {
                                    "Ortname": "Meinisberg"
                                },
                                {
                                    "Ortname": "Brügg BE"
                                },
                                {
                                    "Ortname": "Scheuren"
                                },
                                {
                                    "Ortname": "Studen BE"
                                },
                                {
                                    "Ortname": "Aegerten"
                                },
                                {
                                    "Ortname": "Nidau"
                                },
                                {
                                    "Ortname": "Port"
                                },
                                {
                                    "Ortname": "Ipsach"
                                },
                                {
                                    "Ortname": "Bellmund"
                                },
                                {
                                    "Ortname": "Jens"
                                },
                                {
                                    "Ortname": "Sutz"
                                },
                                {
                                    "Ortname": "Täuffelen"
                                },
                                {
                                    "Ortname": "Lüscherz"
                                },
                                {
                                    "Ortname": "Siselen BE"
                                },
                                {
                                    "Ortname": "Brüttelen"
                                },
                                {
                                    "Ortname": "Péry"
                                },
                                {
                                    "Ortname": "La Heutte"
                                },
                                {
                                    "Ortname": "Sonceboz-Sombeval"
                                },
                                {
                                    "Ortname": "Corgémont"
                                },
                                {
                                    "Ortname": "Cortébert"
                                },
                                {
                                    "Ortname": "Courtelary"
                                },
                                {
                                    "Ortname": "Montagne-de-Courtelary"
                                },
                                {
                                    "Ortname": "St-Imier"
                                },
                                {
                                    "Ortname": "Mont-Soleil"
                                },
                                {
                                    "Ortname": "Mont-Crosin"
                                },
                                {
                                    "Ortname": "Cormoret"
                                },
                                {
                                    "Ortname": "Villeret"
                                },
                                {
                                    "Ortname": "Sonvilier"
                                },
                                {
                                    "Ortname": "Montagne-de-Sonvilier"
                                },
                                {
                                    "Ortname": "Renan BE"
                                },
                                {
                                    "Ortname": "Tavannes"
                                },
                                {
                                    "Ortname": "Le Fuet"
                                },
                                {
                                    "Ortname": "Le Prédame"
                                },
                                {
                                    "Ortname": "Fornet-Dessous"
                                },
                                {
                                    "Ortname": "Fornet-Dessus"
                                },
                                {
                                    "Ortname": "Sornetan"
                                },
                                {
                                    "Ortname": "Bellelay"
                                },
                                {
                                    "Ortname": "Les Genevez JU"
                                },
                                {
                                    "Ortname": "Lajoux JU"
                                },
                                {
                                    "Ortname": "Tramelan"
                                },
                                {
                                    "Ortname": "La Tanne"
                                },
                                {
                                    "Ortname": "Les Reussilles"
                                },
                                {
                                    "Ortname": "Mont-Tramelan"
                                },
                                {
                                    "Ortname": "Les Breuleux"
                                },
                                {
                                    "Ortname": "Le Cerneux-Veusil"
                                },
                                {
                                    "Ortname": "La Chaux-des-Breuleux"
                                },
                                {
                                    "Ortname": "Le Noirmont"
                                },
                                {
                                    "Ortname": "Saignelégier"
                                },
                                {
                                    "Ortname": "Les Pommerats"
                                },
                                {
                                    "Ortname": "Goumois"
                                },
                                {
                                    "Ortname": "Reconvilier"
                                },
                                {
                                    "Ortname": "Saicourt"
                                },
                                {
                                    "Ortname": "Saules BE"
                                },
                                {
                                    "Ortname": "Loveresse"
                                },
                                {
                                    "Ortname": "Pontenet"
                                },
                                {
                                    "Ortname": "Bévilard"
                                },
                                {
                                    "Ortname": "Sorvilier"
                                },
                                {
                                    "Ortname": "Court"
                                },
                                {
                                    "Ortname": "Moutier"
                                },
                                {
                                    "Ortname": "Perrefitte"
                                },
                                {
                                    "Ortname": "Souboz"
                                },
                                {
                                    "Ortname": "Eschert"
                                },
                                {
                                    "Ortname": "Belprahon"
                                },
                                {
                                    "Ortname": "Seehof"
                                },
                                {
                                    "Ortname": "Grandval"
                                },
                                {
                                    "Ortname": "Crémines"
                                },
                                {
                                    "Ortname": "Corcelles BE"
                                },
                                {
                                    "Ortname": "Roches BE"
                                },
                                {
                                    "Ortname": "Rebeuvelier"
                                },
                                {
                                    "Ortname": "Courrendlin"
                                },
                                {
                                    "Ortname": "Delémont"
                                },
                                {
                                    "Ortname": "Develier"
                                },
                                {
                                    "Ortname": "Bourrignon"
                                },
                                {
                                    "Ortname": "Soyhières"
                                },
                                {
                                    "Ortname": "Mettembert"
                                },
                                {
                                    "Ortname": "Pleigne"
                                },
                                {
                                    "Ortname": "Lucelle"
                                },
                                {
                                    "Ortname": "Movelier"
                                },
                                {
                                    "Ortname": "Ederswiler"
                                },
                                {
                                    "Ortname": "Roggenburg"
                                },
                                {
                                    "Ortname": "Courroux"
                                },
                                {
                                    "Ortname": "Courcelon"
                                },
                                {
                                    "Ortname": "Vicques"
                                },
                                {
                                    "Ortname": "Courchapoix"
                                },
                                {
                                    "Ortname": "Corban"
                                },
                                {
                                    "Ortname": "Mervelier"
                                },
                                {
                                    "Ortname": "Montsevelier"
                                },
                                {
                                    "Ortname": "Vermes"
                                },
                                {
                                    "Ortname": "Rossemaison"
                                },
                                {
                                    "Ortname": "Châtillon JU"
                                },
                                {
                                    "Ortname": "Courtételle"
                                },
                                {
                                    "Ortname": "Courfaivre"
                                },
                                {
                                    "Ortname": "Bassecourt"
                                },
                                {
                                    "Ortname": "Glovelier"
                                },
                                {
                                    "Ortname": "Boécourt"
                                },
                                {
                                    "Ortname": "Montavon"
                                },
                                {
                                    "Ortname": "Undervelier"
                                },
                                {
                                    "Ortname": "Soulce"
                                },
                                {
                                    "Ortname": "Saulcy"
                                },
                                {
                                    "Ortname": "St-Ursanne"
                                },
                                {
                                    "Ortname": "Montmelon"
                                },
                                {
                                    "Ortname": "Montenol"
                                },
                                {
                                    "Ortname": "Epauvillers"
                                },
                                {
                                    "Ortname": "Epiquerez"
                                },
                                {
                                    "Ortname": "Soubey"
                                },
                                {
                                    "Ortname": "Seleute"
                                },
                                {
                                    "Ortname": "Ocourt"
                                },
                                {
                                    "Ortname": "Courgenay"
                                },
                                {
                                    "Ortname": "Porrentruy"
                                },
                                {
                                    "Ortname": "Fontenais"
                                },
                                {
                                    "Ortname": "Villars-sur-Fontenais"
                                },
                                {
                                    "Ortname": "Bressaucourt"
                                },
                                {
                                    "Ortname": "Courtedoux"
                                },
                                {
                                    "Ortname": "Chevenez"
                                },
                                {
                                    "Ortname": "Rocourt"
                                },
                                {
                                    "Ortname": "Grandfontaine"
                                },
                                {
                                    "Ortname": "Roche-d'Or"
                                },
                                {
                                    "Ortname": "Damvant"
                                },
                                {
                                    "Ortname": "Bure"
                                },
                                {
                                    "Ortname": "Fahy"
                                },
                                {
                                    "Ortname": "Courchavon"
                                },
                                {
                                    "Ortname": "Courtemaîche"
                                },
                                {
                                    "Ortname": "Montignez"
                                },
                                {
                                    "Ortname": "Buix"
                                },
                                {
                                    "Ortname": "Boncourt"
                                },
                                {
                                    "Ortname": "Coeuve"
                                },
                                {
                                    "Ortname": "Beurnevésin"
                                },
                                {
                                    "Ortname": "Alle"
                                },
                                {
                                    "Ortname": "Vendlincourt"
                                },
                                {
                                    "Ortname": "Bonfol"
                                },
                                {
                                    "Ortname": "Miécourt"
                                },
                                {
                                    "Ortname": "Charmoille"
                                },
                                {
                                    "Ortname": "Cornol"
                                },
                                {
                                    "Ortname": "Asuel"
                                },
                                {
                                    "Ortname": "Bern"
                                },
                                {
                                    "Ortname": "Bern"
                                },
                                {
                                    "Ortname": "Bern"
                                },
                                {
                                    "Ortname": "Bern"
                                },
                                {
                                    "Ortname": "Bern"
                                },
                                {
                                    "Ortname": "Bern"
                                },
                                {
                                    "Ortname": "Bern"
                                },
                                {
                                    "Ortname": "Bern"
                                },
                                {
                                    "Ortname": "Bern"
                                },
                                {
                                    "Ortname": "Bern"
                                },
                                {
                                    "Ortname": "Bern"
                                },
                                {
                                    "Ortname": "Bern"
                                },
                                {
                                    "Ortname": "Bern"
                                },
                                {
                                    "Ortname": "Bern"
                                },
                                {
                                    "Ortname": "Bern"
                                },
                                {
                                    "Ortname": "Bern"
                                },
                                {
                                    "Ortname": "Spiegel b. Bern"
                                },
                                {
                                    "Ortname": "Hinterkappelen"
                                },
                                {
                                    "Ortname": "Wohlen b. Bern"
                                },
                                {
                                    "Ortname": "Murzelen"
                                },
                                {
                                    "Ortname": "Frieswil"
                                },
                                {
                                    "Ortname": "Detligen"
                                },
                                {
                                    "Ortname": "Herrenschwanden"
                                },
                                {
                                    "Ortname": "Kirchlindach"
                                },
                                {
                                    "Ortname": "Ortschwaben"
                                },
                                {
                                    "Ortname": "Uettligen"
                                },
                                {
                                    "Ortname": "Säriswil"
                                },
                                {
                                    "Ortname": "Meikirch"
                                },
                                {
                                    "Ortname": "Wahlendorf"
                                },
                                {
                                    "Ortname": "Bremgarten b. Bern"
                                },
                                {
                                    "Ortname": "Worblaufen"
                                },
                                {
                                    "Ortname": "Zollikofen"
                                },
                                {
                                    "Ortname": "Münchenbuchsee"
                                },
                                {
                                    "Ortname": "Schüpfen"
                                },
                                {
                                    "Ortname": "Ittigen"
                                },
                                {
                                    "Ortname": "Bolligen"
                                },
                                {
                                    "Ortname": "Stettlen"
                                },
                                {
                                    "Ortname": "Boll"
                                },
                                {
                                    "Ortname": "Utzigen"
                                },
                                {
                                    "Ortname": "Ostermundigen"
                                },
                                {
                                    "Ortname": "Gümligen"
                                },
                                {
                                    "Ortname": "Muri b. Bern"
                                },
                                {
                                    "Ortname": "Rüfenacht BE"
                                },
                                {
                                    "Ortname": "Worb"
                                },
                                {
                                    "Ortname": "Enggistein"
                                },
                                {
                                    "Ortname": "Richigen"
                                },
                                {
                                    "Ortname": "Schlosswil"
                                },
                                {
                                    "Ortname": "Trimstein"
                                },
                                {
                                    "Ortname": "Wabern"
                                },
                                {
                                    "Ortname": "Oberbütschel"
                                },
                                {
                                    "Ortname": "Zimmerwald"
                                },
                                {
                                    "Ortname": "Niedermuhlern"
                                },
                                {
                                    "Ortname": "Rüeggisberg"
                                },
                                {
                                    "Ortname": "Hinterfultigen"
                                },
                                {
                                    "Ortname": "Oberbalm"
                                },
                                {
                                    "Ortname": "Liebefeld"
                                },
                                {
                                    "Ortname": "Köniz"
                                },
                                {
                                    "Ortname": "Schliern b. Köniz"
                                },
                                {
                                    "Ortname": "Rüti b. Riggisberg"
                                },
                                {
                                    "Ortname": "Münsingen"
                                },
                                {
                                    "Ortname": "Allmendingen b. Bern"
                                },
                                {
                                    "Ortname": "Wichtrach"
                                },
                                {
                                    "Ortname": "Gerzensee"
                                },
                                {
                                    "Ortname": "Kirchdorf BE"
                                },
                                {
                                    "Ortname": "Kiesen"
                                },
                                {
                                    "Ortname": "Uttigen"
                                },
                                {
                                    "Ortname": "Kehrsatz"
                                },
                                {
                                    "Ortname": "Belp"
                                },
                                {
                                    "Ortname": "Belpberg"
                                },
                                {
                                    "Ortname": "Toffen"
                                },
                                {
                                    "Ortname": "Kaufdorf"
                                },
                                {
                                    "Ortname": "Mühlethurnen"
                                },
                                {
                                    "Ortname": "Kirchenthurnen"
                                },
                                {
                                    "Ortname": "Riggisberg"
                                },
                                {
                                    "Ortname": "Burgistein"
                                },
                                {
                                    "Ortname": "Wattenwil"
                                },
                                {
                                    "Ortname": "Seftigen"
                                },
                                {
                                    "Ortname": "Gurzelen"
                                },
                                {
                                    "Ortname": "Uetendorf"
                                },
                                {
                                    "Ortname": "Gasel"
                                },
                                {
                                    "Ortname": "Niederscherli"
                                },
                                {
                                    "Ortname": "Mittelhäusern"
                                },
                                {
                                    "Ortname": "Lanzenhäusern"
                                },
                                {
                                    "Ortname": "Schwarzenburg"
                                },
                                {
                                    "Ortname": "Mamishaus"
                                },
                                {
                                    "Ortname": "Rüschegg Gambach"
                                },
                                {
                                    "Ortname": "Rüschegg Heubach"
                                },
                                {
                                    "Ortname": "Helgisried-Rohrbach"
                                },
                                {
                                    "Ortname": "Riffenmatt"
                                },
                                {
                                    "Ortname": "Milken"
                                },
                                {
                                    "Ortname": "Guggisberg"
                                },
                                {
                                    "Ortname": "Riedstätt"
                                },
                                {
                                    "Ortname": "Niederwangen b. Bern"
                                },
                                {
                                    "Ortname": "Oberwangen b. Bern"
                                },
                                {
                                    "Ortname": "Thörishaus"
                                },
                                {
                                    "Ortname": "Flamatt"
                                },
                                {
                                    "Ortname": "Neuenegg"
                                },
                                {
                                    "Ortname": "Laupen BE"
                                },
                                {
                                    "Ortname": "Bösingen"
                                },
                                {
                                    "Ortname": "Kriechenwil"
                                },
                                {
                                    "Ortname": "Ueberstorf"
                                },
                                {
                                    "Ortname": "Albligen"
                                },
                                {
                                    "Ortname": "Wünnewil"
                                },
                                {
                                    "Ortname": "Düdingen"
                                },
                                {
                                    "Ortname": "Gelterfingen"
                                },
                                {
                                    "Ortname": "Frauenkappelen"
                                },
                                {
                                    "Ortname": "Mühleberg"
                                },
                                {
                                    "Ortname": "Rosshäusern"
                                },
                                {
                                    "Ortname": "Gümmenen"
                                },
                                {
                                    "Ortname": "Rizenbach"
                                },
                                {
                                    "Ortname": "Wileroltigen"
                                },
                                {
                                    "Ortname": "Gurbrü"
                                },
                                {
                                    "Ortname": "Kerzers"
                                },
                                {
                                    "Ortname": "Ried b. Kerzers"
                                },
                                {
                                    "Ortname": "Gempenach"
                                },
                                {
                                    "Ortname": "Ulmiz"
                                },
                                {
                                    "Ortname": "Liebistorf"
                                },
                                {
                                    "Ortname": "Gurmels"
                                },
                                {
                                    "Ortname": "Müntschemier"
                                },
                                {
                                    "Ortname": "Treiten"
                                },
                                {
                                    "Ortname": "Ins"
                                },
                                {
                                    "Ortname": "Tschugg"
                                },
                                {
                                    "Ortname": "Vinelz"
                                },
                                {
                                    "Ortname": "Erlach"
                                },
                                {
                                    "Ortname": "Gampelen"
                                },
                                {
                                    "Ortname": "Lyss"
                                },
                                {
                                    "Ortname": "Wengi b. Büren"
                                },
                                {
                                    "Ortname": "Worben"
                                },
                                {
                                    "Ortname": "Schnottwil"
                                },
                                {
                                    "Ortname": "Messen"
                                },
                                {
                                    "Ortname": "Rapperswil BE"
                                },
                                {
                                    "Ortname": "Dieterswil"
                                },
                                {
                                    "Ortname": "Grossaffoltern"
                                },
                                {
                                    "Ortname": "Ammerzwil BE"
                                },
                                {
                                    "Ortname": "Suberg"
                                },
                                {
                                    "Ortname": "Büetigen"
                                },
                                {
                                    "Ortname": "Diessbach b. Büren"
                                },
                                {
                                    "Ortname": "Wiler b. Seedorf"
                                },
                                {
                                    "Ortname": "Seedorf BE"
                                },
                                {
                                    "Ortname": "Lobsigen"
                                },
                                {
                                    "Ortname": "Aarberg"
                                },
                                {
                                    "Ortname": "Radelfingen b. Aarberg"
                                },
                                {
                                    "Ortname": "Walperswil"
                                },
                                {
                                    "Ortname": "Kappelen"
                                },
                                {
                                    "Ortname": "Hermrigen"
                                },
                                {
                                    "Ortname": "Murten"
                                },
                                {
                                    "Ortname": "Meyriez"
                                },
                                {
                                    "Ortname": "Bargen BE"
                                },
                                {
                                    "Ortname": "Kallnach"
                                },
                                {
                                    "Ortname": "Fräschels"
                                },
                                {
                                    "Ortname": "Galmiz"
                                },
                                {
                                    "Ortname": "Muntelier"
                                },
                                {
                                    "Ortname": "Busswil BE"
                                },
                                {
                                    "Ortname": "Dotzigen"
                                },
                                {
                                    "Ortname": "Büren an der Aare"
                                },
                                {
                                    "Ortname": "Rüti b. Büren"
                                },
                                {
                                    "Ortname": "Arch"
                                },
                                {
                                    "Ortname": "Leuzigen"
                                },
                                {
                                    "Ortname": "Oberwil b. Büren"
                                },
                                {
                                    "Ortname": "Moosseedorf"
                                },
                                {
                                    "Ortname": "Jegenstorf"
                                },
                                {
                                    "Ortname": "Grafenried"
                                },
                                {
                                    "Ortname": "Fraubrunnen"
                                },
                                {
                                    "Ortname": "Büren zum Hof"
                                },
                                {
                                    "Ortname": "Schalunen"
                                },
                                {
                                    "Ortname": "Bätterkinden"
                                },
                                {
                                    "Ortname": "Kräiligen"
                                },
                                {
                                    "Ortname": "Urtenen-Schönbühl"
                                },
                                {
                                    "Ortname": "Mattstetten"
                                },
                                {
                                    "Ortname": "Bäriswil BE"
                                },
                                {
                                    "Ortname": "Hindelbank"
                                },
                                {
                                    "Ortname": "Hettiswil b. Hindelbank"
                                },
                                {
                                    "Ortname": "Krauchthal"
                                },
                                {
                                    "Ortname": "Zuzwil BE"
                                },
                                {
                                    "Ortname": "Iffwil"
                                },
                                {
                                    "Ortname": "Etzelkofen"
                                },
                                {
                                    "Ortname": "Brunnenthal"
                                },
                                {
                                    "Ortname": "Kernenried"
                                },
                                {
                                    "Ortname": "Limpach"
                                },
                                {
                                    "Ortname": "Mülchi"
                                },
                                {
                                    "Ortname": "Herzogenbuchsee"
                                },
                                {
                                    "Ortname": "Aeschi SO"
                                },
                                {
                                    "Ortname": "Graben"
                                },
                                {
                                    "Ortname": "Wanzwil"
                                },
                                {
                                    "Ortname": "Heimenhausen"
                                },
                                {
                                    "Ortname": "Röthenbach Herzogenbuchsee"
                                },
                                {
                                    "Ortname": "Wangenried"
                                },
                                {
                                    "Ortname": "Niederönz"
                                },
                                {
                                    "Ortname": "Oberönz"
                                },
                                {
                                    "Ortname": "Seeberg"
                                },
                                {
                                    "Ortname": "Grasswil"
                                },
                                {
                                    "Ortname": "Bettenhausen"
                                },
                                {
                                    "Ortname": "Thörigen"
                                },
                                {
                                    "Ortname": "Bleienbach"
                                },
                                {
                                    "Ortname": "Burgdorf"
                                },
                                {
                                    "Ortname": "Heimiswil"
                                },
                                {
                                    "Ortname": "Kaltacker"
                                },
                                {
                                    "Ortname": "Oberburg"
                                },
                                {
                                    "Ortname": "Affoltern im Emmental"
                                },
                                {
                                    "Ortname": "Rüegsau"
                                },
                                {
                                    "Ortname": "Rüegsbach"
                                },
                                {
                                    "Ortname": "Biembach im Emmental"
                                },
                                {
                                    "Ortname": "Lyssach"
                                },
                                {
                                    "Ortname": "Kirchberg BE"
                                },
                                {
                                    "Ortname": "Rüdtligen"
                                },
                                {
                                    "Ortname": "Alchenflüh"
                                },
                                {
                                    "Ortname": "Ersigen"
                                },
                                {
                                    "Ortname": "Niederösch"
                                },
                                {
                                    "Ortname": "Koppigen"
                                },
                                {
                                    "Ortname": "Aefligen"
                                },
                                {
                                    "Ortname": "Utzenstorf"
                                },
                                {
                                    "Ortname": "Wiler b. Utzenstorf"
                                },
                                {
                                    "Ortname": "Lützelflüh-Goldbach"
                                },
                                {
                                    "Ortname": "Schwanden im Emmental"
                                },
                                {
                                    "Ortname": "Obergoldbach"
                                },
                                {
                                    "Ortname": "Ramsei"
                                },
                                {
                                    "Ortname": "Zollbrück"
                                },
                                {
                                    "Ortname": "Rüderswil"
                                },
                                {
                                    "Ortname": "Lauperswil"
                                },
                                {
                                    "Ortname": "Ranflüh"
                                },
                                {
                                    "Ortname": "Grünenmatt"
                                },
                                {
                                    "Ortname": "Heimisbach"
                                },
                                {
                                    "Ortname": "Sumiswald"
                                },
                                {
                                    "Ortname": "Grünen"
                                },
                                {
                                    "Ortname": "Trachselwald"
                                },
                                {
                                    "Ortname": "Wasen im Emmental"
                                },
                                {
                                    "Ortname": "Weier im Emmental"
                                },
                                {
                                    "Ortname": "Häusernmoos im Emmental"
                                },
                                {
                                    "Ortname": "Schmidigen-Mühleweg"
                                },
                                {
                                    "Ortname": "Dürrenroth"
                                },
                                {
                                    "Ortname": "Wynigen"
                                },
                                {
                                    "Ortname": "Alchenstorf"
                                },
                                {
                                    "Ortname": "Rüedisbach"
                                },
                                {
                                    "Ortname": "Riedtwil"
                                },
                                {
                                    "Ortname": "Hermiswil"
                                },
                                {
                                    "Ortname": "Oschwand"
                                },
                                {
                                    "Ortname": "Tägertschi"
                                },
                                {
                                    "Ortname": "Gysenstein"
                                },
                                {
                                    "Ortname": "Niederhünigen"
                                },
                                {
                                    "Ortname": "Grosshöchstetten"
                                },
                                {
                                    "Ortname": "Biglen"
                                },
                                {
                                    "Ortname": "Arni BE"
                                },
                                {
                                    "Ortname": "Konolfingen"
                                },
                                {
                                    "Ortname": "Walkringen"
                                },
                                {
                                    "Ortname": "Bigenthal"
                                },
                                {
                                    "Ortname": "Schafhausen im Emmental"
                                },
                                {
                                    "Ortname": "Oberdiessbach"
                                },
                                {
                                    "Ortname": "Aeschlen b. Oberdiessbach"
                                },
                                {
                                    "Ortname": "Linden"
                                },
                                {
                                    "Ortname": "Bleiken b. Oberdiessbach"
                                },
                                {
                                    "Ortname": "Brenzikofen"
                                },
                                {
                                    "Ortname": "Oberthal"
                                },
                                {
                                    "Ortname": "Zäziwil"
                                },
                                {
                                    "Ortname": "Bowil"
                                },
                                {
                                    "Ortname": "Signau"
                                },
                                {
                                    "Ortname": "Schüpbach"
                                },
                                {
                                    "Ortname": "Aeschau"
                                },
                                {
                                    "Ortname": "Eggiwil"
                                },
                                {
                                    "Ortname": "Röthenbach im Emmental"
                                },
                                {
                                    "Ortname": "Emmenmatt"
                                },
                                {
                                    "Ortname": "Langnau im Emmental"
                                },
                                {
                                    "Ortname": "Oberfrittenbach"
                                },
                                {
                                    "Ortname": "Bärau"
                                },
                                {
                                    "Ortname": "Gohl"
                                },
                                {
                                    "Ortname": "Trubschachen"
                                },
                                {
                                    "Ortname": "Trub"
                                },
                                {
                                    "Ortname": "Fankhaus (Trub)"
                                },
                                {
                                    "Ortname": "Thun"
                                },
                                {
                                    "Ortname": "Thun"
                                },
                                {
                                    "Ortname": "Thun"
                                },
                                {
                                    "Ortname": "Thun"
                                },
                                {
                                    "Ortname": "Fahrni b. Thun"
                                },
                                {
                                    "Ortname": "Süderen"
                                },
                                {
                                    "Ortname": "Eriz"
                                },
                                {
                                    "Ortname": "Innereriz"
                                },
                                {
                                    "Ortname": "Homberg b. Thun"
                                },
                                {
                                    "Ortname": "Uebeschi"
                                },
                                {
                                    "Ortname": "Höfen b. Thun"
                                },
                                {
                                    "Ortname": "Längenbühl"
                                },
                                {
                                    "Ortname": "Steffisburg"
                                },
                                {
                                    "Ortname": "Steffisburg"
                                },
                                {
                                    "Ortname": "Unterlangenegg"
                                },
                                {
                                    "Ortname": "Heimenschwand"
                                },
                                {
                                    "Ortname": "Schwarzenegg"
                                },
                                {
                                    "Ortname": "Teuffenthal b. Thun"
                                },
                                {
                                    "Ortname": "Goldiwil (Thun)"
                                },
                                {
                                    "Ortname": "Heiligenschwendi"
                                },
                                {
                                    "Ortname": "Hünibach"
                                },
                                {
                                    "Ortname": "Heimberg"
                                },
                                {
                                    "Ortname": "Amsoldingen"
                                },
                                {
                                    "Ortname": "Thierachern"
                                },
                                {
                                    "Ortname": "Blumenstein"
                                },
                                {
                                    "Ortname": "Pohlern"
                                },
                                {
                                    "Ortname": "Gwatt (Thun)"
                                },
                                {
                                    "Ortname": "Einigen"
                                },
                                {
                                    "Ortname": "Reutigen"
                                },
                                {
                                    "Ortname": "Hilterfingen"
                                },
                                {
                                    "Ortname": "Oberhofen am Thunersee"
                                },
                                {
                                    "Ortname": "Gunten"
                                },
                                {
                                    "Ortname": "Sigriswil"
                                },
                                {
                                    "Ortname": "Tschingel ob Gunten"
                                },
                                {
                                    "Ortname": "Aeschlen ob Gunten"
                                },
                                {
                                    "Ortname": "Schwanden (Sigriswil)"
                                },
                                {
                                    "Ortname": "Merligen"
                                },
                                {
                                    "Ortname": "Spiez"
                                },
                                {
                                    "Ortname": "Hondrich"
                                },
                                {
                                    "Ortname": "Aeschi b. Spiez"
                                },
                                {
                                    "Ortname": "Aeschiried"
                                },
                                {
                                    "Ortname": "Krattigen"
                                },
                                {
                                    "Ortname": "Faulensee"
                                },
                                {
                                    "Ortname": "Leissigen"
                                },
                                {
                                    "Ortname": "Därligen"
                                },
                                {
                                    "Ortname": "Emdthal"
                                },
                                {
                                    "Ortname": "Mülenen"
                                },
                                {
                                    "Ortname": "Reichenbach im Kandertal"
                                },
                                {
                                    "Ortname": "Frutigen"
                                },
                                {
                                    "Ortname": "Wengi b. Frutigen"
                                },
                                {
                                    "Ortname": "Adelboden"
                                },
                                {
                                    "Ortname": "Kandergrund"
                                },
                                {
                                    "Ortname": "Blausee-Mitholz"
                                },
                                {
                                    "Ortname": "Kandersteg"
                                },
                                {
                                    "Ortname": "Scharnachtal"
                                },
                                {
                                    "Ortname": "Kiental"
                                },
                                {
                                    "Ortname": "Ried (Frutigen)"
                                },
                                {
                                    "Ortname": "Achseten"
                                },
                                {
                                    "Ortname": "Wimmis"
                                },
                                {
                                    "Ortname": "Oey"
                                },
                                {
                                    "Ortname": "Diemtigen"
                                },
                                {
                                    "Ortname": "Horboden"
                                },
                                {
                                    "Ortname": "Zwischenflüh"
                                },
                                {
                                    "Ortname": "Schwenden im Diemtigtal"
                                },
                                {
                                    "Ortname": "Latterbach"
                                },
                                {
                                    "Ortname": "Erlenbach im Simmental"
                                },
                                {
                                    "Ortname": "Därstetten"
                                },
                                {
                                    "Ortname": "Weissenburg"
                                },
                                {
                                    "Ortname": "Oberwil im Simmental"
                                },
                                {
                                    "Ortname": "Boltigen"
                                },
                                {
                                    "Ortname": "Zweisimmen"
                                },
                                {
                                    "Ortname": "Blankenburg"
                                },
                                {
                                    "Ortname": "St. Stephan"
                                },
                                {
                                    "Ortname": "Matten (St. Stephan)"
                                },
                                {
                                    "Ortname": "Lenk im Simmental"
                                },
                                {
                                    "Ortname": "Oeschseite"
                                },
                                {
                                    "Ortname": "Saanenmöser"
                                },
                                {
                                    "Ortname": "Schönried"
                                },
                                {
                                    "Ortname": "Gstaad"
                                },
                                {
                                    "Ortname": "Turbach"
                                },
                                {
                                    "Ortname": "Lauenen b. Gstaad"
                                },
                                {
                                    "Ortname": "Grund b. Gstaad"
                                },
                                {
                                    "Ortname": "Feutersoey"
                                },
                                {
                                    "Ortname": "Gsteig b. Gstaad"
                                },
                                {
                                    "Ortname": "Saanen"
                                },
                                {
                                    "Ortname": "Interlaken"
                                },
                                {
                                    "Ortname": "Unterseen"
                                },
                                {
                                    "Ortname": "Matten b. Interlaken"
                                },
                                {
                                    "Ortname": "Jungfraujoch"
                                },
                                {
                                    "Ortname": "Beatenberg"
                                },
                                {
                                    "Ortname": "Habkern"
                                },
                                {
                                    "Ortname": "Goldswil b. Interlaken"
                                },
                                {
                                    "Ortname": "Bönigen b. Interlaken"
                                },
                                {
                                    "Ortname": "Iseltwald"
                                },
                                {
                                    "Ortname": "Wilderswil"
                                },
                                {
                                    "Ortname": "Saxeten"
                                },
                                {
                                    "Ortname": "Gsteigwiler"
                                },
                                {
                                    "Ortname": "Zweilütschinen"
                                },
                                {
                                    "Ortname": "Lütschental"
                                },
                                {
                                    "Ortname": "Burglauenen"
                                },
                                {
                                    "Ortname": "Grindelwald"
                                },
                                {
                                    "Ortname": "Lauterbrunnen"
                                },
                                {
                                    "Ortname": "Isenfluh"
                                },
                                {
                                    "Ortname": "Wengen"
                                },
                                {
                                    "Ortname": "Stechelberg"
                                },
                                {
                                    "Ortname": "Mürren"
                                },
                                {
                                    "Ortname": "Gimmelwald"
                                },
                                {
                                    "Ortname": "Ringgenberg BE"
                                },
                                {
                                    "Ortname": "Niederried b. Interlaken"
                                },
                                {
                                    "Ortname": "Oberried am Brienzersee"
                                },
                                {
                                    "Ortname": "Brienz BE"
                                },
                                {
                                    "Ortname": "Axalp"
                                },
                                {
                                    "Ortname": "Brienzwiler"
                                },
                                {
                                    "Ortname": "Unterbach BE"
                                },
                                {
                                    "Ortname": "Hofstetten b. Brienz"
                                },
                                {
                                    "Ortname": "Meiringen"
                                },
                                {
                                    "Ortname": "Rosenlaui"
                                },
                                {
                                    "Ortname": "Innertkirchen"
                                },
                                {
                                    "Ortname": "Gadmen"
                                },
                                {
                                    "Ortname": "Guttannen"
                                },
                                {
                                    "Ortname": "Brig"
                                },
                                {
                                    "Ortname": "Gamsen"
                                },
                                {
                                    "Ortname": "Hohtenn"
                                },
                                {
                                    "Ortname": "Birgisch"
                                },
                                {
                                    "Ortname": "Mund"
                                },
                                {
                                    "Ortname": "Blatten b. Naters"
                                },
                                {
                                    "Ortname": "Belalp"
                                },
                                {
                                    "Ortname": "Rosswald"
                                },
                                {
                                    "Ortname": "Ried-Brig"
                                },
                                {
                                    "Ortname": "Termen"
                                },
                                {
                                    "Ortname": "Rothwald"
                                },
                                {
                                    "Ortname": "Simplon Hospiz"
                                },
                                {
                                    "Ortname": "Simplon Dorf"
                                },
                                {
                                    "Ortname": "Gabi (Simplon)"
                                },
                                {
                                    "Ortname": "Gondo"
                                },
                                {
                                    "Ortname": "Eisten"
                                },
                                {
                                    "Ortname": "Saas-Balen"
                                },
                                {
                                    "Ortname": "Saas-Grund"
                                },
                                {
                                    "Ortname": "Glis"
                                },
                                {
                                    "Ortname": "Goppenstein"
                                },
                                {
                                    "Ortname": "Ferden"
                                },
                                {
                                    "Ortname": "Kippel"
                                },
                                {
                                    "Ortname": "Wiler (Lötschen)"
                                },
                                {
                                    "Ortname": "Blatten (Lötschen)"
                                },
                                {
                                    "Ortname": "Naters"
                                },
                                {
                                    "Ortname": "Saas-Almagell"
                                },
                                {
                                    "Ortname": "Saas-Fee"
                                },
                                {
                                    "Ortname": "Zermatt"
                                },
                                {
                                    "Ortname": "Törbel"
                                },
                                {
                                    "Ortname": "Embd"
                                },
                                {
                                    "Ortname": "Herbriggen"
                                },
                                {
                                    "Ortname": "Randa"
                                },
                                {
                                    "Ortname": "Täsch"
                                },
                                {
                                    "Ortname": "Stalden VS"
                                },
                                {
                                    "Ortname": "Kalpetran"
                                },
                                {
                                    "Ortname": "St. Niklaus VS"
                                },
                                {
                                    "Ortname": "Grächen"
                                },
                                {
                                    "Ortname": "Visp"
                                },
                                {
                                    "Ortname": "St. German"
                                },
                                {
                                    "Ortname": "Staldenried"
                                },
                                {
                                    "Ortname": "Baltschieder"
                                },
                                {
                                    "Ortname": "Ausserberg"
                                },
                                {
                                    "Ortname": "Eggerberg"
                                },
                                {
                                    "Ortname": "Eyholz"
                                },
                                {
                                    "Ortname": "Lalden"
                                },
                                {
                                    "Ortname": "Visperterminen"
                                },
                                {
                                    "Ortname": "Zeneggen"
                                },
                                {
                                    "Ortname": "Bürchen"
                                },
                                {
                                    "Ortname": "Eischoll"
                                },
                                {
                                    "Ortname": "Unterbäch VS"
                                },
                                {
                                    "Ortname": "Ergisch"
                                },
                                {
                                    "Ortname": "Unterems"
                                },
                                {
                                    "Ortname": "Gruben"
                                },
                                {
                                    "Ortname": "Oberems"
                                },
                                {
                                    "Ortname": "Agarn"
                                },
                                {
                                    "Ortname": "Albinen"
                                },
                                {
                                    "Ortname": "Guttet-Feschel"
                                },
                                {
                                    "Ortname": "Erschmatt"
                                },
                                {
                                    "Ortname": "Varen"
                                },
                                {
                                    "Ortname": "Noës"
                                },
                                {
                                    "Ortname": "Flanthey"
                                },
                                {
                                    "Ortname": "Lens"
                                },
                                {
                                    "Ortname": "Icogne"
                                },
                                {
                                    "Ortname": "Grône"
                                },
                                {
                                    "Ortname": "Raron"
                                },
                                {
                                    "Ortname": "Niedergesteln"
                                },
                                {
                                    "Ortname": "Gampel"
                                },
                                {
                                    "Ortname": "Turtmann"
                                },
                                {
                                    "Ortname": "Susten"
                                },
                                {
                                    "Ortname": "Leuk Stadt"
                                },
                                {
                                    "Ortname": "Inden"
                                },
                                {
                                    "Ortname": "Leukerbad"
                                },
                                {
                                    "Ortname": "Salgesch"
                                },
                                {
                                    "Ortname": "Granges VS"
                                },
                                {
                                    "Ortname": "St-Léonard"
                                },
                                {
                                    "Ortname": "Sierre"
                                },
                                {
                                    "Ortname": "Corin-de-la-Crête"
                                },
                                {
                                    "Ortname": "Loc"
                                },
                                {
                                    "Ortname": "Chermignon"
                                },
                                {
                                    "Ortname": "Chermignon-d'en-Bas"
                                },
                                {
                                    "Ortname": "Ollon VS"
                                },
                                {
                                    "Ortname": "Miège"
                                },
                                {
                                    "Ortname": "Venthône"
                                },
                                {
                                    "Ortname": "Mollens VS"
                                },
                                {
                                    "Ortname": "Randogne"
                                },
                                {
                                    "Ortname": "Vissoie"
                                },
                                {
                                    "Ortname": "St-Luc"
                                },
                                {
                                    "Ortname": "Chandolin"
                                },
                                {
                                    "Ortname": "Ayer"
                                },
                                {
                                    "Ortname": "Zinal"
                                },
                                {
                                    "Ortname": "Grimentz"
                                },
                                {
                                    "Ortname": "Vercorin"
                                },
                                {
                                    "Ortname": "Montana"
                                },
                                {
                                    "Ortname": "Crans-Montana"
                                },
                                {
                                    "Ortname": "Muraz (Sierre)"
                                },
                                {
                                    "Ortname": "Chippis"
                                },
                                {
                                    "Ortname": "Chalais"
                                },
                                {
                                    "Ortname": "Réchy"
                                },
                                {
                                    "Ortname": "Veyras"
                                },
                                {
                                    "Ortname": "Bitsch"
                                },
                                {
                                    "Ortname": "Grengiols"
                                },
                                {
                                    "Ortname": "Lax"
                                },
                                {
                                    "Ortname": "Bellwald"
                                },
                                {
                                    "Ortname": "Niederwald"
                                },
                                {
                                    "Ortname": "Blitzingen"
                                },
                                {
                                    "Ortname": "Biel VS"
                                },
                                {
                                    "Ortname": "Gluringen"
                                },
                                {
                                    "Ortname": "Reckingen VS"
                                },
                                {
                                    "Ortname": "Geschinen"
                                },
                                {
                                    "Ortname": "Obergesteln"
                                },
                                {
                                    "Ortname": "Oberwald"
                                },
                                {
                                    "Ortname": "Ried-Mörel"
                                },
                                {
                                    "Ortname": "Riederalp"
                                },
                                {
                                    "Ortname": "Betten"
                                },
                                {
                                    "Ortname": "Bettmeralp"
                                },
                                {
                                    "Ortname": "Ernen"
                                },
                                {
                                    "Ortname": "Binn"
                                },
                                {
                                    "Ortname": "Mörel"
                                },
                                {
                                    "Ortname": "Fiesch"
                                },
                                {
                                    "Ortname": "Münster VS"
                                },
                                {
                                    "Ortname": "Ulrichen"
                                },
                                {
                                    "Ortname": "Basel"
                                },
                                {
                                    "Ortname": "Basel"
                                },
                                {
                                    "Ortname": "Basel Universitätsspital"
                                },
                                {
                                    "Ortname": "Basel"
                                },
                                {
                                    "Ortname": "Basel"
                                },
                                {
                                    "Ortname": "Basel"
                                },
                                {
                                    "Ortname": "Basel"
                                },
                                {
                                    "Ortname": "Basel"
                                },
                                {
                                    "Ortname": "Basel"
                                },
                                {
                                    "Ortname": "Basel"
                                },
                                {
                                    "Ortname": "Basel"
                                },
                                {
                                    "Ortname": "Basel"
                                },
                                {
                                    "Ortname": "Bruderholz"
                                },
                                {
                                    "Ortname": "Binningen"
                                },
                                {
                                    "Ortname": "Bottmingen"
                                },
                                {
                                    "Ortname": "Oberwil BL"
                                },
                                {
                                    "Ortname": "Biel-Benken BL"
                                },
                                {
                                    "Ortname": "Therwil"
                                },
                                {
                                    "Ortname": "Ettingen"
                                },
                                {
                                    "Ortname": "Witterswil"
                                },
                                {
                                    "Ortname": "Bättwil"
                                },
                                {
                                    "Ortname": "Flüh"
                                },
                                {
                                    "Ortname": "Hofstetten SO"
                                },
                                {
                                    "Ortname": "Mariastein"
                                },
                                {
                                    "Ortname": "Metzerlen"
                                },
                                {
                                    "Ortname": "Burg im Leimental"
                                },
                                {
                                    "Ortname": "Rodersdorf"
                                },
                                {
                                    "Ortname": "Allschwil"
                                },
                                {
                                    "Ortname": "Schönenbuch"
                                },
                                {
                                    "Ortname": "Riehen"
                                },
                                {
                                    "Ortname": "Bettingen"
                                },
                                {
                                    "Ortname": "Birsfelden"
                                },
                                {
                                    "Ortname": "Muttenz"
                                },
                                {
                                    "Ortname": "Pratteln"
                                },
                                {
                                    "Ortname": "Münchenstein"
                                },
                                {
                                    "Ortname": "Dornach"
                                },
                                {
                                    "Ortname": "Arlesheim"
                                },
                                {
                                    "Ortname": "Gempen"
                                },
                                {
                                    "Ortname": "Hochwald"
                                },
                                {
                                    "Ortname": "Aesch BL"
                                },
                                {
                                    "Ortname": "Pfeffingen"
                                },
                                {
                                    "Ortname": "Reinach BL"
                                },
                                {
                                    "Ortname": "Duggingen"
                                },
                                {
                                    "Ortname": "Grellingen"
                                },
                                {
                                    "Ortname": "Seewen SO"
                                },
                                {
                                    "Ortname": "Bretzwil"
                                },
                                {
                                    "Ortname": "Nunningen"
                                },
                                {
                                    "Ortname": "Zwingen"
                                },
                                {
                                    "Ortname": "Brislach"
                                },
                                {
                                    "Ortname": "Breitenbach"
                                },
                                {
                                    "Ortname": "Büsserach"
                                },
                                {
                                    "Ortname": "Erschwil"
                                },
                                {
                                    "Ortname": "Laufen"
                                },
                                {
                                    "Ortname": "Dittingen"
                                },
                                {
                                    "Ortname": "Röschenz"
                                },
                                {
                                    "Ortname": "Kleinlützel"
                                },
                                {
                                    "Ortname": "Himmelried"
                                },
                                {
                                    "Ortname": "Blauen"
                                },
                                {
                                    "Ortname": "Nenzlingen"
                                },
                                {
                                    "Ortname": "Beinwil SO"
                                },
                                {
                                    "Ortname": "Fehren"
                                },
                                {
                                    "Ortname": "Meltingen"
                                },
                                {
                                    "Ortname": "Zullwil"
                                },
                                {
                                    "Ortname": "Wahlen b. Laufen"
                                },
                                {
                                    "Ortname": "Grindel"
                                },
                                {
                                    "Ortname": "Bärschwil"
                                },
                                {
                                    "Ortname": "Liesberg"
                                },
                                {
                                    "Ortname": "Liesberg Dorf"
                                },
                                {
                                    "Ortname": "Augst BL"
                                },
                                {
                                    "Ortname": "Kaiseraugst"
                                },
                                {
                                    "Ortname": "Giebenach"
                                },
                                {
                                    "Ortname": "Olsberg"
                                },
                                {
                                    "Ortname": "Rheinfelden"
                                },
                                {
                                    "Ortname": "Magden"
                                },
                                {
                                    "Ortname": "Möhlin"
                                },
                                {
                                    "Ortname": "Zeiningen"
                                },
                                {
                                    "Ortname": "Zuzgen"
                                },
                                {
                                    "Ortname": "Hellikon"
                                },
                                {
                                    "Ortname": "Wegenstetten"
                                },
                                {
                                    "Ortname": "Mumpf"
                                },
                                {
                                    "Ortname": "Wallbach"
                                },
                                {
                                    "Ortname": "Obermumpf"
                                },
                                {
                                    "Ortname": "Schupfart"
                                },
                                {
                                    "Ortname": "Stein AG"
                                },
                                {
                                    "Ortname": "Münchwilen AG"
                                },
                                {
                                    "Ortname": "Sisseln AG"
                                },
                                {
                                    "Ortname": "Laufenburg"
                                },
                                {
                                    "Ortname": "Kaisten"
                                },
                                {
                                    "Ortname": "Ittenthal"
                                },
                                {
                                    "Ortname": "Rheinsulz"
                                },
                                {
                                    "Ortname": "Sulz AG"
                                },
                                {
                                    "Ortname": "Etzgen"
                                },
                                {
                                    "Ortname": "Mettau"
                                },
                                {
                                    "Ortname": "Oberhofen AG"
                                },
                                {
                                    "Ortname": "Gansingen"
                                },
                                {
                                    "Ortname": "Wil AG"
                                },
                                {
                                    "Ortname": "Hottwil"
                                },
                                {
                                    "Ortname": "Schwaderloch"
                                },
                                {
                                    "Ortname": "Leibstadt"
                                },
                                {
                                    "Ortname": "Full-Reuenthal"
                                },
                                {
                                    "Ortname": "Frenkendorf"
                                },
                                {
                                    "Ortname": "Liestal"
                                },
                                {
                                    "Ortname": "Seltisberg"
                                },
                                {
                                    "Ortname": "Nuglar"
                                },
                                {
                                    "Ortname": "Büren SO"
                                },
                                {
                                    "Ortname": "Füllinsdorf"
                                },
                                {
                                    "Ortname": "Lausen"
                                },
                                {
                                    "Ortname": "Bubendorf"
                                },
                                {
                                    "Ortname": "Ziefen"
                                },
                                {
                                    "Ortname": "Reigoldswil"
                                },
                                {
                                    "Ortname": "Lupsingen"
                                },
                                {
                                    "Ortname": "St. Pantaleon"
                                },
                                {
                                    "Ortname": "Arisdorf"
                                },
                                {
                                    "Ortname": "Hersberg"
                                },
                                {
                                    "Ortname": "Arboldswil"
                                },
                                {
                                    "Ortname": "Titterten"
                                },
                                {
                                    "Ortname": "Lauwil"
                                },
                                {
                                    "Ortname": "Bennwil"
                                },
                                {
                                    "Ortname": "Lampenberg"
                                },
                                {
                                    "Ortname": "Ramlinsburg"
                                },
                                {
                                    "Ortname": "Hölstein"
                                },
                                {
                                    "Ortname": "Niederdorf"
                                },
                                {
                                    "Ortname": "Oberdorf BL"
                                },
                                {
                                    "Ortname": "Waldenburg"
                                },
                                {
                                    "Ortname": "Langenbruck"
                                },
                                {
                                    "Ortname": "Thürnen"
                                },
                                {
                                    "Ortname": "Diepflingen"
                                },
                                {
                                    "Ortname": "Wittinsburg"
                                },
                                {
                                    "Ortname": "Rümlingen"
                                },
                                {
                                    "Ortname": "Häfelfingen"
                                },
                                {
                                    "Ortname": "Buckten"
                                },
                                {
                                    "Ortname": "Känerkinden"
                                },
                                {
                                    "Ortname": "Läufelfingen"
                                },
                                {
                                    "Ortname": "Sissach"
                                },
                                {
                                    "Ortname": "Wintersingen"
                                },
                                {
                                    "Ortname": "Itingen"
                                },
                                {
                                    "Ortname": "Nusshof"
                                },
                                {
                                    "Ortname": "Zunzgen"
                                },
                                {
                                    "Ortname": "Tenniken"
                                },
                                {
                                    "Ortname": "Diegten"
                                },
                                {
                                    "Ortname": "Eptingen"
                                },
                                {
                                    "Ortname": "Gelterkinden"
                                },
                                {
                                    "Ortname": "Böckten"
                                },
                                {
                                    "Ortname": "Hemmiken"
                                },
                                {
                                    "Ortname": "Anwil"
                                },
                                {
                                    "Ortname": "Rickenbach BL"
                                },
                                {
                                    "Ortname": "Buus"
                                },
                                {
                                    "Ortname": "Maisprach"
                                },
                                {
                                    "Ortname": "Ormalingen"
                                },
                                {
                                    "Ortname": "Rothenfluh"
                                },
                                {
                                    "Ortname": "Kienberg"
                                },
                                {
                                    "Ortname": "Tecknau"
                                },
                                {
                                    "Ortname": "Wenslingen"
                                },
                                {
                                    "Ortname": "Oltingen"
                                },
                                {
                                    "Ortname": "Zeglingen"
                                },
                                {
                                    "Ortname": "Kilchberg BL"
                                },
                                {
                                    "Ortname": "Rünenberg"
                                },
                                {
                                    "Ortname": "Solothurn"
                                },
                                {
                                    "Ortname": "Weissenstein b. Solothurn"
                                },
                                {
                                    "Ortname": "Balm b. Günsberg"
                                },
                                {
                                    "Ortname": "Niederwil SO"
                                },
                                {
                                    "Ortname": "Hubersdorf"
                                },
                                {
                                    "Ortname": "Rumisberg"
                                },
                                {
                                    "Ortname": "Farnern"
                                },
                                {
                                    "Ortname": "Horriwil"
                                },
                                {
                                    "Ortname": "Hersiwil"
                                },
                                {
                                    "Ortname": "Bellach"
                                },
                                {
                                    "Ortname": "Langendorf"
                                },
                                {
                                    "Ortname": "Lommiswil"
                                },
                                {
                                    "Ortname": "Oberdorf SO"
                                },
                                {
                                    "Ortname": "Rüttenen"
                                },
                                {
                                    "Ortname": "Günsberg"
                                },
                                {
                                    "Ortname": "Zuchwil"
                                },
                                {
                                    "Ortname": "Feldbrunnen"
                                },
                                {
                                    "Ortname": "Riedholz"
                                },
                                {
                                    "Ortname": "Flumenthal"
                                },
                                {
                                    "Ortname": "Attiswil"
                                },
                                {
                                    "Ortname": "Wiedlisbach"
                                },
                                {
                                    "Ortname": "Oberbipp"
                                },
                                {
                                    "Ortname": "Derendingen"
                                },
                                {
                                    "Ortname": "Subingen"
                                },
                                {
                                    "Ortname": "Etziken"
                                },
                                {
                                    "Ortname": "Inkwil"
                                },
                                {
                                    "Ortname": "Biberist"
                                },
                                {
                                    "Ortname": "Gerlafingen"
                                },
                                {
                                    "Ortname": "Obergerlafingen"
                                },
                                {
                                    "Ortname": "Zielebach"
                                },
                                {
                                    "Ortname": "Recherswil"
                                },
                                {
                                    "Ortname": "Kriegstetten"
                                },
                                {
                                    "Ortname": "Küttigkofen"
                                },
                                {
                                    "Ortname": "Kyburg-Buchegg"
                                },
                                {
                                    "Ortname": "Brügglen"
                                },
                                {
                                    "Ortname": "Mühledorf SO"
                                },
                                {
                                    "Ortname": "Gossliwil"
                                },
                                {
                                    "Ortname": "Bibern SO"
                                },
                                {
                                    "Ortname": "Ichertswil"
                                },
                                {
                                    "Ortname": "Tscheppach"
                                },
                                {
                                    "Ortname": "Hessigkofen"
                                },
                                {
                                    "Ortname": "Biezwil"
                                },
                                {
                                    "Ortname": "Aetingen"
                                },
                                {
                                    "Ortname": "Unterramsern"
                                },
                                {
                                    "Ortname": "Oberramsern"
                                },
                                {
                                    "Ortname": "Nennigkofen"
                                },
                                {
                                    "Ortname": "Lüsslingen"
                                },
                                {
                                    "Ortname": "Olten"
                                },
                                {
                                    "Ortname": "Wangen b. Olten"
                                },
                                {
                                    "Ortname": "Rickenbach SO"
                                },
                                {
                                    "Ortname": "Hägendorf"
                                },
                                {
                                    "Ortname": "Kappel SO"
                                },
                                {
                                    "Ortname": "Gunzgen"
                                },
                                {
                                    "Ortname": "Boningen"
                                },
                                {
                                    "Ortname": "Egerkingen"
                                },
                                {
                                    "Ortname": "Neuendorf"
                                },
                                {
                                    "Ortname": "Härkingen"
                                },
                                {
                                    "Ortname": "Oberbuchsiten"
                                },
                                {
                                    "Ortname": "Niederbuchsiten"
                                },
                                {
                                    "Ortname": "Trimbach"
                                },
                                {
                                    "Ortname": "Winznau"
                                },
                                {
                                    "Ortname": "Obergösgen"
                                },
                                {
                                    "Ortname": "Lostorf"
                                },
                                {
                                    "Ortname": "Stüsslingen"
                                },
                                {
                                    "Ortname": "Rohr b. Olten"
                                },
                                {
                                    "Ortname": "Starrkirch-Wil"
                                },
                                {
                                    "Ortname": "Dulliken"
                                },
                                {
                                    "Ortname": "Däniken SO"
                                },
                                {
                                    "Ortname": "Aarburg"
                                },
                                {
                                    "Ortname": "Oftringen"
                                },
                                {
                                    "Ortname": "Allerheiligenberg"
                                },
                                {
                                    "Ortname": "Hauenstein"
                                },
                                {
                                    "Ortname": "Wisen SO"
                                },
                                {
                                    "Ortname": "Oensingen"
                                },
                                {
                                    "Ortname": "Kestenholz"
                                },
                                {
                                    "Ortname": "Niederbipp"
                                },
                                {
                                    "Ortname": "Wangen an der Aare"
                                },
                                {
                                    "Ortname": "Walliswil b. Wangen"
                                },
                                {
                                    "Ortname": "Deitingen"
                                },
                                {
                                    "Ortname": "Luterbach"
                                },
                                {
                                    "Ortname": "Balsthal"
                                },
                                {
                                    "Ortname": "Aedermannsdorf"
                                },
                                {
                                    "Ortname": "Herbetswil"
                                },
                                {
                                    "Ortname": "Ramiswil"
                                },
                                {
                                    "Ortname": "Laupersdorf"
                                },
                                {
                                    "Ortname": "Matzendorf"
                                },
                                {
                                    "Ortname": "Welschenrohr"
                                },
                                {
                                    "Ortname": "Gänsbrunnen"
                                },
                                {
                                    "Ortname": "Mümliswil"
                                },
                                {
                                    "Ortname": "Holderbank SO"
                                },
                                {
                                    "Ortname": "Zofingen"
                                },
                                {
                                    "Ortname": "Strengelbach"
                                },
                                {
                                    "Ortname": "Vordemwald"
                                },
                                {
                                    "Ortname": "Brittnau"
                                },
                                {
                                    "Ortname": "Wikon"
                                },
                                {
                                    "Ortname": "Mühlethal"
                                },
                                {
                                    "Ortname": "Uerkheim"
                                },
                                {
                                    "Ortname": "Bottenwil"
                                },
                                {
                                    "Ortname": "Rothrist"
                                },
                                {
                                    "Ortname": "Murgenthal"
                                },
                                {
                                    "Ortname": "Fulenbach"
                                },
                                {
                                    "Ortname": "Wolfwil"
                                },
                                {
                                    "Ortname": "Glashütten"
                                },
                                {
                                    "Ortname": "Riken AG"
                                },
                                {
                                    "Ortname": "Langenthal"
                                },
                                {
                                    "Ortname": "Schwarzhäusern"
                                },
                                {
                                    "Ortname": "Aarwangen"
                                },
                                {
                                    "Ortname": "Bannwil"
                                },
                                {
                                    "Ortname": "Roggwil BE"
                                },
                                {
                                    "Ortname": "St. Urban"
                                },
                                {
                                    "Ortname": "Untersteckholz"
                                },
                                {
                                    "Ortname": "Melchnau"
                                },
                                {
                                    "Ortname": "Busswil b. Melchnau"
                                },
                                {
                                    "Ortname": "Gondiswil"
                                },
                                {
                                    "Ortname": "Reisiswil"
                                },
                                {
                                    "Ortname": "Bützberg"
                                },
                                {
                                    "Ortname": "Wynau"
                                },
                                {
                                    "Ortname": "Obersteckholz"
                                },
                                {
                                    "Ortname": "Lotzwil"
                                },
                                {
                                    "Ortname": "Rütschelen"
                                },
                                {
                                    "Ortname": "Madiswil"
                                },
                                {
                                    "Ortname": "Leimiswil"
                                },
                                {
                                    "Ortname": "Kleindietwil"
                                },
                                {
                                    "Ortname": "Ursenbach"
                                },
                                {
                                    "Ortname": "Rohrbach"
                                },
                                {
                                    "Ortname": "Walterswil BE"
                                },
                                {
                                    "Ortname": "Oeschenbach"
                                },
                                {
                                    "Ortname": "Auswil"
                                },
                                {
                                    "Ortname": "Rohrbachgraben"
                                },
                                {
                                    "Ortname": "Huttwil"
                                },
                                {
                                    "Ortname": "Eriswil"
                                },
                                {
                                    "Ortname": "Schwarzenbach (Huttwil)"
                                },
                                {
                                    "Ortname": "Wyssachen"
                                },
                                {
                                    "Ortname": "Aarau"
                                },
                                {
                                    "Ortname": "Aarau"
                                },
                                {
                                    "Ortname": "Schönenwerd"
                                },
                                {
                                    "Ortname": "Niedergösgen"
                                },
                                {
                                    "Ortname": "Gretzenbach"
                                },
                                {
                                    "Ortname": "Erlinsbach SO"
                                },
                                {
                                    "Ortname": "Barmelweid"
                                },
                                {
                                    "Ortname": "Rombach"
                                },
                                {
                                    "Ortname": "Biberstein"
                                },
                                {
                                    "Ortname": "Küttigen"
                                },
                                {
                                    "Ortname": "Asp"
                                },
                                {
                                    "Ortname": "Densbüren"
                                },
                                {
                                    "Ortname": "Herznach"
                                },
                                {
                                    "Ortname": "Ueken"
                                },
                                {
                                    "Ortname": "Aarau Rohr"
                                },
                                {
                                    "Ortname": "Buchs AG"
                                },
                                {
                                    "Ortname": "Suhr"
                                },
                                {
                                    "Ortname": "Unterentfelden"
                                },
                                {
                                    "Ortname": "Oberentfelden"
                                },
                                {
                                    "Ortname": "Muhen"
                                },
                                {
                                    "Ortname": "Schöftland"
                                },
                                {
                                    "Ortname": "Hirschthal"
                                },
                                {
                                    "Ortname": "Holziken"
                                },
                                {
                                    "Ortname": "Schlossrued"
                                },
                                {
                                    "Ortname": "Schmiedrued"
                                },
                                {
                                    "Ortname": "Walde AG"
                                },
                                {
                                    "Ortname": "Staffelbach"
                                },
                                {
                                    "Ortname": "Kirchleerau"
                                },
                                {
                                    "Ortname": "Moosleerau"
                                },
                                {
                                    "Ortname": "Attelwil"
                                },
                                {
                                    "Ortname": "Reitnau"
                                },
                                {
                                    "Ortname": "Rupperswil"
                                },
                                {
                                    "Ortname": "Wildegg"
                                },
                                {
                                    "Ortname": "Auenstein"
                                },
                                {
                                    "Ortname": "Veltheim AG"
                                },
                                {
                                    "Ortname": "Schinznach Dorf"
                                },
                                {
                                    "Ortname": "Oberflachs"
                                },
                                {
                                    "Ortname": "Thalheim AG"
                                },
                                {
                                    "Ortname": "Holderbank AG"
                                },
                                {
                                    "Ortname": "Möriken AG"
                                },
                                {
                                    "Ortname": "Schinznach Bad"
                                },
                                {
                                    "Ortname": "Habsburg"
                                },
                                {
                                    "Ortname": "Scherz"
                                },
                                {
                                    "Ortname": "Brugg AG"
                                },
                                {
                                    "Ortname": "Windisch"
                                },
                                {
                                    "Ortname": "Hausen AG"
                                },
                                {
                                    "Ortname": "Villnachern"
                                },
                                {
                                    "Ortname": "Umiken"
                                },
                                {
                                    "Ortname": "Riniken"
                                },
                                {
                                    "Ortname": "Stilli"
                                },
                                {
                                    "Ortname": "Villigen"
                                },
                                {
                                    "Ortname": "Rüfenach AG"
                                },
                                {
                                    "Ortname": "Remigen"
                                },
                                {
                                    "Ortname": "Mönthal"
                                },
                                {
                                    "Ortname": "Birr"
                                },
                                {
                                    "Ortname": "Lupfig"
                                },
                                {
                                    "Ortname": "Mülligen"
                                },
                                {
                                    "Ortname": "Birrhard"
                                },
                                {
                                    "Ortname": "Effingen"
                                },
                                {
                                    "Ortname": "Bözen"
                                },
                                {
                                    "Ortname": "Elfingen"
                                },
                                {
                                    "Ortname": "Zeihen"
                                },
                                {
                                    "Ortname": "Hornussen"
                                },
                                {
                                    "Ortname": "Frick"
                                },
                                {
                                    "Ortname": "Oeschgen"
                                },
                                {
                                    "Ortname": "Gipf-Oberfrick"
                                },
                                {
                                    "Ortname": "Wittnau"
                                },
                                {
                                    "Ortname": "Wölflinswil"
                                },
                                {
                                    "Ortname": "Oberhof"
                                },
                                {
                                    "Ortname": "Eiken"
                                },
                                {
                                    "Ortname": "Turgi"
                                },
                                {
                                    "Ortname": "Siggenthal Station"
                                },
                                {
                                    "Ortname": "Würenlingen"
                                },
                                {
                                    "Ortname": "Endingen"
                                },
                                {
                                    "Ortname": "Unterendingen"
                                },
                                {
                                    "Ortname": "Tegerfelden"
                                },
                                {
                                    "Ortname": "Döttingen"
                                },
                                {
                                    "Ortname": "Klingnau"
                                },
                                {
                                    "Ortname": "Kleindöttingen"
                                },
                                {
                                    "Ortname": "Böttstein"
                                },
                                {
                                    "Ortname": "Leuggern"
                                },
                                {
                                    "Ortname": "Hettenschwil"
                                },
                                {
                                    "Ortname": "Mandach"
                                },
                                {
                                    "Ortname": "Koblenz"
                                },
                                {
                                    "Ortname": "Baden"
                                },
                                {
                                    "Ortname": "Ennetbaden"
                                },
                                {
                                    "Ortname": "Baden"
                                },
                                {
                                    "Ortname": "Gebenstorf"
                                },
                                {
                                    "Ortname": "Birmenstorf AG"
                                },
                                {
                                    "Ortname": "Nussbaumen AG"
                                },
                                {
                                    "Ortname": "Kirchdorf AG"
                                },
                                {
                                    "Ortname": "Untersiggenthal"
                                },
                                {
                                    "Ortname": "Ehrendingen"
                                },
                                {
                                    "Ortname": "Freienwil"
                                },
                                {
                                    "Ortname": "Schneisingen"
                                },
                                {
                                    "Ortname": "Lengnau AG"
                                },
                                {
                                    "Ortname": "Wettingen"
                                },
                                {
                                    "Ortname": "Neuenhof"
                                },
                                {
                                    "Ortname": "Fislisbach"
                                },
                                {
                                    "Ortname": "Niederrohrdorf"
                                },
                                {
                                    "Ortname": "Künten"
                                },
                                {
                                    "Ortname": "Eggenwil"
                                },
                                {
                                    "Ortname": "Oberrohrdorf"
                                },
                                {
                                    "Ortname": "Remetschwil"
                                },
                                {
                                    "Ortname": "Bellikon"
                                },
                                {
                                    "Ortname": "Hunzenschwil"
                                },
                                {
                                    "Ortname": "Schafisheim"
                                },
                                {
                                    "Ortname": "Othmarsingen"
                                },
                                {
                                    "Ortname": "Brunegg"
                                },
                                {
                                    "Ortname": "Mägenwil"
                                },
                                {
                                    "Ortname": "Mellingen"
                                },
                                {
                                    "Ortname": "Wohlenschwil"
                                },
                                {
                                    "Ortname": "Tägerig"
                                },
                                {
                                    "Ortname": "Nesselnbach"
                                },
                                {
                                    "Ortname": "Niederwil AG"
                                },
                                {
                                    "Ortname": "Fischbach-Göslikon"
                                },
                                {
                                    "Ortname": "Lenzburg"
                                },
                                {
                                    "Ortname": "Ammerswil AG"
                                },
                                {
                                    "Ortname": "Staufen"
                                },
                                {
                                    "Ortname": "Hendschiken"
                                },
                                {
                                    "Ortname": "Dottikon"
                                },
                                {
                                    "Ortname": "Dintikon"
                                },
                                {
                                    "Ortname": "Hägglingen"
                                },
                                {
                                    "Ortname": "Stetten AG"
                                },
                                {
                                    "Ortname": "Wohlen AG"
                                },
                                {
                                    "Ortname": "Anglikon"
                                },
                                {
                                    "Ortname": "Büttikon AG"
                                },
                                {
                                    "Ortname": "Villmergen"
                                },
                                {
                                    "Ortname": "Hilfikon"
                                },
                                {
                                    "Ortname": "Sarmenstorf"
                                },
                                {
                                    "Ortname": "Fahrwangen"
                                },
                                {
                                    "Ortname": "Meisterschwanden"
                                },
                                {
                                    "Ortname": "Tennwil"
                                },
                                {
                                    "Ortname": "Bettwil"
                                },
                                {
                                    "Ortname": "Bremgarten AG"
                                },
                                {
                                    "Ortname": "Zufikon"
                                },
                                {
                                    "Ortname": "Waltenschwil"
                                },
                                {
                                    "Ortname": "Boswil"
                                },
                                {
                                    "Ortname": "Bünzen"
                                },
                                {
                                    "Ortname": "Kallern"
                                },
                                {
                                    "Ortname": "Hermetschwil-Staffeln"
                                },
                                {
                                    "Ortname": "Besenbüren"
                                },
                                {
                                    "Ortname": "Aristau"
                                },
                                {
                                    "Ortname": "Muri AG"
                                },
                                {
                                    "Ortname": "Buttwil"
                                },
                                {
                                    "Ortname": "Merenschwand"
                                },
                                {
                                    "Ortname": "Benzenschwil"
                                },
                                {
                                    "Ortname": "Beinwil (Freiamt)"
                                },
                                {
                                    "Ortname": "Mühlau"
                                },
                                {
                                    "Ortname": "Sins"
                                },
                                {
                                    "Ortname": "Auw"
                                },
                                {
                                    "Ortname": "Aettenschwil"
                                },
                                {
                                    "Ortname": "Abtwil AG"
                                },
                                {
                                    "Ortname": "Oberrüti"
                                },
                                {
                                    "Ortname": "Alikon"
                                },
                                {
                                    "Ortname": "Niederlenz"
                                },
                                {
                                    "Ortname": "Seon"
                                },
                                {
                                    "Ortname": "Egliswil"
                                },
                                {
                                    "Ortname": "Hallwil"
                                },
                                {
                                    "Ortname": "Boniswil"
                                },
                                {
                                    "Ortname": "Seengen"
                                },
                                {
                                    "Ortname": "Birrwil"
                                },
                                {
                                    "Ortname": "Beinwil am See"
                                },
                                {
                                    "Ortname": "Gränichen"
                                },
                                {
                                    "Ortname": "Teufenthal AG"
                                },
                                {
                                    "Ortname": "Dürrenäsch"
                                },
                                {
                                    "Ortname": "Leutwil"
                                },
                                {
                                    "Ortname": "Unterkulm"
                                },
                                {
                                    "Ortname": "Oberkulm"
                                },
                                {
                                    "Ortname": "Gontenschwil"
                                },
                                {
                                    "Ortname": "Zetzwil"
                                },
                                {
                                    "Ortname": "Leimbach AG"
                                },
                                {
                                    "Ortname": "Reinach AG"
                                },
                                {
                                    "Ortname": "Pfeffikon LU"
                                },
                                {
                                    "Ortname": "Burg AG"
                                },
                                {
                                    "Ortname": "Menziken"
                                },
                                {
                                    "Ortname": "Kölliken"
                                },
                                {
                                    "Ortname": "Safenwil"
                                },
                                {
                                    "Ortname": "Walterswil SO"
                                },
                                {
                                    "Ortname": "Luzern"
                                },
                                {
                                    "Ortname": "Luzern"
                                },
                                {
                                    "Ortname": "Luzern"
                                },
                                {
                                    "Ortname": "Luzern"
                                },
                                {
                                    "Ortname": "Luzern"
                                },
                                {
                                    "Ortname": "Kriens"
                                },
                                {
                                    "Ortname": "Obernau"
                                },
                                {
                                    "Ortname": "Eigenthal"
                                },
                                {
                                    "Ortname": "Luzern"
                                },
                                {
                                    "Ortname": "Luzern"
                                },
                                {
                                    "Ortname": "Hellbühl"
                                },
                                {
                                    "Ortname": "Ruswil"
                                },
                                {
                                    "Ortname": "Sigigen"
                                },
                                {
                                    "Ortname": "Buttisholz"
                                },
                                {
                                    "Ortname": "Emmenbrücke"
                                },
                                {
                                    "Ortname": "Grosswangen"
                                },
                                {
                                    "Ortname": "Rothenburg"
                                },
                                {
                                    "Ortname": "Hildisrieden"
                                },
                                {
                                    "Ortname": "Neudorf"
                                },
                                {
                                    "Ortname": "Rain"
                                },
                                {
                                    "Ortname": "Römerswil LU"
                                },
                                {
                                    "Ortname": "Herlisberg"
                                },
                                {
                                    "Ortname": "Ebikon"
                                },
                                {
                                    "Ortname": "Emmen"
                                },
                                {
                                    "Ortname": "Buchrain"
                                },
                                {
                                    "Ortname": "Inwil"
                                },
                                {
                                    "Ortname": "Perlen"
                                },
                                {
                                    "Ortname": "Dierikon"
                                },
                                {
                                    "Ortname": "Root"
                                },
                                {
                                    "Ortname": "Gisikon"
                                },
                                {
                                    "Ortname": "Dietwil"
                                },
                                {
                                    "Ortname": "Adligenswil"
                                },
                                {
                                    "Ortname": "Udligenswil"
                                },
                                {
                                    "Ortname": "Meggen"
                                },
                                {
                                    "Ortname": "Kastanienbaum"
                                },
                                {
                                    "Ortname": "Horw"
                                },
                                {
                                    "Ortname": "Hergiswil NW"
                                },
                                {
                                    "Ortname": "Alpnachstad"
                                },
                                {
                                    "Ortname": "Alpnach Dorf"
                                },
                                {
                                    "Ortname": "Kägiswil"
                                },
                                {
                                    "Ortname": "Sarnen"
                                },
                                {
                                    "Ortname": "Ramersberg"
                                },
                                {
                                    "Ortname": "Melchsee-Frutt"
                                },
                                {
                                    "Ortname": "Wilen (Sarnen)"
                                },
                                {
                                    "Ortname": "Stalden (Sarnen)"
                                },
                                {
                                    "Ortname": "Kerns"
                                },
                                {
                                    "Ortname": "St. Niklausen OW"
                                },
                                {
                                    "Ortname": "Melchtal"
                                },
                                {
                                    "Ortname": "Sachseln"
                                },
                                {
                                    "Ortname": "Flüeli-Ranft"
                                },
                                {
                                    "Ortname": "Giswil"
                                },
                                {
                                    "Ortname": "Bürglen OW"
                                },
                                {
                                    "Ortname": "Lungern"
                                },
                                {
                                    "Ortname": "Brünig"
                                },
                                {
                                    "Ortname": "Hasliberg Hohfluh"
                                },
                                {
                                    "Ortname": "Hasliberg Wasserwendi"
                                },
                                {
                                    "Ortname": "Hasliberg Goldern"
                                },
                                {
                                    "Ortname": "Hasliberg Reuti"
                                },
                                {
                                    "Ortname": "Pilatus Kulm"
                                },
                                {
                                    "Ortname": "Malters"
                                },
                                {
                                    "Ortname": "Schwarzenberg LU"
                                },
                                {
                                    "Ortname": "Schachen LU"
                                },
                                {
                                    "Ortname": "Werthenstein"
                                },
                                {
                                    "Ortname": "Wolhusen"
                                },
                                {
                                    "Ortname": "Steinhuserberg"
                                },
                                {
                                    "Ortname": "Fontannen b. Wolhusen"
                                },
                                {
                                    "Ortname": "Doppleschwand"
                                },
                                {
                                    "Ortname": "Romoos"
                                },
                                {
                                    "Ortname": "Menznau"
                                },
                                {
                                    "Ortname": "Geiss"
                                },
                                {
                                    "Ortname": "Menzberg"
                                },
                                {
                                    "Ortname": "Daiwil"
                                },
                                {
                                    "Ortname": "Willisau"
                                },
                                {
                                    "Ortname": "Rohrmatt"
                                },
                                {
                                    "Ortname": "Hergiswil b. Willisau"
                                },
                                {
                                    "Ortname": "Gettnau"
                                },
                                {
                                    "Ortname": "Ohmstal"
                                },
                                {
                                    "Ortname": "Zell LU"
                                },
                                {
                                    "Ortname": "Fischbach LU"
                                },
                                {
                                    "Ortname": "Grossdietwil"
                                },
                                {
                                    "Ortname": "Altbüron"
                                },
                                {
                                    "Ortname": "Hüswil"
                                },
                                {
                                    "Ortname": "Ufhusen"
                                },
                                {
                                    "Ortname": "Hofstatt"
                                },
                                {
                                    "Ortname": "Luthern"
                                },
                                {
                                    "Ortname": "Entlebuch"
                                },
                                {
                                    "Ortname": "Ebnet"
                                },
                                {
                                    "Ortname": "Rengg"
                                },
                                {
                                    "Ortname": "Finsterwald b. Entlebuch"
                                },
                                {
                                    "Ortname": "Hasle LU"
                                },
                                {
                                    "Ortname": "Bramboden"
                                },
                                {
                                    "Ortname": "Schüpfheim"
                                },
                                {
                                    "Ortname": "Flühli LU"
                                },
                                {
                                    "Ortname": "Sörenberg"
                                },
                                {
                                    "Ortname": "Escholzmatt"
                                },
                                {
                                    "Ortname": "Wiggen"
                                },
                                {
                                    "Ortname": "Marbach LU"
                                },
                                {
                                    "Ortname": "Schangnau"
                                },
                                {
                                    "Ortname": "Sempach Station"
                                },
                                {
                                    "Ortname": "Sempach"
                                },
                                {
                                    "Ortname": "Eich"
                                },
                                {
                                    "Ortname": "Neuenkirch"
                                },
                                {
                                    "Ortname": "Nottwil"
                                },
                                {
                                    "Ortname": "Oberkirch LU"
                                },
                                {
                                    "Ortname": "Sursee"
                                },
                                {
                                    "Ortname": "Buchs LU"
                                },
                                {
                                    "Ortname": "St. Erhard"
                                },
                                {
                                    "Ortname": "Knutwil"
                                },
                                {
                                    "Ortname": "Schenkon"
                                },
                                {
                                    "Ortname": "Beromünster"
                                },
                                {
                                    "Ortname": "Schwarzenbach LU"
                                },
                                {
                                    "Ortname": "Mauensee"
                                },
                                {
                                    "Ortname": "Kottwil"
                                },
                                {
                                    "Ortname": "Ettiswil"
                                },
                                {
                                    "Ortname": "Rickenbach LU"
                                },
                                {
                                    "Ortname": "Gunzwil"
                                },
                                {
                                    "Ortname": "Schlierbach"
                                },
                                {
                                    "Ortname": "Geuensee"
                                },
                                {
                                    "Ortname": "Büron"
                                },
                                {
                                    "Ortname": "Triengen"
                                },
                                {
                                    "Ortname": "Kulmerau"
                                },
                                {
                                    "Ortname": "Wilihof"
                                },
                                {
                                    "Ortname": "Winikon"
                                },
                                {
                                    "Ortname": "Wauwil"
                                },
                                {
                                    "Ortname": "Egolzwil"
                                },
                                {
                                    "Ortname": "Nebikon"
                                },
                                {
                                    "Ortname": "Ebersecken"
                                },
                                {
                                    "Ortname": "Altishofen"
                                },
                                {
                                    "Ortname": "Schötz"
                                },
                                {
                                    "Ortname": "Alberswil"
                                },
                                {
                                    "Ortname": "Dagmersellen"
                                },
                                {
                                    "Ortname": "Uffikon"
                                },
                                {
                                    "Ortname": "Reiden"
                                },
                                {
                                    "Ortname": "Reidermoos"
                                },
                                {
                                    "Ortname": "Langnau b. Reiden"
                                },
                                {
                                    "Ortname": "Richenthal"
                                },
                                {
                                    "Ortname": "Pfaffnau"
                                },
                                {
                                    "Ortname": "Roggliswil"
                                },
                                {
                                    "Ortname": "Eschenbach LU"
                                },
                                {
                                    "Ortname": "Ballwil"
                                },
                                {
                                    "Ortname": "Hohenrain"
                                },
                                {
                                    "Ortname": "Kleinwangen"
                                },
                                {
                                    "Ortname": "Hochdorf"
                                },
                                {
                                    "Ortname": "Urswil"
                                },
                                {
                                    "Ortname": "Baldegg"
                                },
                                {
                                    "Ortname": "Gelfingen"
                                },
                                {
                                    "Ortname": "Hitzkirch"
                                },
                                {
                                    "Ortname": "Retschwil"
                                },
                                {
                                    "Ortname": "Müswangen"
                                },
                                {
                                    "Ortname": "Altwis"
                                },
                                {
                                    "Ortname": "Aesch LU"
                                },
                                {
                                    "Ortname": "Schongau"
                                },
                                {
                                    "Ortname": "Ermensee"
                                },
                                {
                                    "Ortname": "Mosen"
                                },
                                {
                                    "Ortname": "Zug"
                                },
                                {
                                    "Ortname": "Edlibach"
                                },
                                {
                                    "Ortname": "Finstersee"
                                },
                                {
                                    "Ortname": "Allenwinden"
                                },
                                {
                                    "Ortname": "Morgarten"
                                },
                                {
                                    "Ortname": "Steinhausen"
                                },
                                {
                                    "Ortname": "Menzingen"
                                },
                                {
                                    "Ortname": "Unterägeri"
                                },
                                {
                                    "Ortname": "Neuägeri"
                                },
                                {
                                    "Ortname": "Oberägeri"
                                },
                                {
                                    "Ortname": "Alosen"
                                },
                                {
                                    "Ortname": "Zugerberg"
                                },
                                {
                                    "Ortname": "Oberwil b. Zug"
                                },
                                {
                                    "Ortname": "Walchwil"
                                },
                                {
                                    "Ortname": "Cham"
                                },
                                {
                                    "Ortname": "Hünenberg"
                                },
                                {
                                    "Ortname": "Hagendorn"
                                },
                                {
                                    "Ortname": "Baar"
                                },
                                {
                                    "Ortname": "Rotkreuz"
                                },
                                {
                                    "Ortname": "Meierskappel"
                                },
                                {
                                    "Ortname": "Neuheim"
                                },
                                {
                                    "Ortname": "Weggis"
                                },
                                {
                                    "Ortname": "Vitznau"
                                },
                                {
                                    "Ortname": "Rigi Kaltbad"
                                },
                                {
                                    "Ortname": "Stansstad"
                                },
                                {
                                    "Ortname": "Obbürgen"
                                },
                                {
                                    "Ortname": "Kehrsiten"
                                },
                                {
                                    "Ortname": "Stans"
                                },
                                {
                                    "Ortname": "Ennetmoos"
                                },
                                {
                                    "Ortname": "Ennetbürgen"
                                },
                                {
                                    "Ortname": "Buochs"
                                },
                                {
                                    "Ortname": "Beckenried"
                                },
                                {
                                    "Ortname": "Emmetten"
                                },
                                {
                                    "Ortname": "Seelisberg"
                                },
                                {
                                    "Ortname": "Büren NW"
                                },
                                {
                                    "Ortname": "Dallenwil"
                                },
                                {
                                    "Ortname": "Niederrickenbach"
                                },
                                {
                                    "Ortname": "Wolfenschiessen"
                                },
                                {
                                    "Ortname": "Oberrickenbach"
                                },
                                {
                                    "Ortname": "Grafenort"
                                },
                                {
                                    "Ortname": "Engelberg"
                                },
                                {
                                    "Ortname": "Merlischachen"
                                },
                                {
                                    "Ortname": "Küssnacht am Rigi"
                                },
                                {
                                    "Ortname": "Greppen"
                                },
                                {
                                    "Ortname": "Immensee"
                                },
                                {
                                    "Ortname": "Goldau"
                                },
                                {
                                    "Ortname": "Rigi Klösterli"
                                },
                                {
                                    "Ortname": "Rigi Staffel"
                                },
                                {
                                    "Ortname": "Rigi Kulm"
                                },
                                {
                                    "Ortname": "Oberarth"
                                },
                                {
                                    "Ortname": "Arth"
                                },
                                {
                                    "Ortname": "Steinerberg"
                                },
                                {
                                    "Ortname": "Sattel"
                                },
                                {
                                    "Ortname": "Rothenthurm"
                                },
                                {
                                    "Ortname": "Steinen"
                                },
                                {
                                    "Ortname": "Seewen SZ"
                                },
                                {
                                    "Ortname": "Lauerz"
                                },
                                {
                                    "Ortname": "Schwyz"
                                },
                                {
                                    "Ortname": "Ried (Muotathal)"
                                },
                                {
                                    "Ortname": "Rickenbach b. Schwyz"
                                },
                                {
                                    "Ortname": "Stoos SZ"
                                },
                                {
                                    "Ortname": "Illgau"
                                },
                                {
                                    "Ortname": "Muotathal"
                                },
                                {
                                    "Ortname": "Bisisthal"
                                },
                                {
                                    "Ortname": "Ibach"
                                },
                                {
                                    "Ortname": "Brunnen"
                                },
                                {
                                    "Ortname": "Rütli"
                                },
                                {
                                    "Ortname": "Gersau"
                                },
                                {
                                    "Ortname": "Morschach"
                                },
                                {
                                    "Ortname": "Sisikon"
                                },
                                {
                                    "Ortname": "Riemenstalden"
                                },
                                {
                                    "Ortname": "Flüelen"
                                },
                                {
                                    "Ortname": "Altdorf UR"
                                },
                                {
                                    "Ortname": "Isenthal"
                                },
                                {
                                    "Ortname": "Seedorf UR"
                                },
                                {
                                    "Ortname": "Bürglen UR"
                                },
                                {
                                    "Ortname": "Spiringen"
                                },
                                {
                                    "Ortname": "Unterschächen"
                                },
                                {
                                    "Ortname": "Bauen"
                                },
                                {
                                    "Ortname": "Schattdorf"
                                },
                                {
                                    "Ortname": "Haldi b. Schattdorf"
                                },
                                {
                                    "Ortname": "Attinghausen"
                                },
                                {
                                    "Ortname": "Erstfeld"
                                },
                                {
                                    "Ortname": "Silenen"
                                },
                                {
                                    "Ortname": "Amsteg"
                                },
                                {
                                    "Ortname": "Bristen"
                                },
                                {
                                    "Ortname": "Intschi"
                                },
                                {
                                    "Ortname": "Gurtnellen"
                                },
                                {
                                    "Ortname": "Wassen UR"
                                },
                                {
                                    "Ortname": "Meien"
                                },
                                {
                                    "Ortname": "Göschenen"
                                },
                                {
                                    "Ortname": "Andermatt"
                                },
                                {
                                    "Ortname": "Realp"
                                },
                                {
                                    "Ortname": "Hospental"
                                },
                                {
                                    "Ortname": "Bellinzona"
                                },
                                {
                                    "Ortname": "Bellinzona"
                                },
                                {
                                    "Ortname": "Giubiasco"
                                },
                                {
                                    "Ortname": "Monte Carasso"
                                },
                                {
                                    "Ortname": "Sementina"
                                },
                                {
                                    "Ortname": "Gudo"
                                },
                                {
                                    "Ortname": "Cugnasco"
                                },
                                {
                                    "Ortname": "Arbedo"
                                },
                                {
                                    "Ortname": "Gorduno"
                                },
                                {
                                    "Ortname": "Gnosca"
                                },
                                {
                                    "Ortname": "Prosito"
                                },
                                {
                                    "Ortname": "Lodrino"
                                },
                                {
                                    "Ortname": "Camorino"
                                },
                                {
                                    "Ortname": "Castione"
                                },
                                {
                                    "Ortname": "Lumino"
                                },
                                {
                                    "Ortname": "S. Vittore"
                                },
                                {
                                    "Ortname": "Roveredo GR"
                                },
                                {
                                    "Ortname": "Grono"
                                },
                                {
                                    "Ortname": "Preonzo"
                                },
                                {
                                    "Ortname": "Moleno"
                                },
                                {
                                    "Ortname": "Pianezzo"
                                },
                                {
                                    "Ortname": "S. Antonio (Val Morobbia)"
                                },
                                {
                                    "Ortname": "Carena"
                                },
                                {
                                    "Ortname": "Laura"
                                },
                                {
                                    "Ortname": "Castaneda"
                                },
                                {
                                    "Ortname": "Sta. Maria in Calanca"
                                },
                                {
                                    "Ortname": "Verdabbio"
                                },
                                {
                                    "Ortname": "Buseno"
                                },
                                {
                                    "Ortname": "Arvigo"
                                },
                                {
                                    "Ortname": "Braggio"
                                },
                                {
                                    "Ortname": "Selma"
                                },
                                {
                                    "Ortname": "Cauco"
                                },
                                {
                                    "Ortname": "Augio"
                                },
                                {
                                    "Ortname": "Rossa"
                                },
                                {
                                    "Ortname": "Leggia"
                                },
                                {
                                    "Ortname": "S. Bernardino"
                                },
                                {
                                    "Ortname": "Cama"
                                },
                                {
                                    "Ortname": "Lostallo"
                                },
                                {
                                    "Ortname": "Soazza"
                                },
                                {
                                    "Ortname": "Mesocco"
                                },
                                {
                                    "Ortname": "Quartino"
                                },
                                {
                                    "Ortname": "Magadino"
                                },
                                {
                                    "Ortname": "Vira (Gambarogno)"
                                },
                                {
                                    "Ortname": "S. Nazzaro"
                                },
                                {
                                    "Ortname": "Vairano"
                                },
                                {
                                    "Ortname": "Gerra (Gambarogno)"
                                },
                                {
                                    "Ortname": "Ranzo"
                                },
                                {
                                    "Ortname": "Caviano"
                                },
                                {
                                    "Ortname": "Piazzogna"
                                },
                                {
                                    "Ortname": "Indemini"
                                },
                                {
                                    "Ortname": "S. Antonino"
                                },
                                {
                                    "Ortname": "Cadenazzo"
                                },
                                {
                                    "Ortname": "Contone"
                                },
                                {
                                    "Ortname": "Riazzino"
                                },
                                {
                                    "Ortname": "Gordola"
                                },
                                {
                                    "Ortname": "Agarone"
                                },
                                {
                                    "Ortname": "Tenero"
                                },
                                {
                                    "Ortname": "Robasacco"
                                },
                                {
                                    "Ortname": "Locarno"
                                },
                                {
                                    "Ortname": "Muralto"
                                },
                                {
                                    "Ortname": "Locarno"
                                },
                                {
                                    "Ortname": "Monte Brè sopra Locarno"
                                },
                                {
                                    "Ortname": "Golino"
                                },
                                {
                                    "Ortname": "Arcegno"
                                },
                                {
                                    "Ortname": "Contra"
                                },
                                {
                                    "Ortname": "Mergoscia"
                                },
                                {
                                    "Ortname": "Auressio"
                                },
                                {
                                    "Ortname": "Loco"
                                },
                                {
                                    "Ortname": "Berzona"
                                },
                                {
                                    "Ortname": "Mosogno"
                                },
                                {
                                    "Ortname": "Russo"
                                },
                                {
                                    "Ortname": "Vergeletto"
                                },
                                {
                                    "Ortname": "Gresso"
                                },
                                {
                                    "Ortname": "Crana"
                                },
                                {
                                    "Ortname": "Comologno"
                                },
                                {
                                    "Ortname": "Spruga"
                                },
                                {
                                    "Ortname": "Vogorno"
                                },
                                {
                                    "Ortname": "Corippo"
                                },
                                {
                                    "Ortname": "Lavertezzo"
                                },
                                {
                                    "Ortname": "Brione (Verzasca)"
                                },
                                {
                                    "Ortname": "Gerra (Verzasca)"
                                },
                                {
                                    "Ortname": "Frasco"
                                },
                                {
                                    "Ortname": "Sonogno"
                                },
                                {
                                    "Ortname": "Ascona"
                                },
                                {
                                    "Ortname": "Porto Ronco"
                                },
                                {
                                    "Ortname": "Brissago"
                                },
                                {
                                    "Ortname": "Isole di Brissago"
                                },
                                {
                                    "Ortname": "Losone"
                                },
                                {
                                    "Ortname": "Ronco sopra Ascona"
                                },
                                {
                                    "Ortname": "Orselina"
                                },
                                {
                                    "Ortname": "Brione sopra Minusio"
                                },
                                {
                                    "Ortname": "Minusio"
                                },
                                {
                                    "Ortname": "Verdasio"
                                },
                                {
                                    "Ortname": "Rasa"
                                },
                                {
                                    "Ortname": "Palagnedra"
                                },
                                {
                                    "Ortname": "Borgnone"
                                },
                                {
                                    "Ortname": "Camedo"
                                },
                                {
                                    "Ortname": "Moneto"
                                },
                                {
                                    "Ortname": "Tegna"
                                },
                                {
                                    "Ortname": "Verscio"
                                },
                                {
                                    "Ortname": "Cavigliano"
                                },
                                {
                                    "Ortname": "Intragna"
                                },
                                {
                                    "Ortname": "Avegno"
                                },
                                {
                                    "Ortname": "Moghegno"
                                },
                                {
                                    "Ortname": "Coglio"
                                },
                                {
                                    "Ortname": "Lodano"
                                },
                                {
                                    "Ortname": "Giumaglio"
                                },
                                {
                                    "Ortname": "Riveo"
                                },
                                {
                                    "Ortname": "Linescio"
                                },
                                {
                                    "Ortname": "Cerentino"
                                },
                                {
                                    "Ortname": "Bosco/Gurin"
                                },
                                {
                                    "Ortname": "Niva (Vallemaggia)"
                                },
                                {
                                    "Ortname": "Campo (Vallemaggia)"
                                },
                                {
                                    "Ortname": "Cimalmotto"
                                },
                                {
                                    "Ortname": "Cavergno"
                                },
                                {
                                    "Ortname": "S. Carlo (Val Bavona)"
                                },
                                {
                                    "Ortname": "Brontallo"
                                },
                                {
                                    "Ortname": "Menzonio"
                                },
                                {
                                    "Ortname": "Broglio"
                                },
                                {
                                    "Ortname": "Prato-Sornico"
                                },
                                {
                                    "Ortname": "Peccia"
                                },
                                {
                                    "Ortname": "Piano di Peccia"
                                },
                                {
                                    "Ortname": "Fusio"
                                },
                                {
                                    "Ortname": "Gordevio"
                                },
                                {
                                    "Ortname": "Maggia"
                                },
                                {
                                    "Ortname": "Someo"
                                },
                                {
                                    "Ortname": "Cevio"
                                },
                                {
                                    "Ortname": "Bignasco"
                                },
                                {
                                    "Ortname": "Claro"
                                },
                                {
                                    "Ortname": "Osogna"
                                },
                                {
                                    "Ortname": "Cresciano"
                                },
                                {
                                    "Ortname": "Iragna"
                                },
                                {
                                    "Ortname": "Biasca"
                                },
                                {
                                    "Ortname": "Ludiano"
                                },
                                {
                                    "Ortname": "Corzoneso"
                                },
                                {
                                    "Ortname": "Leontica"
                                },
                                {
                                    "Ortname": "Prugiasco"
                                },
                                {
                                    "Ortname": "Castro"
                                },
                                {
                                    "Ortname": "Ponto Valentino"
                                },
                                {
                                    "Ortname": "Lottigna"
                                },
                                {
                                    "Ortname": "Aquila"
                                },
                                {
                                    "Ortname": "Campo (Blenio)"
                                },
                                {
                                    "Ortname": "Motto (Blenio)"
                                },
                                {
                                    "Ortname": "Malvaglia"
                                },
                                {
                                    "Ortname": "Semione"
                                },
                                {
                                    "Ortname": "Dongio"
                                },
                                {
                                    "Ortname": "Acquarossa"
                                },
                                {
                                    "Ortname": "Dangio"
                                },
                                {
                                    "Ortname": "Torre"
                                },
                                {
                                    "Ortname": "Olivone"
                                },
                                {
                                    "Ortname": "Camperio"
                                },
                                {
                                    "Ortname": "Pollegio"
                                },
                                {
                                    "Ortname": "Bodio TI"
                                },
                                {
                                    "Ortname": "Giornico"
                                },
                                {
                                    "Ortname": "Lavorgo"
                                },
                                {
                                    "Ortname": "Calonico"
                                },
                                {
                                    "Ortname": "Nivo"
                                },
                                {
                                    "Ortname": "Chironico"
                                },
                                {
                                    "Ortname": "Faido"
                                },
                                {
                                    "Ortname": "Molare"
                                },
                                {
                                    "Ortname": "Calpiogna"
                                },
                                {
                                    "Ortname": "Campello"
                                },
                                {
                                    "Ortname": "Carì"
                                },
                                {
                                    "Ortname": "Rodi-Fiesso"
                                },
                                {
                                    "Ortname": "Ambrì"
                                },
                                {
                                    "Ortname": "Piotta"
                                },
                                {
                                    "Ortname": "Quinto"
                                },
                                {
                                    "Ortname": "Varenzo"
                                },
                                {
                                    "Ortname": "Airolo"
                                },
                                {
                                    "Ortname": "Villa Bedretto"
                                },
                                {
                                    "Ortname": "Madrano"
                                },
                                {
                                    "Ortname": "Bedretto"
                                },
                                {
                                    "Ortname": "Personico"
                                },
                                {
                                    "Ortname": "Anzonico"
                                },
                                {
                                    "Ortname": "Sobrio"
                                },
                                {
                                    "Ortname": "Cavagnago"
                                },
                                {
                                    "Ortname": "Mairengo"
                                },
                                {
                                    "Ortname": "Osco"
                                },
                                {
                                    "Ortname": "Rossura"
                                },
                                {
                                    "Ortname": "Chiggiogna"
                                },
                                {
                                    "Ortname": "Prato (Leventina)"
                                },
                                {
                                    "Ortname": "Dalpe"
                                },
                                {
                                    "Ortname": "Rivera"
                                },
                                {
                                    "Ortname": "Bironico"
                                },
                                {
                                    "Ortname": "Camignolo"
                                },
                                {
                                    "Ortname": "Taverne"
                                },
                                {
                                    "Ortname": "Torricella"
                                },
                                {
                                    "Ortname": "Melide"
                                },
                                {
                                    "Ortname": "Bissone"
                                },
                                {
                                    "Ortname": "Maroggia"
                                },
                                {
                                    "Ortname": "Melano"
                                },
                                {
                                    "Ortname": "Arogno"
                                },
                                {
                                    "Ortname": "Capolago"
                                },
                                {
                                    "Ortname": "Riva San Vitale"
                                },
                                {
                                    "Ortname": "Balerna"
                                },
                                {
                                    "Ortname": "Chiasso"
                                },
                                {
                                    "Ortname": "Sagno"
                                },
                                {
                                    "Ortname": "Caneggio"
                                },
                                {
                                    "Ortname": "Bruzella"
                                },
                                {
                                    "Ortname": "Cabbio"
                                },
                                {
                                    "Ortname": "Muggio"
                                },
                                {
                                    "Ortname": "Scudellate"
                                },
                                {
                                    "Ortname": "Pedrinate"
                                },
                                {
                                    "Ortname": "Seseglio"
                                },
                                {
                                    "Ortname": "Vacallo"
                                },
                                {
                                    "Ortname": "Morbio Inferiore"
                                },
                                {
                                    "Ortname": "Morbio Superiore"
                                },
                                {
                                    "Ortname": "Medeglia"
                                },
                                {
                                    "Ortname": "Isone"
                                },
                                {
                                    "Ortname": "Mezzovico"
                                },
                                {
                                    "Ortname": "Sigirino"
                                },
                                {
                                    "Ortname": "Rovio"
                                },
                                {
                                    "Ortname": "Pugerna"
                                },
                                {
                                    "Ortname": "Mendrisio"
                                },
                                {
                                    "Ortname": "Monte"
                                },
                                {
                                    "Ortname": "Casima"
                                },
                                {
                                    "Ortname": "Corteglia"
                                },
                                {
                                    "Ortname": "Genestrerio"
                                },
                                {
                                    "Ortname": "Ligornetto"
                                },
                                {
                                    "Ortname": "S. Pietro"
                                },
                                {
                                    "Ortname": "Stabio"
                                },
                                {
                                    "Ortname": "Rancate"
                                },
                                {
                                    "Ortname": "Besazio"
                                },
                                {
                                    "Ortname": "Arzo"
                                },
                                {
                                    "Ortname": "Tremona"
                                },
                                {
                                    "Ortname": "Meride"
                                },
                                {
                                    "Ortname": "Serpiano"
                                },
                                {
                                    "Ortname": "Salorino"
                                },
                                {
                                    "Ortname": "Somazzo"
                                },
                                {
                                    "Ortname": "Castel San Pietro"
                                },
                                {
                                    "Ortname": "Coldrerio"
                                },
                                {
                                    "Ortname": "Novazzano"
                                },
                                {
                                    "Ortname": "Lugano"
                                },
                                {
                                    "Ortname": "Massagno"
                                },
                                {
                                    "Ortname": "Carabbia"
                                },
                                {
                                    "Ortname": "Pambio-Noranco"
                                },
                                {
                                    "Ortname": "Grancia"
                                },
                                {
                                    "Ortname": "Barbengo"
                                },
                                {
                                    "Ortname": "Carabietta"
                                },
                                {
                                    "Ortname": "Vico Morcote"
                                },
                                {
                                    "Ortname": "Manno"
                                },
                                {
                                    "Ortname": "Gravesano"
                                },
                                {
                                    "Ortname": "Bedano"
                                },
                                {
                                    "Ortname": "Arosio"
                                },
                                {
                                    "Ortname": "Mugena"
                                },
                                {
                                    "Ortname": "Vezio"
                                },
                                {
                                    "Ortname": "Breno"
                                },
                                {
                                    "Ortname": "Fescoggia"
                                },
                                {
                                    "Ortname": "Comano"
                                },
                                {
                                    "Ortname": "Brè sopra Lugano"
                                },
                                {
                                    "Ortname": "Brusino Arsizio"
                                },
                                {
                                    "Ortname": "Pazzallo"
                                },
                                {
                                    "Ortname": "Carona"
                                },
                                {
                                    "Ortname": "Figino"
                                },
                                {
                                    "Ortname": "Morcote"
                                },
                                {
                                    "Ortname": "Sorengo"
                                },
                                {
                                    "Ortname": "Gentilino"
                                },
                                {
                                    "Ortname": "Montagnola"
                                },
                                {
                                    "Ortname": "Agra"
                                },
                                {
                                    "Ortname": "Breganzona"
                                },
                                {
                                    "Ortname": "Muzzano"
                                },
                                {
                                    "Ortname": "Bioggio"
                                },
                                {
                                    "Ortname": "Bosco Luganese"
                                },
                                {
                                    "Ortname": "Cademario"
                                },
                                {
                                    "Ortname": "Savosa"
                                },
                                {
                                    "Ortname": "Vezia"
                                },
                                {
                                    "Ortname": "Porza"
                                },
                                {
                                    "Ortname": "Tesserete"
                                },
                                {
                                    "Ortname": "Cureglia"
                                },
                                {
                                    "Ortname": "Origlio"
                                },
                                {
                                    "Ortname": "Ponte Capriasca"
                                },
                                {
                                    "Ortname": "Vaglio"
                                },
                                {
                                    "Ortname": "Sala Capriasca"
                                },
                                {
                                    "Ortname": "Bigorio"
                                },
                                {
                                    "Ortname": "Lugaggia"
                                },
                                {
                                    "Ortname": "Insone"
                                },
                                {
                                    "Ortname": "Odogno"
                                },
                                {
                                    "Ortname": "Lopagno"
                                },
                                {
                                    "Ortname": "Roveredo TI"
                                },
                                {
                                    "Ortname": "Bidogno"
                                },
                                {
                                    "Ortname": "Corticiasca"
                                },
                                {
                                    "Ortname": "Scareglia"
                                },
                                {
                                    "Ortname": "Colla"
                                },
                                {
                                    "Ortname": "Bogno"
                                },
                                {
                                    "Ortname": "Cozzo"
                                },
                                {
                                    "Ortname": "Cagiallo"
                                },
                                {
                                    "Ortname": "Oggio"
                                },
                                {
                                    "Ortname": "Signôra"
                                },
                                {
                                    "Ortname": "Cimadera"
                                },
                                {
                                    "Ortname": "Maglio di Colla"
                                },
                                {
                                    "Ortname": "Certara"
                                },
                                {
                                    "Ortname": "Curtina"
                                },
                                {
                                    "Ortname": "Piandera Paese"
                                },
                                {
                                    "Ortname": "Canobbio"
                                },
                                {
                                    "Ortname": "Viganello"
                                },
                                {
                                    "Ortname": "Pregassona"
                                },
                                {
                                    "Ortname": "Davesco-Soragno"
                                },
                                {
                                    "Ortname": "Cadro"
                                },
                                {
                                    "Ortname": "Villa Luganese"
                                },
                                {
                                    "Ortname": "Dino"
                                },
                                {
                                    "Ortname": "Sonvico"
                                },
                                {
                                    "Ortname": "Aldesago"
                                },
                                {
                                    "Ortname": "Castagnola"
                                },
                                {
                                    "Ortname": "Ruvigliana"
                                },
                                {
                                    "Ortname": "Gandria"
                                },
                                {
                                    "Ortname": "Cassina d'Agno"
                                },
                                {
                                    "Ortname": "Neggio"
                                },
                                {
                                    "Ortname": "Vernate"
                                },
                                {
                                    "Ortname": "Iseo"
                                },
                                {
                                    "Ortname": "Aranno"
                                },
                                {
                                    "Ortname": "Cimo"
                                },
                                {
                                    "Ortname": "Bedigliora"
                                },
                                {
                                    "Ortname": "Biogno-Beride"
                                },
                                {
                                    "Ortname": "Castelrotto"
                                },
                                {
                                    "Ortname": "Bombinasco"
                                },
                                {
                                    "Ortname": "Banco"
                                },
                                {
                                    "Ortname": "Astano"
                                },
                                {
                                    "Ortname": "Miglieglia"
                                },
                                {
                                    "Ortname": "Purasca"
                                },
                                {
                                    "Ortname": "Molinazzo di Monteggio"
                                },
                                {
                                    "Ortname": "Ponte Cremenaga"
                                },
                                {
                                    "Ortname": "Sessa"
                                },
                                {
                                    "Ortname": "Termine"
                                },
                                {
                                    "Ortname": "Agno"
                                },
                                {
                                    "Ortname": "Magliaso"
                                },
                                {
                                    "Ortname": "Pura"
                                },
                                {
                                    "Ortname": "Curio"
                                },
                                {
                                    "Ortname": "Novaggio"
                                },
                                {
                                    "Ortname": "Caslano"
                                },
                                {
                                    "Ortname": "Ponte Tresa"
                                },
                                {
                                    "Ortname": "Chur"
                                },
                                {
                                    "Ortname": "Felsberg"
                                },
                                {
                                    "Ortname": "Domat/Ems"
                                },
                                {
                                    "Ortname": "Tamins"
                                },
                                {
                                    "Ortname": "Flims Dorf"
                                },
                                {
                                    "Ortname": "Flims Waldhaus"
                                },
                                {
                                    "Ortname": "Haldenstein"
                                },
                                {
                                    "Ortname": "Maladers"
                                },
                                {
                                    "Ortname": "Laax GR"
                                },
                                {
                                    "Ortname": "Laax GR 2"
                                },
                                {
                                    "Ortname": "Arosa"
                                },
                                {
                                    "Ortname": "Passugg"
                                },
                                {
                                    "Ortname": "Praden"
                                },
                                {
                                    "Ortname": "Tschiertschen"
                                },
                                {
                                    "Ortname": "Malix"
                                },
                                {
                                    "Ortname": "Churwalden"
                                },
                                {
                                    "Ortname": "Parpan"
                                },
                                {
                                    "Ortname": "Valbella"
                                },
                                {
                                    "Ortname": "Lenzerheide/Lai"
                                },
                                {
                                    "Ortname": "Vaz/Obervaz"
                                },
                                {
                                    "Ortname": "Lantsch/Lenz"
                                },
                                {
                                    "Ortname": "Brienz/Brinzauls GR"
                                },
                                {
                                    "Ortname": "Trin"
                                },
                                {
                                    "Ortname": "Trin Mulin"
                                },
                                {
                                    "Ortname": "Fidaz"
                                },
                                {
                                    "Ortname": "Lüen"
                                },
                                {
                                    "Ortname": "Castiel"
                                },
                                {
                                    "Ortname": "St. Peter"
                                },
                                {
                                    "Ortname": "Pagig"
                                },
                                {
                                    "Ortname": "Molinis"
                                },
                                {
                                    "Ortname": "Peist"
                                },
                                {
                                    "Ortname": "Langwies"
                                },
                                {
                                    "Ortname": "Litzirüti"
                                },
                                {
                                    "Ortname": "Versam"
                                },
                                {
                                    "Ortname": "Arezen"
                                },
                                {
                                    "Ortname": "Tenna"
                                },
                                {
                                    "Ortname": "Safien Platz"
                                },
                                {
                                    "Ortname": "Thalkirch"
                                },
                                {
                                    "Ortname": "Valendas"
                                },
                                {
                                    "Ortname": "Carrera"
                                },
                                {
                                    "Ortname": "Castrisch"
                                },
                                {
                                    "Ortname": "Ilanz"
                                },
                                {
                                    "Ortname": "Ruschein"
                                },
                                {
                                    "Ortname": "Ladir"
                                },
                                {
                                    "Ortname": "Schluein"
                                },
                                {
                                    "Ortname": "Falera"
                                },
                                {
                                    "Ortname": "Sagogn"
                                },
                                {
                                    "Ortname": "Sevgein"
                                },
                                {
                                    "Ortname": "Riein"
                                },
                                {
                                    "Ortname": "Pitasch"
                                },
                                {
                                    "Ortname": "Duvin"
                                },
                                {
                                    "Ortname": "Camuns"
                                },
                                {
                                    "Ortname": "Uors (Lumnezia)"
                                },
                                {
                                    "Ortname": "Surcasti"
                                },
                                {
                                    "Ortname": "Tersnaus"
                                },
                                {
                                    "Ortname": "Luven"
                                },
                                {
                                    "Ortname": "Cumbel"
                                },
                                {
                                    "Ortname": "Morissen"
                                },
                                {
                                    "Ortname": "Vella"
                                },
                                {
                                    "Ortname": "Degen"
                                },
                                {
                                    "Ortname": "Vattiz"
                                },
                                {
                                    "Ortname": "Vignogn"
                                },
                                {
                                    "Ortname": "Lumbrein"
                                },
                                {
                                    "Ortname": "Surin"
                                },
                                {
                                    "Ortname": "Vrin"
                                },
                                {
                                    "Ortname": "Flond"
                                },
                                {
                                    "Ortname": "Surcuolm"
                                },
                                {
                                    "Ortname": "Vals"
                                },
                                {
                                    "Ortname": "Obersaxen Affeier"
                                },
                                {
                                    "Ortname": "Obersaxen Meierhof"
                                },
                                {
                                    "Ortname": "Obersaxen Giraniga"
                                },
                                {
                                    "Ortname": "Obersaxen Friggahüs"
                                },
                                {
                                    "Ortname": "Pigniu"
                                },
                                {
                                    "Ortname": "Rueun"
                                },
                                {
                                    "Ortname": "Siat"
                                },
                                {
                                    "Ortname": "Waltensburg/Vuorz"
                                },
                                {
                                    "Ortname": "Andiast"
                                },
                                {
                                    "Ortname": "Tavanasa"
                                },
                                {
                                    "Ortname": "Danis"
                                },
                                {
                                    "Ortname": "Dardin"
                                },
                                {
                                    "Ortname": "Breil/Brigels"
                                },
                                {
                                    "Ortname": "Trun"
                                },
                                {
                                    "Ortname": "Schlans"
                                },
                                {
                                    "Ortname": "Zignau"
                                },
                                {
                                    "Ortname": "Rabius"
                                },
                                {
                                    "Ortname": "Sumvitg"
                                },
                                {
                                    "Ortname": "S. Benedetg"
                                },
                                {
                                    "Ortname": "Disentis/Mustér"
                                },
                                {
                                    "Ortname": "Cavardiras"
                                },
                                {
                                    "Ortname": "Mumpé Medel"
                                },
                                {
                                    "Ortname": "Curaglia"
                                },
                                {
                                    "Ortname": "Platta"
                                },
                                {
                                    "Ortname": "Segnas"
                                },
                                {
                                    "Ortname": "Camischolas"
                                },
                                {
                                    "Ortname": "Rueras"
                                },
                                {
                                    "Ortname": "Sedrun"
                                },
                                {
                                    "Ortname": "Surrein"
                                },
                                {
                                    "Ortname": "Cumpadials"
                                },
                                {
                                    "Ortname": "Untervaz Bahnhof"
                                },
                                {
                                    "Ortname": "Trimmis"
                                },
                                {
                                    "Ortname": "Says"
                                },
                                {
                                    "Ortname": "Untervaz"
                                },
                                {
                                    "Ortname": "Zizers"
                                },
                                {
                                    "Ortname": "Igis"
                                },
                                {
                                    "Ortname": "Malans GR"
                                },
                                {
                                    "Ortname": "Seewis Dorf"
                                },
                                {
                                    "Ortname": "Valzeina"
                                },
                                {
                                    "Ortname": "Grüsch"
                                },
                                {
                                    "Ortname": "Fanas"
                                },
                                {
                                    "Ortname": "Schiers"
                                },
                                {
                                    "Ortname": "Schuders"
                                },
                                {
                                    "Ortname": "Stels"
                                },
                                {
                                    "Ortname": "Mittellunden"
                                },
                                {
                                    "Ortname": "Buchen im Prättigau"
                                },
                                {
                                    "Ortname": "Putz"
                                },
                                {
                                    "Ortname": "Pusserein"
                                },
                                {
                                    "Ortname": "Pragg-Jenaz"
                                },
                                {
                                    "Ortname": "Furna"
                                },
                                {
                                    "Ortname": "Jenaz"
                                },
                                {
                                    "Ortname": "Fideris"
                                },
                                {
                                    "Ortname": "Küblis"
                                },
                                {
                                    "Ortname": "Luzein"
                                },
                                {
                                    "Ortname": "Pany"
                                },
                                {
                                    "Ortname": "Gadenstätt"
                                },
                                {
                                    "Ortname": "Ascharina"
                                },
                                {
                                    "Ortname": "St. Antönien"
                                },
                                {
                                    "Ortname": "Conters im Prättigau"
                                },
                                {
                                    "Ortname": "Saas im Prättigau"
                                },
                                {
                                    "Ortname": "Serneus"
                                },
                                {
                                    "Ortname": "Klosters"
                                },
                                {
                                    "Ortname": "Klosters Dorf"
                                },
                                {
                                    "Ortname": "Davos Dorf"
                                },
                                {
                                    "Ortname": "Davos Wolfgang"
                                },
                                {
                                    "Ortname": "Davos Platz"
                                },
                                {
                                    "Ortname": "Davos Clavadel"
                                },
                                {
                                    "Ortname": "Davos Frauenkirch"
                                },
                                {
                                    "Ortname": "Davos Glaris"
                                },
                                {
                                    "Ortname": "Davos Monstein"
                                },
                                {
                                    "Ortname": "Landquart"
                                },
                                {
                                    "Ortname": "Mastrils"
                                },
                                {
                                    "Ortname": "Maienfeld"
                                },
                                {
                                    "Ortname": "Fläsch"
                                },
                                {
                                    "Ortname": "Jenins"
                                },
                                {
                                    "Ortname": "Bad Ragaz"
                                },
                                {
                                    "Ortname": "Valens"
                                },
                                {
                                    "Ortname": "Vasön"
                                },
                                {
                                    "Ortname": "Vadura"
                                },
                                {
                                    "Ortname": "Vättis"
                                },
                                {
                                    "Ortname": "Pfäfers"
                                },
                                {
                                    "Ortname": "St. Margrethenberg"
                                },
                                {
                                    "Ortname": "Sargans"
                                },
                                {
                                    "Ortname": "Schwendi im Weisstannental"
                                },
                                {
                                    "Ortname": "Weisstannen"
                                },
                                {
                                    "Ortname": "Wangs"
                                },
                                {
                                    "Ortname": "Vilters"
                                },
                                {
                                    "Ortname": "Bonaduz"
                                },
                                {
                                    "Ortname": "Rhäzüns"
                                },
                                {
                                    "Ortname": "Feldis/Veulden"
                                },
                                {
                                    "Ortname": "Rothenbrunnen"
                                },
                                {
                                    "Ortname": "Cazis"
                                },
                                {
                                    "Ortname": "Realta"
                                },
                                {
                                    "Ortname": "Sils im Domleschg"
                                },
                                {
                                    "Ortname": "Scharans"
                                },
                                {
                                    "Ortname": "Fürstenaubruck"
                                },
                                {
                                    "Ortname": "Fürstenau"
                                },
                                {
                                    "Ortname": "Rodels"
                                },
                                {
                                    "Ortname": "Almens"
                                },
                                {
                                    "Ortname": "Paspels"
                                },
                                {
                                    "Ortname": "Trans"
                                },
                                {
                                    "Ortname": "Tumegl/Tomils"
                                },
                                {
                                    "Ortname": "Scheid"
                                },
                                {
                                    "Ortname": "Thusis"
                                },
                                {
                                    "Ortname": "Masein"
                                },
                                {
                                    "Ortname": "Flerden"
                                },
                                {
                                    "Ortname": "Urmein"
                                },
                                {
                                    "Ortname": "Tschappina"
                                },
                                {
                                    "Ortname": "Glaspass"
                                },
                                {
                                    "Ortname": "Summaprada"
                                },
                                {
                                    "Ortname": "Tartar"
                                },
                                {
                                    "Ortname": "Sarn"
                                },
                                {
                                    "Ortname": "Präz"
                                },
                                {
                                    "Ortname": "Dalin"
                                },
                                {
                                    "Ortname": "Mutten"
                                },
                                {
                                    "Ortname": "Rongellen"
                                },
                                {
                                    "Ortname": "Zillis"
                                },
                                {
                                    "Ortname": "Donat"
                                },
                                {
                                    "Ortname": "Farden"
                                },
                                {
                                    "Ortname": "Mathon"
                                },
                                {
                                    "Ortname": "Wergenstein"
                                },
                                {
                                    "Ortname": "Lohn GR"
                                },
                                {
                                    "Ortname": "Sufers"
                                },
                                {
                                    "Ortname": "Splügen"
                                },
                                {
                                    "Ortname": "Medels im Rheinwald"
                                },
                                {
                                    "Ortname": "Nufenen"
                                },
                                {
                                    "Ortname": "Hinterrhein"
                                },
                                {
                                    "Ortname": "Andeer"
                                },
                                {
                                    "Ortname": "Clugin"
                                },
                                {
                                    "Ortname": "Pignia"
                                },
                                {
                                    "Ortname": "Ausserferrera"
                                },
                                {
                                    "Ortname": "Innerferrera"
                                },
                                {
                                    "Ortname": "Campsut-Cröt"
                                },
                                {
                                    "Ortname": "Cresta (Avers)"
                                },
                                {
                                    "Ortname": "Am Bach (Avers)"
                                },
                                {
                                    "Ortname": "Juf"
                                },
                                {
                                    "Ortname": "Tiefencastel"
                                },
                                {
                                    "Ortname": "Mon"
                                },
                                {
                                    "Ortname": "Stierva"
                                },
                                {
                                    "Ortname": "Alvaschein"
                                },
                                {
                                    "Ortname": "Cunter"
                                },
                                {
                                    "Ortname": "Tinizong"
                                },
                                {
                                    "Ortname": "Rona"
                                },
                                {
                                    "Ortname": "Mulegns"
                                },
                                {
                                    "Ortname": "Sur"
                                },
                                {
                                    "Ortname": "Bivio"
                                },
                                {
                                    "Ortname": "Savognin"
                                },
                                {
                                    "Ortname": "Salouf"
                                },
                                {
                                    "Ortname": "Riom"
                                },
                                {
                                    "Ortname": "Parsonz"
                                },
                                {
                                    "Ortname": "Surava"
                                },
                                {
                                    "Ortname": "Alvaneu Bad"
                                },
                                {
                                    "Ortname": "Filisur"
                                },
                                {
                                    "Ortname": "Bergün/Bravuogn"
                                },
                                {
                                    "Ortname": "Stugl/Stuls"
                                },
                                {
                                    "Ortname": "Latsch"
                                },
                                {
                                    "Ortname": "Preda"
                                },
                                {
                                    "Ortname": "Alvaneu Dorf"
                                },
                                {
                                    "Ortname": "Schmitten (Albula)"
                                },
                                {
                                    "Ortname": "Davos Wiesen"
                                },
                                {
                                    "Ortname": "St. Moritz"
                                },
                                {
                                    "Ortname": "Bever"
                                },
                                {
                                    "Ortname": "Samedan"
                                },
                                {
                                    "Ortname": "Pontresina"
                                },
                                {
                                    "Ortname": "Celerina/Schlarigna"
                                },
                                {
                                    "Ortname": "Champfèr"
                                },
                                {
                                    "Ortname": "Silvaplana"
                                },
                                {
                                    "Ortname": "Sils/Segl Maria"
                                },
                                {
                                    "Ortname": "Fex"
                                },
                                {
                                    "Ortname": "Sils/Segl Baselgia"
                                },
                                {
                                    "Ortname": "Maloja"
                                },
                                {
                                    "Ortname": "Plaun da Lej"
                                },
                                {
                                    "Ortname": "La Punt-Chamues-ch"
                                },
                                {
                                    "Ortname": "Madulain"
                                },
                                {
                                    "Ortname": "Zuoz"
                                },
                                {
                                    "Ortname": "S-chanf"
                                },
                                {
                                    "Ortname": "Cinuos-chel"
                                },
                                {
                                    "Ortname": "Brail"
                                },
                                {
                                    "Ortname": "Zernez"
                                },
                                {
                                    "Ortname": "Tschierv"
                                },
                                {
                                    "Ortname": "Fuldera"
                                },
                                {
                                    "Ortname": "Lü"
                                },
                                {
                                    "Ortname": "Valchava"
                                },
                                {
                                    "Ortname": "Sta. Maria Val Müstair"
                                },
                                {
                                    "Ortname": "Müstair"
                                },
                                {
                                    "Ortname": "Susch"
                                },
                                {
                                    "Ortname": "Lavin"
                                },
                                {
                                    "Ortname": "Guarda"
                                },
                                {
                                    "Ortname": "Ardez"
                                },
                                {
                                    "Ortname": "Scuol"
                                },
                                {
                                    "Ortname": "Ftan"
                                },
                                {
                                    "Ortname": "Vulpera"
                                },
                                {
                                    "Ortname": "Tarasp"
                                },
                                {
                                    "Ortname": "Sent"
                                },
                                {
                                    "Ortname": "Crusch"
                                },
                                {
                                    "Ortname": "Ramosch"
                                },
                                {
                                    "Ortname": "Vnà"
                                },
                                {
                                    "Ortname": "Strada"
                                },
                                {
                                    "Ortname": "Tschlin"
                                },
                                {
                                    "Ortname": "Martina"
                                },
                                {
                                    "Ortname": "Samnaun-Compatsch"
                                },
                                {
                                    "Ortname": "Samnaun Dorf"
                                },
                                {
                                    "Ortname": "Casaccia"
                                },
                                {
                                    "Ortname": "Vicosoprano"
                                },
                                {
                                    "Ortname": "Borgonovo"
                                },
                                {
                                    "Ortname": "Stampa"
                                },
                                {
                                    "Ortname": "Promontogno"
                                },
                                {
                                    "Ortname": "Soglio"
                                },
                                {
                                    "Ortname": "Castasegna"
                                },
                                {
                                    "Ortname": "Poschiavo"
                                },
                                {
                                    "Ortname": "Sfazù"
                                },
                                {
                                    "Ortname": "La Rösa"
                                },
                                {
                                    "Ortname": "Brusio"
                                },
                                {
                                    "Ortname": "Viano"
                                },
                                {
                                    "Ortname": "Campocologno"
                                },
                                {
                                    "Ortname": "Ospizio Bernina"
                                },
                                {
                                    "Ortname": "S. Carlo (Poschiavo)"
                                },
                                {
                                    "Ortname": "Alp Grüm"
                                },
                                {
                                    "Ortname": "Li Curt"
                                },
                                {
                                    "Ortname": "Le Prese"
                                },
                                {
                                    "Ortname": "Campascio"
                                },
                                {
                                    "Ortname": "Zürich"
                                },
                                {
                                    "Ortname": "Zürich"
                                },
                                {
                                    "Ortname": "Zürich"
                                },
                                {
                                    "Ortname": "Zürich"
                                },
                                {
                                    "Ortname": "Zürich"
                                },
                                {
                                    "Ortname": "Zürich"
                                },
                                {
                                    "Ortname": "Zürich"
                                },
                                {
                                    "Ortname": "Zürich"
                                },
                                {
                                    "Ortname": "Zürich"
                                },
                                {
                                    "Ortname": "Zürich"
                                },
                                {
                                    "Ortname": "Zürich"
                                },
                                {
                                    "Ortname": "Zürich"
                                },
                                {
                                    "Ortname": "Zürich"
                                },
                                {
                                    "Ortname": "Zürich"
                                },
                                {
                                    "Ortname": "Zürich"
                                },
                                {
                                    "Ortname": "Zürich"
                                },
                                {
                                    "Ortname": "Zürich"
                                },
                                {
                                    "Ortname": "Zürich"
                                },
                                {
                                    "Ortname": "Zürich"
                                },
                                {
                                    "Ortname": "Zürich"
                                },
                                {
                                    "Ortname": "Zürich"
                                },
                                {
                                    "Ortname": "Zürich"
                                },
                                {
                                    "Ortname": "Zürich"
                                },
                                {
                                    "Ortname": "Zürich"
                                },
                                {
                                    "Ortname": "Zürich"
                                },
                                {
                                    "Ortname": "Oberengstringen"
                                },
                                {
                                    "Ortname": "Unterengstringen"
                                },
                                {
                                    "Ortname": "Weiningen ZH"
                                },
                                {
                                    "Ortname": "Regensdorf"
                                },
                                {
                                    "Ortname": "Watt"
                                },
                                {
                                    "Ortname": "Buchs ZH"
                                },
                                {
                                    "Ortname": "Dällikon"
                                },
                                {
                                    "Ortname": "Otelfingen"
                                },
                                {
                                    "Ortname": "Boppelsen"
                                },
                                {
                                    "Ortname": "Dänikon ZH"
                                },
                                {
                                    "Ortname": "Hüttikon"
                                },
                                {
                                    "Ortname": "Würenlos"
                                },
                                {
                                    "Ortname": "Fällanden"
                                },
                                {
                                    "Ortname": "Benglen"
                                },
                                {
                                    "Ortname": "Binz"
                                },
                                {
                                    "Ortname": "Ebmatingen"
                                },
                                {
                                    "Ortname": "Maur"
                                },
                                {
                                    "Ortname": "Zollikerberg"
                                },
                                {
                                    "Ortname": "Zumikon"
                                },
                                {
                                    "Ortname": "Forch"
                                },
                                {
                                    "Ortname": "Hinteregg"
                                },
                                {
                                    "Ortname": "Egg b. Zürich"
                                },
                                {
                                    "Ortname": "Esslingen"
                                },
                                {
                                    "Ortname": "Adliswil"
                                },
                                {
                                    "Ortname": "Langnau am Albis"
                                },
                                {
                                    "Ortname": "Gattikon"
                                },
                                {
                                    "Ortname": "Uetliberg"
                                },
                                {
                                    "Ortname": "Uitikon Waldegg"
                                },
                                {
                                    "Ortname": "Stallikon"
                                },
                                {
                                    "Ortname": "Glattbrugg"
                                },
                                {
                                    "Ortname": "Opfikon"
                                },
                                {
                                    "Ortname": "Rümlang"
                                },
                                {
                                    "Ortname": "Oberglatt ZH"
                                },
                                {
                                    "Ortname": "Niederhasli"
                                },
                                {
                                    "Ortname": "Oberhasli"
                                },
                                {
                                    "Ortname": "Dielsdorf"
                                },
                                {
                                    "Ortname": "Regensberg"
                                },
                                {
                                    "Ortname": "Steinmaur"
                                },
                                {
                                    "Ortname": "Bachs"
                                },
                                {
                                    "Ortname": "Schöfflisdorf"
                                },
                                {
                                    "Ortname": "Niederweningen"
                                },
                                {
                                    "Ortname": "Niederglatt ZH"
                                },
                                {
                                    "Ortname": "Neerach"
                                },
                                {
                                    "Ortname": "Stadel b. Niederglatt"
                                },
                                {
                                    "Ortname": "Windlach"
                                },
                                {
                                    "Ortname": "Bülach"
                                },
                                {
                                    "Ortname": "Höri"
                                },
                                {
                                    "Ortname": "Hochfelden"
                                },
                                {
                                    "Ortname": "Bachenbülach"
                                },
                                {
                                    "Ortname": "Winkel"
                                },
                                {
                                    "Ortname": "Glattfelden"
                                },
                                {
                                    "Ortname": "Eglisau"
                                },
                                {
                                    "Ortname": "Hüntwangen"
                                },
                                {
                                    "Ortname": "Wasterkingen"
                                },
                                {
                                    "Ortname": "Wil ZH"
                                },
                                {
                                    "Ortname": "Rafz"
                                },
                                {
                                    "Ortname": "Schaffhausen"
                                },
                                {
                                    "Ortname": "Schaffhausen"
                                },
                                {
                                    "Ortname": "Schaffhausen"
                                },
                                {
                                    "Ortname": "Schaffhausen"
                                },
                                {
                                    "Ortname": "Trasadingen"
                                },
                                {
                                    "Ortname": "Beggingen"
                                },
                                {
                                    "Ortname": "Hemmental"
                                },
                                {
                                    "Ortname": "Stetten SH"
                                },
                                {
                                    "Ortname": "Lohn SH"
                                },
                                {
                                    "Ortname": "Opfertshofen SH"
                                },
                                {
                                    "Ortname": "Büttenhardt"
                                },
                                {
                                    "Ortname": "Bibern SH"
                                },
                                {
                                    "Ortname": "Hofen SH"
                                },
                                {
                                    "Ortname": "Altdorf SH"
                                },
                                {
                                    "Ortname": "Dörflingen"
                                },
                                {
                                    "Ortname": "Neuhausen am Rheinfall"
                                },
                                {
                                    "Ortname": "Neunkirch"
                                },
                                {
                                    "Ortname": "Gächlingen"
                                },
                                {
                                    "Ortname": "Hallau"
                                },
                                {
                                    "Ortname": "Oberhallau"
                                },
                                {
                                    "Ortname": "Wilchingen"
                                },
                                {
                                    "Ortname": "Osterfingen"
                                },
                                {
                                    "Ortname": "Beringen"
                                },
                                {
                                    "Ortname": "Guntmadingen"
                                },
                                {
                                    "Ortname": "Löhningen"
                                },
                                {
                                    "Ortname": "Siblingen"
                                },
                                {
                                    "Ortname": "Schleitheim"
                                },
                                {
                                    "Ortname": "Merishausen"
                                },
                                {
                                    "Ortname": "Bargen SH"
                                },
                                {
                                    "Ortname": "Thayngen"
                                },
                                {
                                    "Ortname": "Barzheim"
                                },
                                {
                                    "Ortname": "Feuerthalen"
                                },
                                {
                                    "Ortname": "Langwiesen"
                                },
                                {
                                    "Ortname": "Flurlingen"
                                },
                                {
                                    "Ortname": "Schlatt TG"
                                },
                                {
                                    "Ortname": "Basadingen"
                                },
                                {
                                    "Ortname": "Kaltenbach"
                                },
                                {
                                    "Ortname": "Diessenhofen"
                                },
                                {
                                    "Ortname": "Schlattingen"
                                },
                                {
                                    "Ortname": "Etzwilen"
                                },
                                {
                                    "Ortname": "Stein am Rhein"
                                },
                                {
                                    "Ortname": "Wagenhausen"
                                },
                                {
                                    "Ortname": "Hemishofen"
                                },
                                {
                                    "Ortname": "Ramsen"
                                },
                                {
                                    "Ortname": "Buch SH"
                                },
                                {
                                    "Ortname": "Eschenz"
                                },
                                {
                                    "Ortname": "Mammern"
                                },
                                {
                                    "Ortname": "Steckborn"
                                },
                                {
                                    "Ortname": "Berlingen"
                                },
                                {
                                    "Ortname": "Mannenbach-Salenstein"
                                },
                                {
                                    "Ortname": "Ermatingen"
                                },
                                {
                                    "Ortname": "Triboltingen"
                                },
                                {
                                    "Ortname": "Tägerwilen"
                                },
                                {
                                    "Ortname": "Kreuzlingen"
                                },
                                {
                                    "Ortname": "Kloten"
                                },
                                {
                                    "Ortname": "Bassersdorf"
                                },
                                {
                                    "Ortname": "Wallisellen"
                                },
                                {
                                    "Ortname": "Dietlikon"
                                },
                                {
                                    "Ortname": "Brüttisellen"
                                },
                                {
                                    "Ortname": "Effretikon"
                                },
                                {
                                    "Ortname": "Lindau"
                                },
                                {
                                    "Ortname": "Illnau"
                                },
                                {
                                    "Ortname": "Agasul"
                                },
                                {
                                    "Ortname": "Nürensdorf"
                                },
                                {
                                    "Ortname": "Kemptthal"
                                },
                                {
                                    "Ortname": "Winterberg ZH"
                                },
                                {
                                    "Ortname": "Brütten"
                                },
                                {
                                    "Ortname": "Ottikon b. Kemptthal"
                                },
                                {
                                    "Ortname": "Kyburg"
                                },
                                {
                                    "Ortname": "Fehraltorf"
                                },
                                {
                                    "Ortname": "Wildberg"
                                },
                                {
                                    "Ortname": "Madetswil"
                                },
                                {
                                    "Ortname": "Pfäffikon ZH"
                                },
                                {
                                    "Ortname": "Auslikon"
                                },
                                {
                                    "Ortname": "Russikon"
                                },
                                {
                                    "Ortname": "Hittnau"
                                },
                                {
                                    "Ortname": "Hinwil"
                                },
                                {
                                    "Ortname": "Wernetshausen"
                                },
                                {
                                    "Ortname": "Bäretswil"
                                },
                                {
                                    "Ortname": "Adetswil"
                                },
                                {
                                    "Ortname": "Elsau"
                                },
                                {
                                    "Ortname": "Elgg"
                                },
                                {
                                    "Ortname": "Hofstetten ZH"
                                },
                                {
                                    "Ortname": "Aadorf"
                                },
                                {
                                    "Ortname": "Ettenhausen TG"
                                },
                                {
                                    "Ortname": "Guntershausen b. Aadorf"
                                },
                                {
                                    "Ortname": "Eschlikon TG"
                                },
                                {
                                    "Ortname": "Balterswil"
                                },
                                {
                                    "Ortname": "Bichelsee"
                                },
                                {
                                    "Ortname": "Sirnach"
                                },
                                {
                                    "Ortname": "Wiezikon b. Sirnach"
                                },
                                {
                                    "Ortname": "Oberwangen TG"
                                },
                                {
                                    "Ortname": "Dussnang"
                                },
                                {
                                    "Ortname": "Fischingen"
                                },
                                {
                                    "Ortname": "Au TG"
                                },
                                {
                                    "Ortname": "Winterthur"
                                },
                                {
                                    "Ortname": "Winterthur"
                                },
                                {
                                    "Ortname": "Winterthur"
                                },
                                {
                                    "Ortname": "Winterthur"
                                },
                                {
                                    "Ortname": "Winterthur"
                                },
                                {
                                    "Ortname": "Winterthur"
                                },
                                {
                                    "Ortname": "Aesch (Neftenbach)"
                                },
                                {
                                    "Ortname": "Neftenbach"
                                },
                                {
                                    "Ortname": "Buch am Irchel"
                                },
                                {
                                    "Ortname": "Berg am Irchel"
                                },
                                {
                                    "Ortname": "Gräslikon"
                                },
                                {
                                    "Ortname": "Flaach"
                                },
                                {
                                    "Ortname": "Schlatt b. Winterthur"
                                },
                                {
                                    "Ortname": "Pfungen"
                                },
                                {
                                    "Ortname": "Dättlikon"
                                },
                                {
                                    "Ortname": "Embrach"
                                },
                                {
                                    "Ortname": "Oberembrach"
                                },
                                {
                                    "Ortname": "Lufingen"
                                },
                                {
                                    "Ortname": "Teufen ZH"
                                },
                                {
                                    "Ortname": "Zweidlen"
                                },
                                {
                                    "Ortname": "Weiach"
                                },
                                {
                                    "Ortname": "Kaiserstuhl AG"
                                },
                                {
                                    "Ortname": "Fisibach"
                                },
                                {
                                    "Ortname": "Rekingen AG"
                                },
                                {
                                    "Ortname": "Bad Zurzach"
                                },
                                {
                                    "Ortname": "Rietheim"
                                },
                                {
                                    "Ortname": "Rümikon AG"
                                },
                                {
                                    "Ortname": "Mellikon"
                                },
                                {
                                    "Ortname": "Wislikofen"
                                },
                                {
                                    "Ortname": "Siglistorf"
                                },
                                {
                                    "Ortname": "Baldingen"
                                },
                                {
                                    "Ortname": "Böbikon"
                                },
                                {
                                    "Ortname": "Hettlingen"
                                },
                                {
                                    "Ortname": "Henggart"
                                },
                                {
                                    "Ortname": "Dachsen"
                                },
                                {
                                    "Ortname": "Uhwiesen"
                                },
                                {
                                    "Ortname": "Andelfingen"
                                },
                                {
                                    "Ortname": "Alten"
                                },
                                {
                                    "Ortname": "Kleinandelfingen"
                                },
                                {
                                    "Ortname": "Adlikon b. Andelfingen"
                                },
                                {
                                    "Ortname": "Humlikon"
                                },
                                {
                                    "Ortname": "Dorf"
                                },
                                {
                                    "Ortname": "Volken"
                                },
                                {
                                    "Ortname": "Buchberg"
                                },
                                {
                                    "Ortname": "Rüdlingen"
                                },
                                {
                                    "Ortname": "Marthalen"
                                },
                                {
                                    "Ortname": "Ellikon am Rhein"
                                },
                                {
                                    "Ortname": "Oerlingen"
                                },
                                {
                                    "Ortname": "Rudolfingen"
                                },
                                {
                                    "Ortname": "Trüllikon"
                                },
                                {
                                    "Ortname": "Rheinau"
                                },
                                {
                                    "Ortname": "Benken ZH"
                                },
                                {
                                    "Ortname": "Seuzach"
                                },
                                {
                                    "Ortname": "Reutlingen (Winterthur)"
                                },
                                {
                                    "Ortname": "Dinhard"
                                },
                                {
                                    "Ortname": "Ossingen"
                                },
                                {
                                    "Ortname": "Unterstammheim"
                                },
                                {
                                    "Ortname": "Oberstammheim"
                                },
                                {
                                    "Ortname": "Rutschwil (Dägerlen)"
                                },
                                {
                                    "Ortname": "Thalheim an der Thur"
                                },
                                {
                                    "Ortname": "Altikon"
                                },
                                {
                                    "Ortname": "Truttikon"
                                },
                                {
                                    "Ortname": "Guntalingen"
                                },
                                {
                                    "Ortname": "Waltalingen"
                                },
                                {
                                    "Ortname": "Sennhof (Winterthur)"
                                },
                                {
                                    "Ortname": "Kollbrunn"
                                },
                                {
                                    "Ortname": "Weisslingen"
                                },
                                {
                                    "Ortname": "Neschwil"
                                },
                                {
                                    "Ortname": "Theilingen"
                                },
                                {
                                    "Ortname": "Rikon im Tösstal"
                                },
                                {
                                    "Ortname": "Rämismühle"
                                },
                                {
                                    "Ortname": "Zell ZH"
                                },
                                {
                                    "Ortname": "Turbenthal"
                                },
                                {
                                    "Ortname": "Wila"
                                },
                                {
                                    "Ortname": "Saland"
                                },
                                {
                                    "Ortname": "Bauma"
                                },
                                {
                                    "Ortname": "Steg im Tösstal"
                                },
                                {
                                    "Ortname": "Fischenthal"
                                },
                                {
                                    "Ortname": "Gibswil"
                                },
                                {
                                    "Ortname": "Schmidrüti"
                                },
                                {
                                    "Ortname": "Sternenberg"
                                },
                                {
                                    "Ortname": "Frauenfeld"
                                },
                                {
                                    "Ortname": "Gerlikon"
                                },
                                {
                                    "Ortname": "Pfyn"
                                },
                                {
                                    "Ortname": "Lanzenneunforn"
                                },
                                {
                                    "Ortname": "Hörhausen"
                                },
                                {
                                    "Ortname": "Homburg"
                                },
                                {
                                    "Ortname": "Thundorf"
                                },
                                {
                                    "Ortname": "Lustdorf"
                                },
                                {
                                    "Ortname": "Amlikon-Bissegg"
                                },
                                {
                                    "Ortname": "Häuslenen"
                                },
                                {
                                    "Ortname": "Hagenbuch ZH"
                                },
                                {
                                    "Ortname": "Uesslingen"
                                },
                                {
                                    "Ortname": "Niederneunforn"
                                },
                                {
                                    "Ortname": "Oberneunforn"
                                },
                                {
                                    "Ortname": "Warth"
                                },
                                {
                                    "Ortname": "Buch b. Frauenfeld"
                                },
                                {
                                    "Ortname": "Weiningen TG"
                                },
                                {
                                    "Ortname": "Herdern"
                                },
                                {
                                    "Ortname": "Hüttwilen"
                                },
                                {
                                    "Ortname": "Nussbaumen TG"
                                },
                                {
                                    "Ortname": "Wiesendangen"
                                },
                                {
                                    "Ortname": "Stadel (Winterthur)"
                                },
                                {
                                    "Ortname": "Rickenbach ZH"
                                },
                                {
                                    "Ortname": "Attikon"
                                },
                                {
                                    "Ortname": "Islikon"
                                },
                                {
                                    "Ortname": "Gachnang"
                                },
                                {
                                    "Ortname": "Ellikon an der Thur"
                                },
                                {
                                    "Ortname": "Felben-Wellhausen"
                                },
                                {
                                    "Ortname": "Müllheim-Wigoltingen"
                                },
                                {
                                    "Ortname": "Bonau"
                                },
                                {
                                    "Ortname": "Müllheim Dorf"
                                },
                                {
                                    "Ortname": "Wigoltingen"
                                },
                                {
                                    "Ortname": "Lipperswil"
                                },
                                {
                                    "Ortname": "Raperswilen"
                                },
                                {
                                    "Ortname": "Fruthwilen"
                                },
                                {
                                    "Ortname": "Märstetten"
                                },
                                {
                                    "Ortname": "Ottoberg"
                                },
                                {
                                    "Ortname": "Hugelshofen"
                                },
                                {
                                    "Ortname": "Dotnacht"
                                },
                                {
                                    "Ortname": "Neuwilen"
                                },
                                {
                                    "Ortname": "Engwilen"
                                },
                                {
                                    "Ortname": "Wäldi"
                                },
                                {
                                    "Ortname": "Weinfelden"
                                },
                                {
                                    "Ortname": "Berg TG"
                                },
                                {
                                    "Ortname": "Siegershausen"
                                },
                                {
                                    "Ortname": "Illighausen"
                                },
                                {
                                    "Ortname": "Bürglen TG"
                                },
                                {
                                    "Ortname": "Mauren TG"
                                },
                                {
                                    "Ortname": "Schönholzerswilen"
                                },
                                {
                                    "Ortname": "Neukirch an der Thur"
                                },
                                {
                                    "Ortname": "Amriswil"
                                },
                                {
                                    "Ortname": "Sommeri"
                                },
                                {
                                    "Ortname": "Dozwil"
                                },
                                {
                                    "Ortname": "Hagenwil b. Amriswil"
                                },
                                {
                                    "Ortname": "Schocherswil"
                                },
                                {
                                    "Ortname": "Zihlschlacht"
                                },
                                {
                                    "Ortname": "Sitterdorf"
                                },
                                {
                                    "Ortname": "Sulgen"
                                },
                                {
                                    "Ortname": "Götighofen"
                                },
                                {
                                    "Ortname": "Donzhausen"
                                },
                                {
                                    "Ortname": "Leimbach TG"
                                },
                                {
                                    "Ortname": "Opfershofen TG"
                                },
                                {
                                    "Ortname": "Mattwil"
                                },
                                {
                                    "Ortname": "Happerswil"
                                },
                                {
                                    "Ortname": "Langrickenbach"
                                },
                                {
                                    "Ortname": "Zuben"
                                },
                                {
                                    "Ortname": "Erlen"
                                },
                                {
                                    "Ortname": "Andwil TG"
                                },
                                {
                                    "Ortname": "Kümmertshausen"
                                },
                                {
                                    "Ortname": "Riedt b. Erlen"
                                },
                                {
                                    "Ortname": "Oberaach"
                                },
                                {
                                    "Ortname": "Romanshorn"
                                },
                                {
                                    "Ortname": "Salmsach"
                                },
                                {
                                    "Ortname": "Uttwil"
                                },
                                {
                                    "Ortname": "Kesswil"
                                },
                                {
                                    "Ortname": "Güttingen"
                                },
                                {
                                    "Ortname": "Altnau"
                                },
                                {
                                    "Ortname": "Scherzingen"
                                },
                                {
                                    "Ortname": "Landschlacht"
                                },
                                {
                                    "Ortname": "Bottighofen"
                                },
                                {
                                    "Ortname": "Dübendorf"
                                },
                                {
                                    "Ortname": "Wangen b. Dübendorf"
                                },
                                {
                                    "Ortname": "Schwerzenbach"
                                },
                                {
                                    "Ortname": "Volketswil"
                                },
                                {
                                    "Ortname": "Gutenswil"
                                },
                                {
                                    "Ortname": "Nänikon"
                                },
                                {
                                    "Ortname": "Greifensee"
                                },
                                {
                                    "Ortname": "Aathal-Seegräben"
                                },
                                {
                                    "Ortname": "Bubikon"
                                },
                                {
                                    "Ortname": "Uster"
                                },
                                {
                                    "Ortname": "Bertschikon (Gossau ZH)"
                                },
                                {
                                    "Ortname": "Wermatswil"
                                },
                                {
                                    "Ortname": "Riedikon"
                                },
                                {
                                    "Ortname": "Mönchaltorf"
                                },
                                {
                                    "Ortname": "Oetwil am See"
                                },
                                {
                                    "Ortname": "Wetzikon ZH"
                                },
                                {
                                    "Ortname": "Wetzikon ZH"
                                },
                                {
                                    "Ortname": "Grüt (Gossau ZH)"
                                },
                                {
                                    "Ortname": "Gossau ZH"
                                },
                                {
                                    "Ortname": "Ottikon (Gossau ZH)"
                                },
                                {
                                    "Ortname": "Grüningen"
                                },
                                {
                                    "Ortname": "Rüti ZH"
                                },
                                {
                                    "Ortname": "Tann"
                                },
                                {
                                    "Ortname": "Wolfhausen"
                                },
                                {
                                    "Ortname": "Hombrechtikon"
                                },
                                {
                                    "Ortname": "Dürnten"
                                },
                                {
                                    "Ortname": "Wald ZH"
                                },
                                {
                                    "Ortname": "Laupen ZH"
                                },
                                {
                                    "Ortname": "Goldingen"
                                },
                                {
                                    "Ortname": "Rapperswil SG"
                                },
                                {
                                    "Ortname": "Jona"
                                },
                                {
                                    "Ortname": "Wagen"
                                },
                                {
                                    "Ortname": "Küsnacht ZH"
                                },
                                {
                                    "Ortname": "Zollikon"
                                },
                                {
                                    "Ortname": "Erlenbach ZH"
                                },
                                {
                                    "Ortname": "Herrliberg"
                                },
                                {
                                    "Ortname": "Meilen"
                                },
                                {
                                    "Ortname": "Uetikon am See"
                                },
                                {
                                    "Ortname": "Männedorf"
                                },
                                {
                                    "Ortname": "Stäfa"
                                },
                                {
                                    "Ortname": "Uerikon"
                                },
                                {
                                    "Ortname": "Feldbach"
                                },
                                {
                                    "Ortname": "Bollingen"
                                },
                                {
                                    "Ortname": "Schmerikon"
                                },
                                {
                                    "Ortname": "Benken SG"
                                },
                                {
                                    "Ortname": "Schänis"
                                },
                                {
                                    "Ortname": "Kaltbrunn"
                                },
                                {
                                    "Ortname": "Rufi"
                                },
                                {
                                    "Ortname": "Ernetschwil"
                                },
                                {
                                    "Ortname": "Ricken SG"
                                },
                                {
                                    "Ortname": "Walde SG"
                                },
                                {
                                    "Ortname": "Uznach"
                                },
                                {
                                    "Ortname": "Neuhaus SG"
                                },
                                {
                                    "Ortname": "Eschenbach SG"
                                },
                                {
                                    "Ortname": "Ermenswil"
                                },
                                {
                                    "Ortname": "St. Gallenkappel"
                                },
                                {
                                    "Ortname": "Rüeterswil"
                                },
                                {
                                    "Ortname": "Gommiswald"
                                },
                                {
                                    "Ortname": "Uetliburg SG"
                                },
                                {
                                    "Ortname": "Rieden SG"
                                },
                                {
                                    "Ortname": "Glarus"
                                },
                                {
                                    "Ortname": "Riedern"
                                },
                                {
                                    "Ortname": "Klöntal"
                                },
                                {
                                    "Ortname": "Urnerboden"
                                },
                                {
                                    "Ortname": "Näfels"
                                },
                                {
                                    "Ortname": "Mollis"
                                },
                                {
                                    "Ortname": "Netstal"
                                },
                                {
                                    "Ortname": "Ennenda"
                                },
                                {
                                    "Ortname": "Mitlödi"
                                },
                                {
                                    "Ortname": "Schwanden GL"
                                },
                                {
                                    "Ortname": "Schwändi b. Schwanden"
                                },
                                {
                                    "Ortname": "Sool"
                                },
                                {
                                    "Ortname": "Engi"
                                },
                                {
                                    "Ortname": "Matt"
                                },
                                {
                                    "Ortname": "Elm"
                                },
                                {
                                    "Ortname": "Nidfurn"
                                },
                                {
                                    "Ortname": "Haslen GL"
                                },
                                {
                                    "Ortname": "Luchsingen"
                                },
                                {
                                    "Ortname": "Hätzingen"
                                },
                                {
                                    "Ortname": "Diesbach GL"
                                },
                                {
                                    "Ortname": "Rüti GL"
                                },
                                {
                                    "Ortname": "Linthal"
                                },
                                {
                                    "Ortname": "Braunwald"
                                },
                                {
                                    "Ortname": "Thalwil"
                                },
                                {
                                    "Ortname": "Kilchberg ZH"
                                },
                                {
                                    "Ortname": "Rüschlikon"
                                },
                                {
                                    "Ortname": "Au ZH"
                                },
                                {
                                    "Ortname": "Richterswil"
                                },
                                {
                                    "Ortname": "Bäch SZ"
                                },
                                {
                                    "Ortname": "Freienbach"
                                },
                                {
                                    "Ortname": "Pfäffikon SZ"
                                },
                                {
                                    "Ortname": "Horgen"
                                },
                                {
                                    "Ortname": "Horgenberg"
                                },
                                {
                                    "Ortname": "Hirzel"
                                },
                                {
                                    "Ortname": "Wädenswil"
                                },
                                {
                                    "Ortname": "Schönenberg ZH"
                                },
                                {
                                    "Ortname": "Hütten"
                                },
                                {
                                    "Ortname": "Wollerau"
                                },
                                {
                                    "Ortname": "Samstagern"
                                },
                                {
                                    "Ortname": "Schindellegi"
                                },
                                {
                                    "Ortname": "Feusisberg"
                                },
                                {
                                    "Ortname": "Bennau"
                                },
                                {
                                    "Ortname": "Einsiedeln"
                                },
                                {
                                    "Ortname": "Trachslau"
                                },
                                {
                                    "Ortname": "Alpthal"
                                },
                                {
                                    "Ortname": "Willerzell"
                                },
                                {
                                    "Ortname": "Egg SZ"
                                },
                                {
                                    "Ortname": "Gross"
                                },
                                {
                                    "Ortname": "Euthal"
                                },
                                {
                                    "Ortname": "Studen SZ"
                                },
                                {
                                    "Ortname": "Unteriberg"
                                },
                                {
                                    "Ortname": "Oberiberg"
                                },
                                {
                                    "Ortname": "Altendorf"
                                },
                                {
                                    "Ortname": "Lachen SZ"
                                },
                                {
                                    "Ortname": "Siebnen"
                                },
                                {
                                    "Ortname": "Galgenen"
                                },
                                {
                                    "Ortname": "Wangen SZ"
                                },
                                {
                                    "Ortname": "Tuggen"
                                },
                                {
                                    "Ortname": "Vorderthal"
                                },
                                {
                                    "Ortname": "Innerthal"
                                },
                                {
                                    "Ortname": "Schübelbach"
                                },
                                {
                                    "Ortname": "Buttikon SZ"
                                },
                                {
                                    "Ortname": "Reichenburg"
                                },
                                {
                                    "Ortname": "Bilten"
                                },
                                {
                                    "Ortname": "Ziegelbrücke"
                                },
                                {
                                    "Ortname": "Niederurnen"
                                },
                                {
                                    "Ortname": "Oberurnen"
                                },
                                {
                                    "Ortname": "Weesen"
                                },
                                {
                                    "Ortname": "Amden"
                                },
                                {
                                    "Ortname": "Mühlehorn"
                                },
                                {
                                    "Ortname": "Obstalden"
                                },
                                {
                                    "Ortname": "Filzbach"
                                },
                                {
                                    "Ortname": "Murg"
                                },
                                {
                                    "Ortname": "Quinten"
                                },
                                {
                                    "Ortname": "Walenstadt"
                                },
                                {
                                    "Ortname": "Walenstadtberg"
                                },
                                {
                                    "Ortname": "Knoblisbühl"
                                },
                                {
                                    "Ortname": "Tscherlach"
                                },
                                {
                                    "Ortname": "Unterterzen"
                                },
                                {
                                    "Ortname": "Quarten"
                                },
                                {
                                    "Ortname": "Oberterzen"
                                },
                                {
                                    "Ortname": "Mols"
                                },
                                {
                                    "Ortname": "Mels"
                                },
                                {
                                    "Ortname": "Mädris-Vermol"
                                },
                                {
                                    "Ortname": "Plons"
                                },
                                {
                                    "Ortname": "Heiligkreuz (Mels)"
                                },
                                {
                                    "Ortname": "Flums"
                                },
                                {
                                    "Ortname": "Berschis"
                                },
                                {
                                    "Ortname": "Flums Hochwiese"
                                },
                                {
                                    "Ortname": "Flumserberg Saxli"
                                },
                                {
                                    "Ortname": "Flumserberg Portels"
                                },
                                {
                                    "Ortname": "Flumserberg Bergheim"
                                },
                                {
                                    "Ortname": "Flumserberg Tannenheim"
                                },
                                {
                                    "Ortname": "Flumserberg Tannenbodenalp"
                                },
                                {
                                    "Ortname": "Urdorf"
                                },
                                {
                                    "Ortname": "Birmensdorf ZH"
                                },
                                {
                                    "Ortname": "Aesch ZH"
                                },
                                {
                                    "Ortname": "Bonstetten"
                                },
                                {
                                    "Ortname": "Wettswil"
                                },
                                {
                                    "Ortname": "Hedingen"
                                },
                                {
                                    "Ortname": "Affoltern am Albis"
                                },
                                {
                                    "Ortname": "Zwillikon"
                                },
                                {
                                    "Ortname": "Rifferswil"
                                },
                                {
                                    "Ortname": "Obfelden"
                                },
                                {
                                    "Ortname": "Ottenbach"
                                },
                                {
                                    "Ortname": "Aeugst am Albis"
                                },
                                {
                                    "Ortname": "Aeugstertal"
                                },
                                {
                                    "Ortname": "Hausen am Albis"
                                },
                                {
                                    "Ortname": "Jonen"
                                },
                                {
                                    "Ortname": "Oberlunkhofen"
                                },
                                {
                                    "Ortname": "Unterlunkhofen"
                                },
                                {
                                    "Ortname": "Rottenschwil"
                                },
                                {
                                    "Ortname": "Ebertswil"
                                },
                                {
                                    "Ortname": "Kappel am Albis"
                                },
                                {
                                    "Ortname": "Mettmenstetten"
                                },
                                {
                                    "Ortname": "Maschwanden"
                                },
                                {
                                    "Ortname": "Knonau"
                                },
                                {
                                    "Ortname": "Oberrieden"
                                },
                                {
                                    "Ortname": "Sihlbrugg Station"
                                },
                                {
                                    "Ortname": "Sihlbrugg"
                                },
                                {
                                    "Ortname": "Fahrweid"
                                },
                                {
                                    "Ortname": "Schlieren"
                                },
                                {
                                    "Ortname": "Dietikon"
                                },
                                {
                                    "Ortname": "Geroldswil"
                                },
                                {
                                    "Ortname": "Oetwil an der Limmat"
                                },
                                {
                                    "Ortname": "Killwangen"
                                },
                                {
                                    "Ortname": "Spreitenbach"
                                },
                                {
                                    "Ortname": "Bergdietikon"
                                },
                                {
                                    "Ortname": "Rudolfstetten"
                                },
                                {
                                    "Ortname": "Berikon"
                                },
                                {
                                    "Ortname": "Oberwil-Lieli"
                                },
                                {
                                    "Ortname": "Widen"
                                },
                                {
                                    "Ortname": "St. Gallen"
                                },
                                {
                                    "Ortname": "St. Gallen"
                                },
                                {
                                    "Ortname": "St. Gallen"
                                },
                                {
                                    "Ortname": "St. Gallen"
                                },
                                {
                                    "Ortname": "St. Gallen"
                                },
                                {
                                    "Ortname": "St. Gallen"
                                },
                                {
                                    "Ortname": "St. Gallen"
                                },
                                {
                                    "Ortname": "St. Gallen"
                                },
                                {
                                    "Ortname": "Abtwil SG"
                                },
                                {
                                    "Ortname": "Engelburg"
                                },
                                {
                                    "Ortname": "Untereggen"
                                },
                                {
                                    "Ortname": "Eggersriet"
                                },
                                {
                                    "Ortname": "Grub AR"
                                },
                                {
                                    "Ortname": "Grub SG"
                                },
                                {
                                    "Ortname": "Speicherschwendi"
                                },
                                {
                                    "Ortname": "Rehetobel"
                                },
                                {
                                    "Ortname": "Speicher"
                                },
                                {
                                    "Ortname": "Trogen"
                                },
                                {
                                    "Ortname": "Wald AR"
                                },
                                {
                                    "Ortname": "Appenzell"
                                },
                                {
                                    "Ortname": "Niederteufen"
                                },
                                {
                                    "Ortname": "Teufen AR"
                                },
                                {
                                    "Ortname": "Haslen AI"
                                },
                                {
                                    "Ortname": "Bühler"
                                },
                                {
                                    "Ortname": "Gais"
                                },
                                {
                                    "Ortname": "Weissbad"
                                },
                                {
                                    "Ortname": "Brülisau"
                                },
                                {
                                    "Ortname": "Lustmühle"
                                },
                                {
                                    "Ortname": "Stein AR"
                                },
                                {
                                    "Ortname": "Hundwil"
                                },
                                {
                                    "Ortname": "Herisau"
                                },
                                {
                                    "Ortname": "Schwellbrunn"
                                },
                                {
                                    "Ortname": "Waldstatt"
                                },
                                {
                                    "Ortname": "Schönengrund"
                                },
                                {
                                    "Ortname": "Urnäsch"
                                },
                                {
                                    "Ortname": "Gonten"
                                },
                                {
                                    "Ortname": "Schachen b. Herisau"
                                },
                                {
                                    "Ortname": "Degersheim"
                                },
                                {
                                    "Ortname": "Hoffeld"
                                },
                                {
                                    "Ortname": "Dicken"
                                },
                                {
                                    "Ortname": "Wolfertswil"
                                },
                                {
                                    "Ortname": "Mogelsberg"
                                },
                                {
                                    "Ortname": "Nassen"
                                },
                                {
                                    "Ortname": "Brunnadern"
                                },
                                {
                                    "Ortname": "Necker"
                                },
                                {
                                    "Ortname": "St. Peterzell"
                                },
                                {
                                    "Ortname": "Bächli (Hemberg)"
                                },
                                {
                                    "Ortname": "Gossau SG"
                                },
                                {
                                    "Ortname": "Niederwil SG"
                                },
                                {
                                    "Ortname": "Andwil SG"
                                },
                                {
                                    "Ortname": "Waldkirch"
                                },
                                {
                                    "Ortname": "Arnegg"
                                },
                                {
                                    "Ortname": "Hauptwil"
                                },
                                {
                                    "Ortname": "Heldswil"
                                },
                                {
                                    "Ortname": "Schönenberg an der Thur"
                                },
                                {
                                    "Ortname": "Buhwil"
                                },
                                {
                                    "Ortname": "Bischofszell"
                                },
                                {
                                    "Ortname": "Schweizersholz"
                                },
                                {
                                    "Ortname": "Halden"
                                },
                                {
                                    "Ortname": "Hohentannen"
                                },
                                {
                                    "Ortname": "Wilen (Gottshaus)"
                                },
                                {
                                    "Ortname": "St. Pelagiberg"
                                },
                                {
                                    "Ortname": "Flawil"
                                },
                                {
                                    "Ortname": "Egg (Flawil)"
                                },
                                {
                                    "Ortname": "Oberrindal"
                                },
                                {
                                    "Ortname": "Lütisburg"
                                },
                                {
                                    "Ortname": "Uzwil"
                                },
                                {
                                    "Ortname": "Niederglatt SG"
                                },
                                {
                                    "Ortname": "Oberuzwil"
                                },
                                {
                                    "Ortname": "Bichwil"
                                },
                                {
                                    "Ortname": "Jonschwil"
                                },
                                {
                                    "Ortname": "Niederuzwil"
                                },
                                {
                                    "Ortname": "Oberbüren"
                                },
                                {
                                    "Ortname": "Niederbüren"
                                },
                                {
                                    "Ortname": "Henau"
                                },
                                {
                                    "Ortname": "Algetshausen"
                                },
                                {
                                    "Ortname": "Wittenbach"
                                },
                                {
                                    "Ortname": "Bernhardzell"
                                },
                                {
                                    "Ortname": "Berg SG"
                                },
                                {
                                    "Ortname": "Freidorf TG"
                                },
                                {
                                    "Ortname": "Winden"
                                },
                                {
                                    "Ortname": "Lömmenschwil"
                                },
                                {
                                    "Ortname": "Häggenschwil"
                                },
                                {
                                    "Ortname": "Muolen"
                                },
                                {
                                    "Ortname": "Steinebrunn"
                                },
                                {
                                    "Ortname": "Neukirch (Egnach)"
                                },
                                {
                                    "Ortname": "Arbon"
                                },
                                {
                                    "Ortname": "Frasnacht"
                                },
                                {
                                    "Ortname": "Stachen"
                                },
                                {
                                    "Ortname": "Egnach"
                                },
                                {
                                    "Ortname": "Steinach"
                                },
                                {
                                    "Ortname": "Roggwil TG"
                                },
                                {
                                    "Ortname": "Horn"
                                },
                                {
                                    "Ortname": "Tübach"
                                },
                                {
                                    "Ortname": "Rorschach"
                                },
                                {
                                    "Ortname": "Rorschacherberg"
                                },
                                {
                                    "Ortname": "Mörschwil"
                                },
                                {
                                    "Ortname": "Goldach"
                                },
                                {
                                    "Ortname": "Wienacht-Tobel"
                                },
                                {
                                    "Ortname": "Heiden"
                                },
                                {
                                    "Ortname": "Reute AR"
                                },
                                {
                                    "Ortname": "Oberegg"
                                },
                                {
                                    "Ortname": "Schachen b. Reute"
                                },
                                {
                                    "Ortname": "Staad SG"
                                },
                                {
                                    "Ortname": "Altenrhein"
                                },
                                {
                                    "Ortname": "Rheineck"
                                },
                                {
                                    "Ortname": "Thal"
                                },
                                {
                                    "Ortname": "Lutzenberg"
                                },
                                {
                                    "Ortname": "Wolfhalden"
                                },
                                {
                                    "Ortname": "Walzenhausen"
                                },
                                {
                                    "Ortname": "St. Margrethen SG"
                                },
                                {
                                    "Ortname": "Au SG"
                                },
                                {
                                    "Ortname": "Heerbrugg"
                                },
                                {
                                    "Ortname": "Balgach"
                                },
                                {
                                    "Ortname": "Marbach SG"
                                },
                                {
                                    "Ortname": "Lüchingen"
                                },
                                {
                                    "Ortname": "Berneck"
                                },
                                {
                                    "Ortname": "Widnau"
                                },
                                {
                                    "Ortname": "Diepoldsau"
                                },
                                {
                                    "Ortname": "Rebstein"
                                },
                                {
                                    "Ortname": "Altstätten SG"
                                },
                                {
                                    "Ortname": "Kriessern"
                                },
                                {
                                    "Ortname": "Hinterforst"
                                },
                                {
                                    "Ortname": "Eichberg"
                                },
                                {
                                    "Ortname": "Montlingen"
                                },
                                {
                                    "Ortname": "Oberriet SG"
                                },
                                {
                                    "Ortname": "Rüthi (Rheintal)"
                                },
                                {
                                    "Ortname": "Lienz"
                                },
                                {
                                    "Ortname": "Salez"
                                },
                                {
                                    "Ortname": "Sennwald"
                                },
                                {
                                    "Ortname": "Frümsen"
                                },
                                {
                                    "Ortname": "Sax"
                                },
                                {
                                    "Ortname": "Haag (Rheintal)"
                                },
                                {
                                    "Ortname": "Buchs SG"
                                },
                                {
                                    "Ortname": "Grabs"
                                },
                                {
                                    "Ortname": "Grabserberg"
                                },
                                {
                                    "Ortname": "Gams"
                                },
                                {
                                    "Ortname": "Sevelen"
                                },
                                {
                                    "Ortname": "Weite"
                                },
                                {
                                    "Ortname": "Trübbach"
                                },
                                {
                                    "Ortname": "Azmoos"
                                },
                                {
                                    "Ortname": "Oberschan"
                                },
                                {
                                    "Ortname": "Nendeln"
                                },
                                {
                                    "Ortname": "Schaanwald"
                                },
                                {
                                    "Ortname": "Gamprin-Bendern"
                                },
                                {
                                    "Ortname": "Schellenberg"
                                },
                                {
                                    "Ortname": "Vaduz"
                                },
                                {
                                    "Ortname": "Ruggell"
                                },
                                {
                                    "Ortname": "Eschen"
                                },
                                {
                                    "Ortname": "Mauren FL"
                                },
                                {
                                    "Ortname": "Schaan"
                                },
                                {
                                    "Ortname": "Triesen"
                                },
                                {
                                    "Ortname": "Balzers"
                                },
                                {
                                    "Ortname": "Triesenberg"
                                },
                                {
                                    "Ortname": "Wil SG"
                                },
                                {
                                    "Ortname": "Braunau"
                                },
                                {
                                    "Ortname": "Stehrenberg"
                                },
                                {
                                    "Ortname": "Friltschen"
                                },
                                {
                                    "Ortname": "Lommis"
                                },
                                {
                                    "Ortname": "Stettfurt"
                                },
                                {
                                    "Ortname": "Weingarten-Kalthäusern"
                                },
                                {
                                    "Ortname": "Rossrüti"
                                },
                                {
                                    "Ortname": "Wuppenau"
                                },
                                {
                                    "Ortname": "Hosenruck"
                                },
                                {
                                    "Ortname": "Mettlen"
                                },
                                {
                                    "Ortname": "Rothenhausen"
                                },
                                {
                                    "Ortname": "Züberwangen"
                                },
                                {
                                    "Ortname": "Zuzwil SG"
                                },
                                {
                                    "Ortname": "Lenggenwil"
                                },
                                {
                                    "Ortname": "Zuckenriet"
                                },
                                {
                                    "Ortname": "Niederhelfenschwil"
                                },
                                {
                                    "Ortname": "Rickenbach b. Wil"
                                },
                                {
                                    "Ortname": "Kirchberg SG"
                                },
                                {
                                    "Ortname": "Gähwil"
                                },
                                {
                                    "Ortname": "Wilen b. Wil"
                                },
                                {
                                    "Ortname": "Schwarzenbach SG"
                                },
                                {
                                    "Ortname": "Münchwilen TG"
                                },
                                {
                                    "Ortname": "St. Margarethen TG"
                                },
                                {
                                    "Ortname": "Wängi"
                                },
                                {
                                    "Ortname": "Tuttwil"
                                },
                                {
                                    "Ortname": "Wittenwil"
                                },
                                {
                                    "Ortname": "Matzingen"
                                },
                                {
                                    "Ortname": "Bronschhofen"
                                },
                                {
                                    "Ortname": "Bettwiesen"
                                },
                                {
                                    "Ortname": "Tägerschen"
                                },
                                {
                                    "Ortname": "Tobel"
                                },
                                {
                                    "Ortname": "Affeltrangen"
                                },
                                {
                                    "Ortname": "Märwil"
                                },
                                {
                                    "Ortname": "Schmidshof"
                                },
                                {
                                    "Ortname": "Oppikon"
                                },
                                {
                                    "Ortname": "Bussnang"
                                },
                                {
                                    "Ortname": "Littenheid"
                                },
                                {
                                    "Ortname": "Lütisburg Station"
                                },
                                {
                                    "Ortname": "Bazenheid"
                                },
                                {
                                    "Ortname": "Müselbach"
                                },
                                {
                                    "Ortname": "Bütschwil"
                                },
                                {
                                    "Ortname": "Mosnang"
                                },
                                {
                                    "Ortname": "Ganterschwil"
                                },
                                {
                                    "Ortname": "Dreien"
                                },
                                {
                                    "Ortname": "Mühlrüti"
                                },
                                {
                                    "Ortname": "Libingen"
                                },
                                {
                                    "Ortname": "Dietfurt"
                                },
                                {
                                    "Ortname": "Lichtensteig"
                                },
                                {
                                    "Ortname": "Oberhelfenschwil"
                                },
                                {
                                    "Ortname": "Krinau"
                                },
                                {
                                    "Ortname": "Wattwil"
                                },
                                {
                                    "Ortname": "Ulisbach"
                                },
                                {
                                    "Ortname": "Hemberg"
                                },
                                {
                                    "Ortname": "Ebnat-Kappel"
                                },
                                {
                                    "Ortname": "Krummenau"
                                },
                                {
                                    "Ortname": "Nesslau"
                                },
                                {
                                    "Ortname": "Ennetbühl"
                                },
                                {
                                    "Ortname": "Stein SG"
                                },
                                {
                                    "Ortname": "Neu St. Johann"
                                },
                                {
                                    "Ortname": "Alt St. Johann"
                                },
                                {
                                    "Ortname": "Unterwasser"
                                },
                                {
                                    "Ortname": "Wildhaus"
                                },
                                {
                                    "Ortname": "Schmitten FR"
                                },
                                {
                                    "Ortname": "Rubigen"
                                },
                                {
                                    "Ortname": "Campione d'Italia"
                                },
                                {
                                    "Ortname": "Büsingen"
                                },
                                {
                                    "Ortname": "Bruson"
                                },
                                {
                                    "Ortname": "Sundlauenen"
                                },
                                {
                                    "Ortname": "Mex VD"
                                },
                                {
                                    "Ortname": "Tentlingen"
                                },
                                {
                                    "Ortname": "Villars-Ste-Croix"
                                },
                                {
                                    "Ortname": "Cheseaux-Noréaz"
                                },
                                {
                                    "Ortname": "Innerberg"
                                },
                                {
                                    "Ortname": "Mies"
                                },
                                {
                                    "Ortname": "Tannay"
                                },
                                {
                                    "Ortname": "Oberdorf NW"
                                },
                                {
                                    "Ortname": "Tagelswangen"
                                },
                                {
                                    "Ortname": "Schwanden b. Brienz"
                                },
                                {
                                    "Ortname": "St-Jean VS"
                                },
                                {
                                    "Ortname": "Walliswil b. Niederbipp"
                                },
                                {
                                    "Ortname": "Vich"
                                },
                                {
                                    "Ortname": "Coinsins"
                                },
                                {
                                    "Ortname": "Gockhausen"
                                },
                                {
                                    "Ortname": "Sulzbach"
                                },
                                {
                                    "Ortname": "Chandolin (Savièse)"
                                },
                                {
                                    "Ortname": "Clavaleyres"
                                },
                                {
                                    "Ortname": "Champoz"
                                },
                                {
                                    "Ortname": "Monible"
                                },
                                {
                                    "Ortname": "Schelten"
                                },
                                {
                                    "Ortname": "Vellerat"
                                },
                                {
                                    "Ortname": "Rebévelier"
                                },
                                {
                                    "Ortname": "Hagneck"
                                },
                                {
                                    "Ortname": "Mörigen"
                                },
                                {
                                    "Ortname": "Schwadernau"
                                },
                                {
                                    "Ortname": "Bollion"
                                },
                                {
                                    "Ortname": "Chandon"
                                },
                                {
                                    "Ortname": "Chapelle (Broye)"
                                },
                                {
                                    "Ortname": "Châtillon FR"
                                },
                                {
                                    "Ortname": "Forel FR"
                                },
                                {
                                    "Ortname": "Frasses"
                                },
                                {
                                    "Ortname": "Les Friques"
                                },
                                {
                                    "Ortname": "Granges-de-Vesin"
                                },
                                {
                                    "Ortname": "Lully FR"
                                },
                                {
                                    "Ortname": "Montbrelloz"
                                },
                                {
                                    "Ortname": "Morens FR"
                                },
                                {
                                    "Ortname": "Praratoud"
                                },
                                {
                                    "Ortname": "Prévondavaux"
                                },
                                {
                                    "Ortname": "Russy"
                                },
                                {
                                    "Ortname": "Seiry"
                                },
                                {
                                    "Ortname": "Sévaz"
                                },
                                {
                                    "Ortname": "Vallon"
                                },
                                {
                                    "Ortname": "Vesin"
                                },
                                {
                                    "Ortname": "Berlens"
                                },
                                {
                                    "Ortname": "Bionnens"
                                },
                                {
                                    "Ortname": "Blessens"
                                },
                                {
                                    "Ortname": "Chapelle (Glâne)"
                                },
                                {
                                    "Ortname": "Chavannes-sous-Orsonnens"
                                },
                                {
                                    "Ortname": "Les Ecasseys"
                                },
                                {
                                    "Ortname": "Esmonts"
                                },
                                {
                                    "Ortname": "Gillarens"
                                },
                                {
                                    "Ortname": "Hennens"
                                },
                                {
                                    "Ortname": "Lieffrens"
                                },
                                {
                                    "Ortname": "Lussy FR"
                                },
                                {
                                    "Ortname": "La Magne"
                                },
                                {
                                    "Ortname": "Montet (Glâne)"
                                },
                                {
                                    "Ortname": "Morlens"
                                },
                                {
                                    "Ortname": "Mossel"
                                },
                                {
                                    "Ortname": "La Neirigue"
                                },
                                {
                                    "Ortname": "Villargiroud"
                                },
                                {
                                    "Ortname": "Châtel-sur-Montsalvens"
                                },
                                {
                                    "Ortname": "Lessoc"
                                },
                                {
                                    "Ortname": "Maules"
                                },
                                {
                                    "Ortname": "Villarbeney"
                                },
                                {
                                    "Ortname": "Villars-sous-Mont"
                                },
                                {
                                    "Ortname": "Autafond"
                                },
                                {
                                    "Ortname": "La Corbaz"
                                },
                                {
                                    "Ortname": "Corjolens"
                                },
                                {
                                    "Ortname": "Cormagens"
                                },
                                {
                                    "Ortname": "Ecuvillens"
                                },
                                {
                                    "Ortname": "Essert FR"
                                },
                                {
                                    "Ortname": "Farvagny-le-Petit"
                                },
                                {
                                    "Ortname": "Ferpicloz"
                                },
                                {
                                    "Ortname": "Grenilles"
                                },
                                {
                                    "Ortname": "Lossy"
                                },
                                {
                                    "Ortname": "Lovens"
                                },
                                {
                                    "Ortname": "Magnedens"
                                },
                                {
                                    "Ortname": "Montévraz"
                                },
                                {
                                    "Ortname": "Oberried FR"
                                },
                                {
                                    "Ortname": "Pierrafortscha"
                                },
                                {
                                    "Ortname": "Ponthaux"
                                },
                                {
                                    "Ortname": "Posat"
                                },
                                {
                                    "Ortname": "Rueyres-St-Laurent"
                                },
                                {
                                    "Ortname": "Senèdes"
                                },
                                {
                                    "Ortname": "Villarsel-le-Gibloux"
                                },
                                {
                                    "Ortname": "Villarsel-sur-Marly"
                                },
                                {
                                    "Ortname": "Zénauva"
                                },
                                {
                                    "Ortname": "Cormérod"
                                },
                                {
                                    "Ortname": "Courtion"
                                },
                                {
                                    "Ortname": "Guschelmuth"
                                },
                                {
                                    "Ortname": "Wallenried"
                                },
                                {
                                    "Ortname": "Oberschrot"
                                },
                                {
                                    "Ortname": "Zumholz"
                                },
                                {
                                    "Ortname": "Besencens"
                                },
                                {
                                    "Ortname": "Fiaugères"
                                },
                                {
                                    "Ortname": "Grattavache"
                                },
                                {
                                    "Ortname": "Pizy"
                                },
                                {
                                    "Ortname": "Mur (Vully) VD"
                                },
                                {
                                    "Ortname": "Oleyres"
                                },
                                {
                                    "Ortname": "Chavannes-le-Veyron"
                                },
                                {
                                    "Ortname": "Mauraz"
                                },
                                {
                                    "Ortname": "Eclagnens"
                                },
                                {
                                    "Ortname": "Goumoens-le-Jux"
                                },
                                {
                                    "Ortname": "Naz"
                                },
                                {
                                    "Ortname": "Grandevent"
                                },
                                {
                                    "Ortname": "Mutrux"
                                },
                                {
                                    "Ortname": "Romairon"
                                },
                                {
                                    "Ortname": "Vaugondry"
                                },
                                {
                                    "Ortname": "Jouxtens-Mézery"
                                },
                                {
                                    "Ortname": "Chigny"
                                },
                                {
                                    "Ortname": "Denges"
                                },
                                {
                                    "Ortname": "Correvon"
                                },
                                {
                                    "Ortname": "Lovatens"
                                },
                                {
                                    "Ortname": "Martherenges"
                                },
                                {
                                    "Ortname": "Montaubion-Chardonney"
                                },
                                {
                                    "Ortname": "Rossenges"
                                },
                                {
                                    "Ortname": "Sarzens"
                                },
                                {
                                    "Ortname": "Arnex-sur-Nyon"
                                },
                                {
                                    "Ortname": "Bogis-Bossey"
                                },
                                {
                                    "Ortname": "Chavannes-des-Bois"
                                },
                                {
                                    "Ortname": "Sergey"
                                },
                                {
                                    "Ortname": "Bussigny-sur-Oron"
                                },
                                {
                                    "Ortname": "Chesalles-sur-Oron"
                                },
                                {
                                    "Ortname": "Les Tavernes"
                                },
                                {
                                    "Ortname": "Les Thioleyres"
                                },
                                {
                                    "Ortname": "Vuibroye"
                                },
                                {
                                    "Ortname": "Cerniaz VD"
                                },
                                {
                                    "Ortname": "Rossens VD"
                                },
                                {
                                    "Ortname": "Seigneux"
                                },
                                {
                                    "Ortname": "Dully"
                                },
                                {
                                    "Ortname": "Tartegnin"
                                },
                                {
                                    "Ortname": "Chamblon"
                                },
                                {
                                    "Ortname": "Démoret"
                                },
                                {
                                    "Ortname": "Essert-sous-Champvent"
                                },
                                {
                                    "Ortname": "Villars-sous-Champvent"
                                },
                                {
                                    "Ortname": "Gossens"
                                },
                                {
                                    "Ortname": "Gressy"
                                },
                                {
                                    "Ortname": "Mézery-près-Donneloye"
                                },
                                {
                                    "Ortname": "Oppens"
                                },
                                {
                                    "Ortname": "Ursins"
                                },
                                {
                                    "Ortname": "Villars-Epeney"
                                },
                                {
                                    "Ortname": "Montalchez"
                                },
                                {
                                    "Ortname": "Engollon"
                                },
                                {
                                    "Ortname": "Damphreux"
                                },
                                {
                                    "Ortname": "Fregiécourt"
                                },
                                {
                                    "Ortname": "Oberweningen"
                                },
                                {
                                    "Ortname": "Schleinikon"
                                },
                                {
                                    "Ortname": "Bertschikon"
                                },
                                {
                                    "Ortname": "Niederried b. Kallnach"
                                },
                                {
                                    "Ortname": "Gutenburg"
                                },
                                {
                                    "Ortname": "Meienried"
                                },
                                {
                                    "Ortname": "Hellsau"
                                },
                                {
                                    "Ortname": "Höchstetten"
                                },
                                {
                                    "Ortname": "Mötschwil"
                                },
                                {
                                    "Ortname": "Oberösch"
                                },
                                {
                                    "Ortname": "Rumendingen"
                                },
                                {
                                    "Ortname": "Rüti b. Lyssach"
                                },
                                {
                                    "Ortname": "Willadingen"
                                },
                                {
                                    "Ortname": "Finsterhennen"
                                },
                                {
                                    "Ortname": "Ballmoos"
                                },
                                {
                                    "Ortname": "Bangerten b. Dieterswil"
                                },
                                {
                                    "Ortname": "Deisswil b. Münchenbuchsee"
                                },
                                {
                                    "Ortname": "Diemerswil"
                                },
                                {
                                    "Ortname": "Münchringen"
                                },
                                {
                                    "Ortname": "Ruppoldsried"
                                },
                                {
                                    "Ortname": "Scheunen"
                                },
                                {
                                    "Ortname": "Wiggiswil"
                                },
                                {
                                    "Ortname": "Zauggenried"
                                },
                                {
                                    "Ortname": "Freimettigen"
                                },
                                {
                                    "Ortname": "Häutligen"
                                },
                                {
                                    "Ortname": "Herbligen"
                                },
                                {
                                    "Ortname": "Mirchel"
                                },
                                {
                                    "Ortname": "Oppligen"
                                },
                                {
                                    "Ortname": "Oberhünigen"
                                },
                                {
                                    "Ortname": "Golaten"
                                },
                                {
                                    "Ortname": "Bühl b. Aarberg"
                                },
                                {
                                    "Ortname": "Epsach"
                                },
                                {
                                    "Ortname": "Merzligen"
                                },
                                {
                                    "Ortname": "Niederstocken"
                                },
                                {
                                    "Ortname": "Englisberg"
                                },
                                {
                                    "Ortname": "Jaberg"
                                },
                                {
                                    "Ortname": "Lohnstorf"
                                },
                                {
                                    "Ortname": "Mühledorf BE"
                                },
                                {
                                    "Ortname": "Noflen BE"
                                },
                                {
                                    "Ortname": "Rümligen"
                                },
                                {
                                    "Ortname": "Forst b. Längenbühl"
                                },
                                {
                                    "Ortname": "Horrenbach"
                                },
                                {
                                    "Ortname": "Schwendibach"
                                },
                                {
                                    "Ortname": "Zwieselberg"
                                },
                                {
                                    "Ortname": "Berken"
                                },
                                {
                                    "Ortname": "Bollodingen"
                                },
                                {
                                    "Ortname": "Ochlenberg"
                                },
                                {
                                    "Ortname": "Wolfisberg"
                                },
                                {
                                    "Ortname": "Hämikon"
                                },
                                {
                                    "Ortname": "Lieli LU"
                                },
                                {
                                    "Ortname": "Sulz LU"
                                },
                                {
                                    "Ortname": "Honau"
                                },
                                {
                                    "Ortname": "Betschwanden"
                                },
                                {
                                    "Ortname": "Leuggelbach"
                                },
                                {
                                    "Ortname": "Agriswil"
                                },
                                {
                                    "Ortname": "Büchslen"
                                },
                                {
                                    "Ortname": "Greng"
                                },
                                {
                                    "Ortname": "Kleinbösingen"
                                },
                                {
                                    "Ortname": "Kleingurmels"
                                },
                                {
                                    "Ortname": "Lurtigen"
                                },
                                {
                                    "Ortname": "Wallenbuch"
                                },
                                {
                                    "Ortname": "Aetigkofen"
                                },
                                {
                                    "Ortname": "Balm b. Messen"
                                },
                                {
                                    "Ortname": "Gächliwil"
                                },
                                {
                                    "Ortname": "Bolken"
                                },
                                {
                                    "Ortname": "Burgäschi"
                                },
                                {
                                    "Ortname": "Halten"
                                },
                                {
                                    "Ortname": "Heinrichswil"
                                },
                                {
                                    "Ortname": "Hüniken"
                                },
                                {
                                    "Ortname": "Oekingen"
                                },
                                {
                                    "Ortname": "Steinhof SO"
                                },
                                {
                                    "Ortname": "Winistorf"
                                },
                                {
                                    "Ortname": "Kammersrohr"
                                },
                                {
                                    "Ortname": "Liedertswil"
                                },
                                {
                                    "Ortname": "Schwende"
                                },
                                {
                                    "Ortname": "Marmorera"
                                },
                                {
                                    "Ortname": "Schnaus"
                                },
                                {
                                    "Ortname": "St. Martin (Lugnez)"
                                },
                                {
                                    "Ortname": "Pratval"
                                },
                                {
                                    "Ortname": "Portein"
                                },
                                {
                                    "Ortname": "Calfreisen"
                                },
                                {
                                    "Ortname": "Uezwil"
                                },
                                {
                                    "Ortname": "Réclère"
                                },
                                {
                                    "Ortname": "Veytaux"
                                },
                                {
                                    "Ortname": "Eppenberg"
                                },
                                {
                                    "Ortname": "Islisberg"
                                },
                                {
                                    "Ortname": "Geltwil"
                                },
                                {
                                    "Ortname": "Wiliberg"
                                },
                                {
                                    "Ortname": "Hefenhofen"
                                },
                                {
                                    "Ortname": "Buchackern"
                                },
                                {
                                    "Ortname": "Engishofen"
                                },
                                {
                                    "Ortname": "Ennetaach"
                                },
                                {
                                    "Ortname": "Willisdorf"
                                },
                                {
                                    "Ortname": "Kefikon TG"
                                },
                                {
                                    "Ortname": "Eschikofen"
                                },
                                {
                                    "Ortname": "Harenwilen"
                                },
                                {
                                    "Ortname": "Mettendorf TG"
                                },
                                {
                                    "Ortname": "Alterswilen"
                                },
                                {
                                    "Ortname": "Altishausen"
                                },
                                {
                                    "Ortname": "Ellighausen"
                                },
                                {
                                    "Ortname": "Lippoldswilen"
                                },
                                {
                                    "Ortname": "Gottlieben"
                                },
                                {
                                    "Ortname": "Schönenbaumgarten"
                                },
                                {
                                    "Ortname": "Herrenhof"
                                },
                                {
                                    "Ortname": "Sonterswil"
                                },
                                {
                                    "Ortname": "Buch b. Märwil"
                                },
                                {
                                    "Ortname": "Zezikon"
                                },
                                {
                                    "Ortname": "Wetzikon TG"
                                },
                                {
                                    "Ortname": "Wallenwil"
                                },
                                {
                                    "Ortname": "Uerschhausen"
                                },
                                {
                                    "Ortname": "Dettighofen"
                                },
                                {
                                    "Ortname": "Rheinklingen"
                                },
                                {
                                    "Ortname": "Andhausen"
                                },
                                {
                                    "Ortname": "Graltshausen"
                                },
                                {
                                    "Ortname": "Birwinken"
                                },
                                {
                                    "Ortname": "Guntershausen b. Berg"
                                },
                                {
                                    "Ortname": "Klarsreuti"
                                },
                                {
                                    "Ortname": "Istighofen"
                                },
                                {
                                    "Ortname": "Engwang"
                                },
                                {
                                    "Ortname": "Illhart"
                                },
                                {
                                    "Ortname": "Ghirone"
                                },
                                {
                                    "Ortname": "Largario"
                                },
                                {
                                    "Ortname": "Marolta"
                                },
                                {
                                    "Ortname": "Cureggia"
                                },
                                {
                                    "Ortname": "Lamone"
                                },
                                {
                                    "Ortname": "Ausserbinn"
                                },
                                {
                                    "Ortname": "Mühlebach (Goms)"
                                },
                                {
                                    "Ortname": "Ritzingen"
                                },
                                {
                                    "Ortname": "Selkingen"
                                },
                                {
                                    "Ortname": "Steinhaus"
                                },
                                {
                                    "Ortname": "Bratsch"
                                },
                                {
                                    "Ortname": "Bister"
                                },
                                {
                                    "Ortname": "Filet"
                                },
                                {
                                    "Ortname": "Goppisberg"
                                },
                                {
                                    "Ortname": "Martisberg"
                                },
                                {
                                    "Ortname": "Steg VS"
                                },
                                {
                                    "Ortname": "Planken"
                                },
                                {
                                    "Ortname": "Kaltbach"
                                },
                                {
                                    "Ortname": "Wilen b. Neunforn"
                                },
                                {
                                    "Ortname": "Malleray"
                                },
                                {
                                    "Ortname": "Crésuz"
                                },
                                {
                                    "Ortname": "Treyfayes"
                                },
                                {
                                    "Ortname": "Fresens"
                                },
                                {
                                    "Ortname": "Lugnez"
                                },
                                {
                                    "Ortname": "Pleujouse"
                                },
                                {
                                    "Ortname": "Progens"
                                },
                                {
                                    "Ortname": "Wöschnau"
                                },
                                {
                                    "Ortname": "Fieschertal"
                                },
                                {
                                    "Ortname": "Cadempino"
                                },
                                {
                                    "Ortname": "Lüterswil"
                                },
                                {
                                    "Ortname": "Arni AG"
                                },
                                {
                                    "Ortname": "Hüttlingen"
                                },
                                {
                                    "Ortname": "Werdenberg"
                                },
                                {
                                    "Ortname": "Freienstein"
                                },
                                {
                                    "Ortname": "Rorbas"
                                },
                                {
                                    "Ortname": "Rueyres-Treyfayes"
                                },
                                {
                                    "Ortname": "Arveyes"
                                },
                                {
                                    "Ortname": "Aminona"
                                },
                                {
                                    "Ortname": "Wittwil"
                                },
                                {
                                    "Ortname": "St. Niklausen LU"
                                },
                                {
                                    "Ortname": "Madonna del Piano"
                                },
                                {
                                    "Ortname": "Fajauna"
                                },
                                {
                                    "Ortname": "Miralago"
                                },
                                {
                                    "Ortname": "Nohl"
                                },
                                {
                                    "Ortname": "Dägerlen"
                                },
                                {
                                    "Ortname": "Ebersol"
                                },
                                {
                                    "Ortname": "Paradiso"
                                },
                                {
                                    "Ortname": "Avry-sur-Matran"
                                },
                                {
                                    "Ortname": "Barberêche"
                                },
                                {
                                    "Ortname": "Montagny-les-Monts"
                                },
                                {
                                    "Ortname": "Bellerive VD"
                                },
                                {
                                    "Ortname": "La Vue-des-Alpes"
                                },
                                {
                                    "Ortname": "Ringoldswil"
                                },
                                {
                                    "Ortname": "Thunstetten"
                                },
                                {
                                    "Ortname": "Bursinel"
                                },
                                {
                                    "Ortname": "Brigerbad"
                                },
                                {
                                    "Ortname": "Pfaffhausen"
                                },
                                {
                                    "Ortname": "Provence"
                                },
                                {
                                    "Ortname": "Châtelat"
                                },
                                {
                                    "Ortname": "Chenaux"
                                },
                                {
                                    "Ortname": "Solduno"
                                },
                                {
                                    "Ortname": "Bürgenstock"
                                },
                                {
                                    "Ortname": "Wilen b. Wollerau"
                                },
                                {
                                    "Ortname": "Felsenau AG"
                                },
                                {
                                    "Ortname": "Mannens"
                                },
                                {
                                    "Ortname": "Grandsivaz"
                                },
                                {
                                    "Ortname": "Hauptikon"
                                },
                                {
                                    "Ortname": "Uerzlikon"
                                },
                                {
                                    "Ortname": "Echandens"
                                },
                                {
                                    "Ortname": "Dättwil AG"
                                },
                                {
                                    "Ortname": "Rütihof"
                                },
                                {
                                    "Ortname": "Adlikon b. Regensdorf"
                                },
                                {
                                    "Ortname": "Buonas"
                                },
                                {
                                    "Ortname": "Risch"
                                },
                                {
                                    "Ortname": "Holzhäusern ZG"
                                },
                                {
                                    "Ortname": "Niedergampel"
                                },
                                {
                                    "Ortname": "Drône (Savièse)"
                                },
                                {
                                    "Ortname": "Rüegsauschachen"
                                },
                                {
                                    "Ortname": "Hasle b. Burgdorf"
                                },
                                {
                                    "Ortname": "Fürigen"
                                },
                                {
                                    "Ortname": "Rigi Scheidegg"
                                },
                                {
                                    "Ortname": "Lüterkofen"
                                },
                                {
                                    "Ortname": "Salenstein"
                                },
                                {
                                    "Ortname": "Aawangen"
                                },
                                {
                                    "Ortname": "Lanterswil"
                                },
                                {
                                    "Ortname": "Oberhofen TG"
                                },
                                {
                                    "Ortname": "Hintermoos"
                                },
                                {
                                    "Ortname": "Wiesenberg"
                                },
                                {
                                    "Ortname": "Lohn-Ammannsegg"
                                },
                                {
                                    "Ortname": "Gebertingen"
                                },
                                {
                                    "Ortname": "Uvrier"
                                },
                                {
                                    "Ortname": "Balmberg"
                                },
                                {
                                    "Ortname": "Oberbalmberg"
                                },
                                {
                                    "Ortname": "Luthern Bad"
                                },
                                {
                                    "Ortname": "Mehlsecken"
                                },
                                {
                                    "Ortname": "Aurigeno"
                                },
                                {
                                    "Ortname": "Obermutten"
                                },
                                {
                                    "Ortname": "Lavey-les-Bains"
                                },
                                {
                                    "Ortname": "Gerolfingen"
                                },
                                {
                                    "Ortname": "Kradolf"
                                },
                                {
                                    "Ortname": "Hurden"
                                },
                                {
                                    "Ortname": "La Lécherette"
                                },
                                {
                                    "Ortname": "Thielle"
                                },
                                {
                                    "Ortname": "Wavre"
                                },
                                {
                                    "Ortname": "Misery"
                                },
                                {
                                    "Ortname": "Oberstocken"
                                },
                                {
                                    "Ortname": "Les Monts-de-Pully"
                                },
                                {
                                    "Ortname": "Fontnas"
                                },
                                {
                                    "Ortname": "Erlinsbach"
                                },
                                {
                                    "Ortname": "Signy"
                                },
                                {
                                    "Ortname": "Hefenhausen"
                                },
                                {
                                    "Ortname": "Wagerswil"
                                },
                                {
                                    "Ortname": "Buch b. Kümmertshausen"
                                },
                                {
                                    "Ortname": "Oberbussnang"
                                },
                                {
                                    "Ortname": "Courtemautruy"
                                },
                                {
                                    "Ortname": "Le Solliat"
                                },
                                {
                                    "Ortname": "Villars-Bozon"
                                },
                                {
                                    "Ortname": "Allens"
                                },
                                {
                                    "Ortname": "Waldhäusern AG"
                                },
                                {
                                    "Ortname": "Niouc"
                                },
                                {
                                    "Ortname": "Produit (Leytron)"
                                },
                                {
                                    "Ortname": "Montagnon (Leytron)"
                                },
                                {
                                    "Ortname": "Dugny (Leytron)"
                                },
                                {
                                    "Ortname": "Auddes-sur-Riddes"
                                },
                                {
                                    "Ortname": "Les Valettes (Bovernier)"
                                },
                                {
                                    "Ortname": "Vens (Sembrancher)"
                                },
                                {
                                    "Ortname": "Chamoille (Sembrancher)"
                                },
                                {
                                    "Ortname": "La Garde (Sembrancher)"
                                },
                                {
                                    "Ortname": "Cries (Vollèges)"
                                },
                                {
                                    "Ortname": "Fontaine Dessus (Liddes)"
                                },
                                {
                                    "Ortname": "Fontaine Dessous (Liddes)"
                                },
                                {
                                    "Ortname": "Dranse (Liddes)"
                                },
                                {
                                    "Ortname": "Chandonne (Liddes)"
                                },
                                {
                                    "Ortname": "Rive Haute (Liddes)"
                                },
                                {
                                    "Ortname": "Fornex (Liddes)"
                                },
                                {
                                    "Ortname": "Les Moulins VS (Liddes)"
                                },
                                {
                                    "Ortname": "Vichères (Liddes)"
                                },
                                {
                                    "Ortname": "Palasuit (Liddes)"
                                },
                                {
                                    "Ortname": "Chez Petit (Liddes)"
                                },
                                {
                                    "Ortname": "Petit Vichères (Liddes)"
                                },
                                {
                                    "Ortname": "Champsec"
                                },
                                {
                                    "Ortname": "Les Vérines (Chamoson)"
                                },
                                {
                                    "Ortname": "Némiaz (Chamoson)"
                                },
                                {
                                    "Ortname": "Grugnay (Chamoson)"
                                },
                                {
                                    "Ortname": "Roumaz (Savièse)"
                                },
                                {
                                    "Ortname": "Granois (Savièse)"
                                },
                                {
                                    "Ortname": "St-Germain (Savièse)"
                                },
                                {
                                    "Ortname": "Ormône (Savièse)"
                                },
                                {
                                    "Ortname": "Mayens-de-la-Zour (Savièse)"
                                },
                                {
                                    "Ortname": "Fortunau (Ayent)"
                                },
                                {
                                    "Ortname": "Luc (Ayent)"
                                },
                                {
                                    "Ortname": "St-Romain (Ayent)"
                                },
                                {
                                    "Ortname": "Saxonne (Ayent)"
                                },
                                {
                                    "Ortname": "Villa (Ayent)"
                                },
                                {
                                    "Ortname": "La Place (Ayent)"
                                },
                                {
                                    "Ortname": "Botyre (Ayent)"
                                },
                                {
                                    "Ortname": "Blignou (Ayent)"
                                },
                                {
                                    "Ortname": "Argnou (Ayent)"
                                },
                                {
                                    "Ortname": "Liez (St-Martin)"
                                },
                                {
                                    "Ortname": "Trogne (St-Martin)"
                                },
                                {
                                    "Ortname": "Suen (St-Martin)"
                                },
                                {
                                    "Ortname": "Champlan (Grimisuat)"
                                },
                                {
                                    "Ortname": "Lanna"
                                },
                                {
                                    "Ortname": "Arvillard (Salins)"
                                },
                                {
                                    "Ortname": "Pravidondaz (Salins)"
                                },
                                {
                                    "Ortname": "Turin (Salins)"
                                },
                                {
                                    "Ortname": "Misériez (Salins)"
                                },
                                {
                                    "Ortname": "Clèbes (Nendaz)"
                                },
                                {
                                    "Ortname": "Brignon (Nendaz)"
                                },
                                {
                                    "Ortname": "La Vernaz (Les Agettes)"
                                },
                                {
                                    "Ortname": "Crête-à-l'Oeil(Les Agettes)"
                                },
                                {
                                    "Ortname": "Bieudron (Nendaz)"
                                },
                                {
                                    "Ortname": "Condémines (Nendaz)"
                                },
                                {
                                    "Ortname": "Saclentse"
                                },
                                {
                                    "Ortname": "Mayens-de-Chamoson"
                                },
                                {
                                    "Ortname": "Cotterd"
                                },
                                {
                                    "Ortname": "Champoussin"
                                },
                                {
                                    "Ortname": "Fenin"
                                },
                                {
                                    "Ortname": "Saules"
                                },
                                {
                                    "Ortname": "Les Crosets"
                                },
                                {
                                    "Ortname": "Monteiller (Savièse)"
                                },
                                {
                                    "Ortname": "Nierlet-les-Bois"
                                },
                                {
                                    "Ortname": "Mur (Vully) FR"
                                },
                                {
                                    "Ortname": "Morcles"
                                },
                                {
                                    "Ortname": "Gretschins"
                                },
                                {
                                    "Ortname": "Malans SG"
                                },
                                {
                                    "Ortname": "Hattenhausen"
                                },
                                {
                                    "Ortname": "Fretereules"
                                },
                                {
                                    "Ortname": "Brot-Dessous"
                                },
                                {
                                    "Ortname": "Oberstetten"
                                },
                                {
                                    "Ortname": "Niederstetten"
                                },
                                {
                                    "Ortname": "Gunterswilen"
                                },
                                {
                                    "Ortname": "Gündlischwand"
                                },
                                {
                                    "Ortname": "Schattenhalb"
                                },
                                {
                                    "Ortname": "Les Pontins"
                                },
                                {
                                    "Ortname": "Tatroz"
                                },
                                {
                                    "Ortname": "Villette (Lavaux)"
                                },
                                {
                                    "Ortname": "Wirzweli"
                                },
                                {
                                    "Ortname": "La Cibourg"
                                },
                                {
                                    "Ortname": "La Cibourg"
                                },
                                {
                                    "Ortname": "Lamperswil TG"
                                },
                                {
                                    "Ortname": "Root D4"
                                },
                                {
                                    "Ortname": "Montezillon"
                                },
                                {
                                    "Ortname": "Territet"
                                },
                                {
                                    "Ortname": "Muriaux"
                                },
                                {
                                    "Ortname": "Les Ecorcheresses"
                                },
                                {
                                    "Ortname": "Freudwil"
                                },
                                {
                                    "Ortname": "Eison (St.Martin)"
                                },
                                {
                                    "Ortname": "Buchen BE"
                                },
                                {
                                    "Ortname": "Brittern"
                                },
                                {
                                    "Ortname": "Hertenstein AG"
                                },
                                {
                                    "Ortname": "Rieden AG"
                                },
                                {
                                    "Ortname": "Münsterlingen"
                                },
                                {
                                    "Ortname": "Unterrindal"
                                },
                                {
                                    "Ortname": "Champzabé"
                                },
                                {
                                    "Ortname": "Greich"
                                },
                                {
                                    "Ortname": "Menzengrüt"
                                },
                                {
                                    "Ortname": "Lätti"
                                },
                                {
                                    "Ortname": "Seewil"
                                },
                                {
                                    "Ortname": "Sihlwald"
                                },
                                {
                                    "Ortname": "Glattpark (Opfikon)"
                                },
                                {
                                    "Ortname": "Fenkrieden"
                                },
                                {
                                    "Ortname": "Formangueires"
                                },
                                {
                                    "Ortname": "Silvaplana-Surlej"
                                },
                                {
                                    "Ortname": "Gundetswil"
                                },
                                {
                                    "Ortname": "Kloster Fahr"
                                },
                                {
                                    "Ortname": "La Coudre"
                                },
                                {
                                    "Ortname": "Ricketwil (Winterthur)"
                                },
                                {
                                    "Ortname": "Hünenberg See"
                                },
                                {
                                    "Ortname": "Rickenbach Sulz"
                                },
                                {
                                    "Ortname": "Kefikon ZH"
                                },
                                {
                                    "Ortname": "Grafstal"
                                },
                                {
                                    "Ortname": "Wildensbuch"
                                },
                                {
                                    "Ortname": "Oberwil (Dägerlen)"
                                },
                                {
                                    "Ortname": "Berg (Dägerlen)"
                                },
                                {
                                    "Ortname": "Bänk (Dägerlen)"
                                },
                                {
                                    "Ortname": "Riet (Neftenbach)"
                                },
                                {
                                    "Ortname": "Hünikon (Neftenbach)"
                                },
                                {
                                    "Ortname": "Meienberg"
                                },
                                {
                                    "Ortname": "Kleine Scheidegg"
                                },
                                {
                                    "Ortname": "Eigergletscher"
                                },
                                {
                                    "Ortname": "Appenzell Eggerstanden"
                                },
                                {
                                    "Ortname": "Appenzell Enggenhütten"
                                },
                                {
                                    "Ortname": "Appenzell Meistersrüte"
                                },
                                {
                                    "Ortname": "Appenzell Steinegg"
                                },
                                {
                                    "Ortname": "Appenzell Schlatt"
                                },
                                {
                                    "Ortname": "Wasserauen"
                                },
                                {
                                    "Ortname": "Gontenbad"
                                },
                                {
                                    "Ortname": "Jakobsbad"
                                },
                                {
                                    "Ortname": "Büriswilen"
                                },
                                {
                                    "Ortname": "Peiden"
                                },
                                {
                                    "Ortname": "La Russille"
                                },
                                {
                                    "Ortname": "Sonnental"
                                },
                                {
                                    "Ortname": "Ferenbalm"
                                },
                                {
                                    "Ortname": "Biberen"
                                },
                                {
                                    "Ortname": "Gammen"
                                },
                                {
                                    "Ortname": "Le Bémont JU"
                                },
                                {
                                    "Ortname": "Montfaucon"
                                },
                                {
                                    "Ortname": "Montfavergier"
                                },
                                {
                                    "Ortname": "Les Enfers"
                                },
                                {
                                    "Ortname": "St-Brais"
                                },
                                {
                                    "Ortname": "St. Josefen"
                                },
                                {
                                    "Ortname": "Maseltrangen"
                                },
                                {
                                    "Ortname": "Landiswil"
                                },
                                {
                                    "Ortname": "La Tour VS"
                                },
                                {
                                    "Ortname": "La Forclaz VS"
                                },
                                {
                                    "Ortname": "Villa (Evolène)"
                                },
                                {
                                    "Ortname": "Vogelsang AG"
                                },
                                {
                                    "Ortname": "Sornard (Nendaz)"
                                },
                                {
                                    "Ortname": "Dietschwil"
                                },
                                {
                                    "Ortname": "Sünikon"
                                },
                                {
                                    "Ortname": "Rumlikon"
                                },
                                {
                                    "Ortname": "Gündisau"
                                },
                                {
                                    "Ortname": "Busswil TG"
                                },
                                {
                                    "Ortname": "Seewis-Pardisla"
                                },
                                {
                                    "Ortname": "Seewis-Schmitten"
                                },
                                {
                                    "Ortname": "Vielbringen b. Worb"
                                },
                                {
                                    "Ortname": "Lengwil"
                                },
                                {
                                    "Ortname": "Dettighofen (Lengwil)"
                                },
                                {
                                    "Ortname": "Les Posses-sur-Bex"
                                },
                                {
                                    "Ortname": "Nassenwil"
                                },
                                {
                                    "Ortname": "Le Séchey"
                                },
                                {
                                    "Ortname": "Donatyre"
                                },
                                {
                                    "Ortname": "Cournillens"
                                },
                                {
                                    "Ortname": "Bözberg"
                                },
                                {
                                    "Ortname": "Mission"
                                },
                                {
                                    "Ortname": "Diolly (Savièse)"
                                },
                                {
                                    "Ortname": "La Muraz (Savièse)"
                                },
                                {
                                    "Ortname": "Biessenhofen"
                                },
                                {
                                    "Ortname": "Campora"
                                }
                            ]
                        },
                        "text/html": [
                            "<table>",
                            "<tr><th>Ortname</th></tr>",
                            "<tr><td>Lausanne</td></tr>",
                            "<tr><td>Lausanne 25</td></tr>",
                            "<tr><td>Lausanne 26</td></tr>",
                            "<tr><td>Lausanne 27</td></tr>",
                            "<tr><td>Lausanne</td></tr>",
                            "<tr><td>Lausanne</td></tr>",
                            "<tr><td>Lausanne</td></tr>",
                            "<tr><td>Lausanne</td></tr>",
                            "<tr><td>Lausanne</td></tr>",
                            "<tr><td>Prilly</td></tr>",
                            "<tr><td>Pully</td></tr>",
                            "<tr><td>Lausanne</td></tr>",
                            "<tr><td>Lausanne</td></tr>",
                            "<tr><td>Lausanne</td></tr>",
                            "<tr><td>Lausanne</td></tr>",
                            "<tr><td>Lausanne</td></tr>",
                            "<tr><td>Renens VD</td></tr>",
                            "<tr><td>Chavannes-près-Renens</td></tr>",
                            "<tr><td>Crissier</td></tr>",
                            "<tr><td>Ecublens VD</td></tr>",
                            "<tr><td>St-Sulpice VD</td></tr>",
                            "<tr><td>Lonay</td></tr>",
                            "<tr><td>Préverenges</td></tr>",
                            "<tr><td>Bussigny</td></tr>",
                            "<tr><td>Romanel-sur-Lausanne</td></tr>",
                            "<tr><td>Cheseaux-sur-Lausanne</td></tr>",
                            "<tr><td>Etagnières</td></tr>",
                            "<tr><td>Bercher</td></tr>",
                            "<tr><td>Echallens</td></tr>",
                            "<tr><td>St-Barthélemy VD</td></tr>",
                            "<tr><td>Oulens-sous-Echallens</td></tr>",
                            "<tr><td>Bettens</td></tr>",
                            "<tr><td>Villars-le-Terroir</td></tr>",
                            "<tr><td>Epautheyres</td></tr>",
                            "<tr><td>Dommartin</td></tr>",
                            "<tr><td>Peyres-Possens</td></tr>",
                            "<tr><td>Boulens</td></tr>",
                            "<tr><td>Poliez-le-Grand</td></tr>",
                            "<tr><td>Poliez-Pittet</td></tr>",
                            "<tr><td>Bottens</td></tr>",
                            "<tr><td>Bretigny-sur-Morrens</td></tr>",
                            "<tr><td>Boussens</td></tr>",
                            "<tr><td>Bournens</td></tr>",
                            "<tr><td>Sullens</td></tr>",
                            "<tr><td>Assens</td></tr>",
                            "<tr><td>Sugnens</td></tr>",
                            "<tr><td>Fey</td></tr>",
                            "<tr><td>Ogens</td></tr>",
                            "<tr><td>Bioley-Magnoux</td></tr>",
                            "<tr><td>Bioley-Orjulaz</td></tr>",
                            "<tr><td>Le Mont-sur-Lausanne</td></tr>",
                            "<tr><td>Cugy VD</td></tr>",
                            "<tr><td>Morrens VD</td></tr>",
                            "<tr><td>Froideville</td></tr>",
                            "<tr><td>Thierrens</td></tr>",
                            "<tr><td>Epalinges</td></tr>",
                            "<tr><td>Savigny</td></tr>",
                            "<tr><td>Mézières VD</td></tr>",
                            "<tr><td>Belmont-sur-Lausanne</td></tr>",
                            "<tr><td>La Conversion</td></tr>",
                            "<tr><td>Paudex</td></tr>",
                            "<tr><td>Lutry</td></tr>",
                            "<tr><td>Cully</td></tr>",
                            "<tr><td>Riex</td></tr>",
                            "<tr><td>Epesses</td></tr>",
                            "<tr><td>Villars-Tiercelin</td></tr>",
                            "<tr><td>Peney-le-Jorat</td></tr>",
                            "<tr><td>Villars-Mendraz</td></tr>",
                            "<tr><td>Sottens</td></tr>",
                            "<tr><td>Chapelle-sur-Moudon</td></tr>",
                            "<tr><td>St-Cierges</td></tr>",
                            "<tr><td>Mollie-Margot</td></tr>",
                            "<tr><td>Les Cullayes</td></tr>",
                            "<tr><td>Montpreveyres</td></tr>",
                            "<tr><td>Corcelles-le-Jorat</td></tr>",
                            "<tr><td>Ropraz</td></tr>",
                            "<tr><td>Carrouge VD</td></tr>",
                            "<tr><td>Vulliens</td></tr>",
                            "<tr><td>Vucherens</td></tr>",
                            "<tr><td>Syens</td></tr>",
                            "<tr><td>Ferlens VD</td></tr>",
                            "<tr><td>Servion</td></tr>",
                            "<tr><td>Essertes</td></tr>",
                            "<tr><td>Auboranges</td></tr>",
                            "<tr><td>Morges</td></tr>",
                            "<tr><td>Echichens</td></tr>",
                            "<tr><td>Lussy-sur-Morges</td></tr>",
                            "<tr><td>Lully VD</td></tr>",
                            "<tr><td>Tolochenaz</td></tr>",
                            "<tr><td>Monnaz</td></tr>",
                            "<tr><td>Vaux-sur-Morges</td></tr>",
                            "<tr><td>Clarmont</td></tr>",
                            "<tr><td>Reverolle</td></tr>",
                            "<tr><td>St-Saphorin-sur-Morges</td></tr>",
                            "<tr><td>Colombier VD</td></tr>",
                            "<tr><td>Vullierens</td></tr>",
                            "<tr><td>Cottens VD</td></tr>",
                            "<tr><td>Grancy</td></tr>",
                            "<tr><td>Senarclens</td></tr>",
                            "<tr><td>Bremblens</td></tr>",
                            "<tr><td>Romanel-sur-Morges</td></tr>",
                            "<tr><td>Aclens</td></tr>",
                            "<tr><td>Gollion</td></tr>",
                            "<tr><td>Vufflens-le-Château</td></tr>",
                            "<tr><td>Denens</td></tr>",
                            "<tr><td>Bussy-Chardonney</td></tr>",
                            "<tr><td>Yens</td></tr>",
                            "<tr><td>Villars-sous-Yens</td></tr>",
                            "<tr><td>Ballens</td></tr>",
                            "<tr><td>Berolle</td></tr>",
                            "<tr><td>Mollens VD</td></tr>",
                            "<tr><td>Montricher</td></tr>",
                            "<tr><td>Pampigny</td></tr>",
                            "<tr><td>Sévery</td></tr>",
                            "<tr><td>Apples</td></tr>",
                            "<tr><td>Bière</td></tr>",
                            "<tr><td>L&#39;Isle</td></tr>",
                            "<tr><td>St-Prex</td></tr>",
                            "<tr><td>Etoy</td></tr>",
                            "<tr><td>Buchillon</td></tr>",
                            "<tr><td>Allaman</td></tr>",
                            "<tr><td>Perroy</td></tr>",
                            "<tr><td>Aubonne</td></tr>",
                            "<tr><td>Bougy-Villars</td></tr>",
                            "<tr><td>Féchy</td></tr>",
                            "<tr><td>Montherod</td></tr>",
                            "<tr><td>Lavigny</td></tr>",
                            "<tr><td>St-Livres</td></tr>",
                            "<tr><td>Rolle</td></tr>",
                            "<tr><td>Gilly</td></tr>",
                            "<tr><td>Bursins</td></tr>",
                            "<tr><td>Vinzel</td></tr>",
                            "<tr><td>Luins</td></tr>",
                            "<tr><td>Mont-sur-Rolle</td></tr>",
                            "<tr><td>Essertines-sur-Rolle</td></tr>",
                            "<tr><td>St-Oyens</td></tr>",
                            "<tr><td>Saubraz</td></tr>",
                            "<tr><td>Gimel</td></tr>",
                            "<tr><td>Gland</td></tr>",
                            "<tr><td>Prangins</td></tr>",
                            "<tr><td>Genève</td></tr>",
                            "<tr><td>Genève</td></tr>",
                            "<tr><td>Genève</td></tr>",
                            "<tr><td>Genève</td></tr>",
                            "<tr><td>Genève</td></tr>",
                            "<tr><td>Genève</td></tr>",
                            "<tr><td>Genève</td></tr>",
                            "<tr><td>Genève</td></tr>",
                            "<tr><td>Genève</td></tr>",
                            "<tr><td>Genève</td></tr>",
                            "<tr><td>Grand-Lancy</td></tr>",
                            "<tr><td>Petit-Lancy</td></tr>",
                            "<tr><td>Onex</td></tr>",
                            "<tr><td>Vernier</td></tr>",
                            "<tr><td>Genève 15 Aéroport</td></tr>",
                            "<tr><td>Cointrin</td></tr>",
                            "<tr><td>Meyrin</td></tr>",
                            "<tr><td>Le Grand-Saconnex</td></tr>",
                            "<tr><td>Le Lignon</td></tr>",
                            "<tr><td>Aïre</td></tr>",
                            "<tr><td>Châtelaine</td></tr>",
                            "<tr><td>Les Avanchets</td></tr>",
                            "<tr><td>Vésenaz</td></tr>",
                            "<tr><td>Cologny</td></tr>",
                            "<tr><td>Chêne-Bougeries</td></tr>",
                            "<tr><td>Chêne-Bourg</td></tr>",
                            "<tr><td>Thônex</td></tr>",
                            "<tr><td>Carouge GE</td></tr>",
                            "<tr><td>Les Acacias</td></tr>",
                            "<tr><td>Plan-les-Ouates</td></tr>",
                            "<tr><td>Conches</td></tr>",
                            "<tr><td>Confignon</td></tr>",
                            "<tr><td>Bernex</td></tr>",
                            "<tr><td>Vessy</td></tr>",
                            "<tr><td>Cartigny</td></tr>",
                            "<tr><td>Avully</td></tr>",
                            "<tr><td>Collex</td></tr>",
                            "<tr><td>Puplinge</td></tr>",
                            "<tr><td>Satigny</td></tr>",
                            "<tr><td>Presinge</td></tr>",
                            "<tr><td>Choulex</td></tr>",
                            "<tr><td>Collonge-Bellerive</td></tr>",
                            "<tr><td>Corsier GE</td></tr>",
                            "<tr><td>Anières</td></tr>",
                            "<tr><td>Hermance</td></tr>",
                            "<tr><td>Gy</td></tr>",
                            "<tr><td>Meinier</td></tr>",
                            "<tr><td>Vandoeuvres</td></tr>",
                            "<tr><td>Jussy</td></tr>",
                            "<tr><td>Veyrier</td></tr>",
                            "<tr><td>Troinex</td></tr>",
                            "<tr><td>La Croix-de-Rozon</td></tr>",
                            "<tr><td>Perly</td></tr>",
                            "<tr><td>Nyon</td></tr>",
                            "<tr><td>Borex</td></tr>",
                            "<tr><td>La Rippe</td></tr>",
                            "<tr><td>Chavannes-de-Bogis</td></tr>",
                            "<tr><td>Grens</td></tr>",
                            "<tr><td>Chéserex</td></tr>",
                            "<tr><td>Gingins</td></tr>",
                            "<tr><td>Trélex</td></tr>",
                            "<tr><td>Givrins</td></tr>",
                            "<tr><td>Genolier</td></tr>",
                            "<tr><td>Le Muids</td></tr>",
                            "<tr><td>Arzier</td></tr>",
                            "<tr><td>Burtigny</td></tr>",
                            "<tr><td>Marchissy</td></tr>",
                            "<tr><td>Le Vaud</td></tr>",
                            "<tr><td>Bassins</td></tr>",
                            "<tr><td>Longirod</td></tr>",
                            "<tr><td>St-George</td></tr>",
                            "<tr><td>Eysins</td></tr>",
                            "<tr><td>Crassier</td></tr>",
                            "<tr><td>St-Cergue</td></tr>",
                            "<tr><td>La Cure</td></tr>",
                            "<tr><td>Duillier</td></tr>",
                            "<tr><td>Begnins</td></tr>",
                            "<tr><td>Russin</td></tr>",
                            "<tr><td>Dardagny</td></tr>",
                            "<tr><td>La Plaine</td></tr>",
                            "<tr><td>Chancy</td></tr>",
                            "<tr><td>Athenaz (Avusy)</td></tr>",
                            "<tr><td>Soral</td></tr>",
                            "<tr><td>Laconnex</td></tr>",
                            "<tr><td>Aire-la-Ville</td></tr>",
                            "<tr><td>Versoix</td></tr>",
                            "<tr><td>Commugny</td></tr>",
                            "<tr><td>Chambésy</td></tr>",
                            "<tr><td>Bellevue</td></tr>",
                            "<tr><td>Genthod</td></tr>",
                            "<tr><td>Coppet</td></tr>",
                            "<tr><td>Founex</td></tr>",
                            "<tr><td>Céligny</td></tr>",
                            "<tr><td>Crans-près-Céligny</td></tr>",
                            "<tr><td>Vufflens-la-Ville</td></tr>",
                            "<tr><td>Cossonay-Ville</td></tr>",
                            "<tr><td>Dizy</td></tr>",
                            "<tr><td>Lussery-Villars</td></tr>",
                            "<tr><td>Penthalaz</td></tr>",
                            "<tr><td>La Sarraz</td></tr>",
                            "<tr><td>Orny</td></tr>",
                            "<tr><td>Chevilly</td></tr>",
                            "<tr><td>Vallorbe</td></tr>",
                            "<tr><td>Ballaigues</td></tr>",
                            "<tr><td>Orient</td></tr>",
                            "<tr><td>Les Bioux</td></tr>",
                            "<tr><td>L&#39;Abbaye</td></tr>",
                            "<tr><td>Le Pont</td></tr>",
                            "<tr><td>Les Charbonnières</td></tr>",
                            "<tr><td>Le Lieu</td></tr>",
                            "<tr><td>Le Sentier</td></tr>",
                            "<tr><td>Le Brassus</td></tr>",
                            "<tr><td>Daillens</td></tr>",
                            "<tr><td>Penthaz</td></tr>",
                            "<tr><td>La Chaux (Cossonay)</td></tr>",
                            "<tr><td>Cuarnens</td></tr>",
                            "<tr><td>Ferreyres</td></tr>",
                            "<tr><td>Moiry VD</td></tr>",
                            "<tr><td>Arnex-sur-Orbe</td></tr>",
                            "<tr><td>Pompaples</td></tr>",
                            "<tr><td>Eclépens</td></tr>",
                            "<tr><td>Bretonnières</td></tr>",
                            "<tr><td>Croy</td></tr>",
                            "<tr><td>Romainmôtier</td></tr>",
                            "<tr><td>Premier</td></tr>",
                            "<tr><td>Vaulion</td></tr>",
                            "<tr><td>Juriens</td></tr>",
                            "<tr><td>La Praz</td></tr>",
                            "<tr><td>Mont-la-Ville</td></tr>",
                            "<tr><td>Orbe</td></tr>",
                            "<tr><td>Agiez</td></tr>",
                            "<tr><td>Bofflens</td></tr>",
                            "<tr><td>Montcherand</td></tr>",
                            "<tr><td>L&#39;Abergement</td></tr>",
                            "<tr><td>Les Clées</td></tr>",
                            "<tr><td>Lignerolle</td></tr>",
                            "<tr><td>Valeyres-sous-Rances</td></tr>",
                            "<tr><td>Rances</td></tr>",
                            "<tr><td>Chavornay</td></tr>",
                            "<tr><td>Bavois</td></tr>",
                            "<tr><td>Corcelles-sur-Chavornay</td></tr>",
                            "<tr><td>Penthéréaz</td></tr>",
                            "<tr><td>Goumoens-la-Ville</td></tr>",
                            "<tr><td>Yverdon-les-Bains</td></tr>",
                            "<tr><td>Essertines-sur-Yverdon</td></tr>",
                            "<tr><td>Pailly</td></tr>",
                            "<tr><td>Vuarrens</td></tr>",
                            "<tr><td>Fiez</td></tr>",
                            "<tr><td>Fontaines-sur-Grandson</td></tr>",
                            "<tr><td>Villars-Burquin</td></tr>",
                            "<tr><td>Mauborget</td></tr>",
                            "<tr><td>Giez</td></tr>",
                            "<tr><td>Orges</td></tr>",
                            "<tr><td>Vugelles-La Mothe</td></tr>",
                            "<tr><td>Pomy</td></tr>",
                            "<tr><td>Cronay</td></tr>",
                            "<tr><td>Donneloye</td></tr>",
                            "<tr><td>Prahins</td></tr>",
                            "<tr><td>Chanéaz</td></tr>",
                            "<tr><td>Valeyres-sous-Ursins</td></tr>",
                            "<tr><td>Orzens</td></tr>",
                            "<tr><td>Rueyres</td></tr>",
                            "<tr><td>Cuarny</td></tr>",
                            "<tr><td>Bonvillars</td></tr>",
                            "<tr><td>Champagne</td></tr>",
                            "<tr><td>Novalles</td></tr>",
                            "<tr><td>Fontanezier</td></tr>",
                            "<tr><td>Molondin</td></tr>",
                            "<tr><td>Grandson</td></tr>",
                            "<tr><td>Onnens VD</td></tr>",
                            "<tr><td>Concise</td></tr>",
                            "<tr><td>Corcelles-près-Concise</td></tr>",
                            "<tr><td>Belmont-sur-Yverdon</td></tr>",
                            "<tr><td>Suchy</td></tr>",
                            "<tr><td>Ependes VD</td></tr>",
                            "<tr><td>Essert-Pittet</td></tr>",
                            "<tr><td>Treycovagnes</td></tr>",
                            "<tr><td>Suscévaz</td></tr>",
                            "<tr><td>Mathod</td></tr>",
                            "<tr><td>Valeyres-sous-Montagny</td></tr>",
                            "<tr><td>Montagny-près-Yverdon</td></tr>",
                            "<tr><td>Champvent</td></tr>",
                            "<tr><td>Vuiteboeuf</td></tr>",
                            "<tr><td>Baulmes</td></tr>",
                            "<tr><td>Ste-Croix</td></tr>",
                            "<tr><td>La Sagne (Ste-Croix)</td></tr>",
                            "<tr><td>L&#39;Auberson</td></tr>",
                            "<tr><td>Les Rasses</td></tr>",
                            "<tr><td>Bullet</td></tr>",
                            "<tr><td>Le Château-de-Ste-Croix</td></tr>",
                            "<tr><td>Yvonand</td></tr>",
                            "<tr><td>Rovray</td></tr>",
                            "<tr><td>Chavannes-le-Chêne</td></tr>",
                            "<tr><td>Chêne-Pâquier</td></tr>",
                            "<tr><td>Cheyres</td></tr>",
                            "<tr><td>Estavayer-le-Lac</td></tr>",
                            "<tr><td>Font</td></tr>",
                            "<tr><td>Châbles FR</td></tr>",
                            "<tr><td>Montet (Broye)</td></tr>",
                            "<tr><td>Cugy FR</td></tr>",
                            "<tr><td>Bussy FR</td></tr>",
                            "<tr><td>Aumont</td></tr>",
                            "<tr><td>Nuvilly</td></tr>",
                            "<tr><td>Vuissens</td></tr>",
                            "<tr><td>Champtauroz</td></tr>",
                            "<tr><td>Treytorrens (Payerne)</td></tr>",
                            "<tr><td>Murist</td></tr>",
                            "<tr><td>Moudon</td></tr>",
                            "<tr><td>Chavannes-sur-Moudon</td></tr>",
                            "<tr><td>Hermenches</td></tr>",
                            "<tr><td>Bussy-sur-Moudon</td></tr>",
                            "<tr><td>Oulens-sur-Lucens</td></tr>",
                            "<tr><td>Villars-le-Comte</td></tr>",
                            "<tr><td>Neyruz-sur-Moudon</td></tr>",
                            "<tr><td>Denezy</td></tr>",
                            "<tr><td>Lucens</td></tr>",
                            "<tr><td>Curtilles</td></tr>",
                            "<tr><td>Granges-près-Marnand</td></tr>",
                            "<tr><td>Villeneuve FR</td></tr>",
                            "<tr><td>Surpierre</td></tr>",
                            "<tr><td>Cheiry</td></tr>",
                            "<tr><td>Payerne</td></tr>",
                            "<tr><td>Fétigny</td></tr>",
                            "<tr><td>Ménières</td></tr>",
                            "<tr><td>Sassel</td></tr>",
                            "<tr><td>Combremont-le-Petit</td></tr>",
                            "<tr><td>Forel-sur-Lucens</td></tr>",
                            "<tr><td>Cremin</td></tr>",
                            "<tr><td>Rueyres-les-Prés</td></tr>",
                            "<tr><td>Grandcour</td></tr>",
                            "<tr><td>Gletterens</td></tr>",
                            "<tr><td>Chevroux</td></tr>",
                            "<tr><td>Vers-chez-Perrin</td></tr>",
                            "<tr><td>Trey</td></tr>",
                            "<tr><td>Châtonnaye</td></tr>",
                            "<tr><td>Sédeilles</td></tr>",
                            "<tr><td>Villarzel</td></tr>",
                            "<tr><td>Villars-Bramard</td></tr>",
                            "<tr><td>Dompierre VD</td></tr>",
                            "<tr><td>Combremont-le-Grand</td></tr>",
                            "<tr><td>Corcelles-près-Payerne</td></tr>",
                            "<tr><td>Dompierre FR</td></tr>",
                            "<tr><td>Domdidier</td></tr>",
                            "<tr><td>Missy</td></tr>",
                            "<tr><td>Autavaux</td></tr>",
                            "<tr><td>Delley</td></tr>",
                            "<tr><td>Portalban</td></tr>",
                            "<tr><td>St-Aubin FR</td></tr>",
                            "<tr><td>Avenches</td></tr>",
                            "<tr><td>Villarepos</td></tr>",
                            "<tr><td>Villars-le-Grand</td></tr>",
                            "<tr><td>Salavaux</td></tr>",
                            "<tr><td>Vallamand</td></tr>",
                            "<tr><td>Montmagny</td></tr>",
                            "<tr><td>Chabrey</td></tr>",
                            "<tr><td>Constantine</td></tr>",
                            "<tr><td>Cudrefin</td></tr>",
                            "<tr><td>Faoug</td></tr>",
                            "<tr><td>Palézieux-Village</td></tr>",
                            "<tr><td>Châtillens</td></tr>",
                            "<tr><td>Ecublens FR</td></tr>",
                            "<tr><td>Henniez</td></tr>",
                            "<tr><td>Marnand</td></tr>",
                            "<tr><td>La Croix (Lutry)</td></tr>",
                            "<tr><td>Grandvaux</td></tr>",
                            "<tr><td>Aran</td></tr>",
                            "<tr><td>Puidoux</td></tr>",
                            "<tr><td>Chexbres</td></tr>",
                            "<tr><td>Forel (Lavaux)</td></tr>",
                            "<tr><td>Palézieux</td></tr>",
                            "<tr><td>Granges (Veveyse)</td></tr>",
                            "<tr><td>Bossonnens</td></tr>",
                            "<tr><td>Attalens</td></tr>",
                            "<tr><td>Remaufens</td></tr>",
                            "<tr><td>Châtel-St-Denis</td></tr>",
                            "<tr><td>Les Paccots</td></tr>",
                            "<tr><td>Semsales</td></tr>",
                            "<tr><td>La Verrerie</td></tr>",
                            "<tr><td>Vaulruz</td></tr>",
                            "<tr><td>Vuadens</td></tr>",
                            "<tr><td>Bulle</td></tr>",
                            "<tr><td>Vuippens</td></tr>",
                            "<tr><td>Sorens</td></tr>",
                            "<tr><td>Gumefens</td></tr>",
                            "<tr><td>Avry-devant-Pont</td></tr>",
                            "<tr><td>Le Bry</td></tr>",
                            "<tr><td>Echarlens</td></tr>",
                            "<tr><td>Corbières</td></tr>",
                            "<tr><td>Hauteville</td></tr>",
                            "<tr><td>Im Fang</td></tr>",
                            "<tr><td>Jaun</td></tr>",
                            "<tr><td>Abländschen</td></tr>",
                            "<tr><td>Cerniat FR</td></tr>",
                            "<tr><td>Villarvolard</td></tr>",
                            "<tr><td>Botterens</td></tr>",
                            "<tr><td>Morlon</td></tr>",
                            "<tr><td>Moléson-sur-Gruyères</td></tr>",
                            "<tr><td>Riaz</td></tr>",
                            "<tr><td>Marsens</td></tr>",
                            "<tr><td>La Roche FR</td></tr>",
                            "<tr><td>Pont-la-Ville</td></tr>",
                            "<tr><td>La Tour-de-Trême</td></tr>",
                            "<tr><td>Broc</td></tr>",
                            "<tr><td>Charmey (Gruyère)</td></tr>",
                            "<tr><td>Le Pâquier-Montbarry</td></tr>",
                            "<tr><td>Pringy</td></tr>",
                            "<tr><td>Estavannens</td></tr>",
                            "<tr><td>Enney</td></tr>",
                            "<tr><td>Neirivue</td></tr>",
                            "<tr><td>Albeuve</td></tr>",
                            "<tr><td>Gruyères</td></tr>",
                            "<tr><td>Epagny</td></tr>",
                            "<tr><td>Grandvillard</td></tr>",
                            "<tr><td>Oron-la-Ville</td></tr>",
                            "<tr><td>Vauderens</td></tr>",
                            "<tr><td>Ursy</td></tr>",
                            "<tr><td>Vuarmarens</td></tr>",
                            "<tr><td>Rue</td></tr>",
                            "<tr><td>Promasens</td></tr>",
                            "<tr><td>Siviriez</td></tr>",
                            "<tr><td>Villaraboud</td></tr>",
                            "<tr><td>Chavannes-les-Forts</td></tr>",
                            "<tr><td>Prez-vers-Siviriez</td></tr>",
                            "<tr><td>Romont FR</td></tr>",
                            "<tr><td>Billens</td></tr>",
                            "<tr><td>Prévonloup</td></tr>",
                            "<tr><td>Brenles</td></tr>",
                            "<tr><td>Chesalles-sur-Moudon</td></tr>",
                            "<tr><td>Orsonnens</td></tr>",
                            "<tr><td>Villarsiviriaux</td></tr>",
                            "<tr><td>Villarlod</td></tr>",
                            "<tr><td>Vuisternens-en-Ogoz</td></tr>",
                            "<tr><td>Mézières FR</td></tr>",
                            "<tr><td>Villariaz</td></tr>",
                            "<tr><td>Estévenens</td></tr>",
                            "<tr><td>Grangettes-près-Romont</td></tr>",
                            "<tr><td>Le Châtelard-près-Romont</td></tr>",
                            "<tr><td>Sommentier</td></tr>",
                            "<tr><td>Romanens</td></tr>",
                            "<tr><td>Massonnens</td></tr>",
                            "<tr><td>Vuisternens-devant-Romont</td></tr>",
                            "<tr><td>Sâles (Gruyère)</td></tr>",
                            "<tr><td>Ecoteaux</td></tr>",
                            "<tr><td>Maracon</td></tr>",
                            "<tr><td>Oron-le-Châtel</td></tr>",
                            "<tr><td>St-Martin FR</td></tr>",
                            "<tr><td>Le Crêt-près-Semsales</td></tr>",
                            "<tr><td>La Joux FR</td></tr>",
                            "<tr><td>Bouloz</td></tr>",
                            "<tr><td>Porsel</td></tr>",
                            "<tr><td>Pont (Veveyse)</td></tr>",
                            "<tr><td>Fribourg</td></tr>",
                            "<tr><td>Granges-Paccot</td></tr>",
                            "<tr><td>Corminboeuf</td></tr>",
                            "<tr><td>Giffers</td></tr>",
                            "<tr><td>St. Silvester</td></tr>",
                            "<tr><td>Plasselb</td></tr>",
                            "<tr><td>Sangernboden</td></tr>",
                            "<tr><td>Schwarzsee</td></tr>",
                            "<tr><td>Bonnefontaine</td></tr>",
                            "<tr><td>Corpataux-Magnedens</td></tr>",
                            "<tr><td>Rossens FR</td></tr>",
                            "<tr><td>Brünisried</td></tr>",
                            "<tr><td>Ependes FR</td></tr>",
                            "<tr><td>Arconciel</td></tr>",
                            "<tr><td>Treyvaux</td></tr>",
                            "<tr><td>Chésopelloz</td></tr>",
                            "<tr><td>Tafers</td></tr>",
                            "<tr><td>St. Antoni</td></tr>",
                            "<tr><td>Heitenried</td></tr>",
                            "<tr><td>Alterswil FR</td></tr>",
                            "<tr><td>Plaffeien</td></tr>",
                            "<tr><td>St. Ursen</td></tr>",
                            "<tr><td>Rechthalten</td></tr>",
                            "<tr><td>Bourguillon</td></tr>",
                            "<tr><td>Marly</td></tr>",
                            "<tr><td>Le Mouret</td></tr>",
                            "<tr><td>Posieux</td></tr>",
                            "<tr><td>Farvagny</td></tr>",
                            "<tr><td>Prez-vers-Noréaz</td></tr>",
                            "<tr><td>Corserey</td></tr>",
                            "<tr><td>Torny-le-Grand</td></tr>",
                            "<tr><td>Middes</td></tr>",
                            "<tr><td>Neyruz FR</td></tr>",
                            "<tr><td>Cottens FR</td></tr>",
                            "<tr><td>Chénens</td></tr>",
                            "<tr><td>Lentigny</td></tr>",
                            "<tr><td>Autigny</td></tr>",
                            "<tr><td>Estavayer-le-Gibloux</td></tr>",
                            "<tr><td>Villarimboud</td></tr>",
                            "<tr><td>Villars-sur-Glâne</td></tr>",
                            "<tr><td>Matran</td></tr>",
                            "<tr><td>Rosé</td></tr>",
                            "<tr><td>Onnens FR</td></tr>",
                            "<tr><td>Noréaz</td></tr>",
                            "<tr><td>Villaz-St-Pierre</td></tr>",
                            "<tr><td>Givisiez</td></tr>",
                            "<tr><td>Grolley</td></tr>",
                            "<tr><td>Léchelles</td></tr>",
                            "<tr><td>Cousset</td></tr>",
                            "<tr><td>Montagny-la-Ville</td></tr>",
                            "<tr><td>Courlevon</td></tr>",
                            "<tr><td>Courgevaux</td></tr>",
                            "<tr><td>Münchenwiler</td></tr>",
                            "<tr><td>Salvenach</td></tr>",
                            "<tr><td>Jeuss</td></tr>",
                            "<tr><td>Cordast</td></tr>",
                            "<tr><td>Courtaman</td></tr>",
                            "<tr><td>Praz (Vully)</td></tr>",
                            "<tr><td>Lugnorre</td></tr>",
                            "<tr><td>Belfaux</td></tr>",
                            "<tr><td>Pensier</td></tr>",
                            "<tr><td>Courtepin</td></tr>",
                            "<tr><td>Cressier FR</td></tr>",
                            "<tr><td>Sugiez</td></tr>",
                            "<tr><td>Môtier (Vully)</td></tr>",
                            "<tr><td>Vevey</td></tr>",
                            "<tr><td>Le Mont-Pèlerin</td></tr>",
                            "<tr><td>Les Monts-de-Corsier</td></tr>",
                            "<tr><td>Fenil-sur-Corsier</td></tr>",
                            "<tr><td>Corseaux</td></tr>",
                            "<tr><td>Chardonne</td></tr>",
                            "<tr><td>Corsier-sur-Vevey</td></tr>",
                            "<tr><td>Jongny</td></tr>",
                            "<tr><td>St-Légier-La Chiésaz</td></tr>",
                            "<tr><td>Blonay</td></tr>",
                            "<tr><td>Rivaz</td></tr>",
                            "<tr><td>St-Saphorin (Lavaux)</td></tr>",
                            "<tr><td>La Tour-de-Peilz</td></tr>",
                            "<tr><td>Clarens</td></tr>",
                            "<tr><td>Chailly-Montreux</td></tr>",
                            "<tr><td>Brent</td></tr>",
                            "<tr><td>Montreux</td></tr>",
                            "<tr><td>Chernex</td></tr>",
                            "<tr><td>Glion</td></tr>",
                            "<tr><td>Caux</td></tr>",
                            "<tr><td>Villard-sur-Chamby</td></tr>",
                            "<tr><td>Les Sciernes-d&#39;Albeuve</td></tr>",
                            "<tr><td>La Tine</td></tr>",
                            "<tr><td>Les Moulins</td></tr>",
                            "<tr><td>Flendruz</td></tr>",
                            "<tr><td>L&#39;Etivaz</td></tr>",
                            "<tr><td>Chamby</td></tr>",
                            "<tr><td>Les Avants</td></tr>",
                            "<tr><td>Montbovon</td></tr>",
                            "<tr><td>Rossinière</td></tr>",
                            "<tr><td>Château-d&#39;Oex</td></tr>",
                            "<tr><td>Rougemont</td></tr>",
                            "<tr><td>Villeneuve VD</td></tr>",
                            "<tr><td>Rennaz</td></tr>",
                            "<tr><td>Noville</td></tr>",
                            "<tr><td>Chessel</td></tr>",
                            "<tr><td>Roche VD</td></tr>",
                            "<tr><td>Yvorne</td></tr>",
                            "<tr><td>Leysin</td></tr>",
                            "<tr><td>St-Triphon</td></tr>",
                            "<tr><td>Aigle</td></tr>",
                            "<tr><td>Corbeyrier</td></tr>",
                            "<tr><td>La Comballaz</td></tr>",
                            "<tr><td>Les Mosses</td></tr>",
                            "<tr><td>La Forclaz VD</td></tr>",
                            "<tr><td>Huémoz</td></tr>",
                            "<tr><td>Panex</td></tr>",
                            "<tr><td>Le Sépey</td></tr>",
                            "<tr><td>Vers-l&#39;Eglise</td></tr>",
                            "<tr><td>Les Diablerets</td></tr>",
                            "<tr><td>Ollon VD</td></tr>",
                            "<tr><td>Collombey</td></tr>",
                            "<tr><td>Monthey</td></tr>",
                            "<tr><td>Choëx</td></tr>",
                            "<tr><td>Les Giettes</td></tr>",
                            "<tr><td>Troistorrents</td></tr>",
                            "<tr><td>Val-d&#39;Illiez</td></tr>",
                            "<tr><td>Champéry</td></tr>",
                            "<tr><td>Morgins</td></tr>",
                            "<tr><td>Bex</td></tr>",
                            "<tr><td>Fenalet-sur-Bex</td></tr>",
                            "<tr><td>Frenières-sur-Bex</td></tr>",
                            "<tr><td>Les Plans-sur-Bex</td></tr>",
                            "<tr><td>Gryon</td></tr>",
                            "<tr><td>Villars-sur-Ollon</td></tr>",
                            "<tr><td>Chesières</td></tr>",
                            "<tr><td>St-Maurice</td></tr>",
                            "<tr><td>Mex VS</td></tr>",
                            "<tr><td>Vérossaz</td></tr>",
                            "<tr><td>Massongex</td></tr>",
                            "<tr><td>Vionnaz</td></tr>",
                            "<tr><td>Les Evouettes</td></tr>",
                            "<tr><td>Torgon</td></tr>",
                            "<tr><td>Lavey-Village</td></tr>",
                            "<tr><td>Muraz (Collombey)</td></tr>",
                            "<tr><td>Vouvry</td></tr>",
                            "<tr><td>Miex</td></tr>",
                            "<tr><td>Bouveret</td></tr>",
                            "<tr><td>St-Gingolph</td></tr>",
                            "<tr><td>Evionnaz</td></tr>",
                            "<tr><td>Collonges</td></tr>",
                            "<tr><td>Vernayaz</td></tr>",
                            "<tr><td>Dorénaz</td></tr>",
                            "<tr><td>Charrat</td></tr>",
                            "<tr><td>Saxon</td></tr>",
                            "<tr><td>Riddes</td></tr>",
                            "<tr><td>Leytron</td></tr>",
                            "<tr><td>Ovronnaz</td></tr>",
                            "<tr><td>Saillon</td></tr>",
                            "<tr><td>Isérables</td></tr>",
                            "<tr><td>La Tzoumaz</td></tr>",
                            "<tr><td>Chamoson</td></tr>",
                            "<tr><td>St-Pierre-de-Clages</td></tr>",
                            "<tr><td>Ardon</td></tr>",
                            "<tr><td>Martigny</td></tr>",
                            "<tr><td>Martigny-Croix</td></tr>",
                            "<tr><td>Le Trétien</td></tr>",
                            "<tr><td>Le Châtelard VS</td></tr>",
                            "<tr><td>Chemin</td></tr>",
                            "<tr><td>Trient</td></tr>",
                            "<tr><td>Ravoire</td></tr>",
                            "<tr><td>Salvan</td></tr>",
                            "<tr><td>Les Granges (Salvan)</td></tr>",
                            "<tr><td>Les Marécottes</td></tr>",
                            "<tr><td>Finhaut</td></tr>",
                            "<tr><td>Fully</td></tr>",
                            "<tr><td>Bovernier</td></tr>",
                            "<tr><td>Versegères</td></tr>",
                            "<tr><td>Vollèges</td></tr>",
                            "<tr><td>Levron</td></tr>",
                            "<tr><td>Lourtier</td></tr>",
                            "<tr><td>Fionnay</td></tr>",
                            "<tr><td>Sarreyer</td></tr>",
                            "<tr><td>Liddes</td></tr>",
                            "<tr><td>Bourg-St-Pierre</td></tr>",
                            "<tr><td>Praz-de-Fort</td></tr>",
                            "<tr><td>La Fouly VS</td></tr>",
                            "<tr><td>Sembrancher</td></tr>",
                            "<tr><td>Le Châble VS</td></tr>",
                            "<tr><td>Verbier</td></tr>",
                            "<tr><td>Orsières</td></tr>",
                            "<tr><td>Champex-Lac</td></tr>",
                            "<tr><td>Sion</td></tr>",
                            "<tr><td>St-Séverin</td></tr>",
                            "<tr><td>Erde</td></tr>",
                            "<tr><td>Aven</td></tr>",
                            "<tr><td>Daillon</td></tr>",
                            "<tr><td>Grimisuat</td></tr>",
                            "<tr><td>Arbaz</td></tr>",
                            "<tr><td>Vernamiège</td></tr>",
                            "<tr><td>Nax</td></tr>",
                            "<tr><td>Mase</td></tr>",
                            "<tr><td>St-Martin VS</td></tr>",
                            "<tr><td>Vex</td></tr>",
                            "<tr><td>Euseigne</td></tr>",
                            "<tr><td>Les Haudères</td></tr>",
                            "<tr><td>Arolla</td></tr>",
                            "<tr><td>La Sage</td></tr>",
                            "<tr><td>Hérémence</td></tr>",
                            "<tr><td>Les Collons</td></tr>",
                            "<tr><td>Salins</td></tr>",
                            "<tr><td>Les Agettes</td></tr>",
                            "<tr><td>Les Mayens-de-Sion</td></tr>",
                            "<tr><td>Veysonnaz</td></tr>",
                            "<tr><td>Siviez (Nendaz)</td></tr>",
                            "<tr><td>Fey (Nendaz)</td></tr>",
                            "<tr><td>Beuson (Nendaz)</td></tr>",
                            "<tr><td>Baar (Nendaz)</td></tr>",
                            "<tr><td>Basse-Nendaz</td></tr>",
                            "<tr><td>Haute-Nendaz</td></tr>",
                            "<tr><td>Aproz (Nendaz)</td></tr>",
                            "<tr><td>Pont-de-la-Morge (Sion)</td></tr>",
                            "<tr><td>Vétroz</td></tr>",
                            "<tr><td>Conthey</td></tr>",
                            "<tr><td>Signèse (Ayent)</td></tr>",
                            "<tr><td>Bramois</td></tr>",
                            "<tr><td>Evolène</td></tr>",
                            "<tr><td>Anzère</td></tr>",
                            "<tr><td>Thyon</td></tr>",
                            "<tr><td>Neuchâtel</td></tr>",
                            "<tr><td>Auvernier</td></tr>",
                            "<tr><td>Colombier NE</td></tr>",
                            "<tr><td>Bôle</td></tr>",
                            "<tr><td>Areuse</td></tr>",
                            "<tr><td>Cortaillod</td></tr>",
                            "<tr><td>Boudry</td></tr>",
                            "<tr><td>Bevaix</td></tr>",
                            "<tr><td>Gorgier</td></tr>",
                            "<tr><td>St-Aubin-Sauges</td></tr>",
                            "<tr><td>Chez-le-Bart</td></tr>",
                            "<tr><td>Vaumarcus</td></tr>",
                            "<tr><td>Peseux</td></tr>",
                            "<tr><td>Corcelles NE</td></tr>",
                            "<tr><td>Cormondrèche</td></tr>",
                            "<tr><td>Valangin</td></tr>",
                            "<tr><td>Boudevilliers</td></tr>",
                            "<tr><td>Fontaines NE</td></tr>",
                            "<tr><td>Fontainemelon</td></tr>",
                            "<tr><td>Cernier</td></tr>",
                            "<tr><td>Chézard-St-Martin</td></tr>",
                            "<tr><td>Les Vieux-Prés</td></tr>",
                            "<tr><td>Dombresson</td></tr>",
                            "<tr><td>Villiers</td></tr>",
                            "<tr><td>Le Pâquier NE</td></tr>",
                            "<tr><td>Vilars NE</td></tr>",
                            "<tr><td>Savagnier</td></tr>",
                            "<tr><td>Chaumont</td></tr>",
                            "<tr><td>Hauterive NE</td></tr>",
                            "<tr><td>St-Blaise</td></tr>",
                            "<tr><td>Enges</td></tr>",
                            "<tr><td>Marin-Epagnier</td></tr>",
                            "<tr><td>Gals</td></tr>",
                            "<tr><td>Cornaux NE</td></tr>",
                            "<tr><td>Cressier NE</td></tr>",
                            "<tr><td>Brot-Plamboz</td></tr>",
                            "<tr><td>Noiraigue</td></tr>",
                            "<tr><td>Travers</td></tr>",
                            "<tr><td>Couvet</td></tr>",
                            "<tr><td>Môtiers NE</td></tr>",
                            "<tr><td>Boveresse</td></tr>",
                            "<tr><td>Fleurier</td></tr>",
                            "<tr><td>Buttes</td></tr>",
                            "<tr><td>La Côte-aux-Fées</td></tr>",
                            "<tr><td>St-Sulpice NE</td></tr>",
                            "<tr><td>La Brévine</td></tr>",
                            "<tr><td>Les Verrières</td></tr>",
                            "<tr><td>Le Brouillet</td></tr>",
                            "<tr><td>Les Taillères</td></tr>",
                            "<tr><td>Les Bayards</td></tr>",
                            "<tr><td>Champ-du-Moulin</td></tr>",
                            "<tr><td>Les Sagnettes</td></tr>",
                            "<tr><td>Mont-de-Buttes</td></tr>",
                            "<tr><td>La Vraconnaz</td></tr>",
                            "<tr><td>Chambrelien</td></tr>",
                            "<tr><td>Rochefort</td></tr>",
                            "<tr><td>Montmollin</td></tr>",
                            "<tr><td>Les Geneveys-sur-Coffrane</td></tr>",
                            "<tr><td>Coffrane</td></tr>",
                            "<tr><td>Les Hauts-Geneveys</td></tr>",
                            "<tr><td>La Chaux-de-Fonds</td></tr>",
                            "<tr><td>Petit-Martel</td></tr>",
                            "<tr><td>Les Emibois</td></tr>",
                            "<tr><td>La Sagne NE</td></tr>",
                            "<tr><td>Les Ponts-de-Martel</td></tr>",
                            "<tr><td>Le Crêt-du-Locle</td></tr>",
                            "<tr><td>Les Planchettes</td></tr>",
                            "<tr><td>La Cibourg</td></tr>",
                            "<tr><td>La Ferrière</td></tr>",
                            "<tr><td>Les Bois</td></tr>",
                            "<tr><td>Le Locle</td></tr>",
                            "<tr><td>La Châtagne</td></tr>",
                            "<tr><td>La Chaux-du-Milieu</td></tr>",
                            "<tr><td>Le Prévoux</td></tr>",
                            "<tr><td>Le Cerneux-Péquignot</td></tr>",
                            "<tr><td>Les Brenets</td></tr>",
                            "<tr><td>Biel/Bienne</td></tr>",
                            "<tr><td>Biel/Bienne</td></tr>",
                            "<tr><td>Biel/Bienne</td></tr>",
                            "<tr><td>Biel/Bienne</td></tr>",
                            "<tr><td>Biel/Bienne</td></tr>",
                            "<tr><td>Tüscherz-Alfermée</td></tr>",
                            "<tr><td>Twann</td></tr>",
                            "<tr><td>Ligerz</td></tr>",
                            "<tr><td>Prêles</td></tr>",
                            "<tr><td>Lamboing</td></tr>",
                            "<tr><td>Diesse</td></tr>",
                            "<tr><td>Nods</td></tr>",
                            "<tr><td>La Neuveville</td></tr>",
                            "<tr><td>Lignières</td></tr>",
                            "<tr><td>Le Landeron</td></tr>",
                            "<tr><td>Magglingen/Macolin</td></tr>",
                            "<tr><td>Evilard</td></tr>",
                            "<tr><td>Orvin</td></tr>",
                            "<tr><td>Les Prés-d&#39;Orvin</td></tr>",
                            "<tr><td>Frinvillier</td></tr>",
                            "<tr><td>Plagne</td></tr>",
                            "<tr><td>Vauffelin</td></tr>",
                            "<tr><td>Romont BE</td></tr>",
                            "<tr><td>Grenchen</td></tr>",
                            "<tr><td>Pieterlen</td></tr>",
                            "<tr><td>Lengnau BE</td></tr>",
                            "<tr><td>Bettlach</td></tr>",
                            "<tr><td>Selzach</td></tr>",
                            "<tr><td>Orpund</td></tr>",
                            "<tr><td>Safnern</td></tr>",
                            "<tr><td>Meinisberg</td></tr>",
                            "<tr><td>Brügg BE</td></tr>",
                            "<tr><td>Scheuren</td></tr>",
                            "<tr><td>Studen BE</td></tr>",
                            "<tr><td>Aegerten</td></tr>",
                            "<tr><td>Nidau</td></tr>",
                            "<tr><td>Port</td></tr>",
                            "<tr><td>Ipsach</td></tr>",
                            "<tr><td>Bellmund</td></tr>",
                            "<tr><td>Jens</td></tr>",
                            "<tr><td>Sutz</td></tr>",
                            "<tr><td>Täuffelen</td></tr>",
                            "<tr><td>Lüscherz</td></tr>",
                            "<tr><td>Siselen BE</td></tr>",
                            "<tr><td>Brüttelen</td></tr>",
                            "<tr><td>Péry</td></tr>",
                            "<tr><td>La Heutte</td></tr>",
                            "<tr><td>Sonceboz-Sombeval</td></tr>",
                            "<tr><td>Corgémont</td></tr>",
                            "<tr><td>Cortébert</td></tr>",
                            "<tr><td>Courtelary</td></tr>",
                            "<tr><td>Montagne-de-Courtelary</td></tr>",
                            "<tr><td>St-Imier</td></tr>",
                            "<tr><td>Mont-Soleil</td></tr>",
                            "<tr><td>Mont-Crosin</td></tr>",
                            "<tr><td>Cormoret</td></tr>",
                            "<tr><td>Villeret</td></tr>",
                            "<tr><td>Sonvilier</td></tr>",
                            "<tr><td>Montagne-de-Sonvilier</td></tr>",
                            "<tr><td>Renan BE</td></tr>",
                            "<tr><td>Tavannes</td></tr>",
                            "<tr><td>Le Fuet</td></tr>",
                            "<tr><td>Le Prédame</td></tr>",
                            "<tr><td>Fornet-Dessous</td></tr>",
                            "<tr><td>Fornet-Dessus</td></tr>",
                            "<tr><td>Sornetan</td></tr>",
                            "<tr><td>Bellelay</td></tr>",
                            "<tr><td>Les Genevez JU</td></tr>",
                            "<tr><td>Lajoux JU</td></tr>",
                            "<tr><td>Tramelan</td></tr>",
                            "<tr><td>La Tanne</td></tr>",
                            "<tr><td>Les Reussilles</td></tr>",
                            "<tr><td>Mont-Tramelan</td></tr>",
                            "<tr><td>Les Breuleux</td></tr>",
                            "<tr><td>Le Cerneux-Veusil</td></tr>",
                            "<tr><td>La Chaux-des-Breuleux</td></tr>",
                            "<tr><td>Le Noirmont</td></tr>",
                            "<tr><td>Saignelégier</td></tr>",
                            "<tr><td>Les Pommerats</td></tr>",
                            "<tr><td>Goumois</td></tr>",
                            "<tr><td>Reconvilier</td></tr>",
                            "<tr><td>Saicourt</td></tr>",
                            "<tr><td>Saules BE</td></tr>",
                            "<tr><td>Loveresse</td></tr>",
                            "<tr><td>Pontenet</td></tr>",
                            "<tr><td>Bévilard</td></tr>",
                            "<tr><td>Sorvilier</td></tr>",
                            "<tr><td>Court</td></tr>",
                            "<tr><td>Moutier</td></tr>",
                            "<tr><td>Perrefitte</td></tr>",
                            "<tr><td>Souboz</td></tr>",
                            "<tr><td>Eschert</td></tr>",
                            "<tr><td>Belprahon</td></tr>",
                            "<tr><td>Seehof</td></tr>",
                            "<tr><td>Grandval</td></tr>",
                            "<tr><td>Crémines</td></tr>",
                            "<tr><td>Corcelles BE</td></tr>",
                            "<tr><td>Roches BE</td></tr>",
                            "<tr><td>Rebeuvelier</td></tr>",
                            "<tr><td>Courrendlin</td></tr>",
                            "<tr><td>Delémont</td></tr>",
                            "<tr><td>Develier</td></tr>",
                            "<tr><td>Bourrignon</td></tr>",
                            "<tr><td>Soyhières</td></tr>",
                            "<tr><td>Mettembert</td></tr>",
                            "<tr><td>Pleigne</td></tr>",
                            "<tr><td>Lucelle</td></tr>",
                            "<tr><td>Movelier</td></tr>",
                            "<tr><td>Ederswiler</td></tr>",
                            "<tr><td>Roggenburg</td></tr>",
                            "<tr><td>Courroux</td></tr>",
                            "<tr><td>Courcelon</td></tr>",
                            "<tr><td>Vicques</td></tr>",
                            "<tr><td>Courchapoix</td></tr>",
                            "<tr><td>Corban</td></tr>",
                            "<tr><td>Mervelier</td></tr>",
                            "<tr><td>Montsevelier</td></tr>",
                            "<tr><td>Vermes</td></tr>",
                            "<tr><td>Rossemaison</td></tr>",
                            "<tr><td>Châtillon JU</td></tr>",
                            "<tr><td>Courtételle</td></tr>",
                            "<tr><td>Courfaivre</td></tr>",
                            "<tr><td>Bassecourt</td></tr>",
                            "<tr><td>Glovelier</td></tr>",
                            "<tr><td>Boécourt</td></tr>",
                            "<tr><td>Montavon</td></tr>",
                            "<tr><td>Undervelier</td></tr>",
                            "<tr><td>Soulce</td></tr>",
                            "<tr><td>Saulcy</td></tr>",
                            "<tr><td>St-Ursanne</td></tr>",
                            "<tr><td>Montmelon</td></tr>",
                            "<tr><td>Montenol</td></tr>",
                            "<tr><td>Epauvillers</td></tr>",
                            "<tr><td>Epiquerez</td></tr>",
                            "<tr><td>Soubey</td></tr>",
                            "<tr><td>Seleute</td></tr>",
                            "<tr><td>Ocourt</td></tr>",
                            "<tr><td>Courgenay</td></tr>",
                            "<tr><td>Porrentruy</td></tr>",
                            "<tr><td>Fontenais</td></tr>",
                            "<tr><td>Villars-sur-Fontenais</td></tr>",
                            "<tr><td>Bressaucourt</td></tr>",
                            "<tr><td>Courtedoux</td></tr>",
                            "<tr><td>Chevenez</td></tr>",
                            "<tr><td>Rocourt</td></tr>",
                            "<tr><td>Grandfontaine</td></tr>",
                            "<tr><td>Roche-d&#39;Or</td></tr>",
                            "<tr><td>Damvant</td></tr>",
                            "<tr><td>Bure</td></tr>",
                            "<tr><td>Fahy</td></tr>",
                            "<tr><td>Courchavon</td></tr>",
                            "<tr><td>Courtemaîche</td></tr>",
                            "<tr><td>Montignez</td></tr>",
                            "<tr><td>Buix</td></tr>",
                            "<tr><td>Boncourt</td></tr>",
                            "<tr><td>Coeuve</td></tr>",
                            "<tr><td>Beurnevésin</td></tr>",
                            "<tr><td>Alle</td></tr>",
                            "<tr><td>Vendlincourt</td></tr>",
                            "<tr><td>Bonfol</td></tr>",
                            "<tr><td>Miécourt</td></tr>",
                            "<tr><td>Charmoille</td></tr>",
                            "<tr><td>Cornol</td></tr>",
                            "<tr><td>Asuel</td></tr>",
                            "<tr><td>Bern</td></tr>",
                            "<tr><td>Bern</td></tr>",
                            "<tr><td>Bern</td></tr>",
                            "<tr><td>Bern</td></tr>",
                            "<tr><td>Bern</td></tr>",
                            "<tr><td>Bern</td></tr>",
                            "<tr><td>Bern</td></tr>",
                            "<tr><td>Bern</td></tr>",
                            "<tr><td>Bern</td></tr>",
                            "<tr><td>Bern</td></tr>",
                            "<tr><td>Bern</td></tr>",
                            "<tr><td>Bern</td></tr>",
                            "<tr><td>Bern</td></tr>",
                            "<tr><td>Bern</td></tr>",
                            "<tr><td>Bern</td></tr>",
                            "<tr><td>Bern</td></tr>",
                            "<tr><td>Spiegel b. Bern</td></tr>",
                            "<tr><td>Hinterkappelen</td></tr>",
                            "<tr><td>Wohlen b. Bern</td></tr>",
                            "<tr><td>Murzelen</td></tr>",
                            "<tr><td>Frieswil</td></tr>",
                            "<tr><td>Detligen</td></tr>",
                            "<tr><td>Herrenschwanden</td></tr>",
                            "<tr><td>Kirchlindach</td></tr>",
                            "<tr><td>Ortschwaben</td></tr>",
                            "<tr><td>Uettligen</td></tr>",
                            "<tr><td>Säriswil</td></tr>",
                            "<tr><td>Meikirch</td></tr>",
                            "<tr><td>Wahlendorf</td></tr>",
                            "<tr><td>Bremgarten b. Bern</td></tr>",
                            "<tr><td>Worblaufen</td></tr>",
                            "<tr><td>Zollikofen</td></tr>",
                            "<tr><td>Münchenbuchsee</td></tr>",
                            "<tr><td>Schüpfen</td></tr>",
                            "<tr><td>Ittigen</td></tr>",
                            "<tr><td>Bolligen</td></tr>",
                            "<tr><td>Stettlen</td></tr>",
                            "<tr><td>Boll</td></tr>",
                            "<tr><td>Utzigen</td></tr>",
                            "<tr><td>Ostermundigen</td></tr>",
                            "<tr><td>Gümligen</td></tr>",
                            "<tr><td>Muri b. Bern</td></tr>",
                            "<tr><td>Rüfenacht BE</td></tr>",
                            "<tr><td>Worb</td></tr>",
                            "<tr><td>Enggistein</td></tr>",
                            "<tr><td>Richigen</td></tr>",
                            "<tr><td>Schlosswil</td></tr>",
                            "<tr><td>Trimstein</td></tr>",
                            "<tr><td>Wabern</td></tr>",
                            "<tr><td>Oberbütschel</td></tr>",
                            "<tr><td>Zimmerwald</td></tr>",
                            "<tr><td>Niedermuhlern</td></tr>",
                            "<tr><td>Rüeggisberg</td></tr>",
                            "<tr><td>Hinterfultigen</td></tr>",
                            "<tr><td>Oberbalm</td></tr>",
                            "<tr><td>Liebefeld</td></tr>",
                            "<tr><td>Köniz</td></tr>",
                            "<tr><td>Schliern b. Köniz</td></tr>",
                            "<tr><td>Rüti b. Riggisberg</td></tr>",
                            "<tr><td>Münsingen</td></tr>",
                            "<tr><td>Allmendingen b. Bern</td></tr>",
                            "<tr><td>Wichtrach</td></tr>",
                            "<tr><td>Gerzensee</td></tr>",
                            "<tr><td>Kirchdorf BE</td></tr>",
                            "<tr><td>Kiesen</td></tr>",
                            "<tr><td>Uttigen</td></tr>",
                            "<tr><td>Kehrsatz</td></tr>",
                            "<tr><td>Belp</td></tr>",
                            "<tr><td>Belpberg</td></tr>",
                            "<tr><td>Toffen</td></tr>",
                            "<tr><td>Kaufdorf</td></tr>",
                            "<tr><td>Mühlethurnen</td></tr>",
                            "<tr><td>Kirchenthurnen</td></tr>",
                            "<tr><td>Riggisberg</td></tr>",
                            "<tr><td>Burgistein</td></tr>",
                            "<tr><td>Wattenwil</td></tr>",
                            "<tr><td>Seftigen</td></tr>",
                            "<tr><td>Gurzelen</td></tr>",
                            "<tr><td>Uetendorf</td></tr>",
                            "<tr><td>Gasel</td></tr>",
                            "<tr><td>Niederscherli</td></tr>",
                            "<tr><td>Mittelhäusern</td></tr>",
                            "<tr><td>Lanzenhäusern</td></tr>",
                            "<tr><td>Schwarzenburg</td></tr>",
                            "<tr><td>Mamishaus</td></tr>",
                            "<tr><td>Rüschegg Gambach</td></tr>",
                            "<tr><td>Rüschegg Heubach</td></tr>",
                            "<tr><td>Helgisried-Rohrbach</td></tr>",
                            "<tr><td>Riffenmatt</td></tr>",
                            "<tr><td>Milken</td></tr>",
                            "<tr><td>Guggisberg</td></tr>",
                            "<tr><td>Riedstätt</td></tr>",
                            "<tr><td>Niederwangen b. Bern</td></tr>",
                            "<tr><td>Oberwangen b. Bern</td></tr>",
                            "<tr><td>Thörishaus</td></tr>",
                            "<tr><td>Flamatt</td></tr>",
                            "<tr><td>Neuenegg</td></tr>",
                            "<tr><td>Laupen BE</td></tr>",
                            "<tr><td>Bösingen</td></tr>",
                            "<tr><td>Kriechenwil</td></tr>",
                            "<tr><td>Ueberstorf</td></tr>",
                            "<tr><td>Albligen</td></tr>",
                            "<tr><td>Wünnewil</td></tr>",
                            "<tr><td>Düdingen</td></tr>",
                            "<tr><td>Gelterfingen</td></tr>",
                            "<tr><td>Frauenkappelen</td></tr>",
                            "<tr><td>Mühleberg</td></tr>",
                            "<tr><td>Rosshäusern</td></tr>",
                            "<tr><td>Gümmenen</td></tr>",
                            "<tr><td>Rizenbach</td></tr>",
                            "<tr><td>Wileroltigen</td></tr>",
                            "<tr><td>Gurbrü</td></tr>",
                            "<tr><td>Kerzers</td></tr>",
                            "<tr><td>Ried b. Kerzers</td></tr>",
                            "<tr><td>Gempenach</td></tr>",
                            "<tr><td>Ulmiz</td></tr>",
                            "<tr><td>Liebistorf</td></tr>",
                            "<tr><td>Gurmels</td></tr>",
                            "<tr><td>Müntschemier</td></tr>",
                            "<tr><td>Treiten</td></tr>",
                            "<tr><td>Ins</td></tr>",
                            "<tr><td>Tschugg</td></tr>",
                            "<tr><td>Vinelz</td></tr>",
                            "<tr><td>Erlach</td></tr>",
                            "<tr><td>Gampelen</td></tr>",
                            "<tr><td>Lyss</td></tr>",
                            "<tr><td>Wengi b. Büren</td></tr>",
                            "<tr><td>Worben</td></tr>",
                            "<tr><td>Schnottwil</td></tr>",
                            "<tr><td>Messen</td></tr>",
                            "<tr><td>Rapperswil BE</td></tr>",
                            "<tr><td>Dieterswil</td></tr>",
                            "<tr><td>Grossaffoltern</td></tr>",
                            "<tr><td>Ammerzwil BE</td></tr>",
                            "<tr><td>Suberg</td></tr>",
                            "<tr><td>Büetigen</td></tr>",
                            "<tr><td>Diessbach b. Büren</td></tr>",
                            "<tr><td>Wiler b. Seedorf</td></tr>",
                            "<tr><td>Seedorf BE</td></tr>",
                            "<tr><td>Lobsigen</td></tr>",
                            "<tr><td>Aarberg</td></tr>",
                            "<tr><td>Radelfingen b. Aarberg</td></tr>",
                            "<tr><td>Walperswil</td></tr>",
                            "<tr><td>Kappelen</td></tr>",
                            "<tr><td>Hermrigen</td></tr>",
                            "<tr><td>Murten</td></tr>",
                            "<tr><td>Meyriez</td></tr>",
                            "<tr><td>Bargen BE</td></tr>",
                            "<tr><td>Kallnach</td></tr>",
                            "<tr><td>Fräschels</td></tr>",
                            "<tr><td>Galmiz</td></tr>",
                            "<tr><td>Muntelier</td></tr>",
                            "<tr><td>Busswil BE</td></tr>",
                            "<tr><td>Dotzigen</td></tr>",
                            "<tr><td>Büren an der Aare</td></tr>",
                            "<tr><td>Rüti b. Büren</td></tr>",
                            "<tr><td>Arch</td></tr>",
                            "<tr><td>Leuzigen</td></tr>",
                            "<tr><td>Oberwil b. Büren</td></tr>",
                            "<tr><td>Moosseedorf</td></tr>",
                            "<tr><td>Jegenstorf</td></tr>",
                            "<tr><td>Grafenried</td></tr>",
                            "<tr><td>Fraubrunnen</td></tr>",
                            "<tr><td>Büren zum Hof</td></tr>",
                            "<tr><td>Schalunen</td></tr>",
                            "<tr><td>Bätterkinden</td></tr>",
                            "<tr><td>Kräiligen</td></tr>",
                            "<tr><td>Urtenen-Schönbühl</td></tr>",
                            "<tr><td>Mattstetten</td></tr>",
                            "<tr><td>Bäriswil BE</td></tr>",
                            "<tr><td>Hindelbank</td></tr>",
                            "<tr><td>Hettiswil b. Hindelbank</td></tr>",
                            "<tr><td>Krauchthal</td></tr>",
                            "<tr><td>Zuzwil BE</td></tr>",
                            "<tr><td>Iffwil</td></tr>",
                            "<tr><td>Etzelkofen</td></tr>",
                            "<tr><td>Brunnenthal</td></tr>",
                            "<tr><td>Kernenried</td></tr>",
                            "<tr><td>Limpach</td></tr>",
                            "<tr><td>Mülchi</td></tr>",
                            "<tr><td>Herzogenbuchsee</td></tr>",
                            "<tr><td>Aeschi SO</td></tr>",
                            "<tr><td>Graben</td></tr>",
                            "<tr><td>Wanzwil</td></tr>",
                            "<tr><td>Heimenhausen</td></tr>",
                            "<tr><td>Röthenbach Herzogenbuchsee</td></tr>",
                            "<tr><td>Wangenried</td></tr>",
                            "<tr><td>Niederönz</td></tr>",
                            "<tr><td>Oberönz</td></tr>",
                            "<tr><td>Seeberg</td></tr>",
                            "<tr><td>Grasswil</td></tr>",
                            "<tr><td>Bettenhausen</td></tr>",
                            "<tr><td>Thörigen</td></tr>",
                            "<tr><td>Bleienbach</td></tr>",
                            "<tr><td>Burgdorf</td></tr>",
                            "<tr><td>Heimiswil</td></tr>",
                            "<tr><td>Kaltacker</td></tr>",
                            "<tr><td>Oberburg</td></tr>",
                            "<tr><td>Affoltern im Emmental</td></tr>",
                            "<tr><td>Rüegsau</td></tr>",
                            "<tr><td>Rüegsbach</td></tr>",
                            "<tr><td>Biembach im Emmental</td></tr>",
                            "<tr><td>Lyssach</td></tr>",
                            "<tr><td>Kirchberg BE</td></tr>",
                            "<tr><td>Rüdtligen</td></tr>",
                            "<tr><td>Alchenflüh</td></tr>",
                            "<tr><td>Ersigen</td></tr>",
                            "<tr><td>Niederösch</td></tr>",
                            "<tr><td>Koppigen</td></tr>",
                            "<tr><td>Aefligen</td></tr>",
                            "<tr><td>Utzenstorf</td></tr>",
                            "<tr><td>Wiler b. Utzenstorf</td></tr>",
                            "<tr><td>Lützelflüh-Goldbach</td></tr>",
                            "<tr><td>Schwanden im Emmental</td></tr>",
                            "<tr><td>Obergoldbach</td></tr>",
                            "<tr><td>Ramsei</td></tr>",
                            "<tr><td>Zollbrück</td></tr>",
                            "<tr><td>Rüderswil</td></tr>",
                            "<tr><td>Lauperswil</td></tr>",
                            "<tr><td>Ranflüh</td></tr>",
                            "<tr><td>Grünenmatt</td></tr>",
                            "<tr><td>Heimisbach</td></tr>",
                            "<tr><td>Sumiswald</td></tr>",
                            "<tr><td>Grünen</td></tr>",
                            "<tr><td>Trachselwald</td></tr>",
                            "<tr><td>Wasen im Emmental</td></tr>",
                            "<tr><td>Weier im Emmental</td></tr>",
                            "<tr><td>Häusernmoos im Emmental</td></tr>",
                            "<tr><td>Schmidigen-Mühleweg</td></tr>",
                            "<tr><td>Dürrenroth</td></tr>",
                            "<tr><td>Wynigen</td></tr>",
                            "<tr><td>Alchenstorf</td></tr>",
                            "<tr><td>Rüedisbach</td></tr>",
                            "<tr><td>Riedtwil</td></tr>",
                            "<tr><td>Hermiswil</td></tr>",
                            "<tr><td>Oschwand</td></tr>",
                            "<tr><td>Tägertschi</td></tr>",
                            "<tr><td>Gysenstein</td></tr>",
                            "<tr><td>Niederhünigen</td></tr>",
                            "<tr><td>Grosshöchstetten</td></tr>",
                            "<tr><td>Biglen</td></tr>",
                            "<tr><td>Arni BE</td></tr>",
                            "<tr><td>Konolfingen</td></tr>",
                            "<tr><td>Walkringen</td></tr>",
                            "<tr><td>Bigenthal</td></tr>",
                            "<tr><td>Schafhausen im Emmental</td></tr>",
                            "<tr><td>Oberdiessbach</td></tr>",
                            "<tr><td>Aeschlen b. Oberdiessbach</td></tr>",
                            "<tr><td>Linden</td></tr>",
                            "<tr><td>Bleiken b. Oberdiessbach</td></tr>",
                            "<tr><td>Brenzikofen</td></tr>",
                            "<tr><td>Oberthal</td></tr>",
                            "<tr><td>Zäziwil</td></tr>",
                            "<tr><td>Bowil</td></tr>",
                            "<tr><td>Signau</td></tr>",
                            "<tr><td>Schüpbach</td></tr>",
                            "<tr><td>Aeschau</td></tr>",
                            "<tr><td>Eggiwil</td></tr>",
                            "<tr><td>Röthenbach im Emmental</td></tr>",
                            "<tr><td>Emmenmatt</td></tr>",
                            "<tr><td>Langnau im Emmental</td></tr>",
                            "<tr><td>Oberfrittenbach</td></tr>",
                            "<tr><td>Bärau</td></tr>",
                            "<tr><td>Gohl</td></tr>",
                            "<tr><td>Trubschachen</td></tr>",
                            "<tr><td>Trub</td></tr>",
                            "<tr><td>Fankhaus (Trub)</td></tr>",
                            "<tr><td>Thun</td></tr>",
                            "<tr><td>Thun</td></tr>",
                            "<tr><td>Thun</td></tr>",
                            "<tr><td>Thun</td></tr>",
                            "<tr><td>Fahrni b. Thun</td></tr>",
                            "<tr><td>Süderen</td></tr>",
                            "<tr><td>Eriz</td></tr>",
                            "<tr><td>Innereriz</td></tr>",
                            "<tr><td>Homberg b. Thun</td></tr>",
                            "<tr><td>Uebeschi</td></tr>",
                            "<tr><td>Höfen b. Thun</td></tr>",
                            "<tr><td>Längenbühl</td></tr>",
                            "<tr><td>Steffisburg</td></tr>",
                            "<tr><td>Steffisburg</td></tr>",
                            "<tr><td>Unterlangenegg</td></tr>",
                            "<tr><td>Heimenschwand</td></tr>",
                            "<tr><td>Schwarzenegg</td></tr>",
                            "<tr><td>Teuffenthal b. Thun</td></tr>",
                            "<tr><td>Goldiwil (Thun)</td></tr>",
                            "<tr><td>Heiligenschwendi</td></tr>",
                            "<tr><td>Hünibach</td></tr>",
                            "<tr><td>Heimberg</td></tr>",
                            "<tr><td>Amsoldingen</td></tr>",
                            "<tr><td>Thierachern</td></tr>",
                            "<tr><td>Blumenstein</td></tr>",
                            "<tr><td>Pohlern</td></tr>",
                            "<tr><td>Gwatt (Thun)</td></tr>",
                            "<tr><td>Einigen</td></tr>",
                            "<tr><td>Reutigen</td></tr>",
                            "<tr><td>Hilterfingen</td></tr>",
                            "<tr><td>Oberhofen am Thunersee</td></tr>",
                            "<tr><td>Gunten</td></tr>",
                            "<tr><td>Sigriswil</td></tr>",
                            "<tr><td>Tschingel ob Gunten</td></tr>",
                            "<tr><td>Aeschlen ob Gunten</td></tr>",
                            "<tr><td>Schwanden (Sigriswil)</td></tr>",
                            "<tr><td>Merligen</td></tr>",
                            "<tr><td>Spiez</td></tr>",
                            "<tr><td>Hondrich</td></tr>",
                            "<tr><td>Aeschi b. Spiez</td></tr>",
                            "<tr><td>Aeschiried</td></tr>",
                            "<tr><td>Krattigen</td></tr>",
                            "<tr><td>Faulensee</td></tr>",
                            "<tr><td>Leissigen</td></tr>",
                            "<tr><td>Därligen</td></tr>",
                            "<tr><td>Emdthal</td></tr>",
                            "<tr><td>Mülenen</td></tr>",
                            "<tr><td>Reichenbach im Kandertal</td></tr>",
                            "<tr><td>Frutigen</td></tr>",
                            "<tr><td>Wengi b. Frutigen</td></tr>",
                            "<tr><td>Adelboden</td></tr>",
                            "<tr><td>Kandergrund</td></tr>",
                            "<tr><td>Blausee-Mitholz</td></tr>",
                            "<tr><td>Kandersteg</td></tr>",
                            "<tr><td>Scharnachtal</td></tr>",
                            "<tr><td>Kiental</td></tr>",
                            "<tr><td>Ried (Frutigen)</td></tr>",
                            "<tr><td>Achseten</td></tr>",
                            "<tr><td>Wimmis</td></tr>",
                            "<tr><td>Oey</td></tr>",
                            "<tr><td>Diemtigen</td></tr>",
                            "<tr><td>Horboden</td></tr>",
                            "<tr><td>Zwischenflüh</td></tr>",
                            "<tr><td>Schwenden im Diemtigtal</td></tr>",
                            "<tr><td>Latterbach</td></tr>",
                            "<tr><td>Erlenbach im Simmental</td></tr>",
                            "<tr><td>Därstetten</td></tr>",
                            "<tr><td>Weissenburg</td></tr>",
                            "<tr><td>Oberwil im Simmental</td></tr>",
                            "<tr><td>Boltigen</td></tr>",
                            "<tr><td>Zweisimmen</td></tr>",
                            "<tr><td>Blankenburg</td></tr>",
                            "<tr><td>St. Stephan</td></tr>",
                            "<tr><td>Matten (St. Stephan)</td></tr>",
                            "<tr><td>Lenk im Simmental</td></tr>",
                            "<tr><td>Oeschseite</td></tr>",
                            "<tr><td>Saanenmöser</td></tr>",
                            "<tr><td>Schönried</td></tr>",
                            "<tr><td>Gstaad</td></tr>",
                            "<tr><td>Turbach</td></tr>",
                            "<tr><td>Lauenen b. Gstaad</td></tr>",
                            "<tr><td>Grund b. Gstaad</td></tr>",
                            "<tr><td>Feutersoey</td></tr>",
                            "<tr><td>Gsteig b. Gstaad</td></tr>",
                            "<tr><td>Saanen</td></tr>",
                            "<tr><td>Interlaken</td></tr>",
                            "<tr><td>Unterseen</td></tr>",
                            "<tr><td>Matten b. Interlaken</td></tr>",
                            "<tr><td>Jungfraujoch</td></tr>",
                            "<tr><td>Beatenberg</td></tr>",
                            "<tr><td>Habkern</td></tr>",
                            "<tr><td>Goldswil b. Interlaken</td></tr>",
                            "<tr><td>Bönigen b. Interlaken</td></tr>",
                            "<tr><td>Iseltwald</td></tr>",
                            "<tr><td>Wilderswil</td></tr>",
                            "<tr><td>Saxeten</td></tr>",
                            "<tr><td>Gsteigwiler</td></tr>",
                            "<tr><td>Zweilütschinen</td></tr>",
                            "<tr><td>Lütschental</td></tr>",
                            "<tr><td>Burglauenen</td></tr>",
                            "<tr><td>Grindelwald</td></tr>",
                            "<tr><td>Lauterbrunnen</td></tr>",
                            "<tr><td>Isenfluh</td></tr>",
                            "<tr><td>Wengen</td></tr>",
                            "<tr><td>Stechelberg</td></tr>",
                            "<tr><td>Mürren</td></tr>",
                            "<tr><td>Gimmelwald</td></tr>",
                            "<tr><td>Ringgenberg BE</td></tr>",
                            "<tr><td>Niederried b. Interlaken</td></tr>",
                            "<tr><td>Oberried am Brienzersee</td></tr>",
                            "<tr><td>Brienz BE</td></tr>",
                            "<tr><td>Axalp</td></tr>",
                            "<tr><td>Brienzwiler</td></tr>",
                            "<tr><td>Unterbach BE</td></tr>",
                            "<tr><td>Hofstetten b. Brienz</td></tr>",
                            "<tr><td>Meiringen</td></tr>",
                            "<tr><td>Rosenlaui</td></tr>",
                            "<tr><td>Innertkirchen</td></tr>",
                            "<tr><td>Gadmen</td></tr>",
                            "<tr><td>Guttannen</td></tr>",
                            "<tr><td>Brig</td></tr>",
                            "<tr><td>Gamsen</td></tr>",
                            "<tr><td>Hohtenn</td></tr>",
                            "<tr><td>Birgisch</td></tr>",
                            "<tr><td>Mund</td></tr>",
                            "<tr><td>Blatten b. Naters</td></tr>",
                            "<tr><td>Belalp</td></tr>",
                            "<tr><td>Rosswald</td></tr>",
                            "<tr><td>Ried-Brig</td></tr>",
                            "<tr><td>Termen</td></tr>",
                            "<tr><td>Rothwald</td></tr>",
                            "<tr><td>Simplon Hospiz</td></tr>",
                            "<tr><td>Simplon Dorf</td></tr>",
                            "<tr><td>Gabi (Simplon)</td></tr>",
                            "<tr><td>Gondo</td></tr>",
                            "<tr><td>Eisten</td></tr>",
                            "<tr><td>Saas-Balen</td></tr>",
                            "<tr><td>Saas-Grund</td></tr>",
                            "<tr><td>Glis</td></tr>",
                            "<tr><td>Goppenstein</td></tr>",
                            "<tr><td>Ferden</td></tr>",
                            "<tr><td>Kippel</td></tr>",
                            "<tr><td>Wiler (Lötschen)</td></tr>",
                            "<tr><td>Blatten (Lötschen)</td></tr>",
                            "<tr><td>Naters</td></tr>",
                            "<tr><td>Saas-Almagell</td></tr>",
                            "<tr><td>Saas-Fee</td></tr>",
                            "<tr><td>Zermatt</td></tr>",
                            "<tr><td>Törbel</td></tr>",
                            "<tr><td>Embd</td></tr>",
                            "<tr><td>Herbriggen</td></tr>",
                            "<tr><td>Randa</td></tr>",
                            "<tr><td>Täsch</td></tr>",
                            "<tr><td>Stalden VS</td></tr>",
                            "<tr><td>Kalpetran</td></tr>",
                            "<tr><td>St. Niklaus VS</td></tr>",
                            "<tr><td>Grächen</td></tr>",
                            "<tr><td>Visp</td></tr>",
                            "<tr><td>St. German</td></tr>",
                            "<tr><td>Staldenried</td></tr>",
                            "<tr><td>Baltschieder</td></tr>",
                            "<tr><td>Ausserberg</td></tr>",
                            "<tr><td>Eggerberg</td></tr>",
                            "<tr><td>Eyholz</td></tr>",
                            "<tr><td>Lalden</td></tr>",
                            "<tr><td>Visperterminen</td></tr>",
                            "<tr><td>Zeneggen</td></tr>",
                            "<tr><td>Bürchen</td></tr>",
                            "<tr><td>Eischoll</td></tr>",
                            "<tr><td>Unterbäch VS</td></tr>",
                            "<tr><td>Ergisch</td></tr>",
                            "<tr><td>Unterems</td></tr>",
                            "<tr><td>Gruben</td></tr>",
                            "<tr><td>Oberems</td></tr>",
                            "<tr><td>Agarn</td></tr>",
                            "<tr><td>Albinen</td></tr>",
                            "<tr><td>Guttet-Feschel</td></tr>",
                            "<tr><td>Erschmatt</td></tr>",
                            "<tr><td>Varen</td></tr>",
                            "<tr><td>Noës</td></tr>",
                            "<tr><td>Flanthey</td></tr>",
                            "<tr><td>Lens</td></tr>",
                            "<tr><td>Icogne</td></tr>",
                            "<tr><td>Grône</td></tr>",
                            "<tr><td>Raron</td></tr>",
                            "<tr><td>Niedergesteln</td></tr>",
                            "<tr><td>Gampel</td></tr>",
                            "<tr><td>Turtmann</td></tr>",
                            "<tr><td>Susten</td></tr>",
                            "<tr><td>Leuk Stadt</td></tr>",
                            "<tr><td>Inden</td></tr>",
                            "<tr><td>Leukerbad</td></tr>",
                            "<tr><td>Salgesch</td></tr>",
                            "<tr><td>Granges VS</td></tr>",
                            "<tr><td>St-Léonard</td></tr>",
                            "<tr><td>Sierre</td></tr>",
                            "<tr><td>Corin-de-la-Crête</td></tr>",
                            "<tr><td>Loc</td></tr>",
                            "<tr><td>Chermignon</td></tr>",
                            "<tr><td>Chermignon-d&#39;en-Bas</td></tr>",
                            "<tr><td>Ollon VS</td></tr>",
                            "<tr><td>Miège</td></tr>",
                            "<tr><td>Venthône</td></tr>",
                            "<tr><td>Mollens VS</td></tr>",
                            "<tr><td>Randogne</td></tr>",
                            "<tr><td>Vissoie</td></tr>",
                            "<tr><td>St-Luc</td></tr>",
                            "<tr><td>Chandolin</td></tr>",
                            "<tr><td>Ayer</td></tr>",
                            "<tr><td>Zinal</td></tr>",
                            "<tr><td>Grimentz</td></tr>",
                            "<tr><td>Vercorin</td></tr>",
                            "<tr><td>Montana</td></tr>",
                            "<tr><td>Crans-Montana</td></tr>",
                            "<tr><td>Muraz (Sierre)</td></tr>",
                            "<tr><td>Chippis</td></tr>",
                            "<tr><td>Chalais</td></tr>",
                            "<tr><td>Réchy</td></tr>",
                            "<tr><td>Veyras</td></tr>",
                            "<tr><td>Bitsch</td></tr>",
                            "<tr><td>Grengiols</td></tr>",
                            "<tr><td>Lax</td></tr>",
                            "<tr><td>Bellwald</td></tr>",
                            "<tr><td>Niederwald</td></tr>",
                            "<tr><td>Blitzingen</td></tr>",
                            "<tr><td>Biel VS</td></tr>",
                            "<tr><td>Gluringen</td></tr>",
                            "<tr><td>Reckingen VS</td></tr>",
                            "<tr><td>Geschinen</td></tr>",
                            "<tr><td>Obergesteln</td></tr>",
                            "<tr><td>Oberwald</td></tr>",
                            "<tr><td>Ried-Mörel</td></tr>",
                            "<tr><td>Riederalp</td></tr>",
                            "<tr><td>Betten</td></tr>",
                            "<tr><td>Bettmeralp</td></tr>",
                            "<tr><td>Ernen</td></tr>",
                            "<tr><td>Binn</td></tr>",
                            "<tr><td>Mörel</td></tr>",
                            "<tr><td>Fiesch</td></tr>",
                            "<tr><td>Münster VS</td></tr>",
                            "<tr><td>Ulrichen</td></tr>",
                            "<tr><td>Basel</td></tr>",
                            "<tr><td>Basel</td></tr>",
                            "<tr><td>Basel Universitätsspital</td></tr>",
                            "<tr><td>Basel</td></tr>",
                            "<tr><td>Basel</td></tr>",
                            "<tr><td>Basel</td></tr>",
                            "<tr><td>Basel</td></tr>",
                            "<tr><td>Basel</td></tr>",
                            "<tr><td>Basel</td></tr>",
                            "<tr><td>Basel</td></tr>",
                            "<tr><td>Basel</td></tr>",
                            "<tr><td>Basel</td></tr>",
                            "<tr><td>Bruderholz</td></tr>",
                            "<tr><td>Binningen</td></tr>",
                            "<tr><td>Bottmingen</td></tr>",
                            "<tr><td>Oberwil BL</td></tr>",
                            "<tr><td>Biel-Benken BL</td></tr>",
                            "<tr><td>Therwil</td></tr>",
                            "<tr><td>Ettingen</td></tr>",
                            "<tr><td>Witterswil</td></tr>",
                            "<tr><td>Bättwil</td></tr>",
                            "<tr><td>Flüh</td></tr>",
                            "<tr><td>Hofstetten SO</td></tr>",
                            "<tr><td>Mariastein</td></tr>",
                            "<tr><td>Metzerlen</td></tr>",
                            "<tr><td>Burg im Leimental</td></tr>",
                            "<tr><td>Rodersdorf</td></tr>",
                            "<tr><td>Allschwil</td></tr>",
                            "<tr><td>Schönenbuch</td></tr>",
                            "<tr><td>Riehen</td></tr>",
                            "<tr><td>Bettingen</td></tr>",
                            "<tr><td>Birsfelden</td></tr>",
                            "<tr><td>Muttenz</td></tr>",
                            "<tr><td>Pratteln</td></tr>",
                            "<tr><td>Münchenstein</td></tr>",
                            "<tr><td>Dornach</td></tr>",
                            "<tr><td>Arlesheim</td></tr>",
                            "<tr><td>Gempen</td></tr>",
                            "<tr><td>Hochwald</td></tr>",
                            "<tr><td>Aesch BL</td></tr>",
                            "<tr><td>Pfeffingen</td></tr>",
                            "<tr><td>Reinach BL</td></tr>",
                            "<tr><td>Duggingen</td></tr>",
                            "<tr><td>Grellingen</td></tr>",
                            "<tr><td>Seewen SO</td></tr>",
                            "<tr><td>Bretzwil</td></tr>",
                            "<tr><td>Nunningen</td></tr>",
                            "<tr><td>Zwingen</td></tr>",
                            "<tr><td>Brislach</td></tr>",
                            "<tr><td>Breitenbach</td></tr>",
                            "<tr><td>Büsserach</td></tr>",
                            "<tr><td>Erschwil</td></tr>",
                            "<tr><td>Laufen</td></tr>",
                            "<tr><td>Dittingen</td></tr>",
                            "<tr><td>Röschenz</td></tr>",
                            "<tr><td>Kleinlützel</td></tr>",
                            "<tr><td>Himmelried</td></tr>",
                            "<tr><td>Blauen</td></tr>",
                            "<tr><td>Nenzlingen</td></tr>",
                            "<tr><td>Beinwil SO</td></tr>",
                            "<tr><td>Fehren</td></tr>",
                            "<tr><td>Meltingen</td></tr>",
                            "<tr><td>Zullwil</td></tr>",
                            "<tr><td>Wahlen b. Laufen</td></tr>",
                            "<tr><td>Grindel</td></tr>",
                            "<tr><td>Bärschwil</td></tr>",
                            "<tr><td>Liesberg</td></tr>",
                            "<tr><td>Liesberg Dorf</td></tr>",
                            "<tr><td>Augst BL</td></tr>",
                            "<tr><td>Kaiseraugst</td></tr>",
                            "<tr><td>Giebenach</td></tr>",
                            "<tr><td>Olsberg</td></tr>",
                            "<tr><td>Rheinfelden</td></tr>",
                            "<tr><td>Magden</td></tr>",
                            "<tr><td>Möhlin</td></tr>",
                            "<tr><td>Zeiningen</td></tr>",
                            "<tr><td>Zuzgen</td></tr>",
                            "<tr><td>Hellikon</td></tr>",
                            "<tr><td>Wegenstetten</td></tr>",
                            "<tr><td>Mumpf</td></tr>",
                            "<tr><td>Wallbach</td></tr>",
                            "<tr><td>Obermumpf</td></tr>",
                            "<tr><td>Schupfart</td></tr>",
                            "<tr><td>Stein AG</td></tr>",
                            "<tr><td>Münchwilen AG</td></tr>",
                            "<tr><td>Sisseln AG</td></tr>",
                            "<tr><td>Laufenburg</td></tr>",
                            "<tr><td>Kaisten</td></tr>",
                            "<tr><td>Ittenthal</td></tr>",
                            "<tr><td>Rheinsulz</td></tr>",
                            "<tr><td>Sulz AG</td></tr>",
                            "<tr><td>Etzgen</td></tr>",
                            "<tr><td>Mettau</td></tr>",
                            "<tr><td>Oberhofen AG</td></tr>",
                            "<tr><td>Gansingen</td></tr>",
                            "<tr><td>Wil AG</td></tr>",
                            "<tr><td>Hottwil</td></tr>",
                            "<tr><td>Schwaderloch</td></tr>",
                            "<tr><td>Leibstadt</td></tr>",
                            "<tr><td>Full-Reuenthal</td></tr>",
                            "<tr><td>Frenkendorf</td></tr>",
                            "<tr><td>Liestal</td></tr>",
                            "<tr><td>Seltisberg</td></tr>",
                            "<tr><td>Nuglar</td></tr>",
                            "<tr><td>Büren SO</td></tr>",
                            "<tr><td>Füllinsdorf</td></tr>",
                            "<tr><td>Lausen</td></tr>",
                            "<tr><td>Bubendorf</td></tr>",
                            "<tr><td>Ziefen</td></tr>",
                            "<tr><td>Reigoldswil</td></tr>",
                            "<tr><td>Lupsingen</td></tr>",
                            "<tr><td>St. Pantaleon</td></tr>",
                            "<tr><td>Arisdorf</td></tr>",
                            "<tr><td>Hersberg</td></tr>",
                            "<tr><td>Arboldswil</td></tr>",
                            "<tr><td>Titterten</td></tr>",
                            "<tr><td>Lauwil</td></tr>",
                            "<tr><td>Bennwil</td></tr>",
                            "<tr><td>Lampenberg</td></tr>",
                            "<tr><td>Ramlinsburg</td></tr>",
                            "<tr><td>Hölstein</td></tr>",
                            "<tr><td>Niederdorf</td></tr>",
                            "<tr><td>Oberdorf BL</td></tr>",
                            "<tr><td>Waldenburg</td></tr>",
                            "<tr><td>Langenbruck</td></tr>",
                            "<tr><td>Thürnen</td></tr>",
                            "<tr><td>Diepflingen</td></tr>",
                            "<tr><td>Wittinsburg</td></tr>",
                            "<tr><td>Rümlingen</td></tr>",
                            "<tr><td>Häfelfingen</td></tr>",
                            "<tr><td>Buckten</td></tr>",
                            "<tr><td>Känerkinden</td></tr>",
                            "<tr><td>Läufelfingen</td></tr>",
                            "<tr><td>Sissach</td></tr>",
                            "<tr><td>Wintersingen</td></tr>",
                            "<tr><td>Itingen</td></tr>",
                            "<tr><td>Nusshof</td></tr>",
                            "<tr><td>Zunzgen</td></tr>",
                            "<tr><td>Tenniken</td></tr>",
                            "<tr><td>Diegten</td></tr>",
                            "<tr><td>Eptingen</td></tr>",
                            "<tr><td>Gelterkinden</td></tr>",
                            "<tr><td>Böckten</td></tr>",
                            "<tr><td>Hemmiken</td></tr>",
                            "<tr><td>Anwil</td></tr>",
                            "<tr><td>Rickenbach BL</td></tr>",
                            "<tr><td>Buus</td></tr>",
                            "<tr><td>Maisprach</td></tr>",
                            "<tr><td>Ormalingen</td></tr>",
                            "<tr><td>Rothenfluh</td></tr>",
                            "<tr><td>Kienberg</td></tr>",
                            "<tr><td>Tecknau</td></tr>",
                            "<tr><td>Wenslingen</td></tr>",
                            "<tr><td>Oltingen</td></tr>",
                            "<tr><td>Zeglingen</td></tr>",
                            "<tr><td>Kilchberg BL</td></tr>",
                            "<tr><td>Rünenberg</td></tr>",
                            "<tr><td>Solothurn</td></tr>",
                            "<tr><td>Weissenstein b. Solothurn</td></tr>",
                            "<tr><td>Balm b. Günsberg</td></tr>",
                            "<tr><td>Niederwil SO</td></tr>",
                            "<tr><td>Hubersdorf</td></tr>",
                            "<tr><td>Rumisberg</td></tr>",
                            "<tr><td>Farnern</td></tr>",
                            "<tr><td>Horriwil</td></tr>",
                            "<tr><td>Hersiwil</td></tr>",
                            "<tr><td>Bellach</td></tr>",
                            "<tr><td>Langendorf</td></tr>",
                            "<tr><td>Lommiswil</td></tr>",
                            "<tr><td>Oberdorf SO</td></tr>",
                            "<tr><td>Rüttenen</td></tr>",
                            "<tr><td>Günsberg</td></tr>",
                            "<tr><td>Zuchwil</td></tr>",
                            "<tr><td>Feldbrunnen</td></tr>",
                            "<tr><td>Riedholz</td></tr>",
                            "<tr><td>Flumenthal</td></tr>",
                            "<tr><td>Attiswil</td></tr>",
                            "<tr><td>Wiedlisbach</td></tr>",
                            "<tr><td>Oberbipp</td></tr>",
                            "<tr><td>Derendingen</td></tr>",
                            "<tr><td>Subingen</td></tr>",
                            "<tr><td>Etziken</td></tr>",
                            "<tr><td>Inkwil</td></tr>",
                            "<tr><td>Biberist</td></tr>",
                            "<tr><td>Gerlafingen</td></tr>",
                            "<tr><td>Obergerlafingen</td></tr>",
                            "<tr><td>Zielebach</td></tr>",
                            "<tr><td>Recherswil</td></tr>",
                            "<tr><td>Kriegstetten</td></tr>",
                            "<tr><td>Küttigkofen</td></tr>",
                            "<tr><td>Kyburg-Buchegg</td></tr>",
                            "<tr><td>Brügglen</td></tr>",
                            "<tr><td>Mühledorf SO</td></tr>",
                            "<tr><td>Gossliwil</td></tr>",
                            "<tr><td>Bibern SO</td></tr>",
                            "<tr><td>Ichertswil</td></tr>",
                            "<tr><td>Tscheppach</td></tr>",
                            "<tr><td>Hessigkofen</td></tr>",
                            "<tr><td>Biezwil</td></tr>",
                            "<tr><td>Aetingen</td></tr>",
                            "<tr><td>Unterramsern</td></tr>",
                            "<tr><td>Oberramsern</td></tr>",
                            "<tr><td>Nennigkofen</td></tr>",
                            "<tr><td>Lüsslingen</td></tr>",
                            "<tr><td>Olten</td></tr>",
                            "<tr><td>Wangen b. Olten</td></tr>",
                            "<tr><td>Rickenbach SO</td></tr>",
                            "<tr><td>Hägendorf</td></tr>",
                            "<tr><td>Kappel SO</td></tr>",
                            "<tr><td>Gunzgen</td></tr>",
                            "<tr><td>Boningen</td></tr>",
                            "<tr><td>Egerkingen</td></tr>",
                            "<tr><td>Neuendorf</td></tr>",
                            "<tr><td>Härkingen</td></tr>",
                            "<tr><td>Oberbuchsiten</td></tr>",
                            "<tr><td>Niederbuchsiten</td></tr>",
                            "<tr><td>Trimbach</td></tr>",
                            "<tr><td>Winznau</td></tr>",
                            "<tr><td>Obergösgen</td></tr>",
                            "<tr><td>Lostorf</td></tr>",
                            "<tr><td>Stüsslingen</td></tr>",
                            "<tr><td>Rohr b. Olten</td></tr>",
                            "<tr><td>Starrkirch-Wil</td></tr>",
                            "<tr><td>Dulliken</td></tr>",
                            "<tr><td>Däniken SO</td></tr>",
                            "<tr><td>Aarburg</td></tr>",
                            "<tr><td>Oftringen</td></tr>",
                            "<tr><td>Allerheiligenberg</td></tr>",
                            "<tr><td>Hauenstein</td></tr>",
                            "<tr><td>Wisen SO</td></tr>",
                            "<tr><td>Oensingen</td></tr>",
                            "<tr><td>Kestenholz</td></tr>",
                            "<tr><td>Niederbipp</td></tr>",
                            "<tr><td>Wangen an der Aare</td></tr>",
                            "<tr><td>Walliswil b. Wangen</td></tr>",
                            "<tr><td>Deitingen</td></tr>",
                            "<tr><td>Luterbach</td></tr>",
                            "<tr><td>Balsthal</td></tr>",
                            "<tr><td>Aedermannsdorf</td></tr>",
                            "<tr><td>Herbetswil</td></tr>",
                            "<tr><td>Ramiswil</td></tr>",
                            "<tr><td>Laupersdorf</td></tr>",
                            "<tr><td>Matzendorf</td></tr>",
                            "<tr><td>Welschenrohr</td></tr>",
                            "<tr><td>Gänsbrunnen</td></tr>",
                            "<tr><td>Mümliswil</td></tr>",
                            "<tr><td>Holderbank SO</td></tr>",
                            "<tr><td>Zofingen</td></tr>",
                            "<tr><td>Strengelbach</td></tr>",
                            "<tr><td>Vordemwald</td></tr>",
                            "<tr><td>Brittnau</td></tr>",
                            "<tr><td>Wikon</td></tr>",
                            "<tr><td>Mühlethal</td></tr>",
                            "<tr><td>Uerkheim</td></tr>",
                            "<tr><td>Bottenwil</td></tr>",
                            "<tr><td>Rothrist</td></tr>",
                            "<tr><td>Murgenthal</td></tr>",
                            "<tr><td>Fulenbach</td></tr>",
                            "<tr><td>Wolfwil</td></tr>",
                            "<tr><td>Glashütten</td></tr>",
                            "<tr><td>Riken AG</td></tr>",
                            "<tr><td>Langenthal</td></tr>",
                            "<tr><td>Schwarzhäusern</td></tr>",
                            "<tr><td>Aarwangen</td></tr>",
                            "<tr><td>Bannwil</td></tr>",
                            "<tr><td>Roggwil BE</td></tr>",
                            "<tr><td>St. Urban</td></tr>",
                            "<tr><td>Untersteckholz</td></tr>",
                            "<tr><td>Melchnau</td></tr>",
                            "<tr><td>Busswil b. Melchnau</td></tr>",
                            "<tr><td>Gondiswil</td></tr>",
                            "<tr><td>Reisiswil</td></tr>",
                            "<tr><td>Bützberg</td></tr>",
                            "<tr><td>Wynau</td></tr>",
                            "<tr><td>Obersteckholz</td></tr>",
                            "<tr><td>Lotzwil</td></tr>",
                            "<tr><td>Rütschelen</td></tr>",
                            "<tr><td>Madiswil</td></tr>",
                            "<tr><td>Leimiswil</td></tr>",
                            "<tr><td>Kleindietwil</td></tr>",
                            "<tr><td>Ursenbach</td></tr>",
                            "<tr><td>Rohrbach</td></tr>",
                            "<tr><td>Walterswil BE</td></tr>",
                            "<tr><td>Oeschenbach</td></tr>",
                            "<tr><td>Auswil</td></tr>",
                            "<tr><td>Rohrbachgraben</td></tr>",
                            "<tr><td>Huttwil</td></tr>",
                            "<tr><td>Eriswil</td></tr>",
                            "<tr><td>Schwarzenbach (Huttwil)</td></tr>",
                            "<tr><td>Wyssachen</td></tr>",
                            "<tr><td>Aarau</td></tr>",
                            "<tr><td>Aarau</td></tr>",
                            "<tr><td>Schönenwerd</td></tr>",
                            "<tr><td>Niedergösgen</td></tr>",
                            "<tr><td>Gretzenbach</td></tr>",
                            "<tr><td>Erlinsbach SO</td></tr>",
                            "<tr><td>Barmelweid</td></tr>",
                            "<tr><td>Rombach</td></tr>",
                            "<tr><td>Biberstein</td></tr>",
                            "<tr><td>Küttigen</td></tr>",
                            "<tr><td>Asp</td></tr>",
                            "<tr><td>Densbüren</td></tr>",
                            "<tr><td>Herznach</td></tr>",
                            "<tr><td>Ueken</td></tr>",
                            "<tr><td>Aarau Rohr</td></tr>",
                            "<tr><td>Buchs AG</td></tr>",
                            "<tr><td>Suhr</td></tr>",
                            "<tr><td>Unterentfelden</td></tr>",
                            "<tr><td>Oberentfelden</td></tr>",
                            "<tr><td>Muhen</td></tr>",
                            "<tr><td>Schöftland</td></tr>",
                            "<tr><td>Hirschthal</td></tr>",
                            "<tr><td>Holziken</td></tr>",
                            "<tr><td>Schlossrued</td></tr>",
                            "<tr><td>Schmiedrued</td></tr>",
                            "<tr><td>Walde AG</td></tr>",
                            "<tr><td>Staffelbach</td></tr>",
                            "<tr><td>Kirchleerau</td></tr>",
                            "<tr><td>Moosleerau</td></tr>",
                            "<tr><td>Attelwil</td></tr>",
                            "<tr><td>Reitnau</td></tr>",
                            "<tr><td>Rupperswil</td></tr>",
                            "<tr><td>Wildegg</td></tr>",
                            "<tr><td>Auenstein</td></tr>",
                            "<tr><td>Veltheim AG</td></tr>",
                            "<tr><td>Schinznach Dorf</td></tr>",
                            "<tr><td>Oberflachs</td></tr>",
                            "<tr><td>Thalheim AG</td></tr>",
                            "<tr><td>Holderbank AG</td></tr>",
                            "<tr><td>Möriken AG</td></tr>",
                            "<tr><td>Schinznach Bad</td></tr>",
                            "<tr><td>Habsburg</td></tr>",
                            "<tr><td>Scherz</td></tr>",
                            "<tr><td>Brugg AG</td></tr>",
                            "<tr><td>Windisch</td></tr>",
                            "<tr><td>Hausen AG</td></tr>",
                            "<tr><td>Villnachern</td></tr>",
                            "<tr><td>Umiken</td></tr>",
                            "<tr><td>Riniken</td></tr>",
                            "<tr><td>Stilli</td></tr>",
                            "<tr><td>Villigen</td></tr>",
                            "<tr><td>Rüfenach AG</td></tr>",
                            "<tr><td>Remigen</td></tr>",
                            "<tr><td>Mönthal</td></tr>",
                            "<tr><td>Birr</td></tr>",
                            "<tr><td>Lupfig</td></tr>",
                            "<tr><td>Mülligen</td></tr>",
                            "<tr><td>Birrhard</td></tr>",
                            "<tr><td>Effingen</td></tr>",
                            "<tr><td>Bözen</td></tr>",
                            "<tr><td>Elfingen</td></tr>",
                            "<tr><td>Zeihen</td></tr>",
                            "<tr><td>Hornussen</td></tr>",
                            "<tr><td>Frick</td></tr>",
                            "<tr><td>Oeschgen</td></tr>",
                            "<tr><td>Gipf-Oberfrick</td></tr>",
                            "<tr><td>Wittnau</td></tr>",
                            "<tr><td>Wölflinswil</td></tr>",
                            "<tr><td>Oberhof</td></tr>",
                            "<tr><td>Eiken</td></tr>",
                            "<tr><td>Turgi</td></tr>",
                            "<tr><td>Siggenthal Station</td></tr>",
                            "<tr><td>Würenlingen</td></tr>",
                            "<tr><td>Endingen</td></tr>",
                            "<tr><td>Unterendingen</td></tr>",
                            "<tr><td>Tegerfelden</td></tr>",
                            "<tr><td>Döttingen</td></tr>",
                            "<tr><td>Klingnau</td></tr>",
                            "<tr><td>Kleindöttingen</td></tr>",
                            "<tr><td>Böttstein</td></tr>",
                            "<tr><td>Leuggern</td></tr>",
                            "<tr><td>Hettenschwil</td></tr>",
                            "<tr><td>Mandach</td></tr>",
                            "<tr><td>Koblenz</td></tr>",
                            "<tr><td>Baden</td></tr>",
                            "<tr><td>Ennetbaden</td></tr>",
                            "<tr><td>Baden</td></tr>",
                            "<tr><td>Gebenstorf</td></tr>",
                            "<tr><td>Birmenstorf AG</td></tr>",
                            "<tr><td>Nussbaumen AG</td></tr>",
                            "<tr><td>Kirchdorf AG</td></tr>",
                            "<tr><td>Untersiggenthal</td></tr>",
                            "<tr><td>Ehrendingen</td></tr>",
                            "<tr><td>Freienwil</td></tr>",
                            "<tr><td>Schneisingen</td></tr>",
                            "<tr><td>Lengnau AG</td></tr>",
                            "<tr><td>Wettingen</td></tr>",
                            "<tr><td>Neuenhof</td></tr>",
                            "<tr><td>Fislisbach</td></tr>",
                            "<tr><td>Niederrohrdorf</td></tr>",
                            "<tr><td>Künten</td></tr>",
                            "<tr><td>Eggenwil</td></tr>",
                            "<tr><td>Oberrohrdorf</td></tr>",
                            "<tr><td>Remetschwil</td></tr>",
                            "<tr><td>Bellikon</td></tr>",
                            "<tr><td>Hunzenschwil</td></tr>",
                            "<tr><td>Schafisheim</td></tr>",
                            "<tr><td>Othmarsingen</td></tr>",
                            "<tr><td>Brunegg</td></tr>",
                            "<tr><td>Mägenwil</td></tr>",
                            "<tr><td>Mellingen</td></tr>",
                            "<tr><td>Wohlenschwil</td></tr>",
                            "<tr><td>Tägerig</td></tr>",
                            "<tr><td>Nesselnbach</td></tr>",
                            "<tr><td>Niederwil AG</td></tr>",
                            "<tr><td>Fischbach-Göslikon</td></tr>",
                            "<tr><td>Lenzburg</td></tr>",
                            "<tr><td>Ammerswil AG</td></tr>",
                            "<tr><td>Staufen</td></tr>",
                            "<tr><td>Hendschiken</td></tr>",
                            "<tr><td>Dottikon</td></tr>",
                            "<tr><td>Dintikon</td></tr>",
                            "<tr><td>Hägglingen</td></tr>",
                            "<tr><td>Stetten AG</td></tr>",
                            "<tr><td>Wohlen AG</td></tr>",
                            "<tr><td>Anglikon</td></tr>",
                            "<tr><td>Büttikon AG</td></tr>",
                            "<tr><td>Villmergen</td></tr>",
                            "<tr><td>Hilfikon</td></tr>",
                            "<tr><td>Sarmenstorf</td></tr>",
                            "<tr><td>Fahrwangen</td></tr>",
                            "<tr><td>Meisterschwanden</td></tr>",
                            "<tr><td>Tennwil</td></tr>",
                            "<tr><td>Bettwil</td></tr>",
                            "<tr><td>Bremgarten AG</td></tr>",
                            "<tr><td>Zufikon</td></tr>",
                            "<tr><td>Waltenschwil</td></tr>",
                            "<tr><td>Boswil</td></tr>",
                            "<tr><td>Bünzen</td></tr>",
                            "<tr><td>Kallern</td></tr>",
                            "<tr><td>Hermetschwil-Staffeln</td></tr>",
                            "<tr><td>Besenbüren</td></tr>",
                            "<tr><td>Aristau</td></tr>",
                            "<tr><td>Muri AG</td></tr>",
                            "<tr><td>Buttwil</td></tr>",
                            "<tr><td>Merenschwand</td></tr>",
                            "<tr><td>Benzenschwil</td></tr>",
                            "<tr><td>Beinwil (Freiamt)</td></tr>",
                            "<tr><td>Mühlau</td></tr>",
                            "<tr><td>Sins</td></tr>",
                            "<tr><td>Auw</td></tr>",
                            "<tr><td>Aettenschwil</td></tr>",
                            "<tr><td>Abtwil AG</td></tr>",
                            "<tr><td>Oberrüti</td></tr>",
                            "<tr><td>Alikon</td></tr>",
                            "<tr><td>Niederlenz</td></tr>",
                            "<tr><td>Seon</td></tr>",
                            "<tr><td>Egliswil</td></tr>",
                            "<tr><td>Hallwil</td></tr>",
                            "<tr><td>Boniswil</td></tr>",
                            "<tr><td>Seengen</td></tr>",
                            "<tr><td>Birrwil</td></tr>",
                            "<tr><td>Beinwil am See</td></tr>",
                            "<tr><td>Gränichen</td></tr>",
                            "<tr><td>Teufenthal AG</td></tr>",
                            "<tr><td>Dürrenäsch</td></tr>",
                            "<tr><td>Leutwil</td></tr>",
                            "<tr><td>Unterkulm</td></tr>",
                            "<tr><td>Oberkulm</td></tr>",
                            "<tr><td>Gontenschwil</td></tr>",
                            "<tr><td>Zetzwil</td></tr>",
                            "<tr><td>Leimbach AG</td></tr>",
                            "<tr><td>Reinach AG</td></tr>",
                            "<tr><td>Pfeffikon LU</td></tr>",
                            "<tr><td>Burg AG</td></tr>",
                            "<tr><td>Menziken</td></tr>",
                            "<tr><td>Kölliken</td></tr>",
                            "<tr><td>Safenwil</td></tr>",
                            "<tr><td>Walterswil SO</td></tr>",
                            "<tr><td>Luzern</td></tr>",
                            "<tr><td>Luzern</td></tr>",
                            "<tr><td>Luzern</td></tr>",
                            "<tr><td>Luzern</td></tr>",
                            "<tr><td>Luzern</td></tr>",
                            "<tr><td>Kriens</td></tr>",
                            "<tr><td>Obernau</td></tr>",
                            "<tr><td>Eigenthal</td></tr>",
                            "<tr><td>Luzern</td></tr>",
                            "<tr><td>Luzern</td></tr>",
                            "<tr><td>Hellbühl</td></tr>",
                            "<tr><td>Ruswil</td></tr>",
                            "<tr><td>Sigigen</td></tr>",
                            "<tr><td>Buttisholz</td></tr>",
                            "<tr><td>Emmenbrücke</td></tr>",
                            "<tr><td>Grosswangen</td></tr>",
                            "<tr><td>Rothenburg</td></tr>",
                            "<tr><td>Hildisrieden</td></tr>",
                            "<tr><td>Neudorf</td></tr>",
                            "<tr><td>Rain</td></tr>",
                            "<tr><td>Römerswil LU</td></tr>",
                            "<tr><td>Herlisberg</td></tr>",
                            "<tr><td>Ebikon</td></tr>",
                            "<tr><td>Emmen</td></tr>",
                            "<tr><td>Buchrain</td></tr>",
                            "<tr><td>Inwil</td></tr>",
                            "<tr><td>Perlen</td></tr>",
                            "<tr><td>Dierikon</td></tr>",
                            "<tr><td>Root</td></tr>",
                            "<tr><td>Gisikon</td></tr>",
                            "<tr><td>Dietwil</td></tr>",
                            "<tr><td>Adligenswil</td></tr>",
                            "<tr><td>Udligenswil</td></tr>",
                            "<tr><td>Meggen</td></tr>",
                            "<tr><td>Kastanienbaum</td></tr>",
                            "<tr><td>Horw</td></tr>",
                            "<tr><td>Hergiswil NW</td></tr>",
                            "<tr><td>Alpnachstad</td></tr>",
                            "<tr><td>Alpnach Dorf</td></tr>",
                            "<tr><td>Kägiswil</td></tr>",
                            "<tr><td>Sarnen</td></tr>",
                            "<tr><td>Ramersberg</td></tr>",
                            "<tr><td>Melchsee-Frutt</td></tr>",
                            "<tr><td>Wilen (Sarnen)</td></tr>",
                            "<tr><td>Stalden (Sarnen)</td></tr>",
                            "<tr><td>Kerns</td></tr>",
                            "<tr><td>St. Niklausen OW</td></tr>",
                            "<tr><td>Melchtal</td></tr>",
                            "<tr><td>Sachseln</td></tr>",
                            "<tr><td>Flüeli-Ranft</td></tr>",
                            "<tr><td>Giswil</td></tr>",
                            "<tr><td>Bürglen OW</td></tr>",
                            "<tr><td>Lungern</td></tr>",
                            "<tr><td>Brünig</td></tr>",
                            "<tr><td>Hasliberg Hohfluh</td></tr>",
                            "<tr><td>Hasliberg Wasserwendi</td></tr>",
                            "<tr><td>Hasliberg Goldern</td></tr>",
                            "<tr><td>Hasliberg Reuti</td></tr>",
                            "<tr><td>Pilatus Kulm</td></tr>",
                            "<tr><td>Malters</td></tr>",
                            "<tr><td>Schwarzenberg LU</td></tr>",
                            "<tr><td>Schachen LU</td></tr>",
                            "<tr><td>Werthenstein</td></tr>",
                            "<tr><td>Wolhusen</td></tr>",
                            "<tr><td>Steinhuserberg</td></tr>",
                            "<tr><td>Fontannen b. Wolhusen</td></tr>",
                            "<tr><td>Doppleschwand</td></tr>",
                            "<tr><td>Romoos</td></tr>",
                            "<tr><td>Menznau</td></tr>",
                            "<tr><td>Geiss</td></tr>",
                            "<tr><td>Menzberg</td></tr>",
                            "<tr><td>Daiwil</td></tr>",
                            "<tr><td>Willisau</td></tr>",
                            "<tr><td>Rohrmatt</td></tr>",
                            "<tr><td>Hergiswil b. Willisau</td></tr>",
                            "<tr><td>Gettnau</td></tr>",
                            "<tr><td>Ohmstal</td></tr>",
                            "<tr><td>Zell LU</td></tr>",
                            "<tr><td>Fischbach LU</td></tr>",
                            "<tr><td>Grossdietwil</td></tr>",
                            "<tr><td>Altbüron</td></tr>",
                            "<tr><td>Hüswil</td></tr>",
                            "<tr><td>Ufhusen</td></tr>",
                            "<tr><td>Hofstatt</td></tr>",
                            "<tr><td>Luthern</td></tr>",
                            "<tr><td>Entlebuch</td></tr>",
                            "<tr><td>Ebnet</td></tr>",
                            "<tr><td>Rengg</td></tr>",
                            "<tr><td>Finsterwald b. Entlebuch</td></tr>",
                            "<tr><td>Hasle LU</td></tr>",
                            "<tr><td>Bramboden</td></tr>",
                            "<tr><td>Schüpfheim</td></tr>",
                            "<tr><td>Flühli LU</td></tr>",
                            "<tr><td>Sörenberg</td></tr>",
                            "<tr><td>Escholzmatt</td></tr>",
                            "<tr><td>Wiggen</td></tr>",
                            "<tr><td>Marbach LU</td></tr>",
                            "<tr><td>Schangnau</td></tr>",
                            "<tr><td>Sempach Station</td></tr>",
                            "<tr><td>Sempach</td></tr>",
                            "<tr><td>Eich</td></tr>",
                            "<tr><td>Neuenkirch</td></tr>",
                            "<tr><td>Nottwil</td></tr>",
                            "<tr><td>Oberkirch LU</td></tr>",
                            "<tr><td>Sursee</td></tr>",
                            "<tr><td>Buchs LU</td></tr>",
                            "<tr><td>St. Erhard</td></tr>",
                            "<tr><td>Knutwil</td></tr>",
                            "<tr><td>Schenkon</td></tr>",
                            "<tr><td>Beromünster</td></tr>",
                            "<tr><td>Schwarzenbach LU</td></tr>",
                            "<tr><td>Mauensee</td></tr>",
                            "<tr><td>Kottwil</td></tr>",
                            "<tr><td>Ettiswil</td></tr>",
                            "<tr><td>Rickenbach LU</td></tr>",
                            "<tr><td>Gunzwil</td></tr>",
                            "<tr><td>Schlierbach</td></tr>",
                            "<tr><td>Geuensee</td></tr>",
                            "<tr><td>Büron</td></tr>",
                            "<tr><td>Triengen</td></tr>",
                            "<tr><td>Kulmerau</td></tr>",
                            "<tr><td>Wilihof</td></tr>",
                            "<tr><td>Winikon</td></tr>",
                            "<tr><td>Wauwil</td></tr>",
                            "<tr><td>Egolzwil</td></tr>",
                            "<tr><td>Nebikon</td></tr>",
                            "<tr><td>Ebersecken</td></tr>",
                            "<tr><td>Altishofen</td></tr>",
                            "<tr><td>Schötz</td></tr>",
                            "<tr><td>Alberswil</td></tr>",
                            "<tr><td>Dagmersellen</td></tr>",
                            "<tr><td>Uffikon</td></tr>",
                            "<tr><td>Reiden</td></tr>",
                            "<tr><td>Reidermoos</td></tr>",
                            "<tr><td>Langnau b. Reiden</td></tr>",
                            "<tr><td>Richenthal</td></tr>",
                            "<tr><td>Pfaffnau</td></tr>",
                            "<tr><td>Roggliswil</td></tr>",
                            "<tr><td>Eschenbach LU</td></tr>",
                            "<tr><td>Ballwil</td></tr>",
                            "<tr><td>Hohenrain</td></tr>",
                            "<tr><td>Kleinwangen</td></tr>",
                            "<tr><td>Hochdorf</td></tr>",
                            "<tr><td>Urswil</td></tr>",
                            "<tr><td>Baldegg</td></tr>",
                            "<tr><td>Gelfingen</td></tr>",
                            "<tr><td>Hitzkirch</td></tr>",
                            "<tr><td>Retschwil</td></tr>",
                            "<tr><td>Müswangen</td></tr>",
                            "<tr><td>Altwis</td></tr>",
                            "<tr><td>Aesch LU</td></tr>",
                            "<tr><td>Schongau</td></tr>",
                            "<tr><td>Ermensee</td></tr>",
                            "<tr><td>Mosen</td></tr>",
                            "<tr><td>Zug</td></tr>",
                            "<tr><td>Edlibach</td></tr>",
                            "<tr><td>Finstersee</td></tr>",
                            "<tr><td>Allenwinden</td></tr>",
                            "<tr><td>Morgarten</td></tr>",
                            "<tr><td>Steinhausen</td></tr>",
                            "<tr><td>Menzingen</td></tr>",
                            "<tr><td>Unterägeri</td></tr>",
                            "<tr><td>Neuägeri</td></tr>",
                            "<tr><td>Oberägeri</td></tr>",
                            "<tr><td>Alosen</td></tr>",
                            "<tr><td>Zugerberg</td></tr>",
                            "<tr><td>Oberwil b. Zug</td></tr>",
                            "<tr><td>Walchwil</td></tr>",
                            "<tr><td>Cham</td></tr>",
                            "<tr><td>Hünenberg</td></tr>",
                            "<tr><td>Hagendorn</td></tr>",
                            "<tr><td>Baar</td></tr>",
                            "<tr><td>Rotkreuz</td></tr>",
                            "<tr><td>Meierskappel</td></tr>",
                            "<tr><td>Neuheim</td></tr>",
                            "<tr><td>Weggis</td></tr>",
                            "<tr><td>Vitznau</td></tr>",
                            "<tr><td>Rigi Kaltbad</td></tr>",
                            "<tr><td>Stansstad</td></tr>",
                            "<tr><td>Obbürgen</td></tr>",
                            "<tr><td>Kehrsiten</td></tr>",
                            "<tr><td>Stans</td></tr>",
                            "<tr><td>Ennetmoos</td></tr>",
                            "<tr><td>Ennetbürgen</td></tr>",
                            "<tr><td>Buochs</td></tr>",
                            "<tr><td>Beckenried</td></tr>",
                            "<tr><td>Emmetten</td></tr>",
                            "<tr><td>Seelisberg</td></tr>",
                            "<tr><td>Büren NW</td></tr>",
                            "<tr><td>Dallenwil</td></tr>",
                            "<tr><td>Niederrickenbach</td></tr>",
                            "<tr><td>Wolfenschiessen</td></tr>",
                            "<tr><td>Oberrickenbach</td></tr>",
                            "<tr><td>Grafenort</td></tr>",
                            "<tr><td>Engelberg</td></tr>",
                            "<tr><td>Merlischachen</td></tr>",
                            "<tr><td>Küssnacht am Rigi</td></tr>",
                            "<tr><td>Greppen</td></tr>",
                            "<tr><td>Immensee</td></tr>",
                            "<tr><td>Goldau</td></tr>",
                            "<tr><td>Rigi Klösterli</td></tr>",
                            "<tr><td>Rigi Staffel</td></tr>",
                            "<tr><td>Rigi Kulm</td></tr>",
                            "<tr><td>Oberarth</td></tr>",
                            "<tr><td>Arth</td></tr>",
                            "<tr><td>Steinerberg</td></tr>",
                            "<tr><td>Sattel</td></tr>",
                            "<tr><td>Rothenthurm</td></tr>",
                            "<tr><td>Steinen</td></tr>",
                            "<tr><td>Seewen SZ</td></tr>",
                            "<tr><td>Lauerz</td></tr>",
                            "<tr><td>Schwyz</td></tr>",
                            "<tr><td>Ried (Muotathal)</td></tr>",
                            "<tr><td>Rickenbach b. Schwyz</td></tr>",
                            "<tr><td>Stoos SZ</td></tr>",
                            "<tr><td>Illgau</td></tr>",
                            "<tr><td>Muotathal</td></tr>",
                            "<tr><td>Bisisthal</td></tr>",
                            "<tr><td>Ibach</td></tr>",
                            "<tr><td>Brunnen</td></tr>",
                            "<tr><td>Rütli</td></tr>",
                            "<tr><td>Gersau</td></tr>",
                            "<tr><td>Morschach</td></tr>",
                            "<tr><td>Sisikon</td></tr>",
                            "<tr><td>Riemenstalden</td></tr>",
                            "<tr><td>Flüelen</td></tr>",
                            "<tr><td>Altdorf UR</td></tr>",
                            "<tr><td>Isenthal</td></tr>",
                            "<tr><td>Seedorf UR</td></tr>",
                            "<tr><td>Bürglen UR</td></tr>",
                            "<tr><td>Spiringen</td></tr>",
                            "<tr><td>Unterschächen</td></tr>",
                            "<tr><td>Bauen</td></tr>",
                            "<tr><td>Schattdorf</td></tr>",
                            "<tr><td>Haldi b. Schattdorf</td></tr>",
                            "<tr><td>Attinghausen</td></tr>",
                            "<tr><td>Erstfeld</td></tr>",
                            "<tr><td>Silenen</td></tr>",
                            "<tr><td>Amsteg</td></tr>",
                            "<tr><td>Bristen</td></tr>",
                            "<tr><td>Intschi</td></tr>",
                            "<tr><td>Gurtnellen</td></tr>",
                            "<tr><td>Wassen UR</td></tr>",
                            "<tr><td>Meien</td></tr>",
                            "<tr><td>Göschenen</td></tr>",
                            "<tr><td>Andermatt</td></tr>",
                            "<tr><td>Realp</td></tr>",
                            "<tr><td>Hospental</td></tr>",
                            "<tr><td>Bellinzona</td></tr>",
                            "<tr><td>Bellinzona</td></tr>",
                            "<tr><td>Giubiasco</td></tr>",
                            "<tr><td>Monte Carasso</td></tr>",
                            "<tr><td>Sementina</td></tr>",
                            "<tr><td>Gudo</td></tr>",
                            "<tr><td>Cugnasco</td></tr>",
                            "<tr><td>Arbedo</td></tr>",
                            "<tr><td>Gorduno</td></tr>",
                            "<tr><td>Gnosca</td></tr>",
                            "<tr><td>Prosito</td></tr>",
                            "<tr><td>Lodrino</td></tr>",
                            "<tr><td>Camorino</td></tr>",
                            "<tr><td>Castione</td></tr>",
                            "<tr><td>Lumino</td></tr>",
                            "<tr><td>S. Vittore</td></tr>",
                            "<tr><td>Roveredo GR</td></tr>",
                            "<tr><td>Grono</td></tr>",
                            "<tr><td>Preonzo</td></tr>",
                            "<tr><td>Moleno</td></tr>",
                            "<tr><td>Pianezzo</td></tr>",
                            "<tr><td>S. Antonio (Val Morobbia)</td></tr>",
                            "<tr><td>Carena</td></tr>",
                            "<tr><td>Laura</td></tr>",
                            "<tr><td>Castaneda</td></tr>",
                            "<tr><td>Sta. Maria in Calanca</td></tr>",
                            "<tr><td>Verdabbio</td></tr>",
                            "<tr><td>Buseno</td></tr>",
                            "<tr><td>Arvigo</td></tr>",
                            "<tr><td>Braggio</td></tr>",
                            "<tr><td>Selma</td></tr>",
                            "<tr><td>Cauco</td></tr>",
                            "<tr><td>Augio</td></tr>",
                            "<tr><td>Rossa</td></tr>",
                            "<tr><td>Leggia</td></tr>",
                            "<tr><td>S. Bernardino</td></tr>",
                            "<tr><td>Cama</td></tr>",
                            "<tr><td>Lostallo</td></tr>",
                            "<tr><td>Soazza</td></tr>",
                            "<tr><td>Mesocco</td></tr>",
                            "<tr><td>Quartino</td></tr>",
                            "<tr><td>Magadino</td></tr>",
                            "<tr><td>Vira (Gambarogno)</td></tr>",
                            "<tr><td>S. Nazzaro</td></tr>",
                            "<tr><td>Vairano</td></tr>",
                            "<tr><td>Gerra (Gambarogno)</td></tr>",
                            "<tr><td>Ranzo</td></tr>",
                            "<tr><td>Caviano</td></tr>",
                            "<tr><td>Piazzogna</td></tr>",
                            "<tr><td>Indemini</td></tr>",
                            "<tr><td>S. Antonino</td></tr>",
                            "<tr><td>Cadenazzo</td></tr>",
                            "<tr><td>Contone</td></tr>",
                            "<tr><td>Riazzino</td></tr>",
                            "<tr><td>Gordola</td></tr>",
                            "<tr><td>Agarone</td></tr>",
                            "<tr><td>Tenero</td></tr>",
                            "<tr><td>Robasacco</td></tr>",
                            "<tr><td>Locarno</td></tr>",
                            "<tr><td>Muralto</td></tr>",
                            "<tr><td>Locarno</td></tr>",
                            "<tr><td>Monte Brè sopra Locarno</td></tr>",
                            "<tr><td>Golino</td></tr>",
                            "<tr><td>Arcegno</td></tr>",
                            "<tr><td>Contra</td></tr>",
                            "<tr><td>Mergoscia</td></tr>",
                            "<tr><td>Auressio</td></tr>",
                            "<tr><td>Loco</td></tr>",
                            "<tr><td>Berzona</td></tr>",
                            "<tr><td>Mosogno</td></tr>",
                            "<tr><td>Russo</td></tr>",
                            "<tr><td>Vergeletto</td></tr>",
                            "<tr><td>Gresso</td></tr>",
                            "<tr><td>Crana</td></tr>",
                            "<tr><td>Comologno</td></tr>",
                            "<tr><td>Spruga</td></tr>",
                            "<tr><td>Vogorno</td></tr>",
                            "<tr><td>Corippo</td></tr>",
                            "<tr><td>Lavertezzo</td></tr>",
                            "<tr><td>Brione (Verzasca)</td></tr>",
                            "<tr><td>Gerra (Verzasca)</td></tr>",
                            "<tr><td>Frasco</td></tr>",
                            "<tr><td>Sonogno</td></tr>",
                            "<tr><td>Ascona</td></tr>",
                            "<tr><td>Porto Ronco</td></tr>",
                            "<tr><td>Brissago</td></tr>",
                            "<tr><td>Isole di Brissago</td></tr>",
                            "<tr><td>Losone</td></tr>",
                            "<tr><td>Ronco sopra Ascona</td></tr>",
                            "<tr><td>Orselina</td></tr>",
                            "<tr><td>Brione sopra Minusio</td></tr>",
                            "<tr><td>Minusio</td></tr>",
                            "<tr><td>Verdasio</td></tr>",
                            "<tr><td>Rasa</td></tr>",
                            "<tr><td>Palagnedra</td></tr>",
                            "<tr><td>Borgnone</td></tr>",
                            "<tr><td>Camedo</td></tr>",
                            "<tr><td>Moneto</td></tr>",
                            "<tr><td>Tegna</td></tr>",
                            "<tr><td>Verscio</td></tr>",
                            "<tr><td>Cavigliano</td></tr>",
                            "<tr><td>Intragna</td></tr>",
                            "<tr><td>Avegno</td></tr>",
                            "<tr><td>Moghegno</td></tr>",
                            "<tr><td>Coglio</td></tr>",
                            "<tr><td>Lodano</td></tr>",
                            "<tr><td>Giumaglio</td></tr>",
                            "<tr><td>Riveo</td></tr>",
                            "<tr><td>Linescio</td></tr>",
                            "<tr><td>Cerentino</td></tr>",
                            "<tr><td>Bosco/Gurin</td></tr>",
                            "<tr><td>Niva (Vallemaggia)</td></tr>",
                            "<tr><td>Campo (Vallemaggia)</td></tr>",
                            "<tr><td>Cimalmotto</td></tr>",
                            "<tr><td>Cavergno</td></tr>",
                            "<tr><td>S. Carlo (Val Bavona)</td></tr>",
                            "<tr><td>Brontallo</td></tr>",
                            "<tr><td>Menzonio</td></tr>",
                            "<tr><td>Broglio</td></tr>",
                            "<tr><td>Prato-Sornico</td></tr>",
                            "<tr><td>Peccia</td></tr>",
                            "<tr><td>Piano di Peccia</td></tr>",
                            "<tr><td>Fusio</td></tr>",
                            "<tr><td>Gordevio</td></tr>",
                            "<tr><td>Maggia</td></tr>",
                            "<tr><td>Someo</td></tr>",
                            "<tr><td>Cevio</td></tr>",
                            "<tr><td>Bignasco</td></tr>",
                            "<tr><td>Claro</td></tr>",
                            "<tr><td>Osogna</td></tr>",
                            "<tr><td>Cresciano</td></tr>",
                            "<tr><td>Iragna</td></tr>",
                            "<tr><td>Biasca</td></tr>",
                            "<tr><td>Ludiano</td></tr>",
                            "<tr><td>Corzoneso</td></tr>",
                            "<tr><td>Leontica</td></tr>",
                            "<tr><td>Prugiasco</td></tr>",
                            "<tr><td>Castro</td></tr>",
                            "<tr><td>Ponto Valentino</td></tr>",
                            "<tr><td>Lottigna</td></tr>",
                            "<tr><td>Aquila</td></tr>",
                            "<tr><td>Campo (Blenio)</td></tr>",
                            "<tr><td>Motto (Blenio)</td></tr>",
                            "<tr><td>Malvaglia</td></tr>",
                            "<tr><td>Semione</td></tr>",
                            "<tr><td>Dongio</td></tr>",
                            "<tr><td>Acquarossa</td></tr>",
                            "<tr><td>Dangio</td></tr>",
                            "<tr><td>Torre</td></tr>",
                            "<tr><td>Olivone</td></tr>",
                            "<tr><td>Camperio</td></tr>",
                            "<tr><td>Pollegio</td></tr>",
                            "<tr><td>Bodio TI</td></tr>",
                            "<tr><td>Giornico</td></tr>",
                            "<tr><td>Lavorgo</td></tr>",
                            "<tr><td>Calonico</td></tr>",
                            "<tr><td>Nivo</td></tr>",
                            "<tr><td>Chironico</td></tr>",
                            "<tr><td>Faido</td></tr>",
                            "<tr><td>Molare</td></tr>",
                            "<tr><td>Calpiogna</td></tr>",
                            "<tr><td>Campello</td></tr>",
                            "<tr><td>Carì</td></tr>",
                            "<tr><td>Rodi-Fiesso</td></tr>",
                            "<tr><td>Ambrì</td></tr>",
                            "<tr><td>Piotta</td></tr>",
                            "<tr><td>Quinto</td></tr>",
                            "<tr><td>Varenzo</td></tr>",
                            "<tr><td>Airolo</td></tr>",
                            "<tr><td>Villa Bedretto</td></tr>",
                            "<tr><td>Madrano</td></tr>",
                            "<tr><td>Bedretto</td></tr>",
                            "<tr><td>Personico</td></tr>",
                            "<tr><td>Anzonico</td></tr>",
                            "<tr><td>Sobrio</td></tr>",
                            "<tr><td>Cavagnago</td></tr>",
                            "<tr><td>Mairengo</td></tr>",
                            "<tr><td>Osco</td></tr>",
                            "<tr><td>Rossura</td></tr>",
                            "<tr><td>Chiggiogna</td></tr>",
                            "<tr><td>Prato (Leventina)</td></tr>",
                            "<tr><td>Dalpe</td></tr>",
                            "<tr><td>Rivera</td></tr>",
                            "<tr><td>Bironico</td></tr>",
                            "<tr><td>Camignolo</td></tr>",
                            "<tr><td>Taverne</td></tr>",
                            "<tr><td>Torricella</td></tr>",
                            "<tr><td>Melide</td></tr>",
                            "<tr><td>Bissone</td></tr>",
                            "<tr><td>Maroggia</td></tr>",
                            "<tr><td>Melano</td></tr>",
                            "<tr><td>Arogno</td></tr>",
                            "<tr><td>Capolago</td></tr>",
                            "<tr><td>Riva San Vitale</td></tr>",
                            "<tr><td>Balerna</td></tr>",
                            "<tr><td>Chiasso</td></tr>",
                            "<tr><td>Sagno</td></tr>",
                            "<tr><td>Caneggio</td></tr>",
                            "<tr><td>Bruzella</td></tr>",
                            "<tr><td>Cabbio</td></tr>",
                            "<tr><td>Muggio</td></tr>",
                            "<tr><td>Scudellate</td></tr>",
                            "<tr><td>Pedrinate</td></tr>",
                            "<tr><td>Seseglio</td></tr>",
                            "<tr><td>Vacallo</td></tr>",
                            "<tr><td>Morbio Inferiore</td></tr>",
                            "<tr><td>Morbio Superiore</td></tr>",
                            "<tr><td>Medeglia</td></tr>",
                            "<tr><td>Isone</td></tr>",
                            "<tr><td>Mezzovico</td></tr>",
                            "<tr><td>Sigirino</td></tr>",
                            "<tr><td>Rovio</td></tr>",
                            "<tr><td>Pugerna</td></tr>",
                            "<tr><td>Mendrisio</td></tr>",
                            "<tr><td>Monte</td></tr>",
                            "<tr><td>Casima</td></tr>",
                            "<tr><td>Corteglia</td></tr>",
                            "<tr><td>Genestrerio</td></tr>",
                            "<tr><td>Ligornetto</td></tr>",
                            "<tr><td>S. Pietro</td></tr>",
                            "<tr><td>Stabio</td></tr>",
                            "<tr><td>Rancate</td></tr>",
                            "<tr><td>Besazio</td></tr>",
                            "<tr><td>Arzo</td></tr>",
                            "<tr><td>Tremona</td></tr>",
                            "<tr><td>Meride</td></tr>",
                            "<tr><td>Serpiano</td></tr>",
                            "<tr><td>Salorino</td></tr>",
                            "<tr><td>Somazzo</td></tr>",
                            "<tr><td>Castel San Pietro</td></tr>",
                            "<tr><td>Coldrerio</td></tr>",
                            "<tr><td>Novazzano</td></tr>",
                            "<tr><td>Lugano</td></tr>",
                            "<tr><td>Massagno</td></tr>",
                            "<tr><td>Carabbia</td></tr>",
                            "<tr><td>Pambio-Noranco</td></tr>",
                            "<tr><td>Grancia</td></tr>",
                            "<tr><td>Barbengo</td></tr>",
                            "<tr><td>Carabietta</td></tr>",
                            "<tr><td>Vico Morcote</td></tr>",
                            "<tr><td>Manno</td></tr>",
                            "<tr><td>Gravesano</td></tr>",
                            "<tr><td>Bedano</td></tr>",
                            "<tr><td>Arosio</td></tr>",
                            "<tr><td>Mugena</td></tr>",
                            "<tr><td>Vezio</td></tr>",
                            "<tr><td>Breno</td></tr>",
                            "<tr><td>Fescoggia</td></tr>",
                            "<tr><td>Comano</td></tr>",
                            "<tr><td>Brè sopra Lugano</td></tr>",
                            "<tr><td>Brusino Arsizio</td></tr>",
                            "<tr><td>Pazzallo</td></tr>",
                            "<tr><td>Carona</td></tr>",
                            "<tr><td>Figino</td></tr>",
                            "<tr><td>Morcote</td></tr>",
                            "<tr><td>Sorengo</td></tr>",
                            "<tr><td>Gentilino</td></tr>",
                            "<tr><td>Montagnola</td></tr>",
                            "<tr><td>Agra</td></tr>",
                            "<tr><td>Breganzona</td></tr>",
                            "<tr><td>Muzzano</td></tr>",
                            "<tr><td>Bioggio</td></tr>",
                            "<tr><td>Bosco Luganese</td></tr>",
                            "<tr><td>Cademario</td></tr>",
                            "<tr><td>Savosa</td></tr>",
                            "<tr><td>Vezia</td></tr>",
                            "<tr><td>Porza</td></tr>",
                            "<tr><td>Tesserete</td></tr>",
                            "<tr><td>Cureglia</td></tr>",
                            "<tr><td>Origlio</td></tr>",
                            "<tr><td>Ponte Capriasca</td></tr>",
                            "<tr><td>Vaglio</td></tr>",
                            "<tr><td>Sala Capriasca</td></tr>",
                            "<tr><td>Bigorio</td></tr>",
                            "<tr><td>Lugaggia</td></tr>",
                            "<tr><td>Insone</td></tr>",
                            "<tr><td>Odogno</td></tr>",
                            "<tr><td>Lopagno</td></tr>",
                            "<tr><td>Roveredo TI</td></tr>",
                            "<tr><td>Bidogno</td></tr>",
                            "<tr><td>Corticiasca</td></tr>",
                            "<tr><td>Scareglia</td></tr>",
                            "<tr><td>Colla</td></tr>",
                            "<tr><td>Bogno</td></tr>",
                            "<tr><td>Cozzo</td></tr>",
                            "<tr><td>Cagiallo</td></tr>",
                            "<tr><td>Oggio</td></tr>",
                            "<tr><td>Signôra</td></tr>",
                            "<tr><td>Cimadera</td></tr>",
                            "<tr><td>Maglio di Colla</td></tr>",
                            "<tr><td>Certara</td></tr>",
                            "<tr><td>Curtina</td></tr>",
                            "<tr><td>Piandera Paese</td></tr>",
                            "<tr><td>Canobbio</td></tr>",
                            "<tr><td>Viganello</td></tr>",
                            "<tr><td>Pregassona</td></tr>",
                            "<tr><td>Davesco-Soragno</td></tr>",
                            "<tr><td>Cadro</td></tr>",
                            "<tr><td>Villa Luganese</td></tr>",
                            "<tr><td>Dino</td></tr>",
                            "<tr><td>Sonvico</td></tr>",
                            "<tr><td>Aldesago</td></tr>",
                            "<tr><td>Castagnola</td></tr>",
                            "<tr><td>Ruvigliana</td></tr>",
                            "<tr><td>Gandria</td></tr>",
                            "<tr><td>Cassina d&#39;Agno</td></tr>",
                            "<tr><td>Neggio</td></tr>",
                            "<tr><td>Vernate</td></tr>",
                            "<tr><td>Iseo</td></tr>",
                            "<tr><td>Aranno</td></tr>",
                            "<tr><td>Cimo</td></tr>",
                            "<tr><td>Bedigliora</td></tr>",
                            "<tr><td>Biogno-Beride</td></tr>",
                            "<tr><td>Castelrotto</td></tr>",
                            "<tr><td>Bombinasco</td></tr>",
                            "<tr><td>Banco</td></tr>",
                            "<tr><td>Astano</td></tr>",
                            "<tr><td>Miglieglia</td></tr>",
                            "<tr><td>Purasca</td></tr>",
                            "<tr><td>Molinazzo di Monteggio</td></tr>",
                            "<tr><td>Ponte Cremenaga</td></tr>",
                            "<tr><td>Sessa</td></tr>",
                            "<tr><td>Termine</td></tr>",
                            "<tr><td>Agno</td></tr>",
                            "<tr><td>Magliaso</td></tr>",
                            "<tr><td>Pura</td></tr>",
                            "<tr><td>Curio</td></tr>",
                            "<tr><td>Novaggio</td></tr>",
                            "<tr><td>Caslano</td></tr>",
                            "<tr><td>Ponte Tresa</td></tr>",
                            "<tr><td>Chur</td></tr>",
                            "<tr><td>Felsberg</td></tr>",
                            "<tr><td>Domat/Ems</td></tr>",
                            "<tr><td>Tamins</td></tr>",
                            "<tr><td>Flims Dorf</td></tr>",
                            "<tr><td>Flims Waldhaus</td></tr>",
                            "<tr><td>Haldenstein</td></tr>",
                            "<tr><td>Maladers</td></tr>",
                            "<tr><td>Laax GR</td></tr>",
                            "<tr><td>Laax GR 2</td></tr>",
                            "<tr><td>Arosa</td></tr>",
                            "<tr><td>Passugg</td></tr>",
                            "<tr><td>Praden</td></tr>",
                            "<tr><td>Tschiertschen</td></tr>",
                            "<tr><td>Malix</td></tr>",
                            "<tr><td>Churwalden</td></tr>",
                            "<tr><td>Parpan</td></tr>",
                            "<tr><td>Valbella</td></tr>",
                            "<tr><td>Lenzerheide/Lai</td></tr>",
                            "<tr><td>Vaz/Obervaz</td></tr>",
                            "<tr><td>Lantsch/Lenz</td></tr>",
                            "<tr><td>Brienz/Brinzauls GR</td></tr>",
                            "<tr><td>Trin</td></tr>",
                            "<tr><td>Trin Mulin</td></tr>",
                            "<tr><td>Fidaz</td></tr>",
                            "<tr><td>Lüen</td></tr>",
                            "<tr><td>Castiel</td></tr>",
                            "<tr><td>St. Peter</td></tr>",
                            "<tr><td>Pagig</td></tr>",
                            "<tr><td>Molinis</td></tr>",
                            "<tr><td>Peist</td></tr>",
                            "<tr><td>Langwies</td></tr>",
                            "<tr><td>Litzirüti</td></tr>",
                            "<tr><td>Versam</td></tr>",
                            "<tr><td>Arezen</td></tr>",
                            "<tr><td>Tenna</td></tr>",
                            "<tr><td>Safien Platz</td></tr>",
                            "<tr><td>Thalkirch</td></tr>",
                            "<tr><td>Valendas</td></tr>",
                            "<tr><td>Carrera</td></tr>",
                            "<tr><td>Castrisch</td></tr>",
                            "<tr><td>Ilanz</td></tr>",
                            "<tr><td>Ruschein</td></tr>",
                            "<tr><td>Ladir</td></tr>",
                            "<tr><td>Schluein</td></tr>",
                            "<tr><td>Falera</td></tr>",
                            "<tr><td>Sagogn</td></tr>",
                            "<tr><td>Sevgein</td></tr>",
                            "<tr><td>Riein</td></tr>",
                            "<tr><td>Pitasch</td></tr>",
                            "<tr><td>Duvin</td></tr>",
                            "<tr><td>Camuns</td></tr>",
                            "<tr><td>Uors (Lumnezia)</td></tr>",
                            "<tr><td>Surcasti</td></tr>",
                            "<tr><td>Tersnaus</td></tr>",
                            "<tr><td>Luven</td></tr>",
                            "<tr><td>Cumbel</td></tr>",
                            "<tr><td>Morissen</td></tr>",
                            "<tr><td>Vella</td></tr>",
                            "<tr><td>Degen</td></tr>",
                            "<tr><td>Vattiz</td></tr>",
                            "<tr><td>Vignogn</td></tr>",
                            "<tr><td>Lumbrein</td></tr>",
                            "<tr><td>Surin</td></tr>",
                            "<tr><td>Vrin</td></tr>",
                            "<tr><td>Flond</td></tr>",
                            "<tr><td>Surcuolm</td></tr>",
                            "<tr><td>Vals</td></tr>",
                            "<tr><td>Obersaxen Affeier</td></tr>",
                            "<tr><td>Obersaxen Meierhof</td></tr>",
                            "<tr><td>Obersaxen Giraniga</td></tr>",
                            "<tr><td>Obersaxen Friggahüs</td></tr>",
                            "<tr><td>Pigniu</td></tr>",
                            "<tr><td>Rueun</td></tr>",
                            "<tr><td>Siat</td></tr>",
                            "<tr><td>Waltensburg/Vuorz</td></tr>",
                            "<tr><td>Andiast</td></tr>",
                            "<tr><td>Tavanasa</td></tr>",
                            "<tr><td>Danis</td></tr>",
                            "<tr><td>Dardin</td></tr>",
                            "<tr><td>Breil/Brigels</td></tr>",
                            "<tr><td>Trun</td></tr>",
                            "<tr><td>Schlans</td></tr>",
                            "<tr><td>Zignau</td></tr>",
                            "<tr><td>Rabius</td></tr>",
                            "<tr><td>Sumvitg</td></tr>",
                            "<tr><td>S. Benedetg</td></tr>",
                            "<tr><td>Disentis/Mustér</td></tr>",
                            "<tr><td>Cavardiras</td></tr>",
                            "<tr><td>Mumpé Medel</td></tr>",
                            "<tr><td>Curaglia</td></tr>",
                            "<tr><td>Platta</td></tr>",
                            "<tr><td>Segnas</td></tr>",
                            "<tr><td>Camischolas</td></tr>",
                            "<tr><td>Rueras</td></tr>",
                            "<tr><td>Sedrun</td></tr>",
                            "<tr><td>Surrein</td></tr>",
                            "<tr><td>Cumpadials</td></tr>",
                            "<tr><td>Untervaz Bahnhof</td></tr>",
                            "<tr><td>Trimmis</td></tr>",
                            "<tr><td>Says</td></tr>",
                            "<tr><td>Untervaz</td></tr>",
                            "<tr><td>Zizers</td></tr>",
                            "<tr><td>Igis</td></tr>",
                            "<tr><td>Malans GR</td></tr>",
                            "<tr><td>Seewis Dorf</td></tr>",
                            "<tr><td>Valzeina</td></tr>",
                            "<tr><td>Grüsch</td></tr>",
                            "<tr><td>Fanas</td></tr>",
                            "<tr><td>Schiers</td></tr>",
                            "<tr><td>Schuders</td></tr>",
                            "<tr><td>Stels</td></tr>",
                            "<tr><td>Mittellunden</td></tr>",
                            "<tr><td>Buchen im Prättigau</td></tr>",
                            "<tr><td>Putz</td></tr>",
                            "<tr><td>Pusserein</td></tr>",
                            "<tr><td>Pragg-Jenaz</td></tr>",
                            "<tr><td>Furna</td></tr>",
                            "<tr><td>Jenaz</td></tr>",
                            "<tr><td>Fideris</td></tr>",
                            "<tr><td>Küblis</td></tr>",
                            "<tr><td>Luzein</td></tr>",
                            "<tr><td>Pany</td></tr>",
                            "<tr><td>Gadenstätt</td></tr>",
                            "<tr><td>Ascharina</td></tr>",
                            "<tr><td>St. Antönien</td></tr>",
                            "<tr><td>Conters im Prättigau</td></tr>",
                            "<tr><td>Saas im Prättigau</td></tr>",
                            "<tr><td>Serneus</td></tr>",
                            "<tr><td>Klosters</td></tr>",
                            "<tr><td>Klosters Dorf</td></tr>",
                            "<tr><td>Davos Dorf</td></tr>",
                            "<tr><td>Davos Wolfgang</td></tr>",
                            "<tr><td>Davos Platz</td></tr>",
                            "<tr><td>Davos Clavadel</td></tr>",
                            "<tr><td>Davos Frauenkirch</td></tr>",
                            "<tr><td>Davos Glaris</td></tr>",
                            "<tr><td>Davos Monstein</td></tr>",
                            "<tr><td>Landquart</td></tr>",
                            "<tr><td>Mastrils</td></tr>",
                            "<tr><td>Maienfeld</td></tr>",
                            "<tr><td>Fläsch</td></tr>",
                            "<tr><td>Jenins</td></tr>",
                            "<tr><td>Bad Ragaz</td></tr>",
                            "<tr><td>Valens</td></tr>",
                            "<tr><td>Vasön</td></tr>",
                            "<tr><td>Vadura</td></tr>",
                            "<tr><td>Vättis</td></tr>",
                            "<tr><td>Pfäfers</td></tr>",
                            "<tr><td>St. Margrethenberg</td></tr>",
                            "<tr><td>Sargans</td></tr>",
                            "<tr><td>Schwendi im Weisstannental</td></tr>",
                            "<tr><td>Weisstannen</td></tr>",
                            "<tr><td>Wangs</td></tr>",
                            "<tr><td>Vilters</td></tr>",
                            "<tr><td>Bonaduz</td></tr>",
                            "<tr><td>Rhäzüns</td></tr>",
                            "<tr><td>Feldis/Veulden</td></tr>",
                            "<tr><td>Rothenbrunnen</td></tr>",
                            "<tr><td>Cazis</td></tr>",
                            "<tr><td>Realta</td></tr>",
                            "<tr><td>Sils im Domleschg</td></tr>",
                            "<tr><td>Scharans</td></tr>",
                            "<tr><td>Fürstenaubruck</td></tr>",
                            "<tr><td>Fürstenau</td></tr>",
                            "<tr><td>Rodels</td></tr>",
                            "<tr><td>Almens</td></tr>",
                            "<tr><td>Paspels</td></tr>",
                            "<tr><td>Trans</td></tr>",
                            "<tr><td>Tumegl/Tomils</td></tr>",
                            "<tr><td>Scheid</td></tr>",
                            "<tr><td>Thusis</td></tr>",
                            "<tr><td>Masein</td></tr>",
                            "<tr><td>Flerden</td></tr>",
                            "<tr><td>Urmein</td></tr>",
                            "<tr><td>Tschappina</td></tr>",
                            "<tr><td>Glaspass</td></tr>",
                            "<tr><td>Summaprada</td></tr>",
                            "<tr><td>Tartar</td></tr>",
                            "<tr><td>Sarn</td></tr>",
                            "<tr><td>Präz</td></tr>",
                            "<tr><td>Dalin</td></tr>",
                            "<tr><td>Mutten</td></tr>",
                            "<tr><td>Rongellen</td></tr>",
                            "<tr><td>Zillis</td></tr>",
                            "<tr><td>Donat</td></tr>",
                            "<tr><td>Farden</td></tr>",
                            "<tr><td>Mathon</td></tr>",
                            "<tr><td>Wergenstein</td></tr>",
                            "<tr><td>Lohn GR</td></tr>",
                            "<tr><td>Sufers</td></tr>",
                            "<tr><td>Splügen</td></tr>",
                            "<tr><td>Medels im Rheinwald</td></tr>",
                            "<tr><td>Nufenen</td></tr>",
                            "<tr><td>Hinterrhein</td></tr>",
                            "<tr><td>Andeer</td></tr>",
                            "<tr><td>Clugin</td></tr>",
                            "<tr><td>Pignia</td></tr>",
                            "<tr><td>Ausserferrera</td></tr>",
                            "<tr><td>Innerferrera</td></tr>",
                            "<tr><td>Campsut-Cröt</td></tr>",
                            "<tr><td>Cresta (Avers)</td></tr>",
                            "<tr><td>Am Bach (Avers)</td></tr>",
                            "<tr><td>Juf</td></tr>",
                            "<tr><td>Tiefencastel</td></tr>",
                            "<tr><td>Mon</td></tr>",
                            "<tr><td>Stierva</td></tr>",
                            "<tr><td>Alvaschein</td></tr>",
                            "<tr><td>Cunter</td></tr>",
                            "<tr><td>Tinizong</td></tr>",
                            "<tr><td>Rona</td></tr>",
                            "<tr><td>Mulegns</td></tr>",
                            "<tr><td>Sur</td></tr>",
                            "<tr><td>Bivio</td></tr>",
                            "<tr><td>Savognin</td></tr>",
                            "<tr><td>Salouf</td></tr>",
                            "<tr><td>Riom</td></tr>",
                            "<tr><td>Parsonz</td></tr>",
                            "<tr><td>Surava</td></tr>",
                            "<tr><td>Alvaneu Bad</td></tr>",
                            "<tr><td>Filisur</td></tr>",
                            "<tr><td>Bergün/Bravuogn</td></tr>",
                            "<tr><td>Stugl/Stuls</td></tr>",
                            "<tr><td>Latsch</td></tr>",
                            "<tr><td>Preda</td></tr>",
                            "<tr><td>Alvaneu Dorf</td></tr>",
                            "<tr><td>Schmitten (Albula)</td></tr>",
                            "<tr><td>Davos Wiesen</td></tr>",
                            "<tr><td>St. Moritz</td></tr>",
                            "<tr><td>Bever</td></tr>",
                            "<tr><td>Samedan</td></tr>",
                            "<tr><td>Pontresina</td></tr>",
                            "<tr><td>Celerina/Schlarigna</td></tr>",
                            "<tr><td>Champfèr</td></tr>",
                            "<tr><td>Silvaplana</td></tr>",
                            "<tr><td>Sils/Segl Maria</td></tr>",
                            "<tr><td>Fex</td></tr>",
                            "<tr><td>Sils/Segl Baselgia</td></tr>",
                            "<tr><td>Maloja</td></tr>",
                            "<tr><td>Plaun da Lej</td></tr>",
                            "<tr><td>La Punt-Chamues-ch</td></tr>",
                            "<tr><td>Madulain</td></tr>",
                            "<tr><td>Zuoz</td></tr>",
                            "<tr><td>S-chanf</td></tr>",
                            "<tr><td>Cinuos-chel</td></tr>",
                            "<tr><td>Brail</td></tr>",
                            "<tr><td>Zernez</td></tr>",
                            "<tr><td>Tschierv</td></tr>",
                            "<tr><td>Fuldera</td></tr>",
                            "<tr><td>Lü</td></tr>",
                            "<tr><td>Valchava</td></tr>",
                            "<tr><td>Sta. Maria Val Müstair</td></tr>",
                            "<tr><td>Müstair</td></tr>",
                            "<tr><td>Susch</td></tr>",
                            "<tr><td>Lavin</td></tr>",
                            "<tr><td>Guarda</td></tr>",
                            "<tr><td>Ardez</td></tr>",
                            "<tr><td>Scuol</td></tr>",
                            "<tr><td>Ftan</td></tr>",
                            "<tr><td>Vulpera</td></tr>",
                            "<tr><td>Tarasp</td></tr>",
                            "<tr><td>Sent</td></tr>",
                            "<tr><td>Crusch</td></tr>",
                            "<tr><td>Ramosch</td></tr>",
                            "<tr><td>Vnà</td></tr>",
                            "<tr><td>Strada</td></tr>",
                            "<tr><td>Tschlin</td></tr>",
                            "<tr><td>Martina</td></tr>",
                            "<tr><td>Samnaun-Compatsch</td></tr>",
                            "<tr><td>Samnaun Dorf</td></tr>",
                            "<tr><td>Casaccia</td></tr>",
                            "<tr><td>Vicosoprano</td></tr>",
                            "<tr><td>Borgonovo</td></tr>",
                            "<tr><td>Stampa</td></tr>",
                            "<tr><td>Promontogno</td></tr>",
                            "<tr><td>Soglio</td></tr>",
                            "<tr><td>Castasegna</td></tr>",
                            "<tr><td>Poschiavo</td></tr>",
                            "<tr><td>Sfazù</td></tr>",
                            "<tr><td>La Rösa</td></tr>",
                            "<tr><td>Brusio</td></tr>",
                            "<tr><td>Viano</td></tr>",
                            "<tr><td>Campocologno</td></tr>",
                            "<tr><td>Ospizio Bernina</td></tr>",
                            "<tr><td>S. Carlo (Poschiavo)</td></tr>",
                            "<tr><td>Alp Grüm</td></tr>",
                            "<tr><td>Li Curt</td></tr>",
                            "<tr><td>Le Prese</td></tr>",
                            "<tr><td>Campascio</td></tr>",
                            "<tr><td>Zürich</td></tr>",
                            "<tr><td>Zürich</td></tr>",
                            "<tr><td>Zürich</td></tr>",
                            "<tr><td>Zürich</td></tr>",
                            "<tr><td>Zürich</td></tr>",
                            "<tr><td>Zürich</td></tr>",
                            "<tr><td>Zürich</td></tr>",
                            "<tr><td>Zürich</td></tr>",
                            "<tr><td>Zürich</td></tr>",
                            "<tr><td>Zürich</td></tr>",
                            "<tr><td>Zürich</td></tr>",
                            "<tr><td>Zürich</td></tr>",
                            "<tr><td>Zürich</td></tr>",
                            "<tr><td>Zürich</td></tr>",
                            "<tr><td>Zürich</td></tr>",
                            "<tr><td>Zürich</td></tr>",
                            "<tr><td>Zürich</td></tr>",
                            "<tr><td>Zürich</td></tr>",
                            "<tr><td>Zürich</td></tr>",
                            "<tr><td>Zürich</td></tr>",
                            "<tr><td>Zürich</td></tr>",
                            "<tr><td>Zürich</td></tr>",
                            "<tr><td>Zürich</td></tr>",
                            "<tr><td>Zürich</td></tr>",
                            "<tr><td>Zürich</td></tr>",
                            "<tr><td>Oberengstringen</td></tr>",
                            "<tr><td>Unterengstringen</td></tr>",
                            "<tr><td>Weiningen ZH</td></tr>",
                            "<tr><td>Regensdorf</td></tr>",
                            "<tr><td>Watt</td></tr>",
                            "<tr><td>Buchs ZH</td></tr>",
                            "<tr><td>Dällikon</td></tr>",
                            "<tr><td>Otelfingen</td></tr>",
                            "<tr><td>Boppelsen</td></tr>",
                            "<tr><td>Dänikon ZH</td></tr>",
                            "<tr><td>Hüttikon</td></tr>",
                            "<tr><td>Würenlos</td></tr>",
                            "<tr><td>Fällanden</td></tr>",
                            "<tr><td>Benglen</td></tr>",
                            "<tr><td>Binz</td></tr>",
                            "<tr><td>Ebmatingen</td></tr>",
                            "<tr><td>Maur</td></tr>",
                            "<tr><td>Zollikerberg</td></tr>",
                            "<tr><td>Zumikon</td></tr>",
                            "<tr><td>Forch</td></tr>",
                            "<tr><td>Hinteregg</td></tr>",
                            "<tr><td>Egg b. Zürich</td></tr>",
                            "<tr><td>Esslingen</td></tr>",
                            "<tr><td>Adliswil</td></tr>",
                            "<tr><td>Langnau am Albis</td></tr>",
                            "<tr><td>Gattikon</td></tr>",
                            "<tr><td>Uetliberg</td></tr>",
                            "<tr><td>Uitikon Waldegg</td></tr>",
                            "<tr><td>Stallikon</td></tr>",
                            "<tr><td>Glattbrugg</td></tr>",
                            "<tr><td>Opfikon</td></tr>",
                            "<tr><td>Rümlang</td></tr>",
                            "<tr><td>Oberglatt ZH</td></tr>",
                            "<tr><td>Niederhasli</td></tr>",
                            "<tr><td>Oberhasli</td></tr>",
                            "<tr><td>Dielsdorf</td></tr>",
                            "<tr><td>Regensberg</td></tr>",
                            "<tr><td>Steinmaur</td></tr>",
                            "<tr><td>Bachs</td></tr>",
                            "<tr><td>Schöfflisdorf</td></tr>",
                            "<tr><td>Niederweningen</td></tr>",
                            "<tr><td>Niederglatt ZH</td></tr>",
                            "<tr><td>Neerach</td></tr>",
                            "<tr><td>Stadel b. Niederglatt</td></tr>",
                            "<tr><td>Windlach</td></tr>",
                            "<tr><td>Bülach</td></tr>",
                            "<tr><td>Höri</td></tr>",
                            "<tr><td>Hochfelden</td></tr>",
                            "<tr><td>Bachenbülach</td></tr>",
                            "<tr><td>Winkel</td></tr>",
                            "<tr><td>Glattfelden</td></tr>",
                            "<tr><td>Eglisau</td></tr>",
                            "<tr><td>Hüntwangen</td></tr>",
                            "<tr><td>Wasterkingen</td></tr>",
                            "<tr><td>Wil ZH</td></tr>",
                            "<tr><td>Rafz</td></tr>",
                            "<tr><td>Schaffhausen</td></tr>",
                            "<tr><td>Schaffhausen</td></tr>",
                            "<tr><td>Schaffhausen</td></tr>",
                            "<tr><td>Schaffhausen</td></tr>",
                            "<tr><td>Trasadingen</td></tr>",
                            "<tr><td>Beggingen</td></tr>",
                            "<tr><td>Hemmental</td></tr>",
                            "<tr><td>Stetten SH</td></tr>",
                            "<tr><td>Lohn SH</td></tr>",
                            "<tr><td>Opfertshofen SH</td></tr>",
                            "<tr><td>Büttenhardt</td></tr>",
                            "<tr><td>Bibern SH</td></tr>",
                            "<tr><td>Hofen SH</td></tr>",
                            "<tr><td>Altdorf SH</td></tr>",
                            "<tr><td>Dörflingen</td></tr>",
                            "<tr><td>Neuhausen am Rheinfall</td></tr>",
                            "<tr><td>Neunkirch</td></tr>",
                            "<tr><td>Gächlingen</td></tr>",
                            "<tr><td>Hallau</td></tr>",
                            "<tr><td>Oberhallau</td></tr>",
                            "<tr><td>Wilchingen</td></tr>",
                            "<tr><td>Osterfingen</td></tr>",
                            "<tr><td>Beringen</td></tr>",
                            "<tr><td>Guntmadingen</td></tr>",
                            "<tr><td>Löhningen</td></tr>",
                            "<tr><td>Siblingen</td></tr>",
                            "<tr><td>Schleitheim</td></tr>",
                            "<tr><td>Merishausen</td></tr>",
                            "<tr><td>Bargen SH</td></tr>",
                            "<tr><td>Thayngen</td></tr>",
                            "<tr><td>Barzheim</td></tr>",
                            "<tr><td>Feuerthalen</td></tr>",
                            "<tr><td>Langwiesen</td></tr>",
                            "<tr><td>Flurlingen</td></tr>",
                            "<tr><td>Schlatt TG</td></tr>",
                            "<tr><td>Basadingen</td></tr>",
                            "<tr><td>Kaltenbach</td></tr>",
                            "<tr><td>Diessenhofen</td></tr>",
                            "<tr><td>Schlattingen</td></tr>",
                            "<tr><td>Etzwilen</td></tr>",
                            "<tr><td>Stein am Rhein</td></tr>",
                            "<tr><td>Wagenhausen</td></tr>",
                            "<tr><td>Hemishofen</td></tr>",
                            "<tr><td>Ramsen</td></tr>",
                            "<tr><td>Buch SH</td></tr>",
                            "<tr><td>Eschenz</td></tr>",
                            "<tr><td>Mammern</td></tr>",
                            "<tr><td>Steckborn</td></tr>",
                            "<tr><td>Berlingen</td></tr>",
                            "<tr><td>Mannenbach-Salenstein</td></tr>",
                            "<tr><td>Ermatingen</td></tr>",
                            "<tr><td>Triboltingen</td></tr>",
                            "<tr><td>Tägerwilen</td></tr>",
                            "<tr><td>Kreuzlingen</td></tr>",
                            "<tr><td>Kloten</td></tr>",
                            "<tr><td>Bassersdorf</td></tr>",
                            "<tr><td>Wallisellen</td></tr>",
                            "<tr><td>Dietlikon</td></tr>",
                            "<tr><td>Brüttisellen</td></tr>",
                            "<tr><td>Effretikon</td></tr>",
                            "<tr><td>Lindau</td></tr>",
                            "<tr><td>Illnau</td></tr>",
                            "<tr><td>Agasul</td></tr>",
                            "<tr><td>Nürensdorf</td></tr>",
                            "<tr><td>Kemptthal</td></tr>",
                            "<tr><td>Winterberg ZH</td></tr>",
                            "<tr><td>Brütten</td></tr>",
                            "<tr><td>Ottikon b. Kemptthal</td></tr>",
                            "<tr><td>Kyburg</td></tr>",
                            "<tr><td>Fehraltorf</td></tr>",
                            "<tr><td>Wildberg</td></tr>",
                            "<tr><td>Madetswil</td></tr>",
                            "<tr><td>Pfäffikon ZH</td></tr>",
                            "<tr><td>Auslikon</td></tr>",
                            "<tr><td>Russikon</td></tr>",
                            "<tr><td>Hittnau</td></tr>",
                            "<tr><td>Hinwil</td></tr>",
                            "<tr><td>Wernetshausen</td></tr>",
                            "<tr><td>Bäretswil</td></tr>",
                            "<tr><td>Adetswil</td></tr>",
                            "<tr><td>Elsau</td></tr>",
                            "<tr><td>Elgg</td></tr>",
                            "<tr><td>Hofstetten ZH</td></tr>",
                            "<tr><td>Aadorf</td></tr>",
                            "<tr><td>Ettenhausen TG</td></tr>",
                            "<tr><td>Guntershausen b. Aadorf</td></tr>",
                            "<tr><td>Eschlikon TG</td></tr>",
                            "<tr><td>Balterswil</td></tr>",
                            "<tr><td>Bichelsee</td></tr>",
                            "<tr><td>Sirnach</td></tr>",
                            "<tr><td>Wiezikon b. Sirnach</td></tr>",
                            "<tr><td>Oberwangen TG</td></tr>",
                            "<tr><td>Dussnang</td></tr>",
                            "<tr><td>Fischingen</td></tr>",
                            "<tr><td>Au TG</td></tr>",
                            "<tr><td>Winterthur</td></tr>",
                            "<tr><td>Winterthur</td></tr>",
                            "<tr><td>Winterthur</td></tr>",
                            "<tr><td>Winterthur</td></tr>",
                            "<tr><td>Winterthur</td></tr>",
                            "<tr><td>Winterthur</td></tr>",
                            "<tr><td>Aesch (Neftenbach)</td></tr>",
                            "<tr><td>Neftenbach</td></tr>",
                            "<tr><td>Buch am Irchel</td></tr>",
                            "<tr><td>Berg am Irchel</td></tr>",
                            "<tr><td>Gräslikon</td></tr>",
                            "<tr><td>Flaach</td></tr>",
                            "<tr><td>Schlatt b. Winterthur</td></tr>",
                            "<tr><td>Pfungen</td></tr>",
                            "<tr><td>Dättlikon</td></tr>",
                            "<tr><td>Embrach</td></tr>",
                            "<tr><td>Oberembrach</td></tr>",
                            "<tr><td>Lufingen</td></tr>",
                            "<tr><td>Teufen ZH</td></tr>",
                            "<tr><td>Zweidlen</td></tr>",
                            "<tr><td>Weiach</td></tr>",
                            "<tr><td>Kaiserstuhl AG</td></tr>",
                            "<tr><td>Fisibach</td></tr>",
                            "<tr><td>Rekingen AG</td></tr>",
                            "<tr><td>Bad Zurzach</td></tr>",
                            "<tr><td>Rietheim</td></tr>",
                            "<tr><td>Rümikon AG</td></tr>",
                            "<tr><td>Mellikon</td></tr>",
                            "<tr><td>Wislikofen</td></tr>",
                            "<tr><td>Siglistorf</td></tr>",
                            "<tr><td>Baldingen</td></tr>",
                            "<tr><td>Böbikon</td></tr>",
                            "<tr><td>Hettlingen</td></tr>",
                            "<tr><td>Henggart</td></tr>",
                            "<tr><td>Dachsen</td></tr>",
                            "<tr><td>Uhwiesen</td></tr>",
                            "<tr><td>Andelfingen</td></tr>",
                            "<tr><td>Alten</td></tr>",
                            "<tr><td>Kleinandelfingen</td></tr>",
                            "<tr><td>Adlikon b. Andelfingen</td></tr>",
                            "<tr><td>Humlikon</td></tr>",
                            "<tr><td>Dorf</td></tr>",
                            "<tr><td>Volken</td></tr>",
                            "<tr><td>Buchberg</td></tr>",
                            "<tr><td>Rüdlingen</td></tr>",
                            "<tr><td>Marthalen</td></tr>",
                            "<tr><td>Ellikon am Rhein</td></tr>",
                            "<tr><td>Oerlingen</td></tr>",
                            "<tr><td>Rudolfingen</td></tr>",
                            "<tr><td>Trüllikon</td></tr>",
                            "<tr><td>Rheinau</td></tr>",
                            "<tr><td>Benken ZH</td></tr>",
                            "<tr><td>Seuzach</td></tr>",
                            "<tr><td>Reutlingen (Winterthur)</td></tr>",
                            "<tr><td>Dinhard</td></tr>",
                            "<tr><td>Ossingen</td></tr>",
                            "<tr><td>Unterstammheim</td></tr>",
                            "<tr><td>Oberstammheim</td></tr>",
                            "<tr><td>Rutschwil (Dägerlen)</td></tr>",
                            "<tr><td>Thalheim an der Thur</td></tr>",
                            "<tr><td>Altikon</td></tr>",
                            "<tr><td>Truttikon</td></tr>",
                            "<tr><td>Guntalingen</td></tr>",
                            "<tr><td>Waltalingen</td></tr>",
                            "<tr><td>Sennhof (Winterthur)</td></tr>",
                            "<tr><td>Kollbrunn</td></tr>",
                            "<tr><td>Weisslingen</td></tr>",
                            "<tr><td>Neschwil</td></tr>",
                            "<tr><td>Theilingen</td></tr>",
                            "<tr><td>Rikon im Tösstal</td></tr>",
                            "<tr><td>Rämismühle</td></tr>",
                            "<tr><td>Zell ZH</td></tr>",
                            "<tr><td>Turbenthal</td></tr>",
                            "<tr><td>Wila</td></tr>",
                            "<tr><td>Saland</td></tr>",
                            "<tr><td>Bauma</td></tr>",
                            "<tr><td>Steg im Tösstal</td></tr>",
                            "<tr><td>Fischenthal</td></tr>",
                            "<tr><td>Gibswil</td></tr>",
                            "<tr><td>Schmidrüti</td></tr>",
                            "<tr><td>Sternenberg</td></tr>",
                            "<tr><td>Frauenfeld</td></tr>",
                            "<tr><td>Gerlikon</td></tr>",
                            "<tr><td>Pfyn</td></tr>",
                            "<tr><td>Lanzenneunforn</td></tr>",
                            "<tr><td>Hörhausen</td></tr>",
                            "<tr><td>Homburg</td></tr>",
                            "<tr><td>Thundorf</td></tr>",
                            "<tr><td>Lustdorf</td></tr>",
                            "<tr><td>Amlikon-Bissegg</td></tr>",
                            "<tr><td>Häuslenen</td></tr>",
                            "<tr><td>Hagenbuch ZH</td></tr>",
                            "<tr><td>Uesslingen</td></tr>",
                            "<tr><td>Niederneunforn</td></tr>",
                            "<tr><td>Oberneunforn</td></tr>",
                            "<tr><td>Warth</td></tr>",
                            "<tr><td>Buch b. Frauenfeld</td></tr>",
                            "<tr><td>Weiningen TG</td></tr>",
                            "<tr><td>Herdern</td></tr>",
                            "<tr><td>Hüttwilen</td></tr>",
                            "<tr><td>Nussbaumen TG</td></tr>",
                            "<tr><td>Wiesendangen</td></tr>",
                            "<tr><td>Stadel (Winterthur)</td></tr>",
                            "<tr><td>Rickenbach ZH</td></tr>",
                            "<tr><td>Attikon</td></tr>",
                            "<tr><td>Islikon</td></tr>",
                            "<tr><td>Gachnang</td></tr>",
                            "<tr><td>Ellikon an der Thur</td></tr>",
                            "<tr><td>Felben-Wellhausen</td></tr>",
                            "<tr><td>Müllheim-Wigoltingen</td></tr>",
                            "<tr><td>Bonau</td></tr>",
                            "<tr><td>Müllheim Dorf</td></tr>",
                            "<tr><td>Wigoltingen</td></tr>",
                            "<tr><td>Lipperswil</td></tr>",
                            "<tr><td>Raperswilen</td></tr>",
                            "<tr><td>Fruthwilen</td></tr>",
                            "<tr><td>Märstetten</td></tr>",
                            "<tr><td>Ottoberg</td></tr>",
                            "<tr><td>Hugelshofen</td></tr>",
                            "<tr><td>Dotnacht</td></tr>",
                            "<tr><td>Neuwilen</td></tr>",
                            "<tr><td>Engwilen</td></tr>",
                            "<tr><td>Wäldi</td></tr>",
                            "<tr><td>Weinfelden</td></tr>",
                            "<tr><td>Berg TG</td></tr>",
                            "<tr><td>Siegershausen</td></tr>",
                            "<tr><td>Illighausen</td></tr>",
                            "<tr><td>Bürglen TG</td></tr>",
                            "<tr><td>Mauren TG</td></tr>",
                            "<tr><td>Schönholzerswilen</td></tr>",
                            "<tr><td>Neukirch an der Thur</td></tr>",
                            "<tr><td>Amriswil</td></tr>",
                            "<tr><td>Sommeri</td></tr>",
                            "<tr><td>Dozwil</td></tr>",
                            "<tr><td>Hagenwil b. Amriswil</td></tr>",
                            "<tr><td>Schocherswil</td></tr>",
                            "<tr><td>Zihlschlacht</td></tr>",
                            "<tr><td>Sitterdorf</td></tr>",
                            "<tr><td>Sulgen</td></tr>",
                            "<tr><td>Götighofen</td></tr>",
                            "<tr><td>Donzhausen</td></tr>",
                            "<tr><td>Leimbach TG</td></tr>",
                            "<tr><td>Opfershofen TG</td></tr>",
                            "<tr><td>Mattwil</td></tr>",
                            "<tr><td>Happerswil</td></tr>",
                            "<tr><td>Langrickenbach</td></tr>",
                            "<tr><td>Zuben</td></tr>",
                            "<tr><td>Erlen</td></tr>",
                            "<tr><td>Andwil TG</td></tr>",
                            "<tr><td>Kümmertshausen</td></tr>",
                            "<tr><td>Riedt b. Erlen</td></tr>",
                            "<tr><td>Oberaach</td></tr>",
                            "<tr><td>Romanshorn</td></tr>",
                            "<tr><td>Salmsach</td></tr>",
                            "<tr><td>Uttwil</td></tr>",
                            "<tr><td>Kesswil</td></tr>",
                            "<tr><td>Güttingen</td></tr>",
                            "<tr><td>Altnau</td></tr>",
                            "<tr><td>Scherzingen</td></tr>",
                            "<tr><td>Landschlacht</td></tr>",
                            "<tr><td>Bottighofen</td></tr>",
                            "<tr><td>Dübendorf</td></tr>",
                            "<tr><td>Wangen b. Dübendorf</td></tr>",
                            "<tr><td>Schwerzenbach</td></tr>",
                            "<tr><td>Volketswil</td></tr>",
                            "<tr><td>Gutenswil</td></tr>",
                            "<tr><td>Nänikon</td></tr>",
                            "<tr><td>Greifensee</td></tr>",
                            "<tr><td>Aathal-Seegräben</td></tr>",
                            "<tr><td>Bubikon</td></tr>",
                            "<tr><td>Uster</td></tr>",
                            "<tr><td>Bertschikon (Gossau ZH)</td></tr>",
                            "<tr><td>Wermatswil</td></tr>",
                            "<tr><td>Riedikon</td></tr>",
                            "<tr><td>Mönchaltorf</td></tr>",
                            "<tr><td>Oetwil am See</td></tr>",
                            "<tr><td>Wetzikon ZH</td></tr>",
                            "<tr><td>Wetzikon ZH</td></tr>",
                            "<tr><td>Grüt (Gossau ZH)</td></tr>",
                            "<tr><td>Gossau ZH</td></tr>",
                            "<tr><td>Ottikon (Gossau ZH)</td></tr>",
                            "<tr><td>Grüningen</td></tr>",
                            "<tr><td>Rüti ZH</td></tr>",
                            "<tr><td>Tann</td></tr>",
                            "<tr><td>Wolfhausen</td></tr>",
                            "<tr><td>Hombrechtikon</td></tr>",
                            "<tr><td>Dürnten</td></tr>",
                            "<tr><td>Wald ZH</td></tr>",
                            "<tr><td>Laupen ZH</td></tr>",
                            "<tr><td>Goldingen</td></tr>",
                            "<tr><td>Rapperswil SG</td></tr>",
                            "<tr><td>Jona</td></tr>",
                            "<tr><td>Wagen</td></tr>",
                            "<tr><td>Küsnacht ZH</td></tr>",
                            "<tr><td>Zollikon</td></tr>",
                            "<tr><td>Erlenbach ZH</td></tr>",
                            "<tr><td>Herrliberg</td></tr>",
                            "<tr><td>Meilen</td></tr>",
                            "<tr><td>Uetikon am See</td></tr>",
                            "<tr><td>Männedorf</td></tr>",
                            "<tr><td>Stäfa</td></tr>",
                            "<tr><td>Uerikon</td></tr>",
                            "<tr><td>Feldbach</td></tr>",
                            "<tr><td>Bollingen</td></tr>",
                            "<tr><td>Schmerikon</td></tr>",
                            "<tr><td>Benken SG</td></tr>",
                            "<tr><td>Schänis</td></tr>",
                            "<tr><td>Kaltbrunn</td></tr>",
                            "<tr><td>Rufi</td></tr>",
                            "<tr><td>Ernetschwil</td></tr>",
                            "<tr><td>Ricken SG</td></tr>",
                            "<tr><td>Walde SG</td></tr>",
                            "<tr><td>Uznach</td></tr>",
                            "<tr><td>Neuhaus SG</td></tr>",
                            "<tr><td>Eschenbach SG</td></tr>",
                            "<tr><td>Ermenswil</td></tr>",
                            "<tr><td>St. Gallenkappel</td></tr>",
                            "<tr><td>Rüeterswil</td></tr>",
                            "<tr><td>Gommiswald</td></tr>",
                            "<tr><td>Uetliburg SG</td></tr>",
                            "<tr><td>Rieden SG</td></tr>",
                            "<tr><td>Glarus</td></tr>",
                            "<tr><td>Riedern</td></tr>",
                            "<tr><td>Klöntal</td></tr>",
                            "<tr><td>Urnerboden</td></tr>",
                            "<tr><td>Näfels</td></tr>",
                            "<tr><td>Mollis</td></tr>",
                            "<tr><td>Netstal</td></tr>",
                            "<tr><td>Ennenda</td></tr>",
                            "<tr><td>Mitlödi</td></tr>",
                            "<tr><td>Schwanden GL</td></tr>",
                            "<tr><td>Schwändi b. Schwanden</td></tr>",
                            "<tr><td>Sool</td></tr>",
                            "<tr><td>Engi</td></tr>",
                            "<tr><td>Matt</td></tr>",
                            "<tr><td>Elm</td></tr>",
                            "<tr><td>Nidfurn</td></tr>",
                            "<tr><td>Haslen GL</td></tr>",
                            "<tr><td>Luchsingen</td></tr>",
                            "<tr><td>Hätzingen</td></tr>",
                            "<tr><td>Diesbach GL</td></tr>",
                            "<tr><td>Rüti GL</td></tr>",
                            "<tr><td>Linthal</td></tr>",
                            "<tr><td>Braunwald</td></tr>",
                            "<tr><td>Thalwil</td></tr>",
                            "<tr><td>Kilchberg ZH</td></tr>",
                            "<tr><td>Rüschlikon</td></tr>",
                            "<tr><td>Au ZH</td></tr>",
                            "<tr><td>Richterswil</td></tr>",
                            "<tr><td>Bäch SZ</td></tr>",
                            "<tr><td>Freienbach</td></tr>",
                            "<tr><td>Pfäffikon SZ</td></tr>",
                            "<tr><td>Horgen</td></tr>",
                            "<tr><td>Horgenberg</td></tr>",
                            "<tr><td>Hirzel</td></tr>",
                            "<tr><td>Wädenswil</td></tr>",
                            "<tr><td>Schönenberg ZH</td></tr>",
                            "<tr><td>Hütten</td></tr>",
                            "<tr><td>Wollerau</td></tr>",
                            "<tr><td>Samstagern</td></tr>",
                            "<tr><td>Schindellegi</td></tr>",
                            "<tr><td>Feusisberg</td></tr>",
                            "<tr><td>Bennau</td></tr>",
                            "<tr><td>Einsiedeln</td></tr>",
                            "<tr><td>Trachslau</td></tr>",
                            "<tr><td>Alpthal</td></tr>",
                            "<tr><td>Willerzell</td></tr>",
                            "<tr><td>Egg SZ</td></tr>",
                            "<tr><td>Gross</td></tr>",
                            "<tr><td>Euthal</td></tr>",
                            "<tr><td>Studen SZ</td></tr>",
                            "<tr><td>Unteriberg</td></tr>",
                            "<tr><td>Oberiberg</td></tr>",
                            "<tr><td>Altendorf</td></tr>",
                            "<tr><td>Lachen SZ</td></tr>",
                            "<tr><td>Siebnen</td></tr>",
                            "<tr><td>Galgenen</td></tr>",
                            "<tr><td>Wangen SZ</td></tr>",
                            "<tr><td>Tuggen</td></tr>",
                            "<tr><td>Vorderthal</td></tr>",
                            "<tr><td>Innerthal</td></tr>",
                            "<tr><td>Schübelbach</td></tr>",
                            "<tr><td>Buttikon SZ</td></tr>",
                            "<tr><td>Reichenburg</td></tr>",
                            "<tr><td>Bilten</td></tr>",
                            "<tr><td>Ziegelbrücke</td></tr>",
                            "<tr><td>Niederurnen</td></tr>",
                            "<tr><td>Oberurnen</td></tr>",
                            "<tr><td>Weesen</td></tr>",
                            "<tr><td>Amden</td></tr>",
                            "<tr><td>Mühlehorn</td></tr>",
                            "<tr><td>Obstalden</td></tr>",
                            "<tr><td>Filzbach</td></tr>",
                            "<tr><td>Murg</td></tr>",
                            "<tr><td>Quinten</td></tr>",
                            "<tr><td>Walenstadt</td></tr>",
                            "<tr><td>Walenstadtberg</td></tr>",
                            "<tr><td>Knoblisbühl</td></tr>",
                            "<tr><td>Tscherlach</td></tr>",
                            "<tr><td>Unterterzen</td></tr>",
                            "<tr><td>Quarten</td></tr>",
                            "<tr><td>Oberterzen</td></tr>",
                            "<tr><td>Mols</td></tr>",
                            "<tr><td>Mels</td></tr>",
                            "<tr><td>Mädris-Vermol</td></tr>",
                            "<tr><td>Plons</td></tr>",
                            "<tr><td>Heiligkreuz (Mels)</td></tr>",
                            "<tr><td>Flums</td></tr>",
                            "<tr><td>Berschis</td></tr>",
                            "<tr><td>Flums Hochwiese</td></tr>",
                            "<tr><td>Flumserberg Saxli</td></tr>",
                            "<tr><td>Flumserberg Portels</td></tr>",
                            "<tr><td>Flumserberg Bergheim</td></tr>",
                            "<tr><td>Flumserberg Tannenheim</td></tr>",
                            "<tr><td>Flumserberg Tannenbodenalp</td></tr>",
                            "<tr><td>Urdorf</td></tr>",
                            "<tr><td>Birmensdorf ZH</td></tr>",
                            "<tr><td>Aesch ZH</td></tr>",
                            "<tr><td>Bonstetten</td></tr>",
                            "<tr><td>Wettswil</td></tr>",
                            "<tr><td>Hedingen</td></tr>",
                            "<tr><td>Affoltern am Albis</td></tr>",
                            "<tr><td>Zwillikon</td></tr>",
                            "<tr><td>Rifferswil</td></tr>",
                            "<tr><td>Obfelden</td></tr>",
                            "<tr><td>Ottenbach</td></tr>",
                            "<tr><td>Aeugst am Albis</td></tr>",
                            "<tr><td>Aeugstertal</td></tr>",
                            "<tr><td>Hausen am Albis</td></tr>",
                            "<tr><td>Jonen</td></tr>",
                            "<tr><td>Oberlunkhofen</td></tr>",
                            "<tr><td>Unterlunkhofen</td></tr>",
                            "<tr><td>Rottenschwil</td></tr>",
                            "<tr><td>Ebertswil</td></tr>",
                            "<tr><td>Kappel am Albis</td></tr>",
                            "<tr><td>Mettmenstetten</td></tr>",
                            "<tr><td>Maschwanden</td></tr>",
                            "<tr><td>Knonau</td></tr>",
                            "<tr><td>Oberrieden</td></tr>",
                            "<tr><td>Sihlbrugg Station</td></tr>",
                            "<tr><td>Sihlbrugg</td></tr>",
                            "<tr><td>Fahrweid</td></tr>",
                            "<tr><td>Schlieren</td></tr>",
                            "<tr><td>Dietikon</td></tr>",
                            "<tr><td>Geroldswil</td></tr>",
                            "<tr><td>Oetwil an der Limmat</td></tr>",
                            "<tr><td>Killwangen</td></tr>",
                            "<tr><td>Spreitenbach</td></tr>",
                            "<tr><td>Bergdietikon</td></tr>",
                            "<tr><td>Rudolfstetten</td></tr>",
                            "<tr><td>Berikon</td></tr>",
                            "<tr><td>Oberwil-Lieli</td></tr>",
                            "<tr><td>Widen</td></tr>",
                            "<tr><td>St. Gallen</td></tr>",
                            "<tr><td>St. Gallen</td></tr>",
                            "<tr><td>St. Gallen</td></tr>",
                            "<tr><td>St. Gallen</td></tr>",
                            "<tr><td>St. Gallen</td></tr>",
                            "<tr><td>St. Gallen</td></tr>",
                            "<tr><td>St. Gallen</td></tr>",
                            "<tr><td>St. Gallen</td></tr>",
                            "<tr><td>Abtwil SG</td></tr>",
                            "<tr><td>Engelburg</td></tr>",
                            "<tr><td>Untereggen</td></tr>",
                            "<tr><td>Eggersriet</td></tr>",
                            "<tr><td>Grub AR</td></tr>",
                            "<tr><td>Grub SG</td></tr>",
                            "<tr><td>Speicherschwendi</td></tr>",
                            "<tr><td>Rehetobel</td></tr>",
                            "<tr><td>Speicher</td></tr>",
                            "<tr><td>Trogen</td></tr>",
                            "<tr><td>Wald AR</td></tr>",
                            "<tr><td>Appenzell</td></tr>",
                            "<tr><td>Niederteufen</td></tr>",
                            "<tr><td>Teufen AR</td></tr>",
                            "<tr><td>Haslen AI</td></tr>",
                            "<tr><td>Bühler</td></tr>",
                            "<tr><td>Gais</td></tr>",
                            "<tr><td>Weissbad</td></tr>",
                            "<tr><td>Brülisau</td></tr>",
                            "<tr><td>Lustmühle</td></tr>",
                            "<tr><td>Stein AR</td></tr>",
                            "<tr><td>Hundwil</td></tr>",
                            "<tr><td>Herisau</td></tr>",
                            "<tr><td>Schwellbrunn</td></tr>",
                            "<tr><td>Waldstatt</td></tr>",
                            "<tr><td>Schönengrund</td></tr>",
                            "<tr><td>Urnäsch</td></tr>",
                            "<tr><td>Gonten</td></tr>",
                            "<tr><td>Schachen b. Herisau</td></tr>",
                            "<tr><td>Degersheim</td></tr>",
                            "<tr><td>Hoffeld</td></tr>",
                            "<tr><td>Dicken</td></tr>",
                            "<tr><td>Wolfertswil</td></tr>",
                            "<tr><td>Mogelsberg</td></tr>",
                            "<tr><td>Nassen</td></tr>",
                            "<tr><td>Brunnadern</td></tr>",
                            "<tr><td>Necker</td></tr>",
                            "<tr><td>St. Peterzell</td></tr>",
                            "<tr><td>Bächli (Hemberg)</td></tr>",
                            "<tr><td>Gossau SG</td></tr>",
                            "<tr><td>Niederwil SG</td></tr>",
                            "<tr><td>Andwil SG</td></tr>",
                            "<tr><td>Waldkirch</td></tr>",
                            "<tr><td>Arnegg</td></tr>",
                            "<tr><td>Hauptwil</td></tr>",
                            "<tr><td>Heldswil</td></tr>",
                            "<tr><td>Schönenberg an der Thur</td></tr>",
                            "<tr><td>Buhwil</td></tr>",
                            "<tr><td>Bischofszell</td></tr>",
                            "<tr><td>Schweizersholz</td></tr>",
                            "<tr><td>Halden</td></tr>",
                            "<tr><td>Hohentannen</td></tr>",
                            "<tr><td>Wilen (Gottshaus)</td></tr>",
                            "<tr><td>St. Pelagiberg</td></tr>",
                            "<tr><td>Flawil</td></tr>",
                            "<tr><td>Egg (Flawil)</td></tr>",
                            "<tr><td>Oberrindal</td></tr>",
                            "<tr><td>Lütisburg</td></tr>",
                            "<tr><td>Uzwil</td></tr>",
                            "<tr><td>Niederglatt SG</td></tr>",
                            "<tr><td>Oberuzwil</td></tr>",
                            "<tr><td>Bichwil</td></tr>",
                            "<tr><td>Jonschwil</td></tr>",
                            "<tr><td>Niederuzwil</td></tr>",
                            "<tr><td>Oberbüren</td></tr>",
                            "<tr><td>Niederbüren</td></tr>",
                            "<tr><td>Henau</td></tr>",
                            "<tr><td>Algetshausen</td></tr>",
                            "<tr><td>Wittenbach</td></tr>",
                            "<tr><td>Bernhardzell</td></tr>",
                            "<tr><td>Berg SG</td></tr>",
                            "<tr><td>Freidorf TG</td></tr>",
                            "<tr><td>Winden</td></tr>",
                            "<tr><td>Lömmenschwil</td></tr>",
                            "<tr><td>Häggenschwil</td></tr>",
                            "<tr><td>Muolen</td></tr>",
                            "<tr><td>Steinebrunn</td></tr>",
                            "<tr><td>Neukirch (Egnach)</td></tr>",
                            "<tr><td>Arbon</td></tr>",
                            "<tr><td>Frasnacht</td></tr>",
                            "<tr><td>Stachen</td></tr>",
                            "<tr><td>Egnach</td></tr>",
                            "<tr><td>Steinach</td></tr>",
                            "<tr><td>Roggwil TG</td></tr>",
                            "<tr><td>Horn</td></tr>",
                            "<tr><td>Tübach</td></tr>",
                            "<tr><td>Rorschach</td></tr>",
                            "<tr><td>Rorschacherberg</td></tr>",
                            "<tr><td>Mörschwil</td></tr>",
                            "<tr><td>Goldach</td></tr>",
                            "<tr><td>Wienacht-Tobel</td></tr>",
                            "<tr><td>Heiden</td></tr>",
                            "<tr><td>Reute AR</td></tr>",
                            "<tr><td>Oberegg</td></tr>",
                            "<tr><td>Schachen b. Reute</td></tr>",
                            "<tr><td>Staad SG</td></tr>",
                            "<tr><td>Altenrhein</td></tr>",
                            "<tr><td>Rheineck</td></tr>",
                            "<tr><td>Thal</td></tr>",
                            "<tr><td>Lutzenberg</td></tr>",
                            "<tr><td>Wolfhalden</td></tr>",
                            "<tr><td>Walzenhausen</td></tr>",
                            "<tr><td>St. Margrethen SG</td></tr>",
                            "<tr><td>Au SG</td></tr>",
                            "<tr><td>Heerbrugg</td></tr>",
                            "<tr><td>Balgach</td></tr>",
                            "<tr><td>Marbach SG</td></tr>",
                            "<tr><td>Lüchingen</td></tr>",
                            "<tr><td>Berneck</td></tr>",
                            "<tr><td>Widnau</td></tr>",
                            "<tr><td>Diepoldsau</td></tr>",
                            "<tr><td>Rebstein</td></tr>",
                            "<tr><td>Altstätten SG</td></tr>",
                            "<tr><td>Kriessern</td></tr>",
                            "<tr><td>Hinterforst</td></tr>",
                            "<tr><td>Eichberg</td></tr>",
                            "<tr><td>Montlingen</td></tr>",
                            "<tr><td>Oberriet SG</td></tr>",
                            "<tr><td>Rüthi (Rheintal)</td></tr>",
                            "<tr><td>Lienz</td></tr>",
                            "<tr><td>Salez</td></tr>",
                            "<tr><td>Sennwald</td></tr>",
                            "<tr><td>Frümsen</td></tr>",
                            "<tr><td>Sax</td></tr>",
                            "<tr><td>Haag (Rheintal)</td></tr>",
                            "<tr><td>Buchs SG</td></tr>",
                            "<tr><td>Grabs</td></tr>",
                            "<tr><td>Grabserberg</td></tr>",
                            "<tr><td>Gams</td></tr>",
                            "<tr><td>Sevelen</td></tr>",
                            "<tr><td>Weite</td></tr>",
                            "<tr><td>Trübbach</td></tr>",
                            "<tr><td>Azmoos</td></tr>",
                            "<tr><td>Oberschan</td></tr>",
                            "<tr><td>Nendeln</td></tr>",
                            "<tr><td>Schaanwald</td></tr>",
                            "<tr><td>Gamprin-Bendern</td></tr>",
                            "<tr><td>Schellenberg</td></tr>",
                            "<tr><td>Vaduz</td></tr>",
                            "<tr><td>Ruggell</td></tr>",
                            "<tr><td>Eschen</td></tr>",
                            "<tr><td>Mauren FL</td></tr>",
                            "<tr><td>Schaan</td></tr>",
                            "<tr><td>Triesen</td></tr>",
                            "<tr><td>Balzers</td></tr>",
                            "<tr><td>Triesenberg</td></tr>",
                            "<tr><td>Wil SG</td></tr>",
                            "<tr><td>Braunau</td></tr>",
                            "<tr><td>Stehrenberg</td></tr>",
                            "<tr><td>Friltschen</td></tr>",
                            "<tr><td>Lommis</td></tr>",
                            "<tr><td>Stettfurt</td></tr>",
                            "<tr><td>Weingarten-Kalthäusern</td></tr>",
                            "<tr><td>Rossrüti</td></tr>",
                            "<tr><td>Wuppenau</td></tr>",
                            "<tr><td>Hosenruck</td></tr>",
                            "<tr><td>Mettlen</td></tr>",
                            "<tr><td>Rothenhausen</td></tr>",
                            "<tr><td>Züberwangen</td></tr>",
                            "<tr><td>Zuzwil SG</td></tr>",
                            "<tr><td>Lenggenwil</td></tr>",
                            "<tr><td>Zuckenriet</td></tr>",
                            "<tr><td>Niederhelfenschwil</td></tr>",
                            "<tr><td>Rickenbach b. Wil</td></tr>",
                            "<tr><td>Kirchberg SG</td></tr>",
                            "<tr><td>Gähwil</td></tr>",
                            "<tr><td>Wilen b. Wil</td></tr>",
                            "<tr><td>Schwarzenbach SG</td></tr>",
                            "<tr><td>Münchwilen TG</td></tr>",
                            "<tr><td>St. Margarethen TG</td></tr>",
                            "<tr><td>Wängi</td></tr>",
                            "<tr><td>Tuttwil</td></tr>",
                            "<tr><td>Wittenwil</td></tr>",
                            "<tr><td>Matzingen</td></tr>",
                            "<tr><td>Bronschhofen</td></tr>",
                            "<tr><td>Bettwiesen</td></tr>",
                            "<tr><td>Tägerschen</td></tr>",
                            "<tr><td>Tobel</td></tr>",
                            "<tr><td>Affeltrangen</td></tr>",
                            "<tr><td>Märwil</td></tr>",
                            "<tr><td>Schmidshof</td></tr>",
                            "<tr><td>Oppikon</td></tr>",
                            "<tr><td>Bussnang</td></tr>",
                            "<tr><td>Littenheid</td></tr>",
                            "<tr><td>Lütisburg Station</td></tr>",
                            "<tr><td>Bazenheid</td></tr>",
                            "<tr><td>Müselbach</td></tr>",
                            "<tr><td>Bütschwil</td></tr>",
                            "<tr><td>Mosnang</td></tr>",
                            "<tr><td>Ganterschwil</td></tr>",
                            "<tr><td>Dreien</td></tr>",
                            "<tr><td>Mühlrüti</td></tr>",
                            "<tr><td>Libingen</td></tr>",
                            "<tr><td>Dietfurt</td></tr>",
                            "<tr><td>Lichtensteig</td></tr>",
                            "<tr><td>Oberhelfenschwil</td></tr>",
                            "<tr><td>Krinau</td></tr>",
                            "<tr><td>Wattwil</td></tr>",
                            "<tr><td>Ulisbach</td></tr>",
                            "<tr><td>Hemberg</td></tr>",
                            "<tr><td>Ebnat-Kappel</td></tr>",
                            "<tr><td>Krummenau</td></tr>",
                            "<tr><td>Nesslau</td></tr>",
                            "<tr><td>Ennetbühl</td></tr>",
                            "<tr><td>Stein SG</td></tr>",
                            "<tr><td>Neu St. Johann</td></tr>",
                            "<tr><td>Alt St. Johann</td></tr>",
                            "<tr><td>Unterwasser</td></tr>",
                            "<tr><td>Wildhaus</td></tr>",
                            "<tr><td>Schmitten FR</td></tr>",
                            "<tr><td>Rubigen</td></tr>",
                            "<tr><td>Campione d&#39;Italia</td></tr>",
                            "<tr><td>Büsingen</td></tr>",
                            "<tr><td>Bruson</td></tr>",
                            "<tr><td>Sundlauenen</td></tr>",
                            "<tr><td>Mex VD</td></tr>",
                            "<tr><td>Tentlingen</td></tr>",
                            "<tr><td>Villars-Ste-Croix</td></tr>",
                            "<tr><td>Cheseaux-Noréaz</td></tr>",
                            "<tr><td>Innerberg</td></tr>",
                            "<tr><td>Mies</td></tr>",
                            "<tr><td>Tannay</td></tr>",
                            "<tr><td>Oberdorf NW</td></tr>",
                            "<tr><td>Tagelswangen</td></tr>",
                            "<tr><td>Schwanden b. Brienz</td></tr>",
                            "<tr><td>St-Jean VS</td></tr>",
                            "<tr><td>Walliswil b. Niederbipp</td></tr>",
                            "<tr><td>Vich</td></tr>",
                            "<tr><td>Coinsins</td></tr>",
                            "<tr><td>Gockhausen</td></tr>",
                            "<tr><td>Sulzbach</td></tr>",
                            "<tr><td>Chandolin (Savièse)</td></tr>",
                            "<tr><td>Clavaleyres</td></tr>",
                            "<tr><td>Champoz</td></tr>",
                            "<tr><td>Monible</td></tr>",
                            "<tr><td>Schelten</td></tr>",
                            "<tr><td>Vellerat</td></tr>",
                            "<tr><td>Rebévelier</td></tr>",
                            "<tr><td>Hagneck</td></tr>",
                            "<tr><td>Mörigen</td></tr>",
                            "<tr><td>Schwadernau</td></tr>",
                            "<tr><td>Bollion</td></tr>",
                            "<tr><td>Chandon</td></tr>",
                            "<tr><td>Chapelle (Broye)</td></tr>",
                            "<tr><td>Châtillon FR</td></tr>",
                            "<tr><td>Forel FR</td></tr>",
                            "<tr><td>Frasses</td></tr>",
                            "<tr><td>Les Friques</td></tr>",
                            "<tr><td>Granges-de-Vesin</td></tr>",
                            "<tr><td>Lully FR</td></tr>",
                            "<tr><td>Montbrelloz</td></tr>",
                            "<tr><td>Morens FR</td></tr>",
                            "<tr><td>Praratoud</td></tr>",
                            "<tr><td>Prévondavaux</td></tr>",
                            "<tr><td>Russy</td></tr>",
                            "<tr><td>Seiry</td></tr>",
                            "<tr><td>Sévaz</td></tr>",
                            "<tr><td>Vallon</td></tr>",
                            "<tr><td>Vesin</td></tr>",
                            "<tr><td>Berlens</td></tr>",
                            "<tr><td>Bionnens</td></tr>",
                            "<tr><td>Blessens</td></tr>",
                            "<tr><td>Chapelle (Glâne)</td></tr>",
                            "<tr><td>Chavannes-sous-Orsonnens</td></tr>",
                            "<tr><td>Les Ecasseys</td></tr>",
                            "<tr><td>Esmonts</td></tr>",
                            "<tr><td>Gillarens</td></tr>",
                            "<tr><td>Hennens</td></tr>",
                            "<tr><td>Lieffrens</td></tr>",
                            "<tr><td>Lussy FR</td></tr>",
                            "<tr><td>La Magne</td></tr>",
                            "<tr><td>Montet (Glâne)</td></tr>",
                            "<tr><td>Morlens</td></tr>",
                            "<tr><td>Mossel</td></tr>",
                            "<tr><td>La Neirigue</td></tr>",
                            "<tr><td>Villargiroud</td></tr>",
                            "<tr><td>Châtel-sur-Montsalvens</td></tr>",
                            "<tr><td>Lessoc</td></tr>",
                            "<tr><td>Maules</td></tr>",
                            "<tr><td>Villarbeney</td></tr>",
                            "<tr><td>Villars-sous-Mont</td></tr>",
                            "<tr><td>Autafond</td></tr>",
                            "<tr><td>La Corbaz</td></tr>",
                            "<tr><td>Corjolens</td></tr>",
                            "<tr><td>Cormagens</td></tr>",
                            "<tr><td>Ecuvillens</td></tr>",
                            "<tr><td>Essert FR</td></tr>",
                            "<tr><td>Farvagny-le-Petit</td></tr>",
                            "<tr><td>Ferpicloz</td></tr>",
                            "<tr><td>Grenilles</td></tr>",
                            "<tr><td>Lossy</td></tr>",
                            "<tr><td>Lovens</td></tr>",
                            "<tr><td>Magnedens</td></tr>",
                            "<tr><td>Montévraz</td></tr>",
                            "<tr><td>Oberried FR</td></tr>",
                            "<tr><td>Pierrafortscha</td></tr>",
                            "<tr><td>Ponthaux</td></tr>",
                            "<tr><td>Posat</td></tr>",
                            "<tr><td>Rueyres-St-Laurent</td></tr>",
                            "<tr><td>Senèdes</td></tr>",
                            "<tr><td>Villarsel-le-Gibloux</td></tr>",
                            "<tr><td>Villarsel-sur-Marly</td></tr>",
                            "<tr><td>Zénauva</td></tr>",
                            "<tr><td>Cormérod</td></tr>",
                            "<tr><td>Courtion</td></tr>",
                            "<tr><td>Guschelmuth</td></tr>",
                            "<tr><td>Wallenried</td></tr>",
                            "<tr><td>Oberschrot</td></tr>",
                            "<tr><td>Zumholz</td></tr>",
                            "<tr><td>Besencens</td></tr>",
                            "<tr><td>Fiaugères</td></tr>",
                            "<tr><td>Grattavache</td></tr>",
                            "<tr><td>Pizy</td></tr>",
                            "<tr><td>Mur (Vully) VD</td></tr>",
                            "<tr><td>Oleyres</td></tr>",
                            "<tr><td>Chavannes-le-Veyron</td></tr>",
                            "<tr><td>Mauraz</td></tr>",
                            "<tr><td>Eclagnens</td></tr>",
                            "<tr><td>Goumoens-le-Jux</td></tr>",
                            "<tr><td>Naz</td></tr>",
                            "<tr><td>Grandevent</td></tr>",
                            "<tr><td>Mutrux</td></tr>",
                            "<tr><td>Romairon</td></tr>",
                            "<tr><td>Vaugondry</td></tr>",
                            "<tr><td>Jouxtens-Mézery</td></tr>",
                            "<tr><td>Chigny</td></tr>",
                            "<tr><td>Denges</td></tr>",
                            "<tr><td>Correvon</td></tr>",
                            "<tr><td>Lovatens</td></tr>",
                            "<tr><td>Martherenges</td></tr>",
                            "<tr><td>Montaubion-Chardonney</td></tr>",
                            "<tr><td>Rossenges</td></tr>",
                            "<tr><td>Sarzens</td></tr>",
                            "<tr><td>Arnex-sur-Nyon</td></tr>",
                            "<tr><td>Bogis-Bossey</td></tr>",
                            "<tr><td>Chavannes-des-Bois</td></tr>",
                            "<tr><td>Sergey</td></tr>",
                            "<tr><td>Bussigny-sur-Oron</td></tr>",
                            "<tr><td>Chesalles-sur-Oron</td></tr>",
                            "<tr><td>Les Tavernes</td></tr>",
                            "<tr><td>Les Thioleyres</td></tr>",
                            "<tr><td>Vuibroye</td></tr>",
                            "<tr><td>Cerniaz VD</td></tr>",
                            "<tr><td>Rossens VD</td></tr>",
                            "<tr><td>Seigneux</td></tr>",
                            "<tr><td>Dully</td></tr>",
                            "<tr><td>Tartegnin</td></tr>",
                            "<tr><td>Chamblon</td></tr>",
                            "<tr><td>Démoret</td></tr>",
                            "<tr><td>Essert-sous-Champvent</td></tr>",
                            "<tr><td>Villars-sous-Champvent</td></tr>",
                            "<tr><td>Gossens</td></tr>",
                            "<tr><td>Gressy</td></tr>",
                            "<tr><td>Mézery-près-Donneloye</td></tr>",
                            "<tr><td>Oppens</td></tr>",
                            "<tr><td>Ursins</td></tr>",
                            "<tr><td>Villars-Epeney</td></tr>",
                            "<tr><td>Montalchez</td></tr>",
                            "<tr><td>Engollon</td></tr>",
                            "<tr><td>Damphreux</td></tr>",
                            "<tr><td>Fregiécourt</td></tr>",
                            "<tr><td>Oberweningen</td></tr>",
                            "<tr><td>Schleinikon</td></tr>",
                            "<tr><td>Bertschikon</td></tr>",
                            "<tr><td>Niederried b. Kallnach</td></tr>",
                            "<tr><td>Gutenburg</td></tr>",
                            "<tr><td>Meienried</td></tr>",
                            "<tr><td>Hellsau</td></tr>",
                            "<tr><td>Höchstetten</td></tr>",
                            "<tr><td>Mötschwil</td></tr>",
                            "<tr><td>Oberösch</td></tr>",
                            "<tr><td>Rumendingen</td></tr>",
                            "<tr><td>Rüti b. Lyssach</td></tr>",
                            "<tr><td>Willadingen</td></tr>",
                            "<tr><td>Finsterhennen</td></tr>",
                            "<tr><td>Ballmoos</td></tr>",
                            "<tr><td>Bangerten b. Dieterswil</td></tr>",
                            "<tr><td>Deisswil b. Münchenbuchsee</td></tr>",
                            "<tr><td>Diemerswil</td></tr>",
                            "<tr><td>Münchringen</td></tr>",
                            "<tr><td>Ruppoldsried</td></tr>",
                            "<tr><td>Scheunen</td></tr>",
                            "<tr><td>Wiggiswil</td></tr>",
                            "<tr><td>Zauggenried</td></tr>",
                            "<tr><td>Freimettigen</td></tr>",
                            "<tr><td>Häutligen</td></tr>",
                            "<tr><td>Herbligen</td></tr>",
                            "<tr><td>Mirchel</td></tr>",
                            "<tr><td>Oppligen</td></tr>",
                            "<tr><td>Oberhünigen</td></tr>",
                            "<tr><td>Golaten</td></tr>",
                            "<tr><td>Bühl b. Aarberg</td></tr>",
                            "<tr><td>Epsach</td></tr>",
                            "<tr><td>Merzligen</td></tr>",
                            "<tr><td>Niederstocken</td></tr>",
                            "<tr><td>Englisberg</td></tr>",
                            "<tr><td>Jaberg</td></tr>",
                            "<tr><td>Lohnstorf</td></tr>",
                            "<tr><td>Mühledorf BE</td></tr>",
                            "<tr><td>Noflen BE</td></tr>",
                            "<tr><td>Rümligen</td></tr>",
                            "<tr><td>Forst b. Längenbühl</td></tr>",
                            "<tr><td>Horrenbach</td></tr>",
                            "<tr><td>Schwendibach</td></tr>",
                            "<tr><td>Zwieselberg</td></tr>",
                            "<tr><td>Berken</td></tr>",
                            "<tr><td>Bollodingen</td></tr>",
                            "<tr><td>Ochlenberg</td></tr>",
                            "<tr><td>Wolfisberg</td></tr>",
                            "<tr><td>Hämikon</td></tr>",
                            "<tr><td>Lieli LU</td></tr>",
                            "<tr><td>Sulz LU</td></tr>",
                            "<tr><td>Honau</td></tr>",
                            "<tr><td>Betschwanden</td></tr>",
                            "<tr><td>Leuggelbach</td></tr>",
                            "<tr><td>Agriswil</td></tr>",
                            "<tr><td>Büchslen</td></tr>",
                            "<tr><td>Greng</td></tr>",
                            "<tr><td>Kleinbösingen</td></tr>",
                            "<tr><td>Kleingurmels</td></tr>",
                            "<tr><td>Lurtigen</td></tr>",
                            "<tr><td>Wallenbuch</td></tr>",
                            "<tr><td>Aetigkofen</td></tr>",
                            "<tr><td>Balm b. Messen</td></tr>",
                            "<tr><td>Gächliwil</td></tr>",
                            "<tr><td>Bolken</td></tr>",
                            "<tr><td>Burgäschi</td></tr>",
                            "<tr><td>Halten</td></tr>",
                            "<tr><td>Heinrichswil</td></tr>",
                            "<tr><td>Hüniken</td></tr>",
                            "<tr><td>Oekingen</td></tr>",
                            "<tr><td>Steinhof SO</td></tr>",
                            "<tr><td>Winistorf</td></tr>",
                            "<tr><td>Kammersrohr</td></tr>",
                            "<tr><td>Liedertswil</td></tr>",
                            "<tr><td>Schwende</td></tr>",
                            "<tr><td>Marmorera</td></tr>",
                            "<tr><td>Schnaus</td></tr>",
                            "<tr><td>St. Martin (Lugnez)</td></tr>",
                            "<tr><td>Pratval</td></tr>",
                            "<tr><td>Portein</td></tr>",
                            "<tr><td>Calfreisen</td></tr>",
                            "<tr><td>Uezwil</td></tr>",
                            "<tr><td>Réclère</td></tr>",
                            "<tr><td>Veytaux</td></tr>",
                            "<tr><td>Eppenberg</td></tr>",
                            "<tr><td>Islisberg</td></tr>",
                            "<tr><td>Geltwil</td></tr>",
                            "<tr><td>Wiliberg</td></tr>",
                            "<tr><td>Hefenhofen</td></tr>",
                            "<tr><td>Buchackern</td></tr>",
                            "<tr><td>Engishofen</td></tr>",
                            "<tr><td>Ennetaach</td></tr>",
                            "<tr><td>Willisdorf</td></tr>",
                            "<tr><td>Kefikon TG</td></tr>",
                            "<tr><td>Eschikofen</td></tr>",
                            "<tr><td>Harenwilen</td></tr>",
                            "<tr><td>Mettendorf TG</td></tr>",
                            "<tr><td>Alterswilen</td></tr>",
                            "<tr><td>Altishausen</td></tr>",
                            "<tr><td>Ellighausen</td></tr>",
                            "<tr><td>Lippoldswilen</td></tr>",
                            "<tr><td>Gottlieben</td></tr>",
                            "<tr><td>Schönenbaumgarten</td></tr>",
                            "<tr><td>Herrenhof</td></tr>",
                            "<tr><td>Sonterswil</td></tr>",
                            "<tr><td>Buch b. Märwil</td></tr>",
                            "<tr><td>Zezikon</td></tr>",
                            "<tr><td>Wetzikon TG</td></tr>",
                            "<tr><td>Wallenwil</td></tr>",
                            "<tr><td>Uerschhausen</td></tr>",
                            "<tr><td>Dettighofen</td></tr>",
                            "<tr><td>Rheinklingen</td></tr>",
                            "<tr><td>Andhausen</td></tr>",
                            "<tr><td>Graltshausen</td></tr>",
                            "<tr><td>Birwinken</td></tr>",
                            "<tr><td>Guntershausen b. Berg</td></tr>",
                            "<tr><td>Klarsreuti</td></tr>",
                            "<tr><td>Istighofen</td></tr>",
                            "<tr><td>Engwang</td></tr>",
                            "<tr><td>Illhart</td></tr>",
                            "<tr><td>Ghirone</td></tr>",
                            "<tr><td>Largario</td></tr>",
                            "<tr><td>Marolta</td></tr>",
                            "<tr><td>Cureggia</td></tr>",
                            "<tr><td>Lamone</td></tr>",
                            "<tr><td>Ausserbinn</td></tr>",
                            "<tr><td>Mühlebach (Goms)</td></tr>",
                            "<tr><td>Ritzingen</td></tr>",
                            "<tr><td>Selkingen</td></tr>",
                            "<tr><td>Steinhaus</td></tr>",
                            "<tr><td>Bratsch</td></tr>",
                            "<tr><td>Bister</td></tr>",
                            "<tr><td>Filet</td></tr>",
                            "<tr><td>Goppisberg</td></tr>",
                            "<tr><td>Martisberg</td></tr>",
                            "<tr><td>Steg VS</td></tr>",
                            "<tr><td>Planken</td></tr>",
                            "<tr><td>Kaltbach</td></tr>",
                            "<tr><td>Wilen b. Neunforn</td></tr>",
                            "<tr><td>Malleray</td></tr>",
                            "<tr><td>Crésuz</td></tr>",
                            "<tr><td>Treyfayes</td></tr>",
                            "<tr><td>Fresens</td></tr>",
                            "<tr><td>Lugnez</td></tr>",
                            "<tr><td>Pleujouse</td></tr>",
                            "<tr><td>Progens</td></tr>",
                            "<tr><td>Wöschnau</td></tr>",
                            "<tr><td>Fieschertal</td></tr>",
                            "<tr><td>Cadempino</td></tr>",
                            "<tr><td>Lüterswil</td></tr>",
                            "<tr><td>Arni AG</td></tr>",
                            "<tr><td>Hüttlingen</td></tr>",
                            "<tr><td>Werdenberg</td></tr>",
                            "<tr><td>Freienstein</td></tr>",
                            "<tr><td>Rorbas</td></tr>",
                            "<tr><td>Rueyres-Treyfayes</td></tr>",
                            "<tr><td>Arveyes</td></tr>",
                            "<tr><td>Aminona</td></tr>",
                            "<tr><td>Wittwil</td></tr>",
                            "<tr><td>St. Niklausen LU</td></tr>",
                            "<tr><td>Madonna del Piano</td></tr>",
                            "<tr><td>Fajauna</td></tr>",
                            "<tr><td>Miralago</td></tr>",
                            "<tr><td>Nohl</td></tr>",
                            "<tr><td>Dägerlen</td></tr>",
                            "<tr><td>Ebersol</td></tr>",
                            "<tr><td>Paradiso</td></tr>",
                            "<tr><td>Avry-sur-Matran</td></tr>",
                            "<tr><td>Barberêche</td></tr>",
                            "<tr><td>Montagny-les-Monts</td></tr>",
                            "<tr><td>Bellerive VD</td></tr>",
                            "<tr><td>La Vue-des-Alpes</td></tr>",
                            "<tr><td>Ringoldswil</td></tr>",
                            "<tr><td>Thunstetten</td></tr>",
                            "<tr><td>Bursinel</td></tr>",
                            "<tr><td>Brigerbad</td></tr>",
                            "<tr><td>Pfaffhausen</td></tr>",
                            "<tr><td>Provence</td></tr>",
                            "<tr><td>Châtelat</td></tr>",
                            "<tr><td>Chenaux</td></tr>",
                            "<tr><td>Solduno</td></tr>",
                            "<tr><td>Bürgenstock</td></tr>",
                            "<tr><td>Wilen b. Wollerau</td></tr>",
                            "<tr><td>Felsenau AG</td></tr>",
                            "<tr><td>Mannens</td></tr>",
                            "<tr><td>Grandsivaz</td></tr>",
                            "<tr><td>Hauptikon</td></tr>",
                            "<tr><td>Uerzlikon</td></tr>",
                            "<tr><td>Echandens</td></tr>",
                            "<tr><td>Dättwil AG</td></tr>",
                            "<tr><td>Rütihof</td></tr>",
                            "<tr><td>Adlikon b. Regensdorf</td></tr>",
                            "<tr><td>Buonas</td></tr>",
                            "<tr><td>Risch</td></tr>",
                            "<tr><td>Holzhäusern ZG</td></tr>",
                            "<tr><td>Niedergampel</td></tr>",
                            "<tr><td>Drône (Savièse)</td></tr>",
                            "<tr><td>Rüegsauschachen</td></tr>",
                            "<tr><td>Hasle b. Burgdorf</td></tr>",
                            "<tr><td>Fürigen</td></tr>",
                            "<tr><td>Rigi Scheidegg</td></tr>",
                            "<tr><td>Lüterkofen</td></tr>",
                            "<tr><td>Salenstein</td></tr>",
                            "<tr><td>Aawangen</td></tr>",
                            "<tr><td>Lanterswil</td></tr>",
                            "<tr><td>Oberhofen TG</td></tr>",
                            "<tr><td>Hintermoos</td></tr>",
                            "<tr><td>Wiesenberg</td></tr>",
                            "<tr><td>Lohn-Ammannsegg</td></tr>",
                            "<tr><td>Gebertingen</td></tr>",
                            "<tr><td>Uvrier</td></tr>",
                            "<tr><td>Balmberg</td></tr>",
                            "<tr><td>Oberbalmberg</td></tr>",
                            "<tr><td>Luthern Bad</td></tr>",
                            "<tr><td>Mehlsecken</td></tr>",
                            "<tr><td>Aurigeno</td></tr>",
                            "<tr><td>Obermutten</td></tr>",
                            "<tr><td>Lavey-les-Bains</td></tr>",
                            "<tr><td>Gerolfingen</td></tr>",
                            "<tr><td>Kradolf</td></tr>",
                            "<tr><td>Hurden</td></tr>",
                            "<tr><td>La Lécherette</td></tr>",
                            "<tr><td>Thielle</td></tr>",
                            "<tr><td>Wavre</td></tr>",
                            "<tr><td>Misery</td></tr>",
                            "<tr><td>Oberstocken</td></tr>",
                            "<tr><td>Les Monts-de-Pully</td></tr>",
                            "<tr><td>Fontnas</td></tr>",
                            "<tr><td>Erlinsbach</td></tr>",
                            "<tr><td>Signy</td></tr>",
                            "<tr><td>Hefenhausen</td></tr>",
                            "<tr><td>Wagerswil</td></tr>",
                            "<tr><td>Buch b. Kümmertshausen</td></tr>",
                            "<tr><td>Oberbussnang</td></tr>",
                            "<tr><td>Courtemautruy</td></tr>",
                            "<tr><td>Le Solliat</td></tr>",
                            "<tr><td>Villars-Bozon</td></tr>",
                            "<tr><td>Allens</td></tr>",
                            "<tr><td>Waldhäusern AG</td></tr>",
                            "<tr><td>Niouc</td></tr>",
                            "<tr><td>Produit (Leytron)</td></tr>",
                            "<tr><td>Montagnon (Leytron)</td></tr>",
                            "<tr><td>Dugny (Leytron)</td></tr>",
                            "<tr><td>Auddes-sur-Riddes</td></tr>",
                            "<tr><td>Les Valettes (Bovernier)</td></tr>",
                            "<tr><td>Vens (Sembrancher)</td></tr>",
                            "<tr><td>Chamoille (Sembrancher)</td></tr>",
                            "<tr><td>La Garde (Sembrancher)</td></tr>",
                            "<tr><td>Cries (Vollèges)</td></tr>",
                            "<tr><td>Fontaine Dessus (Liddes)</td></tr>",
                            "<tr><td>Fontaine Dessous (Liddes)</td></tr>",
                            "<tr><td>Dranse (Liddes)</td></tr>",
                            "<tr><td>Chandonne (Liddes)</td></tr>",
                            "<tr><td>Rive Haute (Liddes)</td></tr>",
                            "<tr><td>Fornex (Liddes)</td></tr>",
                            "<tr><td>Les Moulins VS (Liddes)</td></tr>",
                            "<tr><td>Vichères (Liddes)</td></tr>",
                            "<tr><td>Palasuit (Liddes)</td></tr>",
                            "<tr><td>Chez Petit (Liddes)</td></tr>",
                            "<tr><td>Petit Vichères (Liddes)</td></tr>",
                            "<tr><td>Champsec</td></tr>",
                            "<tr><td>Les Vérines (Chamoson)</td></tr>",
                            "<tr><td>Némiaz (Chamoson)</td></tr>",
                            "<tr><td>Grugnay (Chamoson)</td></tr>",
                            "<tr><td>Roumaz (Savièse)</td></tr>",
                            "<tr><td>Granois (Savièse)</td></tr>",
                            "<tr><td>St-Germain (Savièse)</td></tr>",
                            "<tr><td>Ormône (Savièse)</td></tr>",
                            "<tr><td>Mayens-de-la-Zour (Savièse)</td></tr>",
                            "<tr><td>Fortunau (Ayent)</td></tr>",
                            "<tr><td>Luc (Ayent)</td></tr>",
                            "<tr><td>St-Romain (Ayent)</td></tr>",
                            "<tr><td>Saxonne (Ayent)</td></tr>",
                            "<tr><td>Villa (Ayent)</td></tr>",
                            "<tr><td>La Place (Ayent)</td></tr>",
                            "<tr><td>Botyre (Ayent)</td></tr>",
                            "<tr><td>Blignou (Ayent)</td></tr>",
                            "<tr><td>Argnou (Ayent)</td></tr>",
                            "<tr><td>Liez (St-Martin)</td></tr>",
                            "<tr><td>Trogne (St-Martin)</td></tr>",
                            "<tr><td>Suen (St-Martin)</td></tr>",
                            "<tr><td>Champlan (Grimisuat)</td></tr>",
                            "<tr><td>Lanna</td></tr>",
                            "<tr><td>Arvillard (Salins)</td></tr>",
                            "<tr><td>Pravidondaz (Salins)</td></tr>",
                            "<tr><td>Turin (Salins)</td></tr>",
                            "<tr><td>Misériez (Salins)</td></tr>",
                            "<tr><td>Clèbes (Nendaz)</td></tr>",
                            "<tr><td>Brignon (Nendaz)</td></tr>",
                            "<tr><td>La Vernaz (Les Agettes)</td></tr>",
                            "<tr><td>Crête-à-l&#39;Oeil(Les Agettes)</td></tr>",
                            "<tr><td>Bieudron (Nendaz)</td></tr>",
                            "<tr><td>Condémines (Nendaz)</td></tr>",
                            "<tr><td>Saclentse</td></tr>",
                            "<tr><td>Mayens-de-Chamoson</td></tr>",
                            "<tr><td>Cotterd</td></tr>",
                            "<tr><td>Champoussin</td></tr>",
                            "<tr><td>Fenin</td></tr>",
                            "<tr><td>Saules</td></tr>",
                            "<tr><td>Les Crosets</td></tr>",
                            "<tr><td>Monteiller (Savièse)</td></tr>",
                            "<tr><td>Nierlet-les-Bois</td></tr>",
                            "<tr><td>Mur (Vully) FR</td></tr>",
                            "<tr><td>Morcles</td></tr>",
                            "<tr><td>Gretschins</td></tr>",
                            "<tr><td>Malans SG</td></tr>",
                            "<tr><td>Hattenhausen</td></tr>",
                            "<tr><td>Fretereules</td></tr>",
                            "<tr><td>Brot-Dessous</td></tr>",
                            "<tr><td>Oberstetten</td></tr>",
                            "<tr><td>Niederstetten</td></tr>",
                            "<tr><td>Gunterswilen</td></tr>",
                            "<tr><td>Gündlischwand</td></tr>",
                            "<tr><td>Schattenhalb</td></tr>",
                            "<tr><td>Les Pontins</td></tr>",
                            "<tr><td>Tatroz</td></tr>",
                            "<tr><td>Villette (Lavaux)</td></tr>",
                            "<tr><td>Wirzweli</td></tr>",
                            "<tr><td>La Cibourg</td></tr>",
                            "<tr><td>La Cibourg</td></tr>",
                            "<tr><td>Lamperswil TG</td></tr>",
                            "<tr><td>Root D4</td></tr>",
                            "<tr><td>Montezillon</td></tr>",
                            "<tr><td>Territet</td></tr>",
                            "<tr><td>Muriaux</td></tr>",
                            "<tr><td>Les Ecorcheresses</td></tr>",
                            "<tr><td>Freudwil</td></tr>",
                            "<tr><td>Eison (St.Martin)</td></tr>",
                            "<tr><td>Buchen BE</td></tr>",
                            "<tr><td>Brittern</td></tr>",
                            "<tr><td>Hertenstein AG</td></tr>",
                            "<tr><td>Rieden AG</td></tr>",
                            "<tr><td>Münsterlingen</td></tr>",
                            "<tr><td>Unterrindal</td></tr>",
                            "<tr><td>Champzabé</td></tr>",
                            "<tr><td>Greich</td></tr>",
                            "<tr><td>Menzengrüt</td></tr>",
                            "<tr><td>Lätti</td></tr>",
                            "<tr><td>Seewil</td></tr>",
                            "<tr><td>Sihlwald</td></tr>",
                            "<tr><td>Glattpark (Opfikon)</td></tr>",
                            "<tr><td>Fenkrieden</td></tr>",
                            "<tr><td>Formangueires</td></tr>",
                            "<tr><td>Silvaplana-Surlej</td></tr>",
                            "<tr><td>Gundetswil</td></tr>",
                            "<tr><td>Kloster Fahr</td></tr>",
                            "<tr><td>La Coudre</td></tr>",
                            "<tr><td>Ricketwil (Winterthur)</td></tr>",
                            "<tr><td>Hünenberg See</td></tr>",
                            "<tr><td>Rickenbach Sulz</td></tr>",
                            "<tr><td>Kefikon ZH</td></tr>",
                            "<tr><td>Grafstal</td></tr>",
                            "<tr><td>Wildensbuch</td></tr>",
                            "<tr><td>Oberwil (Dägerlen)</td></tr>",
                            "<tr><td>Berg (Dägerlen)</td></tr>",
                            "<tr><td>Bänk (Dägerlen)</td></tr>",
                            "<tr><td>Riet (Neftenbach)</td></tr>",
                            "<tr><td>Hünikon (Neftenbach)</td></tr>",
                            "<tr><td>Meienberg</td></tr>",
                            "<tr><td>Kleine Scheidegg</td></tr>",
                            "<tr><td>Eigergletscher</td></tr>",
                            "<tr><td>Appenzell Eggerstanden</td></tr>",
                            "<tr><td>Appenzell Enggenhütten</td></tr>",
                            "<tr><td>Appenzell Meistersrüte</td></tr>",
                            "<tr><td>Appenzell Steinegg</td></tr>",
                            "<tr><td>Appenzell Schlatt</td></tr>",
                            "<tr><td>Wasserauen</td></tr>",
                            "<tr><td>Gontenbad</td></tr>",
                            "<tr><td>Jakobsbad</td></tr>",
                            "<tr><td>Büriswilen</td></tr>",
                            "<tr><td>Peiden</td></tr>",
                            "<tr><td>La Russille</td></tr>",
                            "<tr><td>Sonnental</td></tr>",
                            "<tr><td>Ferenbalm</td></tr>",
                            "<tr><td>Biberen</td></tr>",
                            "<tr><td>Gammen</td></tr>",
                            "<tr><td>Le Bémont JU</td></tr>",
                            "<tr><td>Montfaucon</td></tr>",
                            "<tr><td>Montfavergier</td></tr>",
                            "<tr><td>Les Enfers</td></tr>",
                            "<tr><td>St-Brais</td></tr>",
                            "<tr><td>St. Josefen</td></tr>",
                            "<tr><td>Maseltrangen</td></tr>",
                            "<tr><td>Landiswil</td></tr>",
                            "<tr><td>La Tour VS</td></tr>",
                            "<tr><td>La Forclaz VS</td></tr>",
                            "<tr><td>Villa (Evolène)</td></tr>",
                            "<tr><td>Vogelsang AG</td></tr>",
                            "<tr><td>Sornard (Nendaz)</td></tr>",
                            "<tr><td>Dietschwil</td></tr>",
                            "<tr><td>Sünikon</td></tr>",
                            "<tr><td>Rumlikon</td></tr>",
                            "<tr><td>Gündisau</td></tr>",
                            "<tr><td>Busswil TG</td></tr>",
                            "<tr><td>Seewis-Pardisla</td></tr>",
                            "<tr><td>Seewis-Schmitten</td></tr>",
                            "<tr><td>Vielbringen b. Worb</td></tr>",
                            "<tr><td>Lengwil</td></tr>",
                            "<tr><td>Dettighofen (Lengwil)</td></tr>",
                            "<tr><td>Les Posses-sur-Bex</td></tr>",
                            "<tr><td>Nassenwil</td></tr>",
                            "<tr><td>Le Séchey</td></tr>",
                            "<tr><td>Donatyre</td></tr>",
                            "<tr><td>Cournillens</td></tr>",
                            "<tr><td>Bözberg</td></tr>",
                            "<tr><td>Mission</td></tr>",
                            "<tr><td>Diolly (Savièse)</td></tr>",
                            "<tr><td>La Muraz (Savièse)</td></tr>",
                            "<tr><td>Biessenhofen</td></tr>",
                            "<tr><td>Campora</td></tr>",
                            "</table>"
                        ]
                    }
                }
            ],
            "execution_count": 20
        },
        {
            "cell_type": "code",
            "source": [
                "SELECT Vorname, Nachname, Krankenkasse, Geburtsdatum FROM Kunden WHERE Krankenkasse IS NOT NULL AND YEAR(Geburtsdatum) > 1990;"
            ],
            "metadata": {
                "azdata_cell_guid": "e796f29b-7ed3-48aa-81ab-9a50874d2105",
                "language": "sql"
            },
            "outputs": [
                {
                    "output_type": "display_data",
                    "data": {
                        "text/html": "(2 rows affected)"
                    },
                    "metadata": {}
                },
                {
                    "output_type": "display_data",
                    "data": {
                        "text/html": "Total execution time: 00:00:00.013"
                    },
                    "metadata": {}
                },
                {
                    "output_type": "execute_result",
                    "metadata": {},
                    "execution_count": 30,
                    "data": {
                        "application/vnd.dataresource+json": {
                            "schema": {
                                "fields": [
                                    {
                                        "name": "Vorname"
                                    },
                                    {
                                        "name": "Nachname"
                                    },
                                    {
                                        "name": "Krankenkasse"
                                    },
                                    {
                                        "name": "Geburtsdatum"
                                    }
                                ]
                            },
                            "data": [
                                {
                                    "Vorname": "Joshua",
                                    "Nachname": "Pfister",
                                    "Krankenkasse": "Concordia",
                                    "Geburtsdatum": "2001-05-28 00:00:00"
                                },
                                {
                                    "Vorname": "Michele",
                                    "Nachname": "d'Angelo",
                                    "Krankenkasse": "CSS Versicherung",
                                    "Geburtsdatum": "2002-06-30 00:00:00"
                                }
                            ]
                        },
                        "text/html": [
                            "<table>",
                            "<tr><th>Vorname</th><th>Nachname</th><th>Krankenkasse</th><th>Geburtsdatum</th></tr>",
                            "<tr><td>Joshua</td><td>Pfister</td><td>Concordia</td><td>2001-05-28 00:00:00</td></tr>",
                            "<tr><td>Michele</td><td>d&#39;Angelo</td><td>CSS Versicherung</td><td>2002-06-30 00:00:00</td></tr>",
                            "</table>"
                        ]
                    }
                }
            ],
            "execution_count": 30
        },
        {
            "cell_type": "code",
            "source": [
                "SELECT Vorname, Nachname, Geburtsdatum FROM Kunden WHERE Geburtsdatum BETWEEN '1960-01-01' AND '1960-12-31';"
            ],
            "metadata": {
                "azdata_cell_guid": "57d3b9f2-586e-4b6f-b8ff-6014b020b0b9",
                "language": "sql"
            },
            "outputs": [
                {
                    "output_type": "display_data",
                    "data": {
                        "text/html": "(1 row affected)"
                    },
                    "metadata": {}
                },
                {
                    "output_type": "display_data",
                    "data": {
                        "text/html": "Total execution time: 00:00:00.008"
                    },
                    "metadata": {}
                },
                {
                    "output_type": "execute_result",
                    "metadata": {},
                    "execution_count": 35,
                    "data": {
                        "application/vnd.dataresource+json": {
                            "schema": {
                                "fields": [
                                    {
                                        "name": "Vorname"
                                    },
                                    {
                                        "name": "Nachname"
                                    },
                                    {
                                        "name": "Geburtsdatum"
                                    }
                                ]
                            },
                            "data": [
                                {
                                    "Vorname": "Viktor",
                                    "Nachname": "Meyer",
                                    "Geburtsdatum": "1960-12-18 00:00:00"
                                }
                            ]
                        },
                        "text/html": [
                            "<table>",
                            "<tr><th>Vorname</th><th>Nachname</th><th>Geburtsdatum</th></tr>",
                            "<tr><td>Viktor</td><td>Meyer</td><td>1960-12-18 00:00:00</td></tr>",
                            "</table>"
                        ]
                    }
                }
            ],
            "execution_count": 35
        },
        {
            "cell_type": "code",
            "source": [
                "SELECT SUM(Monatslohn) AS Monatssumme, SUM(Monatslohn * 12) AS Jahressumme FROM Mitarbeiter;"
            ],
            "metadata": {
                "azdata_cell_guid": "375b58c1-bfea-42dd-bea1-dfd9a3cf8baf",
                "language": "sql"
            },
            "outputs": [
                {
                    "output_type": "display_data",
                    "data": {
                        "text/html": "(1 row affected)"
                    },
                    "metadata": {}
                },
                {
                    "output_type": "display_data",
                    "data": {
                        "text/html": "Total execution time: 00:00:00.008"
                    },
                    "metadata": {}
                },
                {
                    "output_type": "execute_result",
                    "metadata": {},
                    "execution_count": 38,
                    "data": {
                        "application/vnd.dataresource+json": {
                            "schema": {
                                "fields": [
                                    {
                                        "name": "Monatssumme"
                                    },
                                    {
                                        "name": "Jahressumme"
                                    }
                                ]
                            },
                            "data": [
                                {
                                    "Monatssumme": "20550",
                                    "Jahressumme": "246600"
                                }
                            ]
                        },
                        "text/html": [
                            "<table>",
                            "<tr><th>Monatssumme</th><th>Jahressumme</th></tr>",
                            "<tr><td>20550</td><td>246600</td></tr>",
                            "</table>"
                        ]
                    }
                }
            ],
            "execution_count": 38
        }
    ]
}