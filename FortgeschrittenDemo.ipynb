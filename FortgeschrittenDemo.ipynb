{
    "metadata": {
        "kernelspec": {
            "name": "SQL",
            "display_name": "SQL",
            "language": "sql"
        },
        "language_info": {
            "name": "sql",
            "version": ""
        }
    },
    "nbformat_minor": 2,
    "nbformat": 4,
    "cells": [
        {
            "cell_type": "markdown",
            "source": [
                "### **Advanced Demo and first for ZugDatenbank!**\n",
                "\n",
                "Fortgeschrittene Aufgaben 1 - 5 / Profie Aufgaben 1 - 4"
            ],
            "metadata": {
                "azdata_cell_guid": "b73e8570-325b-4a4b-8b43-6bdbd6c2f125"
            },
            "attachments": {}
        },
        {
            "cell_type": "code",
            "source": [
                "SELECT Gleise, Name FROM Bahnhoefe WHERE Gleise = (SELECT MAX(Gleise) FROM Bahnhoefe);"
            ],
            "metadata": {
                "azdata_cell_guid": "baba955f-0a0b-419b-a163-7cc5f3b99cdc",
                "language": "sql"
            },
            "outputs": [
                {
                    "output_type": "display_data",
                    "data": {
                        "text/html": "(1 row affected)"
                    },
                    "metadata": {}
                },
                {
                    "output_type": "display_data",
                    "data": {
                        "text/html": "Total execution time: 00:00:00.039"
                    },
                    "metadata": {}
                },
                {
                    "output_type": "execute_result",
                    "execution_count": 2,
                    "data": {
                        "application/vnd.dataresource+json": {
                            "schema": {
                                "fields": [
                                    {
                                        "name": "Gleise"
                                    },
                                    {
                                        "name": "Name"
                                    }
                                ]
                            },
                            "data": [
                                {
                                    "Gleise": "52",
                                    "Name": "Zürich HB"
                                }
                            ]
                        },
                        "text/html": "<table><tr><th>Gleise</th><th>Name</th></tr><tr><td>52</td><td>Zürich HB</td></tr></table>"
                    },
                    "metadata": {}
                }
            ],
            "execution_count": 2
        },
        {
            "cell_type": "code",
            "source": [
                "SELECT Gleise, Name FROM Bahnhoefe WHERE Gleise < (SELECT AVG(Gleise) FROM Bahnhoefe);"
            ],
            "metadata": {
                "azdata_cell_guid": "519a9f34-5ea2-4399-ac60-04ac28899575",
                "language": "sql"
            },
            "outputs": [
                {
                    "output_type": "display_data",
                    "data": {
                        "text/html": "(5 rows affected)"
                    },
                    "metadata": {}
                },
                {
                    "output_type": "display_data",
                    "data": {
                        "text/html": "Total execution time: 00:00:00.010"
                    },
                    "metadata": {}
                },
                {
                    "output_type": "execute_result",
                    "execution_count": 3,
                    "data": {
                        "application/vnd.dataresource+json": {
                            "schema": {
                                "fields": [
                                    {
                                        "name": "Gleise"
                                    },
                                    {
                                        "name": "Name"
                                    }
                                ]
                            },
                            "data": [
                                {
                                    "Gleise": "7",
                                    "Name": "Baden"
                                },
                                {
                                    "Gleise": "4",
                                    "Name": "Basel Bad"
                                },
                                {
                                    "Gleise": "3",
                                    "Name": "Horw"
                                },
                                {
                                    "Gleise": "5",
                                    "Name": "Thalwil"
                                },
                                {
                                    "Gleise": "8",
                                    "Name": "Zug"
                                }
                            ]
                        },
                        "text/html": "<table><tr><th>Gleise</th><th>Name</th></tr><tr><td>7</td><td>Baden</td></tr><tr><td>4</td><td>Basel Bad</td></tr><tr><td>3</td><td>Horw</td></tr><tr><td>5</td><td>Thalwil</td></tr><tr><td>8</td><td>Zug</td></tr></table>"
                    },
                    "metadata": {}
                }
            ],
            "execution_count": 3
        },
        {
            "cell_type": "code",
            "source": [
                "SELECT LiegtInOrt, COUNT(Name) AS AnzahlBahnhofe FROM Bahnhoefe GROUP BY LiegtInOrt HAVING COUNT(Name) > 1;"
            ],
            "metadata": {
                "azdata_cell_guid": "da32981d-e7dd-4aa7-8621-3858b1eba92c",
                "language": "sql"
            },
            "outputs": [
                {
                    "output_type": "display_data",
                    "data": {
                        "text/html": "(1 row affected)"
                    },
                    "metadata": {}
                },
                {
                    "output_type": "display_data",
                    "data": {
                        "text/html": "Total execution time: 00:00:00.008"
                    },
                    "metadata": {}
                },
                {
                    "output_type": "execute_result",
                    "execution_count": 11,
                    "data": {
                        "application/vnd.dataresource+json": {
                            "schema": {
                                "fields": [
                                    {
                                        "name": "LiegtInOrt"
                                    },
                                    {
                                        "name": "AnzahlBahnhofe"
                                    }
                                ]
                            },
                            "data": [
                                {
                                    "LiegtInOrt": "Basel",
                                    "AnzahlBahnhofe": "2"
                                }
                            ]
                        },
                        "text/html": "<table><tr><th>LiegtInOrt</th><th>AnzahlBahnhofe</th></tr><tr><td>Basel</td><td>2</td></tr></table>"
                    },
                    "metadata": {}
                }
            ],
            "execution_count": 11
        },
        {
            "cell_type": "code",
            "source": [
                "SELECT Zug, Abfahrt FROM Verbindet WHERE Abfahrt > (SELECT MAX(Abfahrt) FROM Verbindet WHERE Nach = 'Basel SBB');"
            ],
            "metadata": {
                "azdata_cell_guid": "40ba5b58-ef23-4406-99aa-20bf5caa7620",
                "language": "sql"
            },
            "outputs": [
                {
                    "output_type": "display_data",
                    "data": {
                        "text/html": "(3 rows affected)"
                    },
                    "metadata": {}
                },
                {
                    "output_type": "display_data",
                    "data": {
                        "text/html": "Total execution time: 00:00:00.015"
                    },
                    "metadata": {}
                },
                {
                    "output_type": "execute_result",
                    "execution_count": 13,
                    "data": {
                        "application/vnd.dataresource+json": {
                            "schema": {
                                "fields": [
                                    {
                                        "name": "Zug"
                                    },
                                    {
                                        "name": "Abfahrt"
                                    }
                                ]
                            },
                            "data": [
                                {
                                    "Zug": "6",
                                    "Abfahrt": "15:12:00"
                                },
                                {
                                    "Zug": "6",
                                    "Abfahrt": "15:36:00"
                                },
                                {
                                    "Zug": "8",
                                    "Abfahrt": "15:07:00"
                                }
                            ]
                        },
                        "text/html": "<table><tr><th>Zug</th><th>Abfahrt</th></tr><tr><td>6</td><td>15:12:00</td></tr><tr><td>6</td><td>15:36:00</td></tr><tr><td>8</td><td>15:07:00</td></tr></table>"
                    },
                    "metadata": {}
                }
            ],
            "execution_count": 13
        },
        {
            "cell_type": "code",
            "source": [
                "SELECT SUM(DATEDIFF(MINUTE, Abfahrt, Ankunft)) AS GesamtMinuten, \r\n",
                "       SUM(DATEDIFF(SECOND, Abfahrt, Ankunft)) AS GesamtSekunden\r\n",
                "FROM Verbindet\r\n",
                "WHERE Zug = 7;\r\n",
                ""
            ],
            "metadata": {
                "azdata_cell_guid": "bd16fb0a-611b-4553-9b26-af1e470abc6c",
                "language": "sql",
                "tags": []
            },
            "outputs": [
                {
                    "output_type": "display_data",
                    "data": {
                        "text/html": "(1 row affected)"
                    },
                    "metadata": {}
                },
                {
                    "output_type": "display_data",
                    "data": {
                        "text/html": "Total execution time: 00:00:00.007"
                    },
                    "metadata": {}
                },
                {
                    "output_type": "execute_result",
                    "execution_count": 17,
                    "data": {
                        "application/vnd.dataresource+json": {
                            "schema": {
                                "fields": [
                                    {
                                        "name": "GesamtMinuten"
                                    },
                                    {
                                        "name": "GesamtSekunden"
                                    }
                                ]
                            },
                            "data": [
                                {
                                    "GesamtMinuten": "42",
                                    "GesamtSekunden": "2520"
                                }
                            ]
                        },
                        "text/html": "<table><tr><th>GesamtMinuten</th><th>GesamtSekunden</th></tr><tr><td>42</td><td>2520</td></tr></table>"
                    },
                    "metadata": {}
                }
            ],
            "execution_count": 17
        },
        {
            "cell_type": "markdown",
            "source": [
                "**Profie Aufgaben Zug:**"
            ],
            "metadata": {
                "azdata_cell_guid": "79174f59-a818-4268-a9a4-6dd200baa9b0"
            },
            "attachments": {}
        },
        {
            "cell_type": "code",
            "source": [
                "SELECT Name, LiegtInKanton\r\n",
                "FROM Bahnhoefe\r\n",
                "INNER JOIN Verbindet ON Verbindet.Nach = Bahnhoefe.Name;"
            ],
            "metadata": {
                "azdata_cell_guid": "9cf578f6-3b38-4804-a049-bbf6235dd236",
                "language": "sql",
                "tags": []
            },
            "outputs": [
                {
                    "output_type": "display_data",
                    "data": {
                        "text/html": "(18 rows affected)"
                    },
                    "metadata": {}
                },
                {
                    "output_type": "display_data",
                    "data": {
                        "text/html": "Total execution time: 00:00:00.008"
                    },
                    "metadata": {}
                },
                {
                    "output_type": "execute_result",
                    "metadata": {},
                    "execution_count": 2,
                    "data": {
                        "application/vnd.dataresource+json": {
                            "schema": {
                                "fields": [
                                    {
                                        "name": "Name"
                                    },
                                    {
                                        "name": "LiegtInKanton"
                                    }
                                ]
                            },
                            "data": [
                                {
                                    "Name": "Zug",
                                    "LiegtInKanton": "Zug"
                                },
                                {
                                    "Name": "Zürich HB",
                                    "LiegtInKanton": "Zürich"
                                },
                                {
                                    "Name": "Thalwil",
                                    "LiegtInKanton": "Zürich"
                                },
                                {
                                    "Name": "Zug",
                                    "LiegtInKanton": "Zug"
                                },
                                {
                                    "Name": "Luzern",
                                    "LiegtInKanton": "Luzern    "
                                },
                                {
                                    "Name": "Thalwil",
                                    "LiegtInKanton": "Zürich"
                                },
                                {
                                    "Name": "Horw",
                                    "LiegtInKanton": "Luzern"
                                },
                                {
                                    "Name": "Luzern",
                                    "LiegtInKanton": "Luzern    "
                                },
                                {
                                    "Name": "Olten",
                                    "LiegtInKanton": "Solothurn"
                                },
                                {
                                    "Name": "Basel SBB",
                                    "LiegtInKanton": "Basel Stadt"
                                },
                                {
                                    "Name": "Olten",
                                    "LiegtInKanton": "Solothurn"
                                },
                                {
                                    "Name": "Luzern",
                                    "LiegtInKanton": "Luzern    "
                                },
                                {
                                    "Name": "Basel SBB",
                                    "LiegtInKanton": "Basel Stadt"
                                },
                                {
                                    "Name": "Basel Bad",
                                    "LiegtInKanton": "Basel Stadt"
                                },
                                {
                                    "Name": "Baden",
                                    "LiegtInKanton": "Aargau"
                                },
                                {
                                    "Name": "Zürich HB",
                                    "LiegtInKanton": "Zürich"
                                },
                                {
                                    "Name": "Basel SBB",
                                    "LiegtInKanton": "Basel Stadt"
                                },
                                {
                                    "Name": "Baden",
                                    "LiegtInKanton": "Aargau"
                                }
                            ]
                        },
                        "text/html": [
                            "<table>",
                            "<tr><th>Name</th><th>LiegtInKanton</th></tr>",
                            "<tr><td>Zug</td><td>Zug</td></tr>",
                            "<tr><td>Zürich HB</td><td>Zürich</td></tr>",
                            "<tr><td>Thalwil</td><td>Zürich</td></tr>",
                            "<tr><td>Zug</td><td>Zug</td></tr>",
                            "<tr><td>Luzern</td><td>Luzern    </td></tr>",
                            "<tr><td>Thalwil</td><td>Zürich</td></tr>",
                            "<tr><td>Horw</td><td>Luzern</td></tr>",
                            "<tr><td>Luzern</td><td>Luzern    </td></tr>",
                            "<tr><td>Olten</td><td>Solothurn</td></tr>",
                            "<tr><td>Basel SBB</td><td>Basel Stadt</td></tr>",
                            "<tr><td>Olten</td><td>Solothurn</td></tr>",
                            "<tr><td>Luzern</td><td>Luzern    </td></tr>",
                            "<tr><td>Basel SBB</td><td>Basel Stadt</td></tr>",
                            "<tr><td>Basel Bad</td><td>Basel Stadt</td></tr>",
                            "<tr><td>Baden</td><td>Aargau</td></tr>",
                            "<tr><td>Zürich HB</td><td>Zürich</td></tr>",
                            "<tr><td>Basel SBB</td><td>Basel Stadt</td></tr>",
                            "<tr><td>Baden</td><td>Aargau</td></tr>",
                            "</table>"
                        ]
                    }
                }
            ],
            "execution_count": 2
        },
        {
            "cell_type": "code",
            "source": [
                "SELECT Zug, Von, Abfahrt, Nach, Ankunft\r\n",
                "FROM Verbindet\r\n",
                "INNER JOIN Bahnhoefe ON Verbindet.Von = Bahnhoefe.Name;\r\n",
                ""
            ],
            "metadata": {
                "azdata_cell_guid": "7ea59f56-e01f-46ff-ba10-b7b7b3b45f38",
                "language": "sql",
                "tags": []
            },
            "outputs": [
                {
                    "output_type": "display_data",
                    "data": {
                        "text/html": "(18 rows affected)"
                    },
                    "metadata": {}
                },
                {
                    "output_type": "display_data",
                    "data": {
                        "text/html": "Total execution time: 00:00:00.015"
                    },
                    "metadata": {}
                },
                {
                    "output_type": "execute_result",
                    "metadata": {},
                    "execution_count": 3,
                    "data": {
                        "application/vnd.dataresource+json": {
                            "schema": {
                                "fields": [
                                    {
                                        "name": "Zug"
                                    },
                                    {
                                        "name": "Von"
                                    },
                                    {
                                        "name": "Abfahrt"
                                    },
                                    {
                                        "name": "Nach"
                                    },
                                    {
                                        "name": "Ankunft"
                                    }
                                ]
                            },
                            "data": [
                                {
                                    "Zug": "1",
                                    "Von": "Luzern",
                                    "Abfahrt": "12:12:00",
                                    "Nach": "Zug",
                                    "Ankunft": "12:35:00"
                                },
                                {
                                    "Zug": "1",
                                    "Von": "Thalwil",
                                    "Abfahrt": "12:52:00",
                                    "Nach": "Zürich HB",
                                    "Ankunft": "13:05:00"
                                },
                                {
                                    "Zug": "1",
                                    "Von": "Zug",
                                    "Abfahrt": "12:37:00",
                                    "Nach": "Thalwil",
                                    "Ankunft": "12:50:00"
                                },
                                {
                                    "Zug": "2",
                                    "Von": "Thalwil",
                                    "Abfahrt": "13:23:00",
                                    "Nach": "Zug",
                                    "Ankunft": "13:40:00"
                                },
                                {
                                    "Zug": "2",
                                    "Von": "Zug",
                                    "Abfahrt": "13:42:00",
                                    "Nach": "Luzern",
                                    "Ankunft": "14:00:00"
                                },
                                {
                                    "Zug": "2",
                                    "Von": "Zürich HB",
                                    "Abfahrt": "13:15:00",
                                    "Nach": "Thalwil",
                                    "Ankunft": "13:22:00"
                                },
                                {
                                    "Zug": "3",
                                    "Von": "Luzern",
                                    "Abfahrt": "14:10:00",
                                    "Nach": "Horw",
                                    "Ankunft": "14:14:00"
                                },
                                {
                                    "Zug": "4",
                                    "Von": "Horw",
                                    "Abfahrt": "14:21:00",
                                    "Nach": "Luzern",
                                    "Ankunft": "14:25:00"
                                },
                                {
                                    "Zug": "5",
                                    "Von": "Luzern",
                                    "Abfahrt": "14:12:00",
                                    "Nach": "Olten",
                                    "Ankunft": "14:42:00"
                                },
                                {
                                    "Zug": "5",
                                    "Von": "Olten",
                                    "Abfahrt": "14:45:00",
                                    "Nach": "Basel SBB",
                                    "Ankunft": "15:08:00"
                                },
                                {
                                    "Zug": "6",
                                    "Von": "Basel SBB",
                                    "Abfahrt": "15:12:00",
                                    "Nach": "Olten",
                                    "Ankunft": "15:33:00"
                                },
                                {
                                    "Zug": "6",
                                    "Von": "Olten",
                                    "Abfahrt": "15:36:00",
                                    "Nach": "Luzern",
                                    "Ankunft": "16:05:00"
                                },
                                {
                                    "Zug": "7",
                                    "Von": "Baden",
                                    "Abfahrt": "13:39:00",
                                    "Nach": "Basel SBB",
                                    "Ankunft": "14:05:00"
                                },
                                {
                                    "Zug": "7",
                                    "Von": "Basel SBB",
                                    "Abfahrt": "14:08:00",
                                    "Nach": "Basel Bad",
                                    "Ankunft": "14:12:00"
                                },
                                {
                                    "Zug": "7",
                                    "Von": "Zürich HB",
                                    "Abfahrt": "13:25:00",
                                    "Nach": "Baden",
                                    "Ankunft": "13:37:00"
                                },
                                {
                                    "Zug": "8",
                                    "Von": "Baden",
                                    "Abfahrt": "15:07:00",
                                    "Nach": "Zürich HB",
                                    "Ankunft": "15:20:00"
                                },
                                {
                                    "Zug": "8",
                                    "Von": "Basel Bad",
                                    "Abfahrt": "14:26:00",
                                    "Nach": "Basel SBB",
                                    "Ankunft": "14:30:00"
                                },
                                {
                                    "Zug": "8",
                                    "Von": "Basel SBB",
                                    "Abfahrt": "14:32:00",
                                    "Nach": "Baden",
                                    "Ankunft": "15:05:00"
                                }
                            ]
                        },
                        "text/html": [
                            "<table>",
                            "<tr><th>Zug</th><th>Von</th><th>Abfahrt</th><th>Nach</th><th>Ankunft</th></tr>",
                            "<tr><td>1</td><td>Luzern</td><td>12:12:00</td><td>Zug</td><td>12:35:00</td></tr>",
                            "<tr><td>1</td><td>Thalwil</td><td>12:52:00</td><td>Zürich HB</td><td>13:05:00</td></tr>",
                            "<tr><td>1</td><td>Zug</td><td>12:37:00</td><td>Thalwil</td><td>12:50:00</td></tr>",
                            "<tr><td>2</td><td>Thalwil</td><td>13:23:00</td><td>Zug</td><td>13:40:00</td></tr>",
                            "<tr><td>2</td><td>Zug</td><td>13:42:00</td><td>Luzern</td><td>14:00:00</td></tr>",
                            "<tr><td>2</td><td>Zürich HB</td><td>13:15:00</td><td>Thalwil</td><td>13:22:00</td></tr>",
                            "<tr><td>3</td><td>Luzern</td><td>14:10:00</td><td>Horw</td><td>14:14:00</td></tr>",
                            "<tr><td>4</td><td>Horw</td><td>14:21:00</td><td>Luzern</td><td>14:25:00</td></tr>",
                            "<tr><td>5</td><td>Luzern</td><td>14:12:00</td><td>Olten</td><td>14:42:00</td></tr>",
                            "<tr><td>5</td><td>Olten</td><td>14:45:00</td><td>Basel SBB</td><td>15:08:00</td></tr>",
                            "<tr><td>6</td><td>Basel SBB</td><td>15:12:00</td><td>Olten</td><td>15:33:00</td></tr>",
                            "<tr><td>6</td><td>Olten</td><td>15:36:00</td><td>Luzern</td><td>16:05:00</td></tr>",
                            "<tr><td>7</td><td>Baden</td><td>13:39:00</td><td>Basel SBB</td><td>14:05:00</td></tr>",
                            "<tr><td>7</td><td>Basel SBB</td><td>14:08:00</td><td>Basel Bad</td><td>14:12:00</td></tr>",
                            "<tr><td>7</td><td>Zürich HB</td><td>13:25:00</td><td>Baden</td><td>13:37:00</td></tr>",
                            "<tr><td>8</td><td>Baden</td><td>15:07:00</td><td>Zürich HB</td><td>15:20:00</td></tr>",
                            "<tr><td>8</td><td>Basel Bad</td><td>14:26:00</td><td>Basel SBB</td><td>14:30:00</td></tr>",
                            "<tr><td>8</td><td>Basel SBB</td><td>14:32:00</td><td>Baden</td><td>15:05:00</td></tr>",
                            "</table>"
                        ]
                    }
                }
            ],
            "execution_count": 3
        },
        {
            "cell_type": "markdown",
            "source": [
                "**Profie Aufgaben Fitness:**"
            ],
            "metadata": {
                "azdata_cell_guid": "59380ad2-50ad-404e-a53b-56b715428474"
            },
            "attachments": {}
        },
        {
            "cell_type": "code",
            "source": [
                "SELECT Kunden.Vorname, Kunden.Nachname, Orte.Ortname, Orte.Kanton\r\n",
                "FROM Kunden\r\n",
                "INNER JOIN Orte ON Kunden.Wohnort = Orte.OrtId;"
            ],
            "metadata": {
                "azdata_cell_guid": "681857a8-6412-4177-b2bc-ee85305f261b",
                "language": "sql",
                "tags": []
            },
            "outputs": [
                {
                    "output_type": "display_data",
                    "data": {
                        "text/html": "(10 rows affected)"
                    },
                    "metadata": {}
                },
                {
                    "output_type": "display_data",
                    "data": {
                        "text/html": "Total execution time: 00:00:00.013"
                    },
                    "metadata": {}
                },
                {
                    "output_type": "execute_result",
                    "metadata": {},
                    "execution_count": 4,
                    "data": {
                        "application/vnd.dataresource+json": {
                            "schema": {
                                "fields": [
                                    {
                                        "name": "Vorname"
                                    },
                                    {
                                        "name": "Nachname"
                                    },
                                    {
                                        "name": "Ortname"
                                    },
                                    {
                                        "name": "Kanton"
                                    }
                                ]
                            },
                            "data": [
                                {
                                    "Vorname": "Beatrix",
                                    "Nachname": "Hugentobler",
                                    "Ortname": "Emmen",
                                    "Kanton": "LU"
                                },
                                {
                                    "Vorname": "Viktor",
                                    "Nachname": "Meyer",
                                    "Ortname": "Obernau",
                                    "Kanton": "LU"
                                },
                                {
                                    "Vorname": "Yanick",
                                    "Nachname": "Merz",
                                    "Ortname": "Adligenswil",
                                    "Kanton": "LU"
                                },
                                {
                                    "Vorname": "Joshua",
                                    "Nachname": "Pfister",
                                    "Ortname": "Ebikon",
                                    "Kanton": "LU"
                                },
                                {
                                    "Vorname": "Franziska",
                                    "Nachname": "Tobler",
                                    "Ortname": "Luzern",
                                    "Kanton": "LU"
                                },
                                {
                                    "Vorname": "Michele",
                                    "Nachname": "d'Angelo",
                                    "Ortname": "Luzern",
                                    "Kanton": "LU"
                                },
                                {
                                    "Vorname": "Petra",
                                    "Nachname": "Nussbaumer",
                                    "Ortname": "Hellbühl",
                                    "Kanton": "LU"
                                },
                                {
                                    "Vorname": "Admir",
                                    "Nachname": "Smajic",
                                    "Ortname": "Emmenbrücke",
                                    "Kanton": "LU"
                                },
                                {
                                    "Vorname": "Lars",
                                    "Nachname": "Ramseier",
                                    "Ortname": "Root",
                                    "Kanton": "LU"
                                },
                                {
                                    "Vorname": "Erna",
                                    "Nachname": "Tschurtschenthaler",
                                    "Ortname": "Hildisrieden",
                                    "Kanton": "LU"
                                }
                            ]
                        },
                        "text/html": [
                            "<table>",
                            "<tr><th>Vorname</th><th>Nachname</th><th>Ortname</th><th>Kanton</th></tr>",
                            "<tr><td>Beatrix</td><td>Hugentobler</td><td>Emmen</td><td>LU</td></tr>",
                            "<tr><td>Viktor</td><td>Meyer</td><td>Obernau</td><td>LU</td></tr>",
                            "<tr><td>Yanick</td><td>Merz</td><td>Adligenswil</td><td>LU</td></tr>",
                            "<tr><td>Joshua</td><td>Pfister</td><td>Ebikon</td><td>LU</td></tr>",
                            "<tr><td>Franziska</td><td>Tobler</td><td>Luzern</td><td>LU</td></tr>",
                            "<tr><td>Michele</td><td>d&#39;Angelo</td><td>Luzern</td><td>LU</td></tr>",
                            "<tr><td>Petra</td><td>Nussbaumer</td><td>Hellbühl</td><td>LU</td></tr>",
                            "<tr><td>Admir</td><td>Smajic</td><td>Emmenbrücke</td><td>LU</td></tr>",
                            "<tr><td>Lars</td><td>Ramseier</td><td>Root</td><td>LU</td></tr>",
                            "<tr><td>Erna</td><td>Tschurtschenthaler</td><td>Hildisrieden</td><td>LU</td></tr>",
                            "</table>"
                        ]
                    }
                }
            ],
            "execution_count": 4
        },
        {
            "cell_type": "code",
            "source": [
                "SELECT Kunden.Vorname, Kunden.Nachname, Betreuung.Notizen, Mitarbeiter.Vorname, Mitarbeiter.Nachname\r\n",
                "FROM Betreuung \r\n",
                "INNER JOIN Mitarbeiter ON Mitarbeiter.Personalnummer = Betreuung.Personalnummer\r\n",
                "INNER JOIN Kunden ON Kunden.Kundennummer = Betreuung.Kundennummer;"
            ],
            "metadata": {
                "azdata_cell_guid": "0ab939fa-c0ec-4e5e-8fa4-621f6f575adb",
                "language": "sql"
            },
            "outputs": [
                {
                    "output_type": "display_data",
                    "data": {
                        "text/html": "(4 rows affected)"
                    },
                    "metadata": {}
                },
                {
                    "output_type": "display_data",
                    "data": {
                        "text/html": "Total execution time: 00:00:00.011"
                    },
                    "metadata": {}
                },
                {
                    "output_type": "execute_result",
                    "metadata": {},
                    "execution_count": 5,
                    "data": {
                        "application/vnd.dataresource+json": {
                            "schema": {
                                "fields": [
                                    {
                                        "name": "Vorname"
                                    },
                                    {
                                        "name": "Nachname"
                                    },
                                    {
                                        "name": "Notizen"
                                    },
                                    {
                                        "name": "Vorname"
                                    },
                                    {
                                        "name": "Nachname"
                                    }
                                ]
                            },
                            "data": [
                                {
                                    "Vorname": "Jürg",
                                    "Nachname": "Müller",
                                    "Notizen": "Rückentherapie."
                                },
                                {
                                    "Vorname": "Markus",
                                    "Nachname": "Meister",
                                    "Notizen": "Koordinationsübungen."
                                },
                                {
                                    "Vorname": "Rafael",
                                    "Nachname": "Szanislo",
                                    "Notizen": "Aufbau von Muskelmasse."
                                },
                                {
                                    "Vorname": "Markus",
                                    "Nachname": "Meister",
                                    "Notizen": "Rehabilitation nach Sportverletzung."
                                }
                            ]
                        },
                        "text/html": [
                            "<table>",
                            "<tr><th>Vorname</th><th>Nachname</th><th>Notizen</th><th>Vorname</th><th>Nachname</th></tr>",
                            "<tr><td>Viktor</td><td>Meyer</td><td>Rückentherapie.</td><td>Jürg</td><td>Müller</td></tr>",
                            "<tr><td>Viktor</td><td>Meyer</td><td>Koordinationsübungen.</td><td>Markus</td><td>Meister</td></tr>",
                            "<tr><td>Yanick</td><td>Merz</td><td>Aufbau von Muskelmasse.</td><td>Rafael</td><td>Szanislo</td></tr>",
                            "<tr><td>Erna</td><td>Tschurtschenthaler</td><td>Rehabilitation nach Sportverletzung.</td><td>Markus</td><td>Meister</td></tr>",
                            "</table>"
                        ]
                    }
                }
            ],
            "execution_count": 5
        }
    ]
}